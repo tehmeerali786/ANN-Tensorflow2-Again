{
  "nbformat": 4,
  "nbformat_minor": 0,
  "metadata": {
    "colab": {
      "name": "ANN Tensorflow 2 Chapter 9.ipynb",
      "provenance": [],
      "collapsed_sections": [],
      "toc_visible": true
    },
    "kernelspec": {
      "name": "python3",
      "display_name": "Python 3"
    }
  },
  "cells": [
    {
      "cell_type": "markdown",
      "metadata": {
        "id": "2fPwKWN6Zdfu"
      },
      "source": [
        "# NEURAL MACHINE TRANSLATION USING TRANSFORMER MODEL\r\n",
        "\r\n",
        "Translating from English to Spanish"
      ]
    },
    {
      "cell_type": "code",
      "metadata": {
        "id": "mx2eIqgCZLWX"
      },
      "source": [
        "import tensorflow as tf\r\n",
        "\r\n",
        "from tensorflow.keras.models import Model \r\n",
        "from tensorflow.keras.layers import Input, Dense, LSTM, Embedding, Bidirectional, RepeatVector, Concatenate, Activation, Dot, Lambda\r\n",
        "from tensorflow.keras.preprocessing.text import Tokenizer \r\n",
        "from tensorflow.keras.preprocessing.sequence import pad_sequences\r\n",
        "from keras import preprocessing, utils \r\n",
        "import numpy as np\r\n",
        "import matplotlib.pyplot as plt \r\n",
        "import tensorflow_datasets as tfds \r\n",
        "import os\r\n",
        "import re\r\n",
        "import numpy as np\r\n",
        "import string"
      ],
      "execution_count": 1,
      "outputs": []
    },
    {
      "cell_type": "markdown",
      "metadata": {
        "id": "RnZWcj04bKrz"
      },
      "source": [
        "# Creating datasets for training "
      ]
    },
    {
      "cell_type": "code",
      "metadata": {
        "id": "JmC23D2va6E0"
      },
      "source": [
        "# reading data \r\n",
        "with open('/content/spa.txt', encoding='utf-8', errors='ignore') as file:\r\n",
        "  text = file.read().split('\\n')\r\n"
      ],
      "execution_count": 2,
      "outputs": []
    },
    {
      "cell_type": "code",
      "metadata": {
        "id": "TnZcHashcAWj"
      },
      "source": [
        "input_texts = []\r\n",
        "target_texts = []"
      ],
      "execution_count": 3,
      "outputs": []
    },
    {
      "cell_type": "code",
      "metadata": {
        "id": "HASYqR2Icvjn"
      },
      "source": [
        "# we will select subset of the whole data\r\n",
        "NUM_SAMPLES = 10000\r\n",
        "\r\n",
        "for line in text[:NUM_SAMPLES]:\r\n",
        "  english, spanish = line.split('\\t')[:2]\r\n",
        "  target_text = spanish.lower()\r\n",
        "  input_texts.append(english.lower())\r\n",
        "  target_texts.append(target_text)"
      ],
      "execution_count": 4,
      "outputs": []
    },
    {
      "cell_type": "markdown",
      "metadata": {
        "id": "cjGT3nPyeczP"
      },
      "source": [
        "#PREPROCESSING"
      ]
    },
    {
      "cell_type": "code",
      "metadata": {
        "id": "GTMjsorLd_sV"
      },
      "source": [
        "regex = re.compile('[%s]' % re.escape(string.punctuation))\r\n",
        "for s in input_texts:\r\n",
        "  regex.sub('', s)\r\n",
        "for s in target_texts:\r\n",
        "  regex.sub('', s)"
      ],
      "execution_count": 5,
      "outputs": []
    },
    {
      "cell_type": "code",
      "metadata": {
        "colab": {
          "base_uri": "https://localhost:8080/"
        },
        "id": "MqgNTyOHfhoN",
        "outputId": "98f93f73-cbeb-468f-b7d2-5c95b57eadc8"
      },
      "source": [
        "input_texts[1], target_texts[1]"
      ],
      "execution_count": 6,
      "outputs": [
        {
          "output_type": "execute_result",
          "data": {
            "text/plain": [
              "('go.', 'vete.')"
            ]
          },
          "metadata": {
            "tags": []
          },
          "execution_count": 6
        }
      ]
    },
    {
      "cell_type": "markdown",
      "metadata": {
        "id": "yfPdYApRf9vE"
      },
      "source": [
        "#TOKENIZING AND PADDING"
      ]
    },
    {
      "cell_type": "markdown",
      "metadata": {
        "id": "OLtESCT3f-zt"
      },
      "source": [
        "## Use SubwordTextEncoder for both English and Spanish datasets.\r\n",
        "The tokenizer encodes the string by breaking it into subwords if the word is not in its dictionary."
      ]
    },
    {
      "cell_type": "code",
      "metadata": {
        "id": "puGxQkV8f4yR"
      },
      "source": [
        "tokenizer_input = tfds.deprecated.text.SubwordTextEncoder.build_from_corpus(input_texts, target_vocab_size=2**13)"
      ],
      "execution_count": 7,
      "outputs": []
    },
    {
      "cell_type": "code",
      "metadata": {
        "colab": {
          "base_uri": "https://localhost:8080/"
        },
        "id": "pzxVy2Lbhwm-",
        "outputId": "01a02f75-1609-44c3-dc55-c3cf68088b6e"
      },
      "source": [
        "# example showing how this tokenizer works\r\n",
        "tokenized_string1=tokenizer_input.encode('hello i am good')\r\n",
        "tokenized_string1"
      ],
      "execution_count": 8,
      "outputs": [
        {
          "output_type": "execute_result",
          "data": {
            "text/plain": [
              "[2269, 1, 41, 89]"
            ]
          },
          "metadata": {
            "tags": []
          },
          "execution_count": 8
        }
      ]
    },
    {
      "cell_type": "code",
      "metadata": {
        "colab": {
          "base_uri": "https://localhost:8080/"
        },
        "id": "kkMo0rgjkhvC",
        "outputId": "c6c5e117-c390-4bc8-c56a-968d05125049"
      },
      "source": [
        "for token in tokenized_string1:\r\n",
        "  print('{} -----> {}'.format(token, tokenizer_input.decode([token])))"
      ],
      "execution_count": 9,
      "outputs": [
        {
          "output_type": "stream",
          "text": [
            "2269 -----> hello \n",
            "1 -----> i \n",
            "41 -----> am \n",
            "89 -----> good\n"
          ],
          "name": "stdout"
        }
      ]
    },
    {
      "cell_type": "code",
      "metadata": {
        "colab": {
          "base_uri": "https://localhost:8080/"
        },
        "id": "RG6o9_NBl_15",
        "outputId": "143aafa3-685d-4c3a-bf7c-37c14f36399c"
      },
      "source": [
        "# if the word is not in dictionary\r\n",
        "tokenized_string2 = tokenizer_input.encode('how is the moon')\r\n",
        "for token in tokenized_string2:\r\n",
        "  print('{} -------> {}'.format(token, tokenizer_input.decode([token])))"
      ],
      "execution_count": 10,
      "outputs": [
        {
          "output_type": "stream",
          "text": [
            "64 -------> how \n",
            "4 -------> is \n",
            "21 -------> the \n",
            "2827 -------> m\n",
            "2829 -------> o\n",
            "75 -------> on\n"
          ],
          "name": "stdout"
        }
      ]
    },
    {
      "cell_type": "code",
      "metadata": {
        "id": "XQRKrb5ZoYgm"
      },
      "source": [
        "# tokenize Spanish text\r\n",
        "tokenizer_out = tfds.deprecated.text.SubwordTextEncoder.build_from_corpus(target_texts, target_vocab_size = 2**13)"
      ],
      "execution_count": 11,
      "outputs": []
    },
    {
      "cell_type": "markdown",
      "metadata": {
        "id": "v8yyRTyOs2Tt"
      },
      "source": [
        "## Create start and end tokens to both input and target"
      ]
    },
    {
      "cell_type": "code",
      "metadata": {
        "id": "kH5pfDCvrKZN"
      },
      "source": [
        "# the input start token\r\n",
        "START_TOKEN_in = [tokenizer_input.vocab_size]\r\n",
        "# input end token\r\n",
        "END_TOKEN_in = [tokenizer_input.vocab_size+1]\r\n",
        "# output start token\r\n",
        "START_TOKEN_out = [tokenizer_out.vocab_size]\r\n",
        "# output end token\r\n",
        "END_TOKEN_out = [tokenizer_out.vocab_size+1]"
      ],
      "execution_count": 12,
      "outputs": []
    },
    {
      "cell_type": "code",
      "metadata": {
        "colab": {
          "base_uri": "https://localhost:8080/"
        },
        "id": "aL9a35KRwLlZ",
        "outputId": "89e536fd-7468-44a2-91ae-47f2cd5813a8"
      },
      "source": [
        "START_TOKEN_in, END_TOKEN_in, START_TOKEN_out, END_TOKEN_out"
      ],
      "execution_count": 13,
      "outputs": [
        {
          "output_type": "execute_result",
          "data": {
            "text/plain": [
              "([2974], [2975], [5737], [5738])"
            ]
          },
          "metadata": {
            "tags": []
          },
          "execution_count": 13
        }
      ]
    },
    {
      "cell_type": "markdown",
      "metadata": {
        "id": "B0cFnzaKOMyL"
      },
      "source": [
        "# Function for tokenizing and padding"
      ]
    },
    {
      "cell_type": "code",
      "metadata": {
        "id": "OrAMRXZGxlIi"
      },
      "source": [
        "MAX_LENGTH = 10\r\n",
        "\r\n",
        "# Tokenize, filter and pad sentences\r\n",
        "def tokenize_and_padding(inputs, outputs):\r\n",
        "  tokenized_inputs, tokenized_outputs = [], []\r\n",
        "  \r\n",
        "  for (input_sentence, output_sentence) in zip(inputs, outputs):\r\n",
        "    # tokenize sentence\r\n",
        "    input_sentence = START_TOKEN_in + tokenizer_input.encode(input_sentence) + END_TOKEN_in\r\n",
        "    output_sentence = START_TOKEN_out + tokenizer_out.encode(output_sentence) + END_TOKEN_out\r\n",
        "    # check tokenized sentence max length\r\n",
        "    #if len(input_sentence) <= MAX_LENGTH and len(output_sentence) <= MAX_LENGTH:\r\n",
        "    tokenized_inputs.append(input_sentence)\r\n",
        "    tokenized_outputs.append(output_sentence )\r\n",
        "  \r\n",
        "  # pad tokenized sentences\r\n",
        "  tokenized_inputs = tf.keras.preprocessing.sequence.pad_sequences(\r\n",
        "      tokenized_inputs, maxlen=MAX_LENGTH, padding='post')\r\n",
        "  tokenized_outputs = tf.keras.preprocessing.sequence.pad_sequences(\r\n",
        "      tokenized_outputs, maxlen=MAX_LENGTH, padding='post')\r\n",
        "  \r\n",
        "  return tokenized_inputs, tokenized_outputs\r\n",
        "\r\n",
        "\r\n",
        "\r\n"
      ],
      "execution_count": 14,
      "outputs": []
    },
    {
      "cell_type": "code",
      "metadata": {
        "id": "X_LuE_BfRueT"
      },
      "source": [
        "english, spanish = tokenize_and_padding(input_texts, target_texts)"
      ],
      "execution_count": 15,
      "outputs": []
    },
    {
      "cell_type": "code",
      "metadata": {
        "colab": {
          "base_uri": "https://localhost:8080/"
        },
        "id": "gV-Hc2vsR2S4",
        "outputId": "21a04316-9f49-4c1b-933c-7ab391cd8713"
      },
      "source": [
        "english[1]"
      ],
      "execution_count": 16,
      "outputs": [
        {
          "output_type": "execute_result",
          "data": {
            "text/plain": [
              "array([2974,   50, 2764, 2975,    0,    0,    0,    0,    0,    0],\n",
              "      dtype=int32)"
            ]
          },
          "metadata": {
            "tags": []
          },
          "execution_count": 16
        }
      ]
    },
    {
      "cell_type": "markdown",
      "metadata": {
        "id": "FymHiiTFZXp_"
      },
      "source": [
        "#PREPARING DATASET FOR TRAINING"
      ]
    },
    {
      "cell_type": "code",
      "metadata": {
        "id": "-czPHk1xSbx3"
      },
      "source": [
        "BATCH_SIZE = 32\r\n",
        "BUFFER_SIZE = 10000\r\n",
        "\r\n",
        "# decoder inputs use the previous target as input,\r\n",
        "# remove START_TOKEN from targets\r\n",
        "\r\n",
        "dataset = tf.data.Dataset.from_tensor_slices((\r\n",
        "    \r\n",
        "    {\r\n",
        "        'inputs': english,\r\n",
        "        'decoder_inputs': spanish[:, :-1]\r\n",
        "    },\r\n",
        "\r\n",
        "    {\r\n",
        "        \r\n",
        "        'outputs': spanish[:, 1:]\r\n",
        "    },\r\n",
        "))\r\n",
        "\r\n",
        "dataset = dataset.cache()\r\n",
        "dataset = dataset.shuffle(BUFFER_SIZE)\r\n",
        "dataset = dataset.batch(BATCH_SIZE)\r\n",
        "dataset = dataset.prefetch(tf.data.experimental.AUTOTUNE)"
      ],
      "execution_count": 17,
      "outputs": []
    },
    {
      "cell_type": "markdown",
      "metadata": {
        "id": "LdXEDGwyd42W"
      },
      "source": [
        "# Transformer model \r\n"
      ]
    },
    {
      "cell_type": "markdown",
      "metadata": {
        "id": "qJt0HJ57d5lk"
      },
      "source": [
        "# MULTIHEAD ATTENTION CLASS\r\n"
      ]
    },
    {
      "cell_type": "code",
      "metadata": {
        "id": "yXbzz-3KdYFI"
      },
      "source": [
        "class MultiHeadAttention(tf.keras.layers.Layer):\r\n",
        "\r\n",
        "  def __init__(self, d_model, num_heads, name=\"multi_head_attention\"):\r\n",
        "    super(MultiHeadAttention, self).__init__(name=name)\r\n",
        "    self.num_heads = num_heads\r\n",
        "    self.d_model = d_model\r\n",
        "    self.depth = d_model // self.num_heads\r\n",
        "\r\n",
        "    self.query_dense = tf.keras.layers.Dense(units=d_model)\r\n",
        "    self.key_dense = tf.keras.layers.Dense(units=d_model)\r\n",
        "    self.value_dense = tf.keras.layers.Dense(units=d_model) \r\n",
        "    self.dense = tf.keras.layers.Dense(units=d_model)\r\n",
        "\r\n",
        "  def split_heads(self, inputs, batch_size):\r\n",
        "    inputs = tf.reshape(\r\n",
        "        inputs, shape=(batch_size, -1, self.num_heads, self.depth))\r\n",
        "    return tf.transpose(inputs, perm=[0, 2, 1, 3])\r\n",
        "\r\n",
        "  def call(self, inputs):\r\n",
        "    query, key, value, mask = inputs['query'], inputs['key'], inputs['value'], inputs['mask']\r\n",
        "    batch_size = tf.shape(query)[0]\r\n",
        "\r\n",
        "    # linear layers\r\n",
        "    query = self.query_dense(query)\r\n",
        "    key = self.key_dense(key)\r\n",
        "    value = self.value_dense(value)\r\n",
        "\r\n",
        "    # split heads\r\n",
        "    query = self.split_heads(query, batch_size)\r\n",
        "    key = self.split_heads(key, batch_size)\r\n",
        "    value = self.split_heads(value, batch_size)\r\n",
        "\r\n",
        "    # scaled dot-product attention\r\n",
        "    scaled_attention = scaled_dot_product_attention(query, key, value, mask)\r\n",
        "    scaled_attention = tf.transpose(scaled_attention, perm=[0, 2, 1, 3])\r\n",
        "\r\n",
        "    # concatenation of heads\r\n",
        "    concat_attention = tf.reshape(scaled_attention,\r\n",
        "                                  (batch_size, -1, self.d_model))\r\n",
        "\r\n",
        "    # final linear layer\r\n",
        "    outputs = self.dense(concat_attention)\r\n",
        "\r\n",
        "    return outputs\r\n",
        "\r\n",
        "    "
      ],
      "execution_count": 18,
      "outputs": []
    },
    {
      "cell_type": "markdown",
      "metadata": {
        "id": "KawCkMrtDz3A"
      },
      "source": [
        "# Scaled dot product attention"
      ]
    },
    {
      "cell_type": "code",
      "metadata": {
        "id": "MDge8FqI7jbO"
      },
      "source": [
        "def scaled_dot_product_attention(query, key, value, mask):\r\n",
        "  QxK_transpose = tf.matmul(query, key, transpose_b=True)\r\n",
        "\r\n",
        "  depth = tf.cast(tf.shape(key)[-1], tf.float32)\r\n",
        "  logits = QxK_transpose / tf.math.sqrt(depth)\r\n",
        "\r\n",
        "  if mask is not None:\r\n",
        "    logits = logits + (mask * -1e9)\r\n",
        "\r\n",
        "  # softmax is normalized on the last axis (seq_len_k)\r\n",
        "  attention_weights = tf.nn.softmax(logits, axis=-1)\r\n",
        "\r\n",
        "  output = tf.matmul(attention_weights, value)\r\n",
        "\r\n",
        "  return output"
      ],
      "execution_count": 19,
      "outputs": []
    },
    {
      "cell_type": "markdown",
      "metadata": {
        "id": "xuqALdnpKlmh"
      },
      "source": [
        "# Masking functions"
      ]
    },
    {
      "cell_type": "code",
      "metadata": {
        "id": "wZM5yjMHFBik"
      },
      "source": [
        "def create_padding_mask(x):\r\n",
        "  mask = tf.cast(tf.math.equal(x, 0), tf.float32)\r\n",
        "  # (batch_size, 1, 1, sequence_length)\r\n",
        "  return mask[:, tf.newaxis, tf.newaxis, :]"
      ],
      "execution_count": 20,
      "outputs": []
    },
    {
      "cell_type": "code",
      "metadata": {
        "colab": {
          "base_uri": "https://localhost:8080/"
        },
        "id": "pMR5VbpzPNHi",
        "outputId": "76c6b183-053e-476d-f41b-b71550d74677"
      },
      "source": [
        "# function testing\r\n",
        "x = tf.constant([[2974,   50, 2764, 2975,    0,    0,    0,    0,    0,    0]])\r\n",
        "create_padding_mask(x)"
      ],
      "execution_count": 21,
      "outputs": [
        {
          "output_type": "execute_result",
          "data": {
            "text/plain": [
              "<tf.Tensor: shape=(1, 1, 1, 10), dtype=float32, numpy=array([[[[0., 0., 0., 0., 1., 1., 1., 1., 1., 1.]]]], dtype=float32)>"
            ]
          },
          "metadata": {
            "tags": []
          },
          "execution_count": 21
        }
      ]
    },
    {
      "cell_type": "code",
      "metadata": {
        "id": "iZ7k2HfpQGY9"
      },
      "source": [
        "def create_look_ahead_mask(x):\r\n",
        "  seq_len = tf.shape(x)[1]\r\n",
        "  look_ahead_mask = 1 - tf.linalg.band_part(tf.ones((seq_len, seq_len)), -1, 0)\r\n",
        "  padding_mask = create_padding_mask(x)\r\n",
        "  return tf.maximum(look_ahead_mask, padding_mask)"
      ],
      "execution_count": 22,
      "outputs": []
    },
    {
      "cell_type": "markdown",
      "metadata": {
        "id": "C7Wqgi9mVUjz"
      },
      "source": [
        "#POSITIONAL ENCODING"
      ]
    },
    {
      "cell_type": "code",
      "metadata": {
        "id": "TVk3F2lTRW_M"
      },
      "source": [
        "class PositionalEncoding(tf.keras.layers.Layer):\r\n",
        "\r\n",
        "  def __init__(self, position, d_model):\r\n",
        "    super(PositionalEncoding, self).__init__()\r\n",
        "    self.pos_encoding = self.positional_encoding(position, d_model)\r\n",
        "\r\n",
        "  def get_angles(self, position, i, d_model):\r\n",
        "    angles = 1 / tf.pow(10000, (2 * (i // 2)) / tf.cast(d_model, tf.float32))\r\n",
        "    return position * angles\r\n",
        "\r\n",
        "  def positional_encoding(self, position, d_model):\r\n",
        "    angle_rads = self.get_angles(\r\n",
        "        position=tf.range(position, dtype=tf.float32)[:, tf.newaxis],\r\n",
        "        i=tf.range(d_model, dtype=tf.float32)[tf.newaxis, :],\r\n",
        "        d_model=d_model)\r\n",
        "    # apply sine to even index in the array\r\n",
        "    sines = tf.math.sin(angle_rads[:, 0::2])\r\n",
        "    # apply cosine to odd index in the array\r\n",
        "    cosines = tf.math.cos(angle_rads[:, 1::2])\r\n",
        "\r\n",
        "    pos_encoding = tf.concat([sines, cosines], axis=-1)\r\n",
        "    pos_encoding = pos_encoding[tf.newaxis, ...]\r\n",
        "    return tf.cast(pos_encoding, tf.float32)\r\n",
        "\r\n",
        "  def call(self, inputs):\r\n",
        "    return inputs + self.pos_encoding[:, :tf.shape(inputs)[1], :]"
      ],
      "execution_count": 23,
      "outputs": []
    },
    {
      "cell_type": "code",
      "metadata": {
        "id": "nKz1fkSUZcpU",
        "colab": {
          "base_uri": "https://localhost:8080/"
        },
        "outputId": "8b2de55c-2515-476e-b92b-530a7fd0db72"
      },
      "source": [
        "x = tf.constant([[1, 2, 3], [4, 5, 6]])\r\n",
        "tf.transpose(x)"
      ],
      "execution_count": 24,
      "outputs": [
        {
          "output_type": "execute_result",
          "data": {
            "text/plain": [
              "<tf.Tensor: shape=(3, 2), dtype=int32, numpy=\n",
              "array([[1, 4],\n",
              "       [2, 5],\n",
              "       [3, 6]], dtype=int32)>"
            ]
          },
          "metadata": {
            "tags": []
          },
          "execution_count": 24
        }
      ]
    },
    {
      "cell_type": "code",
      "metadata": {
        "colab": {
          "base_uri": "https://localhost:8080/"
        },
        "id": "ismm8892M-ru",
        "outputId": "2f4229e3-d128-409b-bad9-a185f8bbe54e"
      },
      "source": [
        "x = tf.constant([[[[1, 2, 3], [4, 5, 6], [7, 8, 9], [10, 11, 12]]]])\r\n",
        "tf.transpose(x, perm=[0, 2, 1, 3])"
      ],
      "execution_count": 25,
      "outputs": [
        {
          "output_type": "execute_result",
          "data": {
            "text/plain": [
              "<tf.Tensor: shape=(1, 4, 1, 3), dtype=int32, numpy=\n",
              "array([[[[ 1,  2,  3]],\n",
              "\n",
              "        [[ 4,  5,  6]],\n",
              "\n",
              "        [[ 7,  8,  9]],\n",
              "\n",
              "        [[10, 11, 12]]]], dtype=int32)>"
            ]
          },
          "metadata": {
            "tags": []
          },
          "execution_count": 25
        }
      ]
    },
    {
      "cell_type": "code",
      "metadata": {
        "id": "h8cM_WfKNFVN",
        "colab": {
          "base_uri": "https://localhost:8080/"
        },
        "outputId": "0857d329-72ad-43f4-cf06-c7e0cec5da30"
      },
      "source": [
        "# if 'input' is \r\n",
        "\r\n",
        "input = [[ 0,  1,  2, 3],\r\n",
        "                 [-1,  0,  1, 2],\r\n",
        "                 [-2, -1,  0, 1],\r\n",
        "                 [-3, -2, -1, 0]],\r\n",
        "\r\n",
        "tf.linalg.band_part(input, -1, 0) \r\n"
      ],
      "execution_count": 26,
      "outputs": [
        {
          "output_type": "execute_result",
          "data": {
            "text/plain": [
              "<tf.Tensor: shape=(1, 4, 4), dtype=int32, numpy=\n",
              "array([[[ 0,  0,  0,  0],\n",
              "        [-1,  0,  0,  0],\n",
              "        [-2, -1,  0,  0],\n",
              "        [-3, -2, -1,  0]]], dtype=int32)>"
            ]
          },
          "metadata": {
            "tags": []
          },
          "execution_count": 26
        }
      ]
    },
    {
      "cell_type": "code",
      "metadata": {
        "colab": {
          "base_uri": "https://localhost:8080/"
        },
        "id": "AKbJ5yOqLvP7",
        "outputId": "cd64a489-9c25-43f3-99f3-69e57b18cd3c"
      },
      "source": [
        "x = tf.constant([0., 0., 0., 0.])\r\n",
        "y = tf.constant([-2., 0., 2., 5.])\r\n",
        "tf.maximum(x, y)"
      ],
      "execution_count": 27,
      "outputs": [
        {
          "output_type": "execute_result",
          "data": {
            "text/plain": [
              "<tf.Tensor: shape=(4,), dtype=float32, numpy=array([0., 0., 2., 5.], dtype=float32)>"
            ]
          },
          "metadata": {
            "tags": []
          },
          "execution_count": 27
        }
      ]
    },
    {
      "cell_type": "markdown",
      "metadata": {
        "id": "W6M6X7V9W21R"
      },
      "source": [
        "# Encoder layer"
      ]
    },
    {
      "cell_type": "code",
      "metadata": {
        "id": "-8unvefVMjLE"
      },
      "source": [
        "def encoder_layer(units, d_model, num_heads, dropout, name=\"encoder_layer\"):\r\n",
        "  inputs = tf.keras.Input(shape=(None, d_model), name=\"inputs\")\r\n",
        "  padding_mask = tf.keras.Input(shape=(1, 1, None), name=\"padding_mask\")\r\n",
        "\r\n",
        "  # multi-head attention with padding mask\r\n",
        "  attention = MultiHeadAttention(\r\n",
        "      d_model, num_heads, name=\"attention\")({\r\n",
        "          'query': inputs,\r\n",
        "          'key': inputs,\r\n",
        "          'value': inputs,\r\n",
        "          'mask': padding_mask\r\n",
        "      })\r\n",
        "  attention = tf.keras.layers.Dropout(rate=dropout)(attention)\r\n",
        "  attention = tf.keras.layers.LayerNormalization(\r\n",
        "      epsilon=1e-6)(inputs + attention)\r\n",
        "\r\n",
        "  # two dense layers followed by a dropout\r\n",
        "  outputs = tf.keras.layers.Dense(units=units, activation='relu')(attention)\r\n",
        "  outputs = tf.keras.layers.Dense(units=d_model)(outputs)\r\n",
        "  outputs = tf.keras.layers.Dropout(rate=dropout)(outputs)\r\n",
        "  outputs = tf.keras.layers.LayerNormalization(\r\n",
        "      epsilon=1e-6)(attention + outputs)\r\n",
        "\r\n",
        "  return tf.keras.Model(\r\n",
        "      inputs=[inputs, padding_mask], outputs=outputs, name=name)"
      ],
      "execution_count": 28,
      "outputs": []
    },
    {
      "cell_type": "markdown",
      "metadata": {
        "id": "YkuyaQFmeURL"
      },
      "source": [
        "# Encoder"
      ]
    },
    {
      "cell_type": "code",
      "metadata": {
        "id": "jGWjkeTWd8j7"
      },
      "source": [
        "def encoder(vocab_size,\r\n",
        "            num_layers,\r\n",
        "            units,\r\n",
        "            d_model,\r\n",
        "            num_heads,\r\n",
        "            dropout,\r\n",
        "            name=\"encoder\"):\r\n",
        "  \r\n",
        "  inputs = tf.keras.Input(shape=(None,), name=\"inputs\")\r\n",
        "  # create padding mask\r\n",
        "  padding_mask = tf.keras.Input(shape=(1, 1, None), name=\"padding_mask\")\r\n",
        "\r\n",
        "  # create combination of word embedding + positional encoding\r\n",
        "  embeddings = tf.keras.layers.Embedding(vocab_size, d_model)(inputs)\r\n",
        "  embeddings *= tf.math.sqrt(tf.cast(d_model, tf.float32))\r\n",
        "  embeddings = PositionalEncoding(vocab_size, d_model)(embeddings)\r\n",
        "\r\n",
        "  outputs = tf.keras.layers.Dropout(rate=dropout)(embeddings)\r\n",
        "\r\n",
        "  # repeat the Encoder Layer two times\r\n",
        "  for i in range(num_layers):\r\n",
        "    outputs = encoder_layer(\r\n",
        "        units=units,\r\n",
        "        d_model=d_model,\r\n",
        "        num_heads=num_heads,\r\n",
        "        dropout=dropout,\r\n",
        "        name=\"encoder_layer_{}\".format(i),\r\n",
        "    )([outputs, padding_mask])\r\n",
        "\r\n",
        "  return tf.keras.Model(\r\n",
        "      inputs=[inputs, padding_mask], outputs=outputs, name=name)"
      ],
      "execution_count": 29,
      "outputs": []
    },
    {
      "cell_type": "code",
      "metadata": {
        "colab": {
          "base_uri": "https://localhost:8080/",
          "height": 953
        },
        "id": "eLjj6iiAhv0j",
        "outputId": "fce6180c-8a14-498e-d13c-5e41fee079cc"
      },
      "source": [
        "sample_encoder = encoder(\r\n",
        "    vocab_size=8192,\r\n",
        "    num_layers=5,\r\n",
        "    units=512,\r\n",
        "    d_model=128,\r\n",
        "    num_heads=4,\r\n",
        "    dropout=0.3,\r\n",
        "    name=\"sample_encoder\")\r\n",
        "\r\n",
        "tf.keras.utils.plot_model(\r\n",
        "   sample_encoder, to_file='encoder.png')"
      ],
      "execution_count": 30,
      "outputs": [
        {
          "output_type": "execute_result",
          "data": {
            "image/png": "[encoded data removed]",
            "text/plain": [
              "<IPython.core.display.Image object>"
            ]
          },
          "metadata": {
            "tags": []
          },
          "execution_count": 30
        }
      ]
    },
    {
      "cell_type": "markdown",
      "metadata": {
        "id": "PQqOdy5OtyVZ"
      },
      "source": [
        "# DECODER LAYER"
      ]
    },
    {
      "cell_type": "code",
      "metadata": {
        "id": "oajaSSbeibto"
      },
      "source": [
        "def decoder_layer(units, d_model, num_heads, dropout, name=\"decoder_layer\"):\r\n",
        "  inputs = tf.keras.Input(shape=(None, d_model), name=\"inputs\")\r\n",
        "  enc_outputs = tf.keras.Input(shape=(None, d_model), name=\"encoder_outputs\")\r\n",
        "  look_ahead_mask = tf.keras.Input(\r\n",
        "      shape=(1, None, None), name=\"look_ahead_mask\")\r\n",
        "  padding_mask = tf.keras.Input(shape=(1, 1, None), name='padding_mask')\r\n",
        "\r\n",
        "  attention1 = MultiHeadAttention(\r\n",
        "      d_model, num_heads, name=\"attention_1\")(inputs={\r\n",
        "          'query': inputs,\r\n",
        "          'key': inputs,\r\n",
        "          'value': inputs,\r\n",
        "          'mask': look_ahead_mask\r\n",
        "      })\r\n",
        "  attention1 = tf.keras.layers.LayerNormalization(\r\n",
        "      epsilon=1e-6)(attention1 + inputs)\r\n",
        "\r\n",
        "  attention2 = MultiHeadAttention(\r\n",
        "      d_model, num_heads, name=\"attention_2\")(inputs={\r\n",
        "          'query': attention1,\r\n",
        "          'key': enc_outputs,\r\n",
        "          'value': enc_outputs,\r\n",
        "          'mask': padding_mask\r\n",
        "      })\r\n",
        "  attention2 = tf.keras.layers.Dropout(rate=dropout)(attention2)\r\n",
        "  attention2 = tf.keras.layers.LayerNormalization(\r\n",
        "      epsilon=1e-6)(attention2 + attention1)\r\n",
        "\r\n",
        "  outputs = tf.keras.layers.Dense(units=units, activation='relu')(attention2)\r\n",
        "  outputs = tf.keras.layers.Dense(units=d_model)(outputs)\r\n",
        "  outputs = tf.keras.layers.Dropout(rate=dropout)(outputs)\r\n",
        "  outputs = tf.keras.layers.LayerNormalization(\r\n",
        "      epsilon=1e-6)(outputs + attention2)\r\n",
        "\r\n",
        "  return tf.keras.Model(\r\n",
        "      inputs=[inputs, enc_outputs, look_ahead_mask, padding_mask],\r\n",
        "      outputs=outputs,\r\n",
        "      name=name)"
      ],
      "execution_count": 31,
      "outputs": []
    },
    {
      "cell_type": "code",
      "metadata": {
        "colab": {
          "base_uri": "https://localhost:8080/",
          "height": 1000
        },
        "id": "WpXWnV1uxnn_",
        "outputId": "1f297d24-d231-4c35-a604-e6a96f672ffd"
      },
      "source": [
        "sample_decoder_layer = decoder_layer(\r\n",
        "    units=512,\r\n",
        "    d_model=128,\r\n",
        "    num_heads=4,\r\n",
        "    dropout=0.3,\r\n",
        "    name=\"sample_decoder_layer\")\r\n",
        "\r\n",
        "tf.keras.utils.plot_model(\r\n",
        "    sample_decoder_layer, to_file='decoder_layer.png')"
      ],
      "execution_count": 32,
      "outputs": [
        {
          "output_type": "execute_result",
          "data": {
            "image/png": "[encoded data removed]",
            "text/plain": [
              "<IPython.core.display.Image object>"
            ]
          },
          "metadata": {
            "tags": []
          },
          "execution_count": 32
        }
      ]
    },
    {
      "cell_type": "markdown",
      "metadata": {
        "id": "oSHgDM6ly20G"
      },
      "source": [
        "# Decoder"
      ]
    },
    {
      "cell_type": "markdown",
      "metadata": {
        "id": "3_VwP2hVy6rr"
      },
      "source": [
        "### Decoder\r\n",
        "\r\n",
        "The Decoder consists of:\r\n",
        "1.   Output Embedding\r\n",
        "2.   Positional Encoding\r\n",
        "3.   N decoder layers\r\n",
        "\r\n",
        "The target is put through an embedding which is summed with the positional encoding. The output of this summation is the input to the decoder layers. The output of the decoder is the input to the final linear layer."
      ]
    },
    {
      "cell_type": "code",
      "metadata": {
        "id": "rz8iYmE1yMAq"
      },
      "source": [
        "def decoder(vocab_size,\r\n",
        "            num_layers,\r\n",
        "            units,\r\n",
        "            d_model,\r\n",
        "            num_heads,\r\n",
        "            dropout,\r\n",
        "            name='decoder'):\r\n",
        "  inputs = tf.keras.Input(shape=(None,), name='inputs')\r\n",
        "  enc_outputs = tf.keras.Input(shape=(None, d_model), name='encoder_outputs')\r\n",
        "  look_ahead_mask = tf.keras.Input(\r\n",
        "      shape=(1, None, None), name='look_ahead_mask')\r\n",
        "  padding_mask = tf.keras.Input(shape=(1, 1, None), name='padding_mask')\r\n",
        "  \r\n",
        "  embeddings = tf.keras.layers.Embedding(vocab_size, d_model)(inputs)\r\n",
        "  embeddings *= tf.math.sqrt(tf.cast(d_model, tf.float32))\r\n",
        "  embeddings = PositionalEncoding(vocab_size, d_model)(embeddings)\r\n",
        "\r\n",
        "  outputs = tf.keras.layers.Dropout(rate=dropout)(embeddings)\r\n",
        "\r\n",
        "  for i in range(num_layers):\r\n",
        "    outputs = decoder_layer(\r\n",
        "        units=units,\r\n",
        "        d_model=d_model,\r\n",
        "        num_heads=num_heads,\r\n",
        "        dropout=dropout,\r\n",
        "        name='decoder_layer_{}'.format(i),\r\n",
        "    )(inputs=[outputs, enc_outputs, look_ahead_mask, padding_mask])\r\n",
        "\r\n",
        "  return tf.keras.Model(\r\n",
        "      inputs=[inputs, enc_outputs, look_ahead_mask, padding_mask],\r\n",
        "      outputs=outputs,\r\n",
        "      name=name)"
      ],
      "execution_count": 67,
      "outputs": []
    },
    {
      "cell_type": "code",
      "metadata": {
        "colab": {
          "base_uri": "https://localhost:8080/",
          "height": 661
        },
        "id": "GvXShYe_2Bg-",
        "outputId": "feb144ba-8802-496f-8fff-22f8b8997475"
      },
      "source": [
        "sample_decoder = decoder(\r\n",
        "    vocab_size=8192,\r\n",
        "    num_layers=2,\r\n",
        "    units=512,\r\n",
        "    d_model=128,\r\n",
        "    num_heads=4,\r\n",
        "    dropout=0.3,\r\n",
        "    name=\"sample_decoder\")\r\n",
        "\r\n",
        "tf.keras.utils.plot_model(\r\n",
        "    sample_decoder, to_file='decoder.png')"
      ],
      "execution_count": 68,
      "outputs": [
        {
          "output_type": "execute_result",
          "data": {
            "image/png": "[encoded data removed]",
            "text/plain": [
              "<IPython.core.display.Image object>"
            ]
          },
          "metadata": {
            "tags": []
          },
          "execution_count": 68
        }
      ]
    },
    {
      "cell_type": "markdown",
      "metadata": {
        "id": "iyZwxUBQ3fW9"
      },
      "source": [
        "# Final Transformer model\r\n",
        "\r\n",
        "Transformer consists of the encoder, decoder and a final linear layer."
      ]
    },
    {
      "cell_type": "code",
      "metadata": {
        "id": "aag2eKCF2p1z"
      },
      "source": [
        "def transformer(input_vocab_size,\r\n",
        "                target_vocab_size,\r\n",
        "                num_layers,\r\n",
        "                units,\r\n",
        "                d_model,\r\n",
        "                num_heads,\r\n",
        "                dropout,\r\n",
        "                name=\"transformer\"):\r\n",
        "  inputs = tf.keras.Input(shape=(None,), name=\"inputs\")\r\n",
        "  dec_inputs = tf.keras.Input(shape=(None,), name=\"decoder_inputs\")\r\n",
        "\r\n",
        "  enc_padding_mask = tf.keras.layers.Lambda(\r\n",
        "      create_padding_mask, output_shape=(1, 1, None),\r\n",
        "      name='enc_padding_mask')(inputs)\r\n",
        "  # mask the future tokens for decoder inputs at the 1st attention block\r\n",
        "  look_ahead_mask = tf.keras.layers.Lambda(\r\n",
        "      create_look_ahead_mask,\r\n",
        "      output_shape=(1, None, None),\r\n",
        "      name='look_ahead_mask')(dec_inputs)\r\n",
        "  # mask the encoder outputs for the 2nd attention block\r\n",
        "  dec_padding_mask = tf.keras.layers.Lambda(\r\n",
        "      create_padding_mask, output_shape=(1, 1, None),\r\n",
        "      name='dec_padding_mask')(inputs)\r\n",
        "\r\n",
        "  enc_outputs = encoder(\r\n",
        "      vocab_size=input_vocab_size,\r\n",
        "      num_layers=num_layers,\r\n",
        "      units=units,\r\n",
        "      d_model=d_model,\r\n",
        "      num_heads=num_heads,\r\n",
        "      dropout=dropout,\r\n",
        "  )(inputs=[inputs, enc_padding_mask])\r\n",
        "\r\n",
        "  dec_outputs = decoder(\r\n",
        "      vocab_size=target_vocab_size,\r\n",
        "      num_layers=num_layers,\r\n",
        "      units=units,\r\n",
        "      d_model=d_model,\r\n",
        "      num_heads=num_heads,\r\n",
        "      dropout=dropout,\r\n",
        "  )(inputs=[dec_inputs, enc_outputs, look_ahead_mask, dec_padding_mask])\r\n",
        "\r\n",
        "  outputs = tf.keras.layers.Dense(units=target_vocab_size, name=\"outputs\")(dec_outputs)\r\n",
        "\r\n",
        "  return tf.keras.Model(inputs=[inputs, dec_inputs], outputs=outputs, name=name)"
      ],
      "execution_count": 69,
      "outputs": []
    },
    {
      "cell_type": "code",
      "metadata": {
        "colab": {
          "base_uri": "https://localhost:8080/",
          "height": 466
        },
        "id": "siFANMVI9tq_",
        "outputId": "9c3472d3-9c52-4feb-970a-58bbbfd878de"
      },
      "source": [
        "sample_transformer = transformer(\r\n",
        "    input_vocab_size = 100,\r\n",
        "    target_vocab_size = 100,\r\n",
        "    num_layers=4,\r\n",
        "    units=512,\r\n",
        "    d_model=128,\r\n",
        "    num_heads=4,\r\n",
        "    dropout=0.3,\r\n",
        "    name=\"sample_transformer\")\r\n",
        "\r\n",
        "tf.keras.utils.plot_model(\r\n",
        "    sample_transformer, to_file='transformer.png')"
      ],
      "execution_count": 70,
      "outputs": [
        {
          "output_type": "execute_result",
          "data": {
            "image/png": "[encoded data removed]",
            "text/plain": [
              "<IPython.core.display.Image object>"
            ]
          },
          "metadata": {
            "tags": []
          },
          "execution_count": 70
        }
      ]
    },
    {
      "cell_type": "markdown",
      "metadata": {
        "id": "38K8bgzs_QPx"
      },
      "source": [
        "#MODEL FOR TRAINING"
      ]
    },
    {
      "cell_type": "code",
      "metadata": {
        "id": "1dSsly6e-6hT"
      },
      "source": [
        "D_MODEL = 256\r\n",
        "model = transformer(\r\n",
        "    tokenizer_input.vocab_size+2,\r\n",
        "    tokenizer_out.vocab_size+2,\r\n",
        "    num_layers = 2,\r\n",
        "    units = 512,\r\n",
        "    d_model = D_MODEL,\r\n",
        "    num_heads = 8,\r\n",
        "    dropout = 0.1)"
      ],
      "execution_count": 71,
      "outputs": []
    },
    {
      "cell_type": "markdown",
      "metadata": {
        "id": "a18t3YMDASZF"
      },
      "source": [
        "#LOSS FUNCTION"
      ]
    },
    {
      "cell_type": "markdown",
      "metadata": {
        "id": "UiCtG2EsASVL"
      },
      "source": [
        "Since the target sequences are padded, it is important to apply a padding mask when calculating the loss."
      ]
    },
    {
      "cell_type": "code",
      "metadata": {
        "id": "lU3AE8IMAF9S"
      },
      "source": [
        "def loss(y_true, y_pred):\r\n",
        "  y_true = tf.reshape(y_true, shape=(-1, 10 - 1))\r\n",
        "  \r\n",
        "  loss = tf.keras.losses.SparseCategoricalCrossentropy(\r\n",
        "      from_logits=True, reduction='none')(y_true, y_pred)\r\n",
        "\r\n",
        "  mask = tf.cast(tf.not_equal(y_true, 0), tf.float32)\r\n",
        "  loss = tf.multiply(loss, mask)\r\n",
        "\r\n",
        "  return tf.reduce_mean(loss)"
      ],
      "execution_count": 72,
      "outputs": []
    },
    {
      "cell_type": "markdown",
      "metadata": {
        "id": "PdMspkJWBf1e"
      },
      "source": [
        "# Optimizer"
      ]
    },
    {
      "cell_type": "markdown",
      "metadata": {
        "id": "HkE7ceLBBf44"
      },
      "source": [
        "###Custom LEARNING RATE\r\n",
        "\r\n",
        "\r\n",
        "$$\\Large{lrate = d_{model}^{-0.5} * min(step{\\_}num^{-0.5}, step{\\_}num * warmup{\\_}steps^{-1.5})}$$"
      ]
    },
    {
      "cell_type": "code",
      "metadata": {
        "id": "96SPM2r0BaFZ"
      },
      "source": [
        "class CustomSchedule(tf.keras.optimizers.schedules.LearningRateSchedule):\r\n",
        "\r\n",
        "  def __init__(self, d_model, warmup_steps=4000):\r\n",
        "    super(CustomSchedule, self).__init__()\r\n",
        "    self.d_model = d_model\r\n",
        "    self.d_model = tf.cast(self.d_model, tf.float32)\r\n",
        "    self.warmup_steps = warmup_steps\r\n",
        "\r\n",
        "  def __call__(self, step):\r\n",
        "    arg1 = tf.math.rsqrt(step)\r\n",
        "    arg2 = step * (self.warmup_steps**-1.5)\r\n",
        "\r\n",
        "    return tf.math.rsqrt(self.d_model) * tf.math.minimum(arg1, arg2)"
      ],
      "execution_count": 73,
      "outputs": []
    },
    {
      "cell_type": "code",
      "metadata": {
        "id": "obe95glsDL0u"
      },
      "source": [
        "learning_rate = CustomSchedule(D_MODEL)\r\n",
        "\r\n",
        "optimizer = tf.keras.optimizers.Adam(\r\n",
        "    learning_rate, beta_1=0.9, beta_2=0.98, epsilon=1e-9)"
      ],
      "execution_count": 74,
      "outputs": []
    },
    {
      "cell_type": "code",
      "metadata": {
        "id": "Sfo-RpK-DukC"
      },
      "source": [
        "model.compile(optimizer=optimizer, loss=loss)"
      ],
      "execution_count": 75,
      "outputs": []
    },
    {
      "cell_type": "markdown",
      "metadata": {
        "id": "_cppEouJEAFq"
      },
      "source": [
        "#TRAINING"
      ]
    },
    {
      "cell_type": "code",
      "metadata": {
        "colab": {
          "base_uri": "https://localhost:8080/"
        },
        "id": "Wc-gygD9EHE4",
        "outputId": "92af8dd2-06ce-421c-bb84-47081099ea14"
      },
      "source": [
        "EPOCHS = 20\r\n",
        "model.fit(dataset, epochs=EPOCHS)"
      ],
      "execution_count": 76,
      "outputs": [
        {
          "output_type": "stream",
          "text": [
            "Epoch 1/20\n",
            "313/313 [==============================] - 83s 241ms/step - loss: 4.3023\n",
            "Epoch 2/20\n",
            "313/313 [==============================] - 75s 240ms/step - loss: 2.4805\n",
            "Epoch 3/20\n",
            "313/313 [==============================] - 76s 242ms/step - loss: 1.8926\n",
            "Epoch 4/20\n",
            "313/313 [==============================] - 75s 241ms/step - loss: 1.5668\n",
            "Epoch 5/20\n",
            "313/313 [==============================] - 76s 242ms/step - loss: 1.3235\n",
            "Epoch 6/20\n",
            "313/313 [==============================] - 75s 240ms/step - loss: 1.1154\n",
            "Epoch 7/20\n",
            "313/313 [==============================] - 76s 242ms/step - loss: 0.9448\n",
            "Epoch 8/20\n",
            "313/313 [==============================] - 76s 241ms/step - loss: 0.8081\n",
            "Epoch 9/20\n",
            "313/313 [==============================] - 76s 242ms/step - loss: 0.6815\n",
            "Epoch 10/20\n",
            "313/313 [==============================] - 75s 240ms/step - loss: 0.5969\n",
            "Epoch 11/20\n",
            "313/313 [==============================] - 76s 243ms/step - loss: 0.5341\n",
            "Epoch 12/20\n",
            "313/313 [==============================] - 76s 242ms/step - loss: 0.4888\n",
            "Epoch 13/20\n",
            "313/313 [==============================] - 76s 243ms/step - loss: 0.4576\n",
            "Epoch 14/20\n",
            "313/313 [==============================] - 75s 241ms/step - loss: 0.4175\n",
            "Epoch 15/20\n",
            "313/313 [==============================] - 76s 241ms/step - loss: 0.3761\n",
            "Epoch 16/20\n",
            "313/313 [==============================] - 76s 242ms/step - loss: 0.3399\n",
            "Epoch 17/20\n",
            "313/313 [==============================] - 76s 241ms/step - loss: 0.2986\n",
            "Epoch 18/20\n",
            "313/313 [==============================] - 76s 242ms/step - loss: 0.2845\n",
            "Epoch 19/20\n",
            "313/313 [==============================] - 76s 242ms/step - loss: 0.2614\n",
            "Epoch 20/20\n",
            "313/313 [==============================] - 75s 241ms/step - loss: 0.2436\n"
          ],
          "name": "stdout"
        },
        {
          "output_type": "execute_result",
          "data": {
            "text/plain": [
              "<tensorflow.python.keras.callbacks.History at 0x7fe8c179b250>"
            ]
          },
          "metadata": {
            "tags": []
          },
          "execution_count": 76
        }
      ]
    },
    {
      "cell_type": "markdown",
      "metadata": {
        "id": "OBBp6vO3GjXV"
      },
      "source": [
        "#PREDICTION"
      ]
    },
    {
      "cell_type": "code",
      "metadata": {
        "id": "JkFt_mL5EN7g"
      },
      "source": [
        "def translate(input_sentence):\r\n",
        "\r\n",
        "  input_sentence = START_TOKEN_in + tokenizer_input.encode(input_sentence) + END_TOKEN_in\r\n",
        "  encoder_input = tf.expand_dims(input_sentence, 0)\r\n",
        "\r\n",
        "  decoder_input = [tokenizer_out.vocab_size]\r\n",
        "  output = tf.expand_dims(decoder_input, 0)\r\n",
        "\r\n",
        "  for ii in range(MAX_LENGTH):\r\n",
        "    predictions = model(inputs=[encoder_input, output], training=False)\r\n",
        "\r\n",
        "    # select the last word\r\n",
        "    predictions = predictions[:, -1:, :]\r\n",
        "    predicted_id = tf.cast(tf.argmax(predictions, axis=-1), tf.int32)\r\n",
        "\r\n",
        "    # terminate on END_TOKEN\r\n",
        "    if tf.equal(predicted_id, END_TOKEN_out[0]):\r\n",
        "      break\r\n",
        "\r\n",
        "    # concatenated the predicted_id to output\r\n",
        "    output = tf.concat([output, predicted_id], axis=-1)\r\n",
        "\r\n",
        "    return tf.squeeze(output, axis=0)"
      ],
      "execution_count": 79,
      "outputs": []
    },
    {
      "cell_type": "markdown",
      "metadata": {
        "id": "-cW1Ypf1IrND"
      },
      "source": [
        "# Testing"
      ]
    },
    {
      "cell_type": "code",
      "metadata": {
        "colab": {
          "base_uri": "https://localhost:8080/"
        },
        "id": "OGt9HqQ8IeVU",
        "outputId": "eb9ad68e-6e54-473b-f5fb-5620aa63b6e2"
      },
      "source": [
        "test_sentences = ['i am sorry', 'how are you']\r\n",
        "for s in test_sentences:\r\n",
        "  predictions = translate(s)\r\n",
        "\r\n",
        "  predicted_sentence = tokenizer_out.decode([i for i in predictions if i < tokenizer_out.vocab_size])\r\n",
        "\r\n",
        "  print('Input: {}'.format(s))\r\n",
        "  print('Output: {}'.format(predicted_sentence))"
      ],
      "execution_count": 81,
      "outputs": [
        {
          "output_type": "stream",
          "text": [
            "Input: i am sorry\n",
            "Output: lo \n",
            "Input: how are you\n",
            "Output: cómo \n"
          ],
          "name": "stdout"
        }
      ]
    },
    {
      "cell_type": "code",
      "metadata": {
        "id": "HkuOLrCbJaQE"
      },
      "source": [
        ""
      ],
      "execution_count": null,
      "outputs": []
    }
  ]
}