{
  "nbformat": 4,
  "nbformat_minor": 0,
  "metadata": {
    "colab": {
      "name": "ANN Tensorflow 2 Chapter 6.ipynb",
      "provenance": [],
      "collapsed_sections": []
    },
    "kernelspec": {
      "name": "python3",
      "display_name": "Python 3"
    }
  },
  "cells": [
    {
      "cell_type": "markdown",
      "metadata": {
        "id": "1J1l9izN0e3_"
      },
      "source": [
        "# **DNN Classifier Estimator**"
      ]
    },
    {
      "cell_type": "code",
      "metadata": {
        "id": "4ndHmApI0V2q"
      },
      "source": [
        "import tensorflow as tf"
      ],
      "execution_count": null,
      "outputs": []
    },
    {
      "cell_type": "code",
      "metadata": {
        "id": "ziSaePXx0dDw"
      },
      "source": [
        "from sklearn import datasets"
      ],
      "execution_count": null,
      "outputs": []
    },
    {
      "cell_type": "code",
      "metadata": {
        "id": "NScStPxF0tJO"
      },
      "source": [
        "digits = datasets.load_digits()"
      ],
      "execution_count": null,
      "outputs": []
    },
    {
      "cell_type": "code",
      "metadata": {
        "colab": {
          "base_uri": "https://localhost:8080/",
          "height": 138
        },
        "id": "29L30Mqy049O",
        "outputId": "e19de0ca-688e-4ee3-dc5a-0c4e1d656632"
      },
      "source": [
        "# Ploting sample image \r\n",
        "import matplotlib.pyplot as plt\r\n",
        "plt.figure(figsize=(1, 1))\r\n",
        "fig, ax = plt.subplots(1, 4)\r\n",
        "ax[0].imshow(digits.images[0])\r\n",
        "ax[1].imshow(digits.images[1])\r\n",
        "ax[2].imshow(digits.images[2])\r\n",
        "ax[3].imshow(digits.images[3])\r\n",
        "plt.show()"
      ],
      "execution_count": null,
      "outputs": [
        {
          "output_type": "display_data",
          "data": {
            "text/plain": [
              "<Figure size 72x72 with 0 Axes>"
            ]
          },
          "metadata": {
            "tags": []
          }
        },
        {
          "output_type": "display_data",
          "data": {
            "image/png": "[encoded data removed]",
            "text/plain": [
              "<Figure size 432x288 with 4 Axes>"
            ]
          },
          "metadata": {
            "tags": [],
            "needs_background": "light"
          }
        }
      ]
    },
    {
      "cell_type": "markdown",
      "metadata": {
        "id": "WSDVZK6Z1-bP"
      },
      "source": [
        "## **Preprocessing Data**"
      ]
    },
    {
      "cell_type": "code",
      "metadata": {
        "id": "-gHGXAZE167b"
      },
      "source": [
        "# reshape the data to two dimensions\r\n",
        "n_samples = len(digits.images)\r\n",
        "data = digits.images.reshape((n_samples, -1))"
      ],
      "execution_count": null,
      "outputs": []
    },
    {
      "cell_type": "code",
      "metadata": {
        "colab": {
          "base_uri": "https://localhost:8080/"
        },
        "id": "EyBZtZ1i2SEq",
        "outputId": "5342110a-4691-4c96-e156-41e35ec02852"
      },
      "source": [
        "data.shape"
      ],
      "execution_count": null,
      "outputs": [
        {
          "output_type": "execute_result",
          "data": {
            "text/plain": [
              "(1797, 64)"
            ]
          },
          "metadata": {
            "tags": []
          },
          "execution_count": 6
        }
      ]
    },
    {
      "cell_type": "code",
      "metadata": {
        "id": "0bIGGjdR3EIq"
      },
      "source": [
        "# split into training/testing \r\n",
        "from sklearn.model_selection import train_test_split \r\n",
        "X_train, X_test, y_train, y_test = train_test_split(data, digits.target, test_size=0.5, shuffle=False)"
      ],
      "execution_count": null,
      "outputs": []
    },
    {
      "cell_type": "markdown",
      "metadata": {
        "id": "DGaFEhzb3ire"
      },
      "source": [
        "## **Defining Input Function**"
      ]
    },
    {
      "cell_type": "code",
      "metadata": {
        "id": "nfuyOqdY3c1J"
      },
      "source": [
        "# create column names for our model input function \r\n",
        "columns = ['p_' + str(i) for i in range(1, 65)]"
      ],
      "execution_count": null,
      "outputs": []
    },
    {
      "cell_type": "code",
      "metadata": {
        "id": "QSDxbmox35Ln"
      },
      "source": [
        "feature_columns = []\r\n",
        "for col in columns:\r\n",
        "  feature_columns.append(tf.feature_column.numeric_column(key=col))"
      ],
      "execution_count": null,
      "outputs": []
    },
    {
      "cell_type": "code",
      "metadata": {
        "id": "vQfendUB4-Wa"
      },
      "source": [
        "def input_fn(features, labels, training=True, batch_size=32):\r\n",
        "  # converts inputs to a dataset\r\n",
        "  dataset = tf.data.Dataset.from_tensor_slices((dict(features), labels))\r\n",
        "  # shufle and repeat in a training mode \r\n",
        "  if training:\r\n",
        "    dataset = dataset.shuffle(1000).repeat()\r\n",
        "\r\n",
        "  # giving inputs in batches for training\r\n",
        "  return dataset.batch(batch_size)"
      ],
      "execution_count": null,
      "outputs": []
    },
    {
      "cell_type": "markdown",
      "metadata": {
        "id": "vdSSd9CW7Kk9"
      },
      "source": [
        "## **Create DNNClassifier Estimator instance**"
      ]
    },
    {
      "cell_type": "code",
      "metadata": {
        "colab": {
          "base_uri": "https://localhost:8080/"
        },
        "id": "MC_bcH3L6Ev2",
        "outputId": "cd9b6175-659f-4913-cb0d-7152a7889590"
      },
      "source": [
        "classifier = tf.estimator.DNNClassifier(hidden_units= [256, 128, 64], feature_columns= feature_columns, optimizer='Adagrad', n_classes=10, model_dir='classifier' )"
      ],
      "execution_count": null,
      "outputs": [
        {
          "output_type": "stream",
          "text": [
            "INFO:tensorflow:Using default config.\n",
            "INFO:tensorflow:Using config: {'_model_dir': 'classifier', '_tf_random_seed': None, '_save_summary_steps': 100, '_save_checkpoints_steps': None, '_save_checkpoints_secs': 600, '_session_config': allow_soft_placement: true\n",
            "graph_options {\n",
            "  rewrite_options {\n",
            "    meta_optimizer_iterations: ONE\n",
            "  }\n",
            "}\n",
            ", '_keep_checkpoint_max': 5, '_keep_checkpoint_every_n_hours': 10000, '_log_step_count_steps': 100, '_train_distribute': None, '_device_fn': None, '_protocol': None, '_eval_distribute': None, '_experimental_distribute': None, '_experimental_max_worker_delay_secs': None, '_session_creation_timeout_secs': 7200, '_checkpoint_save_graph_def': True, '_service': None, '_cluster_spec': ClusterSpec({}), '_task_type': 'worker', '_task_id': 0, '_global_id_in_cluster': 0, '_master': '', '_evaluation_master': '', '_is_chief': True, '_num_ps_replicas': 0, '_num_worker_replicas': 1}\n"
          ],
          "name": "stdout"
        }
      ]
    },
    {
      "cell_type": "markdown",
      "metadata": {
        "id": "nQQgxDIz8Fpp"
      },
      "source": [
        "## **Adding extra hidden layer**"
      ]
    },
    {
      "cell_type": "code",
      "metadata": {
        "colab": {
          "base_uri": "https://localhost:8080/",
          "height": 35
        },
        "id": "RepJ0aoj608y",
        "outputId": "f799600d-6768-409b-a2e8-0689d8249595"
      },
      "source": [
        "\"\"\"\r\n",
        "    classifier = tf.estimator.DNNClassifier(hidden_units= [256, 128, 64, 32], feature_columns= feature_columns, optimizer='Adagrad', n_classes=10, model_dir='classifier' )\r\n",
        "\r\n",
        "\"\"\""
      ],
      "execution_count": null,
      "outputs": [
        {
          "output_type": "execute_result",
          "data": {
            "application/vnd.google.colaboratory.intrinsic+json": {
              "type": "string"
            },
            "text/plain": [
              "\"\\n    classifier = tf.estimator.DNNClassifier(hidden_units= [256, 128, 64, 32], feature_columns= feature_columns, optimizer='Adagrad', n_classes=10, model_dir='classifier' )\\n\\n\""
            ]
          },
          "metadata": {
            "tags": []
          },
          "execution_count": 14
        }
      ]
    },
    {
      "cell_type": "code",
      "metadata": {
        "id": "0e8gu5nC-Vnp"
      },
      "source": [
        "\"\"\"\r\n",
        "    classifier = tf.estimator.DNNClassifier(hidden_units= [256, 128, 64], feature_columns= feature_columns, optimizer='Adagrad', n_classes=10, dropout=0.2 model_dir='classifier' )\r\n",
        "\r\n",
        "\"\"\""
      ],
      "execution_count": null,
      "outputs": []
    },
    {
      "cell_type": "markdown",
      "metadata": {
        "id": "B7qWcfVH-_6A"
      },
      "source": [
        "## **Model Training**"
      ]
    },
    {
      "cell_type": "code",
      "metadata": {
        "id": "B5q1_dkg_D6u"
      },
      "source": [
        "# create dataframes for training\r\n",
        "import pandas as pd\r\n",
        "dftrain = pd.DataFrame(X_train, columns=columns)"
      ],
      "execution_count": null,
      "outputs": []
    },
    {
      "cell_type": "code",
      "metadata": {
        "colab": {
          "base_uri": "https://localhost:8080/"
        },
        "id": "QSAqN82H_ilX",
        "outputId": "9ef73b56-266f-4311-c471-f1df8529cbbb"
      },
      "source": [
        "classifier.train(input_fn = lambda:input_fn(dftrain, y_train, training=True), steps=2000)"
      ],
      "execution_count": null,
      "outputs": [
        {
          "output_type": "stream",
          "text": [
            "WARNING:tensorflow:From /usr/local/lib/python3.6/dist-packages/tensorflow/python/training/training_util.py:236: Variable.initialized_value (from tensorflow.python.ops.variables) is deprecated and will be removed in a future version.\n",
            "Instructions for updating:\n",
            "Use Variable.read_value. Variables in 2.X are initialized automatically both in eager and graph (inside tf.defun) contexts.\n",
            "INFO:tensorflow:Calling model_fn.\n",
            "WARNING:tensorflow:From /usr/local/lib/python3.6/dist-packages/tensorflow/python/keras/optimizer_v2/adagrad.py:83: calling Constant.__init__ (from tensorflow.python.ops.init_ops) with dtype is deprecated and will be removed in a future version.\n",
            "Instructions for updating:\n",
            "Call initializer instance with the dtype argument instead of passing it to the constructor\n",
            "INFO:tensorflow:Done calling model_fn.\n",
            "INFO:tensorflow:Create CheckpointSaverHook.\n",
            "INFO:tensorflow:Graph was finalized.\n",
            "INFO:tensorflow:Running local_init_op.\n",
            "INFO:tensorflow:Done running local_init_op.\n",
            "INFO:tensorflow:Calling checkpoint listeners before saving checkpoint 0...\n",
            "INFO:tensorflow:Saving checkpoints for 0 into classifier/model.ckpt.\n",
            "INFO:tensorflow:Calling checkpoint listeners after saving checkpoint 0...\n",
            "INFO:tensorflow:loss = 4.797492, step = 0\n",
            "INFO:tensorflow:global_step/sec: 217.447\n",
            "INFO:tensorflow:loss = 0.4909833, step = 100 (0.465 sec)\n",
            "INFO:tensorflow:global_step/sec: 289.741\n",
            "INFO:tensorflow:loss = 0.38676766, step = 200 (0.342 sec)\n",
            "INFO:tensorflow:global_step/sec: 297.149\n",
            "INFO:tensorflow:loss = 0.19880474, step = 300 (0.337 sec)\n",
            "INFO:tensorflow:global_step/sec: 282.577\n",
            "INFO:tensorflow:loss = 0.18589422, step = 400 (0.353 sec)\n",
            "INFO:tensorflow:global_step/sec: 309.795\n",
            "INFO:tensorflow:loss = 0.09888283, step = 500 (0.325 sec)\n",
            "INFO:tensorflow:global_step/sec: 303.365\n",
            "INFO:tensorflow:loss = 0.1263003, step = 600 (0.331 sec)\n",
            "INFO:tensorflow:global_step/sec: 316.889\n",
            "INFO:tensorflow:loss = 0.083795585, step = 700 (0.312 sec)\n",
            "INFO:tensorflow:global_step/sec: 308.136\n",
            "INFO:tensorflow:loss = 0.07013758, step = 800 (0.325 sec)\n",
            "INFO:tensorflow:global_step/sec: 296.26\n",
            "INFO:tensorflow:loss = 0.035071723, step = 900 (0.337 sec)\n",
            "INFO:tensorflow:global_step/sec: 310.412\n",
            "INFO:tensorflow:loss = 0.07613974, step = 1000 (0.324 sec)\n",
            "INFO:tensorflow:global_step/sec: 308.172\n",
            "INFO:tensorflow:loss = 0.064302936, step = 1100 (0.323 sec)\n",
            "INFO:tensorflow:global_step/sec: 296.027\n",
            "INFO:tensorflow:loss = 0.04209678, step = 1200 (0.337 sec)\n",
            "INFO:tensorflow:global_step/sec: 311.018\n",
            "INFO:tensorflow:loss = 0.07287043, step = 1300 (0.326 sec)\n",
            "INFO:tensorflow:global_step/sec: 313.01\n",
            "INFO:tensorflow:loss = 0.046133164, step = 1400 (0.316 sec)\n",
            "INFO:tensorflow:global_step/sec: 323.41\n",
            "INFO:tensorflow:loss = 0.022498222, step = 1500 (0.309 sec)\n",
            "INFO:tensorflow:global_step/sec: 306.651\n",
            "INFO:tensorflow:loss = 0.050747238, step = 1600 (0.329 sec)\n",
            "INFO:tensorflow:global_step/sec: 299.293\n",
            "INFO:tensorflow:loss = 0.0159735, step = 1700 (0.334 sec)\n",
            "INFO:tensorflow:global_step/sec: 299.688\n",
            "INFO:tensorflow:loss = 0.016176032, step = 1800 (0.330 sec)\n",
            "INFO:tensorflow:global_step/sec: 281.8\n",
            "INFO:tensorflow:loss = 0.03095521, step = 1900 (0.355 sec)\n",
            "INFO:tensorflow:Calling checkpoint listeners before saving checkpoint 2000...\n",
            "INFO:tensorflow:Saving checkpoints for 2000 into classifier/model.ckpt.\n",
            "INFO:tensorflow:Calling checkpoint listeners after saving checkpoint 2000...\n",
            "INFO:tensorflow:Loss for final step: 0.020724796.\n"
          ],
          "name": "stdout"
        },
        {
          "output_type": "execute_result",
          "data": {
            "text/plain": [
              "<tensorflow_estimator.python.estimator.canned.dnn.DNNClassifierV2 at 0x7f4c86f038d0>"
            ]
          },
          "metadata": {
            "tags": []
          },
          "execution_count": 13
        }
      ]
    },
    {
      "cell_type": "markdown",
      "metadata": {
        "id": "i5VX4g8fBOSF"
      },
      "source": [
        "## **Model Evaluation**"
      ]
    },
    {
      "cell_type": "code",
      "metadata": {
        "id": "tGVGH5sY_5m0"
      },
      "source": [
        "# create dataframe for evaluation\r\n",
        "dftest = pd.DataFrame(X_test, columns=columns)"
      ],
      "execution_count": null,
      "outputs": []
    },
    {
      "cell_type": "code",
      "metadata": {
        "colab": {
          "base_uri": "https://localhost:8080/"
        },
        "id": "mKOTVJ1RBgnR",
        "outputId": "a08d4b01-bc38-4bce-ac36-5ee6b95c7242"
      },
      "source": [
        "eval_result = classifier.evaluate(\r\n",
        "    input_fn = lambda:input_fn(dftest, y_test, training=False)\r\n",
        ")"
      ],
      "execution_count": null,
      "outputs": [
        {
          "output_type": "stream",
          "text": [
            "INFO:tensorflow:Calling model_fn.\n",
            "INFO:tensorflow:Done calling model_fn.\n",
            "INFO:tensorflow:Starting evaluation at 2021-02-09T08:03:38Z\n",
            "INFO:tensorflow:Graph was finalized.\n",
            "INFO:tensorflow:Restoring parameters from classifier/model.ckpt-2000\n",
            "INFO:tensorflow:Running local_init_op.\n",
            "INFO:tensorflow:Done running local_init_op.\n",
            "INFO:tensorflow:Inference Time : 0.61762s\n",
            "INFO:tensorflow:Finished evaluation at 2021-02-09-08:03:39\n",
            "INFO:tensorflow:Saving dict for global step 2000: accuracy = 0.9265851, average_loss = 0.23531626, global_step = 2000, loss = 0.22903527\n",
            "INFO:tensorflow:Saving 'checkpoint_path' summary for global step 2000: classifier/model.ckpt-2000\n"
          ],
          "name": "stdout"
        }
      ]
    },
    {
      "cell_type": "code",
      "metadata": {
        "colab": {
          "base_uri": "https://localhost:8080/"
        },
        "id": "te0Rgq3CB0OA",
        "outputId": "61214adc-5024-4f96-e53a-500d262d980a"
      },
      "source": [
        "eval_result"
      ],
      "execution_count": null,
      "outputs": [
        {
          "output_type": "execute_result",
          "data": {
            "text/plain": [
              "{'accuracy': 0.9265851,\n",
              " 'average_loss': 0.23531626,\n",
              " 'global_step': 2000,\n",
              " 'loss': 0.22903527}"
            ]
          },
          "metadata": {
            "tags": []
          },
          "execution_count": 16
        }
      ]
    },
    {
      "cell_type": "code",
      "metadata": {
        "colab": {
          "base_uri": "https://localhost:8080/",
          "height": 821
        },
        "id": "yPRRIEnAB30g",
        "outputId": "a4a779e2-0862-4f7b-a4ec-5dcbc44f3745"
      },
      "source": [
        "%load_ext tensorboard \r\n",
        "%tensorboard --logdir ./classifier"
      ],
      "execution_count": null,
      "outputs": []
    },
    {
      "cell_type": "code",
      "metadata": {
        "colab": {
          "base_uri": "https://localhost:8080/"
        },
        "id": "Q0C1wyAQCEWQ",
        "outputId": "a2ca5c59-a34f-434e-9a79-64bc65940955"
      },
      "source": [
        "columns"
      ],
      "execution_count": null,
      "outputs": [
        {
          "output_type": "execute_result",
          "data": {
            "text/plain": [
              "['p_1',\n",
              " 'p_2',\n",
              " 'p_3',\n",
              " 'p_4',\n",
              " 'p_5',\n",
              " 'p_6',\n",
              " 'p_7',\n",
              " 'p_8',\n",
              " 'p_9',\n",
              " 'p_10',\n",
              " 'p_11',\n",
              " 'p_12',\n",
              " 'p_13',\n",
              " 'p_14',\n",
              " 'p_15',\n",
              " 'p_16',\n",
              " 'p_17',\n",
              " 'p_18',\n",
              " 'p_19',\n",
              " 'p_20',\n",
              " 'p_21',\n",
              " 'p_22',\n",
              " 'p_23',\n",
              " 'p_24',\n",
              " 'p_25',\n",
              " 'p_26',\n",
              " 'p_27',\n",
              " 'p_28',\n",
              " 'p_29',\n",
              " 'p_30',\n",
              " 'p_31',\n",
              " 'p_32',\n",
              " 'p_33',\n",
              " 'p_34',\n",
              " 'p_35',\n",
              " 'p_36',\n",
              " 'p_37',\n",
              " 'p_38',\n",
              " 'p_39',\n",
              " 'p_40',\n",
              " 'p_41',\n",
              " 'p_42',\n",
              " 'p_43',\n",
              " 'p_44',\n",
              " 'p_45',\n",
              " 'p_46',\n",
              " 'p_47',\n",
              " 'p_48',\n",
              " 'p_49',\n",
              " 'p_50',\n",
              " 'p_51',\n",
              " 'p_52',\n",
              " 'p_53',\n",
              " 'p_54',\n",
              " 'p_55',\n",
              " 'p_56',\n",
              " 'p_57',\n",
              " 'p_58',\n",
              " 'p_59',\n",
              " 'p_60',\n",
              " 'p_61',\n",
              " 'p_62',\n",
              " 'p_63',\n",
              " 'p_64']"
            ]
          },
          "metadata": {
            "tags": []
          },
          "execution_count": 18
        }
      ]
    },
    {
      "cell_type": "code",
      "metadata": {
        "colab": {
          "base_uri": "https://localhost:8080/"
        },
        "id": "GZp5vgc7FhqN",
        "outputId": "9fec1c9f-a335-406c-a4fe-ca65a7fc5963"
      },
      "source": [
        "feature_columns"
      ],
      "execution_count": null,
      "outputs": [
        {
          "output_type": "execute_result",
          "data": {
            "text/plain": [
              "[NumericColumn(key='p_1', shape=(1,), default_value=None, dtype=tf.float32, normalizer_fn=None),\n",
              " NumericColumn(key='p_2', shape=(1,), default_value=None, dtype=tf.float32, normalizer_fn=None),\n",
              " NumericColumn(key='p_3', shape=(1,), default_value=None, dtype=tf.float32, normalizer_fn=None),\n",
              " NumericColumn(key='p_4', shape=(1,), default_value=None, dtype=tf.float32, normalizer_fn=None),\n",
              " NumericColumn(key='p_5', shape=(1,), default_value=None, dtype=tf.float32, normalizer_fn=None),\n",
              " NumericColumn(key='p_6', shape=(1,), default_value=None, dtype=tf.float32, normalizer_fn=None),\n",
              " NumericColumn(key='p_7', shape=(1,), default_value=None, dtype=tf.float32, normalizer_fn=None),\n",
              " NumericColumn(key='p_8', shape=(1,), default_value=None, dtype=tf.float32, normalizer_fn=None),\n",
              " NumericColumn(key='p_9', shape=(1,), default_value=None, dtype=tf.float32, normalizer_fn=None),\n",
              " NumericColumn(key='p_10', shape=(1,), default_value=None, dtype=tf.float32, normalizer_fn=None),\n",
              " NumericColumn(key='p_11', shape=(1,), default_value=None, dtype=tf.float32, normalizer_fn=None),\n",
              " NumericColumn(key='p_12', shape=(1,), default_value=None, dtype=tf.float32, normalizer_fn=None),\n",
              " NumericColumn(key='p_13', shape=(1,), default_value=None, dtype=tf.float32, normalizer_fn=None),\n",
              " NumericColumn(key='p_14', shape=(1,), default_value=None, dtype=tf.float32, normalizer_fn=None),\n",
              " NumericColumn(key='p_15', shape=(1,), default_value=None, dtype=tf.float32, normalizer_fn=None),\n",
              " NumericColumn(key='p_16', shape=(1,), default_value=None, dtype=tf.float32, normalizer_fn=None),\n",
              " NumericColumn(key='p_17', shape=(1,), default_value=None, dtype=tf.float32, normalizer_fn=None),\n",
              " NumericColumn(key='p_18', shape=(1,), default_value=None, dtype=tf.float32, normalizer_fn=None),\n",
              " NumericColumn(key='p_19', shape=(1,), default_value=None, dtype=tf.float32, normalizer_fn=None),\n",
              " NumericColumn(key='p_20', shape=(1,), default_value=None, dtype=tf.float32, normalizer_fn=None),\n",
              " NumericColumn(key='p_21', shape=(1,), default_value=None, dtype=tf.float32, normalizer_fn=None),\n",
              " NumericColumn(key='p_22', shape=(1,), default_value=None, dtype=tf.float32, normalizer_fn=None),\n",
              " NumericColumn(key='p_23', shape=(1,), default_value=None, dtype=tf.float32, normalizer_fn=None),\n",
              " NumericColumn(key='p_24', shape=(1,), default_value=None, dtype=tf.float32, normalizer_fn=None),\n",
              " NumericColumn(key='p_25', shape=(1,), default_value=None, dtype=tf.float32, normalizer_fn=None),\n",
              " NumericColumn(key='p_26', shape=(1,), default_value=None, dtype=tf.float32, normalizer_fn=None),\n",
              " NumericColumn(key='p_27', shape=(1,), default_value=None, dtype=tf.float32, normalizer_fn=None),\n",
              " NumericColumn(key='p_28', shape=(1,), default_value=None, dtype=tf.float32, normalizer_fn=None),\n",
              " NumericColumn(key='p_29', shape=(1,), default_value=None, dtype=tf.float32, normalizer_fn=None),\n",
              " NumericColumn(key='p_30', shape=(1,), default_value=None, dtype=tf.float32, normalizer_fn=None),\n",
              " NumericColumn(key='p_31', shape=(1,), default_value=None, dtype=tf.float32, normalizer_fn=None),\n",
              " NumericColumn(key='p_32', shape=(1,), default_value=None, dtype=tf.float32, normalizer_fn=None),\n",
              " NumericColumn(key='p_33', shape=(1,), default_value=None, dtype=tf.float32, normalizer_fn=None),\n",
              " NumericColumn(key='p_34', shape=(1,), default_value=None, dtype=tf.float32, normalizer_fn=None),\n",
              " NumericColumn(key='p_35', shape=(1,), default_value=None, dtype=tf.float32, normalizer_fn=None),\n",
              " NumericColumn(key='p_36', shape=(1,), default_value=None, dtype=tf.float32, normalizer_fn=None),\n",
              " NumericColumn(key='p_37', shape=(1,), default_value=None, dtype=tf.float32, normalizer_fn=None),\n",
              " NumericColumn(key='p_38', shape=(1,), default_value=None, dtype=tf.float32, normalizer_fn=None),\n",
              " NumericColumn(key='p_39', shape=(1,), default_value=None, dtype=tf.float32, normalizer_fn=None),\n",
              " NumericColumn(key='p_40', shape=(1,), default_value=None, dtype=tf.float32, normalizer_fn=None),\n",
              " NumericColumn(key='p_41', shape=(1,), default_value=None, dtype=tf.float32, normalizer_fn=None),\n",
              " NumericColumn(key='p_42', shape=(1,), default_value=None, dtype=tf.float32, normalizer_fn=None),\n",
              " NumericColumn(key='p_43', shape=(1,), default_value=None, dtype=tf.float32, normalizer_fn=None),\n",
              " NumericColumn(key='p_44', shape=(1,), default_value=None, dtype=tf.float32, normalizer_fn=None),\n",
              " NumericColumn(key='p_45', shape=(1,), default_value=None, dtype=tf.float32, normalizer_fn=None),\n",
              " NumericColumn(key='p_46', shape=(1,), default_value=None, dtype=tf.float32, normalizer_fn=None),\n",
              " NumericColumn(key='p_47', shape=(1,), default_value=None, dtype=tf.float32, normalizer_fn=None),\n",
              " NumericColumn(key='p_48', shape=(1,), default_value=None, dtype=tf.float32, normalizer_fn=None),\n",
              " NumericColumn(key='p_49', shape=(1,), default_value=None, dtype=tf.float32, normalizer_fn=None),\n",
              " NumericColumn(key='p_50', shape=(1,), default_value=None, dtype=tf.float32, normalizer_fn=None),\n",
              " NumericColumn(key='p_51', shape=(1,), default_value=None, dtype=tf.float32, normalizer_fn=None),\n",
              " NumericColumn(key='p_52', shape=(1,), default_value=None, dtype=tf.float32, normalizer_fn=None),\n",
              " NumericColumn(key='p_53', shape=(1,), default_value=None, dtype=tf.float32, normalizer_fn=None),\n",
              " NumericColumn(key='p_54', shape=(1,), default_value=None, dtype=tf.float32, normalizer_fn=None),\n",
              " NumericColumn(key='p_55', shape=(1,), default_value=None, dtype=tf.float32, normalizer_fn=None),\n",
              " NumericColumn(key='p_56', shape=(1,), default_value=None, dtype=tf.float32, normalizer_fn=None),\n",
              " NumericColumn(key='p_57', shape=(1,), default_value=None, dtype=tf.float32, normalizer_fn=None),\n",
              " NumericColumn(key='p_58', shape=(1,), default_value=None, dtype=tf.float32, normalizer_fn=None),\n",
              " NumericColumn(key='p_59', shape=(1,), default_value=None, dtype=tf.float32, normalizer_fn=None),\n",
              " NumericColumn(key='p_60', shape=(1,), default_value=None, dtype=tf.float32, normalizer_fn=None),\n",
              " NumericColumn(key='p_61', shape=(1,), default_value=None, dtype=tf.float32, normalizer_fn=None),\n",
              " NumericColumn(key='p_62', shape=(1,), default_value=None, dtype=tf.float32, normalizer_fn=None),\n",
              " NumericColumn(key='p_63', shape=(1,), default_value=None, dtype=tf.float32, normalizer_fn=None),\n",
              " NumericColumn(key='p_64', shape=(1,), default_value=None, dtype=tf.float32, normalizer_fn=None)]"
            ]
          },
          "metadata": {
            "tags": []
          },
          "execution_count": 19
        }
      ]
    },
    {
      "cell_type": "code",
      "metadata": {
        "colab": {
          "base_uri": "https://localhost:8080/",
          "height": 224
        },
        "id": "Gnleo9u9HbfL",
        "outputId": "3f3a202b-dae8-4e57-ec48-e0c1cb0b04ae"
      },
      "source": [
        "dftrain.head()"
      ],
      "execution_count": null,
      "outputs": [
        {
          "output_type": "execute_result",
          "data": {
            "text/html": [
              "<div>\n",
              "<style scoped>\n",
              "    .dataframe tbody tr th:only-of-type {\n",
              "        vertical-align: middle;\n",
              "    }\n",
              "\n",
              "    .dataframe tbody tr th {\n",
              "        vertical-align: top;\n",
              "    }\n",
              "\n",
              "    .dataframe thead th {\n",
              "        text-align: right;\n",
              "    }\n",
              "</style>\n",
              "<table border=\"1\" class=\"dataframe\">\n",
              "  <thead>\n",
              "    <tr style=\"text-align: right;\">\n",
              "      <th></th>\n",
              "      <th>p_1</th>\n",
              "      <th>p_2</th>\n",
              "      <th>p_3</th>\n",
              "      <th>p_4</th>\n",
              "      <th>p_5</th>\n",
              "      <th>p_6</th>\n",
              "      <th>p_7</th>\n",
              "      <th>p_8</th>\n",
              "      <th>p_9</th>\n",
              "      <th>p_10</th>\n",
              "      <th>p_11</th>\n",
              "      <th>p_12</th>\n",
              "      <th>p_13</th>\n",
              "      <th>p_14</th>\n",
              "      <th>p_15</th>\n",
              "      <th>p_16</th>\n",
              "      <th>p_17</th>\n",
              "      <th>p_18</th>\n",
              "      <th>p_19</th>\n",
              "      <th>p_20</th>\n",
              "      <th>p_21</th>\n",
              "      <th>p_22</th>\n",
              "      <th>p_23</th>\n",
              "      <th>p_24</th>\n",
              "      <th>p_25</th>\n",
              "      <th>p_26</th>\n",
              "      <th>p_27</th>\n",
              "      <th>p_28</th>\n",
              "      <th>p_29</th>\n",
              "      <th>p_30</th>\n",
              "      <th>p_31</th>\n",
              "      <th>p_32</th>\n",
              "      <th>p_33</th>\n",
              "      <th>p_34</th>\n",
              "      <th>p_35</th>\n",
              "      <th>p_36</th>\n",
              "      <th>p_37</th>\n",
              "      <th>p_38</th>\n",
              "      <th>p_39</th>\n",
              "      <th>p_40</th>\n",
              "      <th>p_41</th>\n",
              "      <th>p_42</th>\n",
              "      <th>p_43</th>\n",
              "      <th>p_44</th>\n",
              "      <th>p_45</th>\n",
              "      <th>p_46</th>\n",
              "      <th>p_47</th>\n",
              "      <th>p_48</th>\n",
              "      <th>p_49</th>\n",
              "      <th>p_50</th>\n",
              "      <th>p_51</th>\n",
              "      <th>p_52</th>\n",
              "      <th>p_53</th>\n",
              "      <th>p_54</th>\n",
              "      <th>p_55</th>\n",
              "      <th>p_56</th>\n",
              "      <th>p_57</th>\n",
              "      <th>p_58</th>\n",
              "      <th>p_59</th>\n",
              "      <th>p_60</th>\n",
              "      <th>p_61</th>\n",
              "      <th>p_62</th>\n",
              "      <th>p_63</th>\n",
              "      <th>p_64</th>\n",
              "    </tr>\n",
              "  </thead>\n",
              "  <tbody>\n",
              "    <tr>\n",
              "      <th>0</th>\n",
              "      <td>0.0</td>\n",
              "      <td>0.0</td>\n",
              "      <td>5.0</td>\n",
              "      <td>13.0</td>\n",
              "      <td>9.0</td>\n",
              "      <td>1.0</td>\n",
              "      <td>0.0</td>\n",
              "      <td>0.0</td>\n",
              "      <td>0.0</td>\n",
              "      <td>0.0</td>\n",
              "      <td>13.0</td>\n",
              "      <td>15.0</td>\n",
              "      <td>10.0</td>\n",
              "      <td>15.0</td>\n",
              "      <td>5.0</td>\n",
              "      <td>0.0</td>\n",
              "      <td>0.0</td>\n",
              "      <td>3.0</td>\n",
              "      <td>15.0</td>\n",
              "      <td>2.0</td>\n",
              "      <td>0.0</td>\n",
              "      <td>11.0</td>\n",
              "      <td>8.0</td>\n",
              "      <td>0.0</td>\n",
              "      <td>0.0</td>\n",
              "      <td>4.0</td>\n",
              "      <td>12.0</td>\n",
              "      <td>0.0</td>\n",
              "      <td>0.0</td>\n",
              "      <td>8.0</td>\n",
              "      <td>8.0</td>\n",
              "      <td>0.0</td>\n",
              "      <td>0.0</td>\n",
              "      <td>5.0</td>\n",
              "      <td>8.0</td>\n",
              "      <td>0.0</td>\n",
              "      <td>0.0</td>\n",
              "      <td>9.0</td>\n",
              "      <td>8.0</td>\n",
              "      <td>0.0</td>\n",
              "      <td>0.0</td>\n",
              "      <td>4.0</td>\n",
              "      <td>11.0</td>\n",
              "      <td>0.0</td>\n",
              "      <td>1.0</td>\n",
              "      <td>12.0</td>\n",
              "      <td>7.0</td>\n",
              "      <td>0.0</td>\n",
              "      <td>0.0</td>\n",
              "      <td>2.0</td>\n",
              "      <td>14.0</td>\n",
              "      <td>5.0</td>\n",
              "      <td>10.0</td>\n",
              "      <td>12.0</td>\n",
              "      <td>0.0</td>\n",
              "      <td>0.0</td>\n",
              "      <td>0.0</td>\n",
              "      <td>0.0</td>\n",
              "      <td>6.0</td>\n",
              "      <td>13.0</td>\n",
              "      <td>10.0</td>\n",
              "      <td>0.0</td>\n",
              "      <td>0.0</td>\n",
              "      <td>0.0</td>\n",
              "    </tr>\n",
              "    <tr>\n",
              "      <th>1</th>\n",
              "      <td>0.0</td>\n",
              "      <td>0.0</td>\n",
              "      <td>0.0</td>\n",
              "      <td>12.0</td>\n",
              "      <td>13.0</td>\n",
              "      <td>5.0</td>\n",
              "      <td>0.0</td>\n",
              "      <td>0.0</td>\n",
              "      <td>0.0</td>\n",
              "      <td>0.0</td>\n",
              "      <td>0.0</td>\n",
              "      <td>11.0</td>\n",
              "      <td>16.0</td>\n",
              "      <td>9.0</td>\n",
              "      <td>0.0</td>\n",
              "      <td>0.0</td>\n",
              "      <td>0.0</td>\n",
              "      <td>0.0</td>\n",
              "      <td>3.0</td>\n",
              "      <td>15.0</td>\n",
              "      <td>16.0</td>\n",
              "      <td>6.0</td>\n",
              "      <td>0.0</td>\n",
              "      <td>0.0</td>\n",
              "      <td>0.0</td>\n",
              "      <td>7.0</td>\n",
              "      <td>15.0</td>\n",
              "      <td>16.0</td>\n",
              "      <td>16.0</td>\n",
              "      <td>2.0</td>\n",
              "      <td>0.0</td>\n",
              "      <td>0.0</td>\n",
              "      <td>0.0</td>\n",
              "      <td>0.0</td>\n",
              "      <td>1.0</td>\n",
              "      <td>16.0</td>\n",
              "      <td>16.0</td>\n",
              "      <td>3.0</td>\n",
              "      <td>0.0</td>\n",
              "      <td>0.0</td>\n",
              "      <td>0.0</td>\n",
              "      <td>0.0</td>\n",
              "      <td>1.0</td>\n",
              "      <td>16.0</td>\n",
              "      <td>16.0</td>\n",
              "      <td>6.0</td>\n",
              "      <td>0.0</td>\n",
              "      <td>0.0</td>\n",
              "      <td>0.0</td>\n",
              "      <td>0.0</td>\n",
              "      <td>1.0</td>\n",
              "      <td>16.0</td>\n",
              "      <td>16.0</td>\n",
              "      <td>6.0</td>\n",
              "      <td>0.0</td>\n",
              "      <td>0.0</td>\n",
              "      <td>0.0</td>\n",
              "      <td>0.0</td>\n",
              "      <td>0.0</td>\n",
              "      <td>11.0</td>\n",
              "      <td>16.0</td>\n",
              "      <td>10.0</td>\n",
              "      <td>0.0</td>\n",
              "      <td>0.0</td>\n",
              "    </tr>\n",
              "    <tr>\n",
              "      <th>2</th>\n",
              "      <td>0.0</td>\n",
              "      <td>0.0</td>\n",
              "      <td>0.0</td>\n",
              "      <td>4.0</td>\n",
              "      <td>15.0</td>\n",
              "      <td>12.0</td>\n",
              "      <td>0.0</td>\n",
              "      <td>0.0</td>\n",
              "      <td>0.0</td>\n",
              "      <td>0.0</td>\n",
              "      <td>3.0</td>\n",
              "      <td>16.0</td>\n",
              "      <td>15.0</td>\n",
              "      <td>14.0</td>\n",
              "      <td>0.0</td>\n",
              "      <td>0.0</td>\n",
              "      <td>0.0</td>\n",
              "      <td>0.0</td>\n",
              "      <td>8.0</td>\n",
              "      <td>13.0</td>\n",
              "      <td>8.0</td>\n",
              "      <td>16.0</td>\n",
              "      <td>0.0</td>\n",
              "      <td>0.0</td>\n",
              "      <td>0.0</td>\n",
              "      <td>0.0</td>\n",
              "      <td>1.0</td>\n",
              "      <td>6.0</td>\n",
              "      <td>15.0</td>\n",
              "      <td>11.0</td>\n",
              "      <td>0.0</td>\n",
              "      <td>0.0</td>\n",
              "      <td>0.0</td>\n",
              "      <td>1.0</td>\n",
              "      <td>8.0</td>\n",
              "      <td>13.0</td>\n",
              "      <td>15.0</td>\n",
              "      <td>1.0</td>\n",
              "      <td>0.0</td>\n",
              "      <td>0.0</td>\n",
              "      <td>0.0</td>\n",
              "      <td>9.0</td>\n",
              "      <td>16.0</td>\n",
              "      <td>16.0</td>\n",
              "      <td>5.0</td>\n",
              "      <td>0.0</td>\n",
              "      <td>0.0</td>\n",
              "      <td>0.0</td>\n",
              "      <td>0.0</td>\n",
              "      <td>3.0</td>\n",
              "      <td>13.0</td>\n",
              "      <td>16.0</td>\n",
              "      <td>16.0</td>\n",
              "      <td>11.0</td>\n",
              "      <td>5.0</td>\n",
              "      <td>0.0</td>\n",
              "      <td>0.0</td>\n",
              "      <td>0.0</td>\n",
              "      <td>0.0</td>\n",
              "      <td>3.0</td>\n",
              "      <td>11.0</td>\n",
              "      <td>16.0</td>\n",
              "      <td>9.0</td>\n",
              "      <td>0.0</td>\n",
              "    </tr>\n",
              "    <tr>\n",
              "      <th>3</th>\n",
              "      <td>0.0</td>\n",
              "      <td>0.0</td>\n",
              "      <td>7.0</td>\n",
              "      <td>15.0</td>\n",
              "      <td>13.0</td>\n",
              "      <td>1.0</td>\n",
              "      <td>0.0</td>\n",
              "      <td>0.0</td>\n",
              "      <td>0.0</td>\n",
              "      <td>8.0</td>\n",
              "      <td>13.0</td>\n",
              "      <td>6.0</td>\n",
              "      <td>15.0</td>\n",
              "      <td>4.0</td>\n",
              "      <td>0.0</td>\n",
              "      <td>0.0</td>\n",
              "      <td>0.0</td>\n",
              "      <td>2.0</td>\n",
              "      <td>1.0</td>\n",
              "      <td>13.0</td>\n",
              "      <td>13.0</td>\n",
              "      <td>0.0</td>\n",
              "      <td>0.0</td>\n",
              "      <td>0.0</td>\n",
              "      <td>0.0</td>\n",
              "      <td>0.0</td>\n",
              "      <td>2.0</td>\n",
              "      <td>15.0</td>\n",
              "      <td>11.0</td>\n",
              "      <td>1.0</td>\n",
              "      <td>0.0</td>\n",
              "      <td>0.0</td>\n",
              "      <td>0.0</td>\n",
              "      <td>0.0</td>\n",
              "      <td>0.0</td>\n",
              "      <td>1.0</td>\n",
              "      <td>12.0</td>\n",
              "      <td>12.0</td>\n",
              "      <td>1.0</td>\n",
              "      <td>0.0</td>\n",
              "      <td>0.0</td>\n",
              "      <td>0.0</td>\n",
              "      <td>0.0</td>\n",
              "      <td>0.0</td>\n",
              "      <td>1.0</td>\n",
              "      <td>10.0</td>\n",
              "      <td>8.0</td>\n",
              "      <td>0.0</td>\n",
              "      <td>0.0</td>\n",
              "      <td>0.0</td>\n",
              "      <td>8.0</td>\n",
              "      <td>4.0</td>\n",
              "      <td>5.0</td>\n",
              "      <td>14.0</td>\n",
              "      <td>9.0</td>\n",
              "      <td>0.0</td>\n",
              "      <td>0.0</td>\n",
              "      <td>0.0</td>\n",
              "      <td>7.0</td>\n",
              "      <td>13.0</td>\n",
              "      <td>13.0</td>\n",
              "      <td>9.0</td>\n",
              "      <td>0.0</td>\n",
              "      <td>0.0</td>\n",
              "    </tr>\n",
              "    <tr>\n",
              "      <th>4</th>\n",
              "      <td>0.0</td>\n",
              "      <td>0.0</td>\n",
              "      <td>0.0</td>\n",
              "      <td>1.0</td>\n",
              "      <td>11.0</td>\n",
              "      <td>0.0</td>\n",
              "      <td>0.0</td>\n",
              "      <td>0.0</td>\n",
              "      <td>0.0</td>\n",
              "      <td>0.0</td>\n",
              "      <td>0.0</td>\n",
              "      <td>7.0</td>\n",
              "      <td>8.0</td>\n",
              "      <td>0.0</td>\n",
              "      <td>0.0</td>\n",
              "      <td>0.0</td>\n",
              "      <td>0.0</td>\n",
              "      <td>0.0</td>\n",
              "      <td>1.0</td>\n",
              "      <td>13.0</td>\n",
              "      <td>6.0</td>\n",
              "      <td>2.0</td>\n",
              "      <td>2.0</td>\n",
              "      <td>0.0</td>\n",
              "      <td>0.0</td>\n",
              "      <td>0.0</td>\n",
              "      <td>7.0</td>\n",
              "      <td>15.0</td>\n",
              "      <td>0.0</td>\n",
              "      <td>9.0</td>\n",
              "      <td>8.0</td>\n",
              "      <td>0.0</td>\n",
              "      <td>0.0</td>\n",
              "      <td>5.0</td>\n",
              "      <td>16.0</td>\n",
              "      <td>10.0</td>\n",
              "      <td>0.0</td>\n",
              "      <td>16.0</td>\n",
              "      <td>6.0</td>\n",
              "      <td>0.0</td>\n",
              "      <td>0.0</td>\n",
              "      <td>4.0</td>\n",
              "      <td>15.0</td>\n",
              "      <td>16.0</td>\n",
              "      <td>13.0</td>\n",
              "      <td>16.0</td>\n",
              "      <td>1.0</td>\n",
              "      <td>0.0</td>\n",
              "      <td>0.0</td>\n",
              "      <td>0.0</td>\n",
              "      <td>0.0</td>\n",
              "      <td>3.0</td>\n",
              "      <td>15.0</td>\n",
              "      <td>10.0</td>\n",
              "      <td>0.0</td>\n",
              "      <td>0.0</td>\n",
              "      <td>0.0</td>\n",
              "      <td>0.0</td>\n",
              "      <td>0.0</td>\n",
              "      <td>2.0</td>\n",
              "      <td>16.0</td>\n",
              "      <td>4.0</td>\n",
              "      <td>0.0</td>\n",
              "      <td>0.0</td>\n",
              "    </tr>\n",
              "  </tbody>\n",
              "</table>\n",
              "</div>"
            ],
            "text/plain": [
              "   p_1  p_2  p_3   p_4   p_5   p_6  ...  p_59  p_60  p_61  p_62  p_63  p_64\n",
              "0  0.0  0.0  5.0  13.0   9.0   1.0  ...   6.0  13.0  10.0   0.0   0.0   0.0\n",
              "1  0.0  0.0  0.0  12.0  13.0   5.0  ...   0.0  11.0  16.0  10.0   0.0   0.0\n",
              "2  0.0  0.0  0.0   4.0  15.0  12.0  ...   0.0   3.0  11.0  16.0   9.0   0.0\n",
              "3  0.0  0.0  7.0  15.0  13.0   1.0  ...   7.0  13.0  13.0   9.0   0.0   0.0\n",
              "4  0.0  0.0  0.0   1.0  11.0   0.0  ...   0.0   2.0  16.0   4.0   0.0   0.0\n",
              "\n",
              "[5 rows x 64 columns]"
            ]
          },
          "metadata": {
            "tags": []
          },
          "execution_count": 20
        }
      ]
    },
    {
      "cell_type": "markdown",
      "metadata": {
        "id": "h-5QrqiI0fsG"
      },
      "source": [
        "## **Predicting unseen data**"
      ]
    },
    {
      "cell_type": "code",
      "metadata": {
        "id": "81zxqcVuJRUz"
      },
      "source": [
        "# An input function for prediction\r\n",
        "def pred_input(features, batch_size=32):\r\n",
        "  # Convert the inputs to a Dataset without labels\r\n",
        "  return tf.data.Dataset.from_tensor_slices(dict(features)).batch(batc)"
      ],
      "execution_count": null,
      "outputs": []
    }
  ]
}