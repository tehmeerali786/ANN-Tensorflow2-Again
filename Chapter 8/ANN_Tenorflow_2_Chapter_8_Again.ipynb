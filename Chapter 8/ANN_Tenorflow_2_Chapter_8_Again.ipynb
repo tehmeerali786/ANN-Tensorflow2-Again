{
  "nbformat": 4,
  "nbformat_minor": 0,
  "metadata": {
    "colab": {
      "name": "ANN Tenorflow 2 Chapter 8 Again.ipynb",
      "provenance": [],
      "collapsed_sections": []
    },
    "kernelspec": {
      "name": "python3",
      "display_name": "Python 3"
    },
    "accelerator": "GPU"
  },
  "cells": [
    {
      "cell_type": "markdown",
      "metadata": {
        "id": "9ibT60edGu4q"
      },
      "source": [
        "#**NEURAL MACHINE TRANSLATION USING ENCODER DECODER ATTENTION MODEL**\r\n",
        "# Translating from English to Spanish"
      ]
    },
    {
      "cell_type": "code",
      "metadata": {
        "id": "bVTnk7yf5xhw"
      },
      "source": [
        "import tensorflow as tf\r\n",
        "\r\n",
        "from tensorflow.keras.models import Model\r\n",
        "from tensorflow.keras.layers import Input, Dense, LSTM, Embedding, Bidirectional, RepeatVector, Concatenate, Activation, Dot, Lambda\r\n",
        "from tensorflow.keras.preprocessing.text import Tokenizer \r\n",
        "from tensorflow.keras.preprocessing.sequence import pad_sequences\r\n",
        "from keras import preprocessing, utils\r\n",
        "import numpy as np\r\n",
        "import matplotlib.pyplot as plt"
      ],
      "execution_count": null,
      "outputs": []
    },
    {
      "cell_type": "markdown",
      "metadata": {
        "id": "1Q81Ivr_ITPA"
      },
      "source": [
        "# Creating datasets for training \r\n",
        "\r\n",
        "\r\n",
        "\r\n",
        "\r\n",
        "\r\n",
        "\r\n"
      ]
    },
    {
      "cell_type": "code",
      "metadata": {
        "id": "w8yXtVmSGwNF"
      },
      "source": [
        "# reading data\r\n",
        "with open('/content/spa.txt', encoding='utf-8', errors='ignore') as file:\r\n",
        "  text = file.read().split('\\n')"
      ],
      "execution_count": null,
      "outputs": []
    },
    {
      "cell_type": "code",
      "metadata": {
        "colab": {
          "base_uri": "https://localhost:8080/"
        },
        "id": "z_N-qiBbJ-6L",
        "outputId": "20cacd54-ccbf-47ee-99b0-479c1ad34ad0"
      },
      "source": [
        "len(text)"
      ],
      "execution_count": null,
      "outputs": [
        {
          "output_type": "execute_result",
          "data": {
            "text/plain": [
              "122937"
            ]
          },
          "metadata": {
            "tags": []
          },
          "execution_count": 3
        }
      ]
    },
    {
      "cell_type": "code",
      "metadata": {
        "colab": {
          "base_uri": "https://localhost:8080/"
        },
        "id": "zqQ-QfnMMWlr",
        "outputId": "5f64e89e-4e3a-48a1-a7a6-9474356e5e4e"
      },
      "source": [
        "# input and target data is separated by tab '\\t'\r\n",
        "text[:5]"
      ],
      "execution_count": null,
      "outputs": [
        {
          "output_type": "execute_result",
          "data": {
            "text/plain": [
              "['Go.\\tVe.\\tCC-BY 2.0 (France) Attribution: tatoeba.org #2877272 (CM) & #4986655 (cueyayotl)',\n",
              " 'Go.\\tVete.\\tCC-BY 2.0 (France) Attribution: tatoeba.org #2877272 (CM) & #4986656 (cueyayotl)',\n",
              " 'Go.\\tVaya.\\tCC-BY 2.0 (France) Attribution: tatoeba.org #2877272 (CM) & #4986657 (cueyayotl)',\n",
              " 'Go.\\tVáyase.\\tCC-BY 2.0 (France) Attribution: tatoeba.org #2877272 (CM) & #6586271 (arh)',\n",
              " 'Hi.\\tHola.\\tCC-BY 2.0 (France) Attribution: tatoeba.org #538123 (CM) & #431975 (Leono)']"
            ]
          },
          "metadata": {
            "tags": []
          },
          "execution_count": 4
        }
      ]
    },
    {
      "cell_type": "code",
      "metadata": {
        "colab": {
          "base_uri": "https://localhost:8080/"
        },
        "id": "6NrsodEgMcmL",
        "outputId": "7b2657d2-cc0e-4a16-b716-1d584823aa70"
      },
      "source": [
        "for t in text[100:110]:\r\n",
        "  print(t)"
      ],
      "execution_count": null,
      "outputs": [
        {
          "output_type": "stream",
          "text": [
            "Be good.\tSed buenas.\tCC-BY 2.0 (France) Attribution: tatoeba.org #7932304 (Seael) & #7932308 (Seael)\n",
            "Be good.\tSed buenos.\tCC-BY 2.0 (France) Attribution: tatoeba.org #7932304 (Seael) & #7932309 (Seael)\n",
            "Be good.\tSea buena.\tCC-BY 2.0 (France) Attribution: tatoeba.org #7932304 (Seael) & #7932310 (Seael)\n",
            "Be good.\tSea bueno.\tCC-BY 2.0 (France) Attribution: tatoeba.org #7932304 (Seael) & #7932311 (Seael)\n",
            "Be good.\tSean buenas.\tCC-BY 2.0 (France) Attribution: tatoeba.org #7932304 (Seael) & #7932313 (Seael)\n",
            "Be good.\tSean buenos.\tCC-BY 2.0 (France) Attribution: tatoeba.org #7932304 (Seael) & #7932315 (Seael)\n",
            "Be kind.\tSean gentiles.\tCC-BY 2.0 (France) Attribution: tatoeba.org #1916315 (CK) & #2092229 (hayastan)\n",
            "Be nice.\tSé agradable.\tCC-BY 2.0 (France) Attribution: tatoeba.org #1916314 (CK) & #5769224 (arh)\n",
            "Beat it.\tPírate.\tCC-BY 2.0 (France) Attribution: tatoeba.org #37902 (CM) & #5769215 (arh)\n",
            "Call me.\tLlamame.\tCC-BY 2.0 (France) Attribution: tatoeba.org #1553532 (CK) & #1555788 (hayastan)\n"
          ],
          "name": "stdout"
        }
      ]
    },
    {
      "cell_type": "code",
      "metadata": {
        "id": "KszDDYNFMltM"
      },
      "source": [
        "# encoder input\r\n",
        "input_texts = []\r\n",
        "\r\n",
        "# decoder input\r\n",
        "target_texts = []"
      ],
      "execution_count": null,
      "outputs": []
    },
    {
      "cell_type": "code",
      "metadata": {
        "id": "iTdB8dQRNnca"
      },
      "source": [
        "# we will select subset of the whole data\r\n",
        "NUM_SAMPLES = 10000\r\n",
        "\r\n",
        "for line in text[:NUM_SAMPLES]:\r\n",
        "  english, spanish = line.split('\\t')[:2]\r\n",
        "  target_text = spanish.lower()\r\n",
        "  input_texts.append(english.lower())\r\n",
        "  target_texts.append(target_text)"
      ],
      "execution_count": null,
      "outputs": []
    },
    {
      "cell_type": "code",
      "metadata": {
        "colab": {
          "base_uri": "https://localhost:8080/"
        },
        "id": "776ijRxJOgBY",
        "outputId": "ecb01f16-a207-4655-c77f-617b1dda73e2"
      },
      "source": [
        "print(input_texts[:5], target_texts[:5])"
      ],
      "execution_count": null,
      "outputs": [
        {
          "output_type": "stream",
          "text": [
            "['go.', 'go.', 'go.', 'go.', 'hi.'] ['ve.', 'vete.', 'vaya.', 'váyase.', 'hola.']\n"
          ],
          "name": "stdout"
        }
      ]
    },
    {
      "cell_type": "markdown",
      "metadata": {
        "id": "_v2ghbGwPEZd"
      },
      "source": [
        "# Data processing"
      ]
    },
    {
      "cell_type": "code",
      "metadata": {
        "colab": {
          "base_uri": "https://localhost:8080/"
        },
        "id": "bHbaT1J0O2xH",
        "outputId": "9c0d2d2f-44a1-459b-bbcd-2e1954fb7256"
      },
      "source": [
        "import string\r\n",
        "print('Characters to be removed in preprocessing', string.punctuation)"
      ],
      "execution_count": null,
      "outputs": [
        {
          "output_type": "stream",
          "text": [
            "Characters to be removed in preprocessing !\"#$%&'()*+,-./:;<=>?@[\\]^_`{|}~\n"
          ],
          "name": "stdout"
        }
      ]
    },
    {
      "cell_type": "code",
      "metadata": {
        "id": "l2bXh0VjPQ9n"
      },
      "source": [
        "# removing punctuation from target and input\r\n",
        "def remove_punctuation(s):\r\n",
        "  out = s.translate(str.maketrans(\"\", \"\", string.punctuation))\r\n",
        "  return out"
      ],
      "execution_count": null,
      "outputs": []
    },
    {
      "cell_type": "code",
      "metadata": {
        "id": "roR_AmYtP5eW"
      },
      "source": [
        "input_texts = [remove_punctuation(s) for s in input_texts]\r\n",
        "target_texts = [remove_punctuation(s) for s in target_texts]"
      ],
      "execution_count": null,
      "outputs": []
    },
    {
      "cell_type": "code",
      "metadata": {
        "colab": {
          "base_uri": "https://localhost:8080/"
        },
        "id": "O0qTh1SpRtEO",
        "outputId": "6fd8065c-6d65-4da7-ca97-1f7342673d43"
      },
      "source": [
        "input_texts[:5], target_texts[:5]"
      ],
      "execution_count": null,
      "outputs": [
        {
          "output_type": "execute_result",
          "data": {
            "text/plain": [
              "(['go', 'go', 'go', 'go', 'hi'], ['ve', 'vete', 'vaya', 'váyase', 'hola'])"
            ]
          },
          "metadata": {
            "tags": []
          },
          "execution_count": 12
        }
      ]
    },
    {
      "cell_type": "code",
      "metadata": {
        "id": "fzyhqdhPQMWW"
      },
      "source": [
        "# adding start and end tags\r\n",
        "target_texts = ['<start> ' + s + ' <end>' for s in target_texts]"
      ],
      "execution_count": null,
      "outputs": []
    },
    {
      "cell_type": "code",
      "metadata": {
        "colab": {
          "base_uri": "https://localhost:8080/",
          "height": 35
        },
        "id": "AeubA2deRZLz",
        "outputId": "e17c4a9e-bb99-4038-ffa6-2bb697f1bc62"
      },
      "source": [
        "target_texts[1]"
      ],
      "execution_count": null,
      "outputs": [
        {
          "output_type": "execute_result",
          "data": {
            "application/vnd.google.colaboratory.intrinsic+json": {
              "type": "string"
            },
            "text/plain": [
              "'<start> vete <end>'"
            ]
          },
          "metadata": {
            "tags": []
          },
          "execution_count": 14
        }
      ]
    },
    {
      "cell_type": "markdown",
      "metadata": {
        "id": "0DfcF08JWBGN"
      },
      "source": [
        "# Tokenizing Input dataset"
      ]
    },
    {
      "cell_type": "code",
      "metadata": {
        "id": "V7TB9AA0V_7v"
      },
      "source": [
        "tokenizer_in = Tokenizer()\r\n",
        "# tokenizing the input texts\r\n",
        "tokenizer_in.fit_on_texts(input_texts)\r\n",
        "# vocab size of input\r\n",
        "input_vocab_size = len(tokenizer_in.word_index) + 1"
      ],
      "execution_count": null,
      "outputs": []
    },
    {
      "cell_type": "code",
      "metadata": {
        "colab": {
          "base_uri": "https://localhost:8080/"
        },
        "id": "IyaEXfOiWAEB",
        "outputId": "00879ca0-e901-4234-cb51-c541eba2801d"
      },
      "source": [
        "input_vocab_size"
      ],
      "execution_count": null,
      "outputs": [
        {
          "output_type": "execute_result",
          "data": {
            "text/plain": [
              "2332"
            ]
          },
          "metadata": {
            "tags": []
          },
          "execution_count": 16
        }
      ]
    },
    {
      "cell_type": "code",
      "metadata": {
        "colab": {
          "base_uri": "https://localhost:8080/"
        },
        "id": "1mZhuPSeWAJa",
        "outputId": "3b18735c-13a6-4783-99df-8cd4d6892aa7"
      },
      "source": [
        "# Listing few items\r\n",
        "input_tokens = tokenizer_in.index_word\r\n",
        "for k, v in sorted(input_tokens.items())[2000:2010]:\r\n",
        "  print(k, v)"
      ],
      "execution_count": null,
      "outputs": [
        {
          "output_type": "stream",
          "text": [
            "2001 sauce\n",
            "2002 doctors\n",
            "2003 plenty\n",
            "2004 usually\n",
            "2005 credible\n",
            "2006 hopeless\n",
            "2007 starving\n",
            "2008 concept\n",
            "2009 country\n",
            "2010 thought\n"
          ],
          "name": "stdout"
        }
      ]
    },
    {
      "cell_type": "code",
      "metadata": {
        "id": "kRK-8AC4WANs"
      },
      "source": [
        ""
      ],
      "execution_count": null,
      "outputs": []
    },
    {
      "cell_type": "markdown",
      "metadata": {
        "id": "GzDOpkL-SzBU"
      },
      "source": [
        "# Tokenizing Output dataset\r\n",
        "\r\n",
        "\r\n"
      ]
    },
    {
      "cell_type": "code",
      "metadata": {
        "colab": {
          "base_uri": "https://localhost:8080/"
        },
        "id": "vh2seB4BRbyz",
        "outputId": "77074a22-efee-4886-e9c1-0415abfe0282"
      },
      "source": [
        "# tokenizing output that is spanish translation\r\n",
        "tokenizer_out = Tokenizer(filters='')\r\n",
        "tokenizer_out.fit_on_texts(target_texts)\r\n",
        "# vocab size of output\r\n",
        "output_vocab_size = len(tokenizer_out.word_index) + 1\r\n",
        "output_vocab_size"
      ],
      "execution_count": null,
      "outputs": [
        {
          "output_type": "execute_result",
          "data": {
            "text/plain": [
              "4964"
            ]
          },
          "metadata": {
            "tags": []
          },
          "execution_count": 18
        }
      ]
    },
    {
      "cell_type": "code",
      "metadata": {
        "colab": {
          "base_uri": "https://localhost:8080/"
        },
        "id": "me1k89UMUKq_",
        "outputId": "dcdcdf9a-16c0-4a15-e6eb-2003175acd24"
      },
      "source": [
        "# Listing view items\r\n",
        "output_tokens = tokenizer_out.index_word\r\n",
        "for k, v in sorted(output_tokens.items())[2000:2010]:\r\n",
        "  print(k, v)"
      ],
      "execution_count": null,
      "outputs": [
        {
          "output_type": "stream",
          "text": [
            "2001 suyos\n",
            "2002 ley\n",
            "2003 palabras\n",
            "2004 ausente\n",
            "2005 delgaducho\n",
            "2006 sucio\n",
            "2007 adoptado\n",
            "2008 violento\n",
            "2009 roncando\n",
            "2010 podríamos\n"
          ],
          "name": "stdout"
        }
      ]
    },
    {
      "cell_type": "markdown",
      "metadata": {
        "id": "CoE1RSolVaCq"
      },
      "source": [
        "#Creating input sequences"
      ]
    },
    {
      "cell_type": "code",
      "metadata": {
        "id": "_mCOJ_pLUzzs"
      },
      "source": [
        "# converting tokenized sentence into sequences\r\n",
        "tokenized_input = tokenizer_in.texts_to_sequences( input_texts )\r\n",
        "# max length of the input \r\n",
        "maxlen_input = max( [len(x) for x in tokenized_input] )\r\n",
        "# padding sequences to maximum length \r\n",
        "padded_input = preprocessing.sequence.pad_sequences( tokenized_input, maxlen=maxlen_input, padding='post')\r\n",
        "\r\n"
      ],
      "execution_count": null,
      "outputs": []
    },
    {
      "cell_type": "code",
      "metadata": {
        "colab": {
          "base_uri": "https://localhost:8080/"
        },
        "id": "mzx7pFBuYWez",
        "outputId": "590d9eb9-e9c7-431b-dacc-d56400cb196d"
      },
      "source": [
        "padded_input[2000:2010]"
      ],
      "execution_count": null,
      "outputs": [
        {
          "output_type": "execute_result",
          "data": {
            "text/plain": [
              "array([[  1, 613, 195,   0,   0],\n",
              "       [  1,  54, 109,   0,   0],\n",
              "       [  1,  54, 109,   0,   0],\n",
              "       [  1,  54, 109,   0,   0],\n",
              "       [  1,  54, 182,   0,   0],\n",
              "       [  1,  54,  14,   0,   0],\n",
              "       [  1,  54,  98,   0,   0],\n",
              "       [  1,  54,  98,   0,   0],\n",
              "       [  1,  54,  10,   0,   0],\n",
              "       [  1,  54,  10,   0,   0]], dtype=int32)"
            ]
          },
          "metadata": {
            "tags": []
          },
          "execution_count": 21
        }
      ]
    },
    {
      "cell_type": "code",
      "metadata": {
        "colab": {
          "base_uri": "https://localhost:8080/"
        },
        "id": "ckhiHq4JYZrW",
        "outputId": "7bb7decf-4618-4854-d5e0-c83a472336d4"
      },
      "source": [
        "encoder_input_data = np.array( padded_input )\r\n",
        "print( encoder_input_data.shape )"
      ],
      "execution_count": null,
      "outputs": [
        {
          "output_type": "stream",
          "text": [
            "(10000, 5)\n"
          ],
          "name": "stdout"
        }
      ]
    },
    {
      "cell_type": "markdown",
      "metadata": {
        "id": "KZLd24vwZnLY"
      },
      "source": [
        "# Creating output sequences"
      ]
    },
    {
      "cell_type": "code",
      "metadata": {
        "id": "emZThx_BZflE"
      },
      "source": [
        "# converting tokenized text into sequences\r\n",
        "tokenized_output = tokenizer_out.texts_to_sequences(target_texts)"
      ],
      "execution_count": null,
      "outputs": []
    },
    {
      "cell_type": "code",
      "metadata": {
        "colab": {
          "base_uri": "https://localhost:8080/"
        },
        "id": "e74DkIJ3Z3_1",
        "outputId": "55266384-572b-41a2-911a-0dda0dd23f40"
      },
      "source": [
        "output_vocab_size = len(tokenizer_out.word_index) + 1\r\n",
        "output_vocab_size"
      ],
      "execution_count": null,
      "outputs": [
        {
          "output_type": "execute_result",
          "data": {
            "text/plain": [
              "4964"
            ]
          },
          "metadata": {
            "tags": []
          },
          "execution_count": 24
        }
      ]
    },
    {
      "cell_type": "code",
      "metadata": {
        "colab": {
          "base_uri": "https://localhost:8080/"
        },
        "id": "pHcQGLdwajoS",
        "outputId": "ade8a4cd-d9df-4dbc-d59d-3fb019c70cf2"
      },
      "source": [
        "# teacher forcing \r\n",
        "for i in range(len(tokenized_output)):\r\n",
        "  if i == 1:\r\n",
        "    print(tokenized_output[i])\r\n",
        "    print(tokenized_output[i][1:])\r\n",
        "  tokenized_output[i] = tokenized_output[i][1:]\r\n"
      ],
      "execution_count": null,
      "outputs": [
        {
          "output_type": "stream",
          "text": [
            "[1, 235, 2]\n",
            "[235, 2]\n"
          ],
          "name": "stdout"
        }
      ]
    },
    {
      "cell_type": "code",
      "metadata": {
        "id": "GpHBSWGPbLkB"
      },
      "source": [
        "# padding\r\n",
        "maxlen_output = max( [ len(x) for x in tokenized_output] )\r\n",
        "padded_output = preprocessing.sequence.pad_sequences( tokenized_output, maxlen=maxlen_output, padding='post')"
      ],
      "execution_count": null,
      "outputs": []
    },
    {
      "cell_type": "code",
      "metadata": {
        "colab": {
          "base_uri": "https://localhost:8080/"
        },
        "id": "UOU0L2d9cV4D",
        "outputId": "e66689e9-8598-440b-c0d4-a06a905d227f"
      },
      "source": [
        "# converting to numpy \r\n",
        "decoder_input_data = np.array( padded_output )\r\n",
        "decoder_input_data[2000:2010]"
      ],
      "execution_count": null,
      "outputs": [
        {
          "output_type": "execute_result",
          "data": {
            "text/plain": [
              "array([[  11, 1147,   26,  108,    2,    0,    0,    0,    0],\n",
              "       [  51,   17,  135,    2,    0,    0,    0,    0,    0],\n",
              "       [  11,   51,   17,  135,    2,    0,    0,    0,    0],\n",
              "       [  11,   51,   13,  224,    2,    0,    0,    0,    0],\n",
              "       [  51,   59,    2,    0,    0,    0,    0,    0,    0],\n",
              "       [  51,   20,    2,    0,    0,    0,    0,    0,    0],\n",
              "       [  28,   51,    2,    0,    0,    0,    0,    0,    0],\n",
              "       [  37,   51,    2,    0,    0,    0,    0,    0,    0],\n",
              "       [  51,   88,    2,    0,    0,    0,    0,    0,    0],\n",
              "       [  51,   19,    2,    0,    0,    0,    0,    0,    0]],\n",
              "      dtype=int32)"
            ]
          },
          "metadata": {
            "tags": []
          },
          "execution_count": 27
        }
      ]
    },
    {
      "cell_type": "code",
      "metadata": {
        "id": "j4gO_PKDckpu"
      },
      "source": [
        "# decoder target output \r\n",
        "decoder_target_one_hot = np.zeros((len(input_texts), maxlen_output, output_vocab_size), dtype='float32')"
      ],
      "execution_count": null,
      "outputs": []
    },
    {
      "cell_type": "code",
      "metadata": {
        "id": "fFw6o04sdZqN"
      },
      "source": [
        "for i, d in enumerate(padded_output):\r\n",
        "  for t, word in enumerate(d):\r\n",
        "    decoder_target_one_hot[i, t, word] = 1"
      ],
      "execution_count": null,
      "outputs": []
    },
    {
      "cell_type": "code",
      "metadata": {
        "colab": {
          "base_uri": "https://localhost:8080/"
        },
        "id": "z6a0yxfld079",
        "outputId": "0f4b8dbc-3f1c-4aff-909e-0374bd47b539"
      },
      "source": [
        "decoder_target_one_hot[0]"
      ],
      "execution_count": null,
      "outputs": [
        {
          "output_type": "execute_result",
          "data": {
            "text/plain": [
              "array([[0., 0., 0., ..., 0., 0., 0.],\n",
              "       [0., 0., 1., ..., 0., 0., 0.],\n",
              "       [1., 0., 0., ..., 0., 0., 0.],\n",
              "       ...,\n",
              "       [1., 0., 0., ..., 0., 0., 0.],\n",
              "       [1., 0., 0., ..., 0., 0., 0.],\n",
              "       [1., 0., 0., ..., 0., 0., 0.]], dtype=float32)"
            ]
          },
          "metadata": {
            "tags": []
          },
          "execution_count": 30
        }
      ]
    },
    {
      "cell_type": "markdown",
      "metadata": {
        "id": "ADzuk9ubtkwd"
      },
      "source": [
        "# The input sequence is first fed to the embedding layer which converts the words in the input sequences into word vectors. These word vectors are then passed as input to the encoder layer.\r\n",
        " "
      ]
    },
    {
      "cell_type": "markdown",
      "metadata": {
        "id": "Aa-5CYQDt_mL"
      },
      "source": [
        "# Downloading word embedding\r\n",
        "#### If you have not downloaded the Glove word embedding to your Google drive, uncomment the following lines to download the file."
      ]
    },
    {
      "cell_type": "code",
      "metadata": {
        "colab": {
          "base_uri": "https://localhost:8080/"
        },
        "id": "j4Eld1O2d4Qs",
        "outputId": "4ad601bd-0e93-4a91-e39c-a0e2ab416997"
      },
      "source": [
        "!wget http://nlp.stanford.edu/data/glove.6B.zip #downloading glove word embedding layer\r\n",
        "!unzip glove*.zip "
      ],
      "execution_count": null,
      "outputs": [
        {
          "output_type": "stream",
          "text": [
            "--2021-02-18 21:45:16--  http://nlp.stanford.edu/data/glove.6B.zip\n",
            "Resolving nlp.stanford.edu (nlp.stanford.edu)... 171.64.67.140\n",
            "Connecting to nlp.stanford.edu (nlp.stanford.edu)|171.64.67.140|:80... connected.\n",
            "HTTP request sent, awaiting response... 302 Found\n",
            "Location: https://nlp.stanford.edu/data/glove.6B.zip [following]\n",
            "--2021-02-18 21:45:17--  https://nlp.stanford.edu/data/glove.6B.zip\n",
            "Connecting to nlp.stanford.edu (nlp.stanford.edu)|171.64.67.140|:443... connected.\n",
            "HTTP request sent, awaiting response... 301 Moved Permanently\n",
            "Location: http://downloads.cs.stanford.edu/nlp/data/glove.6B.zip [following]\n",
            "--2021-02-18 21:45:17--  http://downloads.cs.stanford.edu/nlp/data/glove.6B.zip\n",
            "Resolving downloads.cs.stanford.edu (downloads.cs.stanford.edu)... 171.64.64.22\n",
            "Connecting to downloads.cs.stanford.edu (downloads.cs.stanford.edu)|171.64.64.22|:80... connected.\n",
            "HTTP request sent, awaiting response... 200 OK\n",
            "Length: 862182613 (822M) [application/zip]\n",
            "Saving to: ‘glove.6B.zip’\n",
            "\n",
            "glove.6B.zip        100%[===================>] 822.24M  2.01MB/s    in 6m 51s  \n",
            "\n",
            "2021-02-18 21:52:08 (2.00 MB/s) - ‘glove.6B.zip’ saved [862182613/862182613]\n",
            "\n",
            "Archive:  glove.6B.zip\n",
            "  inflating: glove.6B.50d.txt        \n",
            "  inflating: glove.6B.100d.txt       \n",
            "  inflating: glove.6B.200d.txt       \n",
            "  inflating: glove.6B.300d.txt       \n"
          ],
          "name": "stdout"
        }
      ]
    },
    {
      "cell_type": "markdown",
      "metadata": {
        "id": "zvhGPxDCv9Dq"
      },
      "source": [
        "# Word to Vectors dictionary\r\n",
        "\r\n",
        "\r\n"
      ]
    },
    {
      "cell_type": "code",
      "metadata": {
        "colab": {
          "base_uri": "https://localhost:8080/"
        },
        "id": "UVwgPg0ouMTy",
        "outputId": "a7016a25-78b5-42bf-c797-fb649dac84fe"
      },
      "source": [
        "# Creating dictionary of words corresponding to vectors\r\n",
        "print(\"Indexing word vectors.\")\r\n",
        "\r\n",
        "# Use this one in case downloading using wge above\r\n",
        "f = open('glove.6B.200d.txt', encoding='utf-8')"
      ],
      "execution_count": null,
      "outputs": [
        {
          "output_type": "stream",
          "text": [
            "Indexing word vectors.\n"
          ],
          "name": "stdout"
        }
      ]
    },
    {
      "cell_type": "code",
      "metadata": {
        "id": "DsBtrGTMw3_U"
      },
      "source": [
        "embeddings_index = {}\r\n",
        "for line in f:\r\n",
        "  values = line.split()\r\n",
        "  word = values[0]\r\n",
        "  coefs = np.asarray(values[1:], dtype='float32')\r\n",
        "  embeddings_index[word] = coefs\r\n",
        "\r\n",
        "f.close()\r\n",
        "\r\n"
      ],
      "execution_count": null,
      "outputs": []
    },
    {
      "cell_type": "code",
      "metadata": {
        "colab": {
          "base_uri": "https://localhost:8080/"
        },
        "id": "n1yrn4P4xcR6",
        "outputId": "d5477d66-1eff-4e3b-af0e-efd9a6cf47f5"
      },
      "source": [
        "print('Found %s word vectors.' % len(embeddings_index))"
      ],
      "execution_count": null,
      "outputs": [
        {
          "output_type": "stream",
          "text": [
            "Found 400000 word vectors.\n"
          ],
          "name": "stdout"
        }
      ]
    },
    {
      "cell_type": "code",
      "metadata": {
        "colab": {
          "base_uri": "https://localhost:8080/"
        },
        "id": "x_vIrkSNxyTK",
        "outputId": "5ad49fd5-8be7-43be-8359-74df5355c161"
      },
      "source": [
        "embeddings_index['any']"
      ],
      "execution_count": null,
      "outputs": [
        {
          "output_type": "execute_result",
          "data": {
            "text/plain": [
              "array([ 6.3113e-01,  4.3183e-01,  2.3103e-01, -6.4909e-01,  2.3744e-01,\n",
              "        4.4619e-01, -8.6148e-01,  2.9341e-01,  8.0033e-02,  8.5633e-03,\n",
              "        1.0165e-01,  6.2783e-01,  2.5047e-01,  5.2425e-02,  6.3045e-01,\n",
              "       -4.0008e-02,  2.5212e-01,  6.2147e-01,  6.6967e-02, -7.9787e-02,\n",
              "       -2.1607e-02,  3.4236e+00, -4.7925e-02,  2.4620e-01, -2.8834e-02,\n",
              "        4.0330e-02, -2.7858e-01, -2.7939e-01,  3.5606e-01, -5.7373e-01,\n",
              "       -9.9960e-02, -3.2374e-01,  1.7812e-01,  2.0671e-02,  2.3637e-01,\n",
              "       -1.7074e-01, -4.9345e-01, -4.0289e-01, -3.4184e-01, -1.9405e-01,\n",
              "        4.2506e-01, -3.0081e-01,  1.9997e-01,  6.7150e-01, -1.0461e-01,\n",
              "       -8.7182e-03, -4.4562e-02,  1.7045e-01,  6.5912e-01,  8.9096e-02,\n",
              "       -1.4178e-01, -5.8817e-01, -2.9699e-01,  4.5901e-01,  6.1475e-01,\n",
              "        2.2455e-01,  2.8778e-01, -8.0486e-02, -1.6625e-01,  4.9791e-01,\n",
              "       -1.0441e-02, -1.7307e-01, -1.1364e-01, -1.7177e-01,  6.5001e-01,\n",
              "       -2.0709e-01, -2.5923e-03,  6.8332e-01,  1.3556e-01,  4.2812e-01,\n",
              "        7.3191e-01,  9.6278e-02, -1.3272e-01, -2.5073e-01, -2.8397e-01,\n",
              "        4.2765e-01, -2.2704e-01, -9.0328e-01,  1.3683e-01, -2.2358e-01,\n",
              "        7.0136e-02, -6.2926e-02,  3.0040e-01,  1.6226e-01,  7.0656e-03,\n",
              "       -3.0515e-01, -3.3873e-01, -3.4821e-01,  4.5319e-01, -1.2759e+00,\n",
              "        3.5765e-01,  2.8696e-01,  9.5111e-01,  4.9315e-02, -1.0982e-01,\n",
              "       -1.0340e-01, -7.7415e-02,  1.2165e-01, -4.0848e-01,  5.1662e-03,\n",
              "        5.0023e-01,  3.0727e-02, -3.6101e-02, -2.3839e-01, -6.9315e-02,\n",
              "       -3.6846e-02, -2.1026e-02,  1.1545e+00, -7.4401e-02, -2.9412e-01,\n",
              "       -3.4114e-02, -4.6706e-01,  2.0023e-01, -7.7832e-03,  3.5352e-01,\n",
              "       -5.9343e-02,  1.3922e-01, -8.5423e-01, -1.4959e-01, -1.4127e-01,\n",
              "        3.4172e-01,  3.1567e-01,  3.2408e-01,  1.6529e-01, -3.7918e-01,\n",
              "       -2.4857e-01,  2.2490e-01,  3.4110e-01,  2.5160e-01, -1.9514e-01,\n",
              "       -9.2207e-01,  6.1380e-01,  2.6206e-02, -3.9753e-01, -7.4722e-02,\n",
              "        1.7763e-01, -1.1809e-01, -2.3232e-01, -1.3906e-01, -4.5938e-01,\n",
              "        5.2323e-02,  1.7218e-01,  4.3271e-01, -2.3432e-01,  1.3041e+00,\n",
              "        9.5481e-02, -9.7652e-02,  1.6550e-02, -2.0664e-01, -1.7194e-01,\n",
              "       -4.2629e-01,  7.8176e-01, -3.8817e-01,  3.0179e-01, -2.4771e-01,\n",
              "       -1.3819e-01,  4.3340e-02,  1.2504e-01, -1.8626e-01,  2.0074e-01,\n",
              "       -1.6998e-01, -4.6707e-02,  4.8090e-01, -1.8230e-01, -4.7500e-01,\n",
              "        1.3439e-01, -3.1879e-01,  1.1585e-01, -6.8483e-01,  9.3870e-01,\n",
              "        4.9493e-02,  9.8050e-02, -3.5161e-01, -1.7529e-02,  1.3332e-01,\n",
              "       -1.4423e-01, -2.9472e-01,  4.9777e-01,  1.5164e-01,  1.3853e-02,\n",
              "        1.0823e+00, -1.3419e-01, -4.4366e-03, -2.8620e-01,  5.2703e-02,\n",
              "       -4.6192e-02, -8.5992e-02,  2.5092e-01,  3.0081e-01,  3.2117e-01,\n",
              "       -3.6467e-01, -1.4922e-01,  2.5013e-02, -5.4957e-02, -1.4740e-02,\n",
              "        2.2784e-01,  4.8475e-02, -7.4814e-02, -1.2299e-01, -1.1001e-01],\n",
              "      dtype=float32)"
            ]
          },
          "metadata": {
            "tags": []
          },
          "execution_count": 35
        }
      ]
    },
    {
      "cell_type": "markdown",
      "metadata": {
        "id": "JPwUrqNIzDnk"
      },
      "source": [
        "## Extracting for our input vocabulary"
      ]
    },
    {
      "cell_type": "code",
      "metadata": {
        "id": "qyjzM82Zx2I5"
      },
      "source": [
        "# embedding matrix\r\n",
        "num_words = len(tokenizer_in.word_index) + 1"
      ],
      "execution_count": null,
      "outputs": []
    },
    {
      "cell_type": "code",
      "metadata": {
        "colab": {
          "base_uri": "https://localhost:8080/"
        },
        "id": "nmAsg4Hz1gpV",
        "outputId": "d4501cda-14ff-4b98-8bd5-27de632007c2"
      },
      "source": [
        "type(tokenizer_in.word_index)"
      ],
      "execution_count": null,
      "outputs": [
        {
          "output_type": "execute_result",
          "data": {
            "text/plain": [
              "dict"
            ]
          },
          "metadata": {
            "tags": []
          },
          "execution_count": 37
        }
      ]
    },
    {
      "cell_type": "code",
      "metadata": {
        "id": "qIHSFLfL1jxy"
      },
      "source": [
        "word2idx_input = tokenizer_in.word_index"
      ],
      "execution_count": null,
      "outputs": []
    },
    {
      "cell_type": "code",
      "metadata": {
        "colab": {
          "base_uri": "https://localhost:8080/"
        },
        "id": "iqgxHVsn1wwR",
        "outputId": "a7c494a8-3a88-412b-cfea-b184572368ea"
      },
      "source": [
        "num_words"
      ],
      "execution_count": null,
      "outputs": [
        {
          "output_type": "execute_result",
          "data": {
            "text/plain": [
              "2332"
            ]
          },
          "metadata": {
            "tags": []
          },
          "execution_count": 39
        }
      ]
    },
    {
      "cell_type": "code",
      "metadata": {
        "id": "tV1ZAqJt10jx"
      },
      "source": [
        "embedding_matrix = np.zeros((num_words, 200))"
      ],
      "execution_count": null,
      "outputs": []
    },
    {
      "cell_type": "code",
      "metadata": {
        "colab": {
          "base_uri": "https://localhost:8080/"
        },
        "id": "RQvkAoS-17yR",
        "outputId": "f5e8b352-0fae-4093-fde5-bfcdc4ee2a6c"
      },
      "source": [
        "embedding_index = {}\r\n",
        "\r\n",
        "for word, i in word2idx_input.items():\r\n",
        "  \r\n",
        "  if i < num_words:\r\n",
        "    if i < 2:\r\n",
        "      print(word, i)\r\n",
        "      embedding_vector = embedding_index.get(word)\r\n",
        "      print(embedding_vector)\r\n",
        "\r\n",
        "  "
      ],
      "execution_count": null,
      "outputs": [
        {
          "output_type": "stream",
          "text": [
            "i 1\n",
            "None\n"
          ],
          "name": "stdout"
        }
      ]
    },
    {
      "cell_type": "code",
      "metadata": {
        "colab": {
          "base_uri": "https://localhost:8080/"
        },
        "id": "5-c2m9zr3I0q",
        "outputId": "f0cdfa5e-077d-4959-8ded-51f501e9187a"
      },
      "source": [
        "for word, i in word2idx_input.items():\r\n",
        "  \r\n",
        "  if i < num_words:\r\n",
        "    embedding_vector = embedding_index.get(word)\r\n",
        "  if embedding_vector is not None:\r\n",
        "    embedding_matrix[i] = embedding_vector \r\n",
        "\r\n",
        "\r\n",
        "embedding_matrix.shape\r\n",
        "      \r\n"
      ],
      "execution_count": null,
      "outputs": [
        {
          "output_type": "execute_result",
          "data": {
            "text/plain": [
              "(2332, 200)"
            ]
          },
          "metadata": {
            "tags": []
          },
          "execution_count": 42
        }
      ]
    },
    {
      "cell_type": "code",
      "metadata": {
        "colab": {
          "base_uri": "https://localhost:8080/"
        },
        "id": "cNZ4oLKf4E2R",
        "outputId": "c464bba0-1fbc-4684-cb88-9c429ce8be83"
      },
      "source": [
        "embedding_matrix[1]"
      ],
      "execution_count": null,
      "outputs": [
        {
          "output_type": "execute_result",
          "data": {
            "text/plain": [
              "array([0., 0., 0., 0., 0., 0., 0., 0., 0., 0., 0., 0., 0., 0., 0., 0., 0.,\n",
              "       0., 0., 0., 0., 0., 0., 0., 0., 0., 0., 0., 0., 0., 0., 0., 0., 0.,\n",
              "       0., 0., 0., 0., 0., 0., 0., 0., 0., 0., 0., 0., 0., 0., 0., 0., 0.,\n",
              "       0., 0., 0., 0., 0., 0., 0., 0., 0., 0., 0., 0., 0., 0., 0., 0., 0.,\n",
              "       0., 0., 0., 0., 0., 0., 0., 0., 0., 0., 0., 0., 0., 0., 0., 0., 0.,\n",
              "       0., 0., 0., 0., 0., 0., 0., 0., 0., 0., 0., 0., 0., 0., 0., 0., 0.,\n",
              "       0., 0., 0., 0., 0., 0., 0., 0., 0., 0., 0., 0., 0., 0., 0., 0., 0.,\n",
              "       0., 0., 0., 0., 0., 0., 0., 0., 0., 0., 0., 0., 0., 0., 0., 0., 0.,\n",
              "       0., 0., 0., 0., 0., 0., 0., 0., 0., 0., 0., 0., 0., 0., 0., 0., 0.,\n",
              "       0., 0., 0., 0., 0., 0., 0., 0., 0., 0., 0., 0., 0., 0., 0., 0., 0.,\n",
              "       0., 0., 0., 0., 0., 0., 0., 0., 0., 0., 0., 0., 0., 0., 0., 0., 0.,\n",
              "       0., 0., 0., 0., 0., 0., 0., 0., 0., 0., 0., 0., 0.])"
            ]
          },
          "metadata": {
            "tags": []
          },
          "execution_count": 43
        }
      ]
    },
    {
      "cell_type": "markdown",
      "metadata": {
        "id": "gUCURs2E5RQk"
      },
      "source": [
        "## Embedding layer"
      ]
    },
    {
      "cell_type": "code",
      "metadata": {
        "id": "Ww5vbAfY4Ked"
      },
      "source": [
        "# lstm hidden dimensions\r\n",
        "LATENT_DIM = 256\r\n",
        "\r\n",
        "# embedding layer dimensions\r\n",
        "EMBEDDING_DIM = 200"
      ],
      "execution_count": null,
      "outputs": []
    },
    {
      "cell_type": "code",
      "metadata": {
        "id": "pLmPos495hwm"
      },
      "source": [
        "embedding_layer = Embedding(input_vocab_size, EMBEDDING_DIM, weights=[embedding_matrix], input_length=maxlen_input)"
      ],
      "execution_count": null,
      "outputs": []
    },
    {
      "cell_type": "markdown",
      "metadata": {
        "id": "-T9BQw0d2vGb"
      },
      "source": [
        "# Defining Encoder"
      ]
    },
    {
      "cell_type": "code",
      "metadata": {
        "id": "Avxh3Cst51yK"
      },
      "source": [
        "# encoder \r\n",
        "encoder_inputs = Input(shape=(maxlen_input), name='encoderinput')\r\n",
        "encoder_input = embedding_layer(encoder_inputs)\r\n",
        "encoder = Bidirectional(LSTM(LATENT_DIM, return_sequences=True, dropout=0.3), name='encoder_bidirection')\r\n",
        "encoder_outputs = encoder(encoder_input)"
      ],
      "execution_count": null,
      "outputs": []
    },
    {
      "cell_type": "code",
      "metadata": {
        "colab": {
          "base_uri": "https://localhost:8080/"
        },
        "id": "nTrc0zicAXaC",
        "outputId": "2631de32-a053-46a0-cae2-6d5e545ca146"
      },
      "source": [
        "encoder_outputs.shape"
      ],
      "execution_count": null,
      "outputs": [
        {
          "output_type": "execute_result",
          "data": {
            "text/plain": [
              "TensorShape([None, 5, 512])"
            ]
          },
          "metadata": {
            "tags": []
          },
          "execution_count": 47
        }
      ]
    },
    {
      "cell_type": "markdown",
      "metadata": {
        "id": "ZHWcBQlhB-00"
      },
      "source": [
        "# Decoder Network"
      ]
    },
    {
      "cell_type": "code",
      "metadata": {
        "id": "3as68HfJB2JV"
      },
      "source": [
        "decoder_inputs = Input(shape=(maxlen_output,), name='decoder_input')\r\n",
        "decoder_embedding = Embedding(output_vocab_size, EMBEDDING_DIM, name='decoder_embedding')\r\n",
        "decoder_input = decoder_embedding(decoder_inputs) \r\n",
        "\r\n"
      ],
      "execution_count": null,
      "outputs": []
    },
    {
      "cell_type": "code",
      "metadata": {
        "id": "K-jQl6mBDIwO",
        "colab": {
          "base_uri": "https://localhost:8080/"
        },
        "outputId": "f14b5735-d934-4309-a247-8ac7dedbcbe5"
      },
      "source": [
        "decoder_input.shape"
      ],
      "execution_count": null,
      "outputs": [
        {
          "output_type": "execute_result",
          "data": {
            "text/plain": [
              "TensorShape([None, 9, 200])"
            ]
          },
          "metadata": {
            "tags": []
          },
          "execution_count": 49
        }
      ]
    },
    {
      "cell_type": "markdown",
      "metadata": {
        "id": "5HZwMqjOMBpS"
      },
      "source": [
        "## Defining Decoder layers"
      ]
    },
    {
      "cell_type": "code",
      "metadata": {
        "id": "_vWGUL7IL3qE"
      },
      "source": [
        "# decoder lstm\r\n",
        "decoder_lstm = LSTM(LATENT_DIM, return_state=True, name='decoder_lstm')\r\n",
        "\r\n",
        "# decoder dense with softmax for pedicting each word \r\n",
        "decoder_dense = Dense(output_vocab_size, activation='softmax', name='decoder_dense')"
      ],
      "execution_count": null,
      "outputs": []
    },
    {
      "cell_type": "markdown",
      "metadata": {
        "id": "W8gFlmA9Qz93"
      },
      "source": [
        "# Attention Network"
      ]
    },
    {
      "cell_type": "markdown",
      "metadata": {
        "id": "DNOIcpojR4Wf"
      },
      "source": [
        "## Defining Softmax layer"
      ]
    },
    {
      "cell_type": "code",
      "metadata": {
        "id": "GcJDAG2AQgto"
      },
      "source": [
        "# Computing alphas\r\n",
        "import tensorflow.keras.backend as k\r\n",
        "def softmax_attention(x):\r\n",
        "  assert(k.ndim(x) > 2)\r\n",
        "\r\n",
        "  e = k.exp(x-k.max(x, axis=1, keepdims=True))\r\n",
        "  s = k.sum(e, axis=1, keepdims=True)\r\n",
        "  return e/s"
      ],
      "execution_count": null,
      "outputs": []
    },
    {
      "cell_type": "markdown",
      "metadata": {
        "id": "JQqQtB1WSipN"
      },
      "source": [
        "# Attention Layers"
      ]
    },
    {
      "cell_type": "code",
      "metadata": {
        "id": "hypzTn5jSekO"
      },
      "source": [
        "# neural network layers for our repeated one\r\n",
        "attention_repeat = RepeatVector(maxlen_input)\r\n",
        "attention_concat = Concatenate(axis=-1)\r\n",
        "dense1_layer = Dense(10, activation='tanh')\r\n",
        "dense2_layer = Dense(1, activation= softmax_attention)\r\n",
        "dot_layer = Dot(axes=1)"
      ],
      "execution_count": null,
      "outputs": []
    },
    {
      "cell_type": "code",
      "metadata": {
        "id": "Jef_W7S9cJOC"
      },
      "source": [
        "# computing attention context\r\n",
        "def context_attention(h, st_1):\r\n",
        "  st_1 = attention_repeat(st_1)\r\n",
        "  x = attention_concat([h, st_1])\r\n",
        "  x=dense1_layer(x)\r\n",
        "  alphas = dense2_layer(x)\r\n",
        "  context= dot_layer([alphas, h])\r\n",
        "  return context"
      ],
      "execution_count": null,
      "outputs": []
    },
    {
      "cell_type": "markdown",
      "metadata": {
        "id": "b0izIivMTVhQ"
      },
      "source": [
        "# Collecting outputs"
      ]
    },
    {
      "cell_type": "code",
      "metadata": {
        "id": "VEI6V-seTUl6"
      },
      "source": [
        "# initial states to be fed\r\n",
        "initial_s = Input(shape=(LATENT_DIM,), name='s0')\r\n",
        "initial_c = Input(shape=(LATENT_DIM, ), name='c0')\r\n",
        "context_last_word_concat_layer = Concatenate(axis=2)"
      ],
      "execution_count": null,
      "outputs": []
    },
    {
      "cell_type": "code",
      "metadata": {
        "id": "hFohQRJETGxb"
      },
      "source": [
        "s = initial_s\r\n",
        "c = initial_c\r\n",
        "outputs = []\r\n",
        "\r\n",
        "# collect output in a list at first\r\n",
        "# ty times\r\n",
        "for t in range(maxlen_output):\r\n",
        "  # get the context using attention mechanism\r\n",
        "  context = context_attention(encoder_outputs, s)\r\n",
        "\r\n",
        "  # we need a different layer for each time step\r\n",
        "  selector = Lambda(lambda x: x[:, t:t+1])\r\n",
        "  x_t =selector(decoder_input)\r\n",
        "\r\n",
        "  # combine\r\n",
        "  decoder_lstm_input = context_last_word_concat_layer([context, x_t])\r\n",
        "\r\n",
        "  # pass the combined [context, last word] into lstm\r\n",
        "  # along with [s, c]\r\n",
        "  # get the new[s, c] and output\r\n",
        "  out, s, c = decoder_lstm(decoder_lstm_input, initial_state=[s, c])\r\n",
        "\r\n",
        "  # final dense layer to get next wod prediction\r\n",
        "  decoder_outputs = decoder_dense(out)\r\n",
        "  outputs.append(decoder_outputs)"
      ],
      "execution_count": null,
      "outputs": []
    },
    {
      "cell_type": "code",
      "metadata": {
        "colab": {
          "base_uri": "https://localhost:8080/"
        },
        "id": "n-bZ0kDvbn--",
        "outputId": "3d7d3a3e-55c5-4a91-9087-0e4c84913402"
      },
      "source": [
        "outputs"
      ],
      "execution_count": null,
      "outputs": [
        {
          "output_type": "execute_result",
          "data": {
            "text/plain": [
              "[<KerasTensor: shape=(None, 4964) dtype=float32 (created by layer 'decoder_dense')>,\n",
              " <KerasTensor: shape=(None, 4964) dtype=float32 (created by layer 'decoder_dense')>,\n",
              " <KerasTensor: shape=(None, 4964) dtype=float32 (created by layer 'decoder_dense')>,\n",
              " <KerasTensor: shape=(None, 4964) dtype=float32 (created by layer 'decoder_dense')>,\n",
              " <KerasTensor: shape=(None, 4964) dtype=float32 (created by layer 'decoder_dense')>,\n",
              " <KerasTensor: shape=(None, 4964) dtype=float32 (created by layer 'decoder_dense')>,\n",
              " <KerasTensor: shape=(None, 4964) dtype=float32 (created by layer 'decoder_dense')>,\n",
              " <KerasTensor: shape=(None, 4964) dtype=float32 (created by layer 'decoder_dense')>,\n",
              " <KerasTensor: shape=(None, 4964) dtype=float32 (created by layer 'decoder_dense')>]"
            ]
          },
          "metadata": {
            "tags": []
          },
          "execution_count": 56
        }
      ]
    },
    {
      "cell_type": "code",
      "metadata": {
        "id": "zH5tk7dHdk8I"
      },
      "source": [
        "# output now is length of Ty\r\n",
        "# each element is of shape (batch_size, output vocab size)\r\n",
        "# therefore if simply stack all the outputs into 1 tensor\r\n",
        "# it would be shape T x N x D\r\n",
        "# we would like it to be of shape N x T x D"
      ],
      "execution_count": null,
      "outputs": []
    },
    {
      "cell_type": "code",
      "metadata": {
        "id": "4P5anDFjJbAM"
      },
      "source": [
        "def stack(x):\r\n",
        "  x = k.stack(x)\r\n",
        "  x = k.permute_dimensions(x, pattern=(1, 0, 2))\r\n",
        "  return x"
      ],
      "execution_count": null,
      "outputs": []
    },
    {
      "cell_type": "code",
      "metadata": {
        "colab": {
          "base_uri": "https://localhost:8080/"
        },
        "id": "S8xsOCxNJq1p",
        "outputId": "4fe8ed8d-4587-4bf7-8db7-6a4383865dea"
      },
      "source": [
        "stacker = Lambda(stack)\r\n",
        "outputs = stacker(outputs)\r\n",
        "outputs"
      ],
      "execution_count": null,
      "outputs": [
        {
          "output_type": "execute_result",
          "data": {
            "text/plain": [
              "<KerasTensor: shape=(None, 9, 4964) dtype=float32 (created by layer 'lambda_9')>"
            ]
          },
          "metadata": {
            "tags": []
          },
          "execution_count": 59
        }
      ]
    },
    {
      "cell_type": "markdown",
      "metadata": {
        "id": "RVZus0zXJ7a9"
      },
      "source": [
        "# Defining model"
      ]
    },
    {
      "cell_type": "code",
      "metadata": {
        "id": "ige2gqiOJ3x-"
      },
      "source": [
        "model = Model(inputs=[encoder_inputs, decoder_inputs, initial_s, initial_c], outputs=outputs)"
      ],
      "execution_count": null,
      "outputs": []
    },
    {
      "cell_type": "code",
      "metadata": {
        "colab": {
          "base_uri": "https://localhost:8080/"
        },
        "id": "EcaHsjjPKTI5",
        "outputId": "75307395-a997-466f-f5da-4b1261580585"
      },
      "source": [
        "model.summary()"
      ],
      "execution_count": null,
      "outputs": [
        {
          "output_type": "stream",
          "text": [
            "Model: \"model\"\n",
            "__________________________________________________________________________________________________\n",
            "Layer (type)                    Output Shape         Param #     Connected to                     \n",
            "==================================================================================================\n",
            "encoderinput (InputLayer)       [(None, 5)]          0                                            \n",
            "__________________________________________________________________________________________________\n",
            "embedding (Embedding)           (None, 5, 200)       466400      encoderinput[0][0]               \n",
            "__________________________________________________________________________________________________\n",
            "s0 (InputLayer)                 [(None, 256)]        0                                            \n",
            "__________________________________________________________________________________________________\n",
            "encoder_bidirection (Bidirectio (None, 5, 512)       935936      embedding[0][0]                  \n",
            "__________________________________________________________________________________________________\n",
            "repeat_vector (RepeatVector)    (None, 5, 256)       0           s0[0][0]                         \n",
            "                                                                 decoder_lstm[0][1]               \n",
            "                                                                 decoder_lstm[1][1]               \n",
            "                                                                 decoder_lstm[2][1]               \n",
            "                                                                 decoder_lstm[3][1]               \n",
            "                                                                 decoder_lstm[4][1]               \n",
            "                                                                 decoder_lstm[5][1]               \n",
            "                                                                 decoder_lstm[6][1]               \n",
            "                                                                 decoder_lstm[7][1]               \n",
            "__________________________________________________________________________________________________\n",
            "concatenate (Concatenate)       (None, 5, 768)       0           encoder_bidirection[0][0]        \n",
            "                                                                 repeat_vector[0][0]              \n",
            "                                                                 encoder_bidirection[0][0]        \n",
            "                                                                 repeat_vector[1][0]              \n",
            "                                                                 encoder_bidirection[0][0]        \n",
            "                                                                 repeat_vector[2][0]              \n",
            "                                                                 encoder_bidirection[0][0]        \n",
            "                                                                 repeat_vector[3][0]              \n",
            "                                                                 encoder_bidirection[0][0]        \n",
            "                                                                 repeat_vector[4][0]              \n",
            "                                                                 encoder_bidirection[0][0]        \n",
            "                                                                 repeat_vector[5][0]              \n",
            "                                                                 encoder_bidirection[0][0]        \n",
            "                                                                 repeat_vector[6][0]              \n",
            "                                                                 encoder_bidirection[0][0]        \n",
            "                                                                 repeat_vector[7][0]              \n",
            "                                                                 encoder_bidirection[0][0]        \n",
            "                                                                 repeat_vector[8][0]              \n",
            "__________________________________________________________________________________________________\n",
            "dense (Dense)                   (None, 5, 10)        7690        concatenate[0][0]                \n",
            "                                                                 concatenate[1][0]                \n",
            "                                                                 concatenate[2][0]                \n",
            "                                                                 concatenate[3][0]                \n",
            "                                                                 concatenate[4][0]                \n",
            "                                                                 concatenate[5][0]                \n",
            "                                                                 concatenate[6][0]                \n",
            "                                                                 concatenate[7][0]                \n",
            "                                                                 concatenate[8][0]                \n",
            "__________________________________________________________________________________________________\n",
            "decoder_input (InputLayer)      [(None, 9)]          0                                            \n",
            "__________________________________________________________________________________________________\n",
            "dense_1 (Dense)                 (None, 5, 1)         11          dense[0][0]                      \n",
            "                                                                 dense[1][0]                      \n",
            "                                                                 dense[2][0]                      \n",
            "                                                                 dense[3][0]                      \n",
            "                                                                 dense[4][0]                      \n",
            "                                                                 dense[5][0]                      \n",
            "                                                                 dense[6][0]                      \n",
            "                                                                 dense[7][0]                      \n",
            "                                                                 dense[8][0]                      \n",
            "__________________________________________________________________________________________________\n",
            "decoder_embedding (Embedding)   (None, 9, 200)       992800      decoder_input[0][0]              \n",
            "__________________________________________________________________________________________________\n",
            "dot (Dot)                       (None, 1, 512)       0           dense_1[0][0]                    \n",
            "                                                                 encoder_bidirection[0][0]        \n",
            "                                                                 dense_1[1][0]                    \n",
            "                                                                 encoder_bidirection[0][0]        \n",
            "                                                                 dense_1[2][0]                    \n",
            "                                                                 encoder_bidirection[0][0]        \n",
            "                                                                 dense_1[3][0]                    \n",
            "                                                                 encoder_bidirection[0][0]        \n",
            "                                                                 dense_1[4][0]                    \n",
            "                                                                 encoder_bidirection[0][0]        \n",
            "                                                                 dense_1[5][0]                    \n",
            "                                                                 encoder_bidirection[0][0]        \n",
            "                                                                 dense_1[6][0]                    \n",
            "                                                                 encoder_bidirection[0][0]        \n",
            "                                                                 dense_1[7][0]                    \n",
            "                                                                 encoder_bidirection[0][0]        \n",
            "                                                                 dense_1[8][0]                    \n",
            "                                                                 encoder_bidirection[0][0]        \n",
            "__________________________________________________________________________________________________\n",
            "lambda (Lambda)                 (None, 1, 200)       0           decoder_embedding[0][0]          \n",
            "__________________________________________________________________________________________________\n",
            "concatenate_1 (Concatenate)     (None, 1, 712)       0           dot[0][0]                        \n",
            "                                                                 lambda[0][0]                     \n",
            "                                                                 dot[1][0]                        \n",
            "                                                                 lambda_1[0][0]                   \n",
            "                                                                 dot[2][0]                        \n",
            "                                                                 lambda_2[0][0]                   \n",
            "                                                                 dot[3][0]                        \n",
            "                                                                 lambda_3[0][0]                   \n",
            "                                                                 dot[4][0]                        \n",
            "                                                                 lambda_4[0][0]                   \n",
            "                                                                 dot[5][0]                        \n",
            "                                                                 lambda_5[0][0]                   \n",
            "                                                                 dot[6][0]                        \n",
            "                                                                 lambda_6[0][0]                   \n",
            "                                                                 dot[7][0]                        \n",
            "                                                                 lambda_7[0][0]                   \n",
            "                                                                 dot[8][0]                        \n",
            "                                                                 lambda_8[0][0]                   \n",
            "__________________________________________________________________________________________________\n",
            "c0 (InputLayer)                 [(None, 256)]        0                                            \n",
            "__________________________________________________________________________________________________\n",
            "decoder_lstm (LSTM)             [(None, 256), (None, 992256      concatenate_1[0][0]              \n",
            "                                                                 s0[0][0]                         \n",
            "                                                                 c0[0][0]                         \n",
            "                                                                 concatenate_1[1][0]              \n",
            "                                                                 decoder_lstm[0][1]               \n",
            "                                                                 decoder_lstm[0][2]               \n",
            "                                                                 concatenate_1[2][0]              \n",
            "                                                                 decoder_lstm[1][1]               \n",
            "                                                                 decoder_lstm[1][2]               \n",
            "                                                                 concatenate_1[3][0]              \n",
            "                                                                 decoder_lstm[2][1]               \n",
            "                                                                 decoder_lstm[2][2]               \n",
            "                                                                 concatenate_1[4][0]              \n",
            "                                                                 decoder_lstm[3][1]               \n",
            "                                                                 decoder_lstm[3][2]               \n",
            "                                                                 concatenate_1[5][0]              \n",
            "                                                                 decoder_lstm[4][1]               \n",
            "                                                                 decoder_lstm[4][2]               \n",
            "                                                                 concatenate_1[6][0]              \n",
            "                                                                 decoder_lstm[5][1]               \n",
            "                                                                 decoder_lstm[5][2]               \n",
            "                                                                 concatenate_1[7][0]              \n",
            "                                                                 decoder_lstm[6][1]               \n",
            "                                                                 decoder_lstm[6][2]               \n",
            "                                                                 concatenate_1[8][0]              \n",
            "                                                                 decoder_lstm[7][1]               \n",
            "                                                                 decoder_lstm[7][2]               \n",
            "__________________________________________________________________________________________________\n",
            "lambda_1 (Lambda)               (None, 1, 200)       0           decoder_embedding[0][0]          \n",
            "__________________________________________________________________________________________________\n",
            "lambda_2 (Lambda)               (None, 1, 200)       0           decoder_embedding[0][0]          \n",
            "__________________________________________________________________________________________________\n",
            "lambda_3 (Lambda)               (None, 1, 200)       0           decoder_embedding[0][0]          \n",
            "__________________________________________________________________________________________________\n",
            "lambda_4 (Lambda)               (None, 1, 200)       0           decoder_embedding[0][0]          \n",
            "__________________________________________________________________________________________________\n",
            "lambda_5 (Lambda)               (None, 1, 200)       0           decoder_embedding[0][0]          \n",
            "__________________________________________________________________________________________________\n",
            "lambda_6 (Lambda)               (None, 1, 200)       0           decoder_embedding[0][0]          \n",
            "__________________________________________________________________________________________________\n",
            "lambda_7 (Lambda)               (None, 1, 200)       0           decoder_embedding[0][0]          \n",
            "__________________________________________________________________________________________________\n",
            "lambda_8 (Lambda)               (None, 1, 200)       0           decoder_embedding[0][0]          \n",
            "__________________________________________________________________________________________________\n",
            "decoder_dense (Dense)           (None, 4964)         1275748     decoder_lstm[0][0]               \n",
            "                                                                 decoder_lstm[1][0]               \n",
            "                                                                 decoder_lstm[2][0]               \n",
            "                                                                 decoder_lstm[3][0]               \n",
            "                                                                 decoder_lstm[4][0]               \n",
            "                                                                 decoder_lstm[5][0]               \n",
            "                                                                 decoder_lstm[6][0]               \n",
            "                                                                 decoder_lstm[7][0]               \n",
            "                                                                 decoder_lstm[8][0]               \n",
            "__________________________________________________________________________________________________\n",
            "lambda_9 (Lambda)               (None, 9, 4964)      0           decoder_dense[0][0]              \n",
            "                                                                 decoder_dense[1][0]              \n",
            "                                                                 decoder_dense[2][0]              \n",
            "                                                                 decoder_dense[3][0]              \n",
            "                                                                 decoder_dense[4][0]              \n",
            "                                                                 decoder_dense[5][0]              \n",
            "                                                                 decoder_dense[6][0]              \n",
            "                                                                 decoder_dense[7][0]              \n",
            "                                                                 decoder_dense[8][0]              \n",
            "==================================================================================================\n",
            "Total params: 4,670,841\n",
            "Trainable params: 4,670,841\n",
            "Non-trainable params: 0\n",
            "__________________________________________________________________________________________________\n"
          ],
          "name": "stdout"
        }
      ]
    },
    {
      "cell_type": "code",
      "metadata": {
        "colab": {
          "base_uri": "https://localhost:8080/",
          "height": 843
        },
        "id": "ZHE-DFMIKVUX",
        "outputId": "6d9c3747-e05c-409b-9513-d977f19bebcd"
      },
      "source": [
        "tf.keras.utils.plot_model(model)"
      ],
      "execution_count": null,
      "outputs": [
        {
          "output_type": "execute_result",
          "data": {
            "image/png": "[encoded data removed]",
            "text/plain": [
              "<IPython.core.display.Image object>"
            ]
          },
          "metadata": {
            "tags": []
          },
          "execution_count": 62
        }
      ]
    },
    {
      "cell_type": "code",
      "metadata": {
        "id": "v811zRT0Kq0X"
      },
      "source": [
        "model.compile(optimizer='adam', loss='categorical_crossentropy', metrics=['accuracy'] )"
      ],
      "execution_count": null,
      "outputs": []
    },
    {
      "cell_type": "markdown",
      "metadata": {
        "id": "MXdj2IrCLltm"
      },
      "source": [
        "Training"
      ]
    },
    {
      "cell_type": "code",
      "metadata": {
        "colab": {
          "base_uri": "https://localhost:8080/"
        },
        "id": "Iu-fWn_OLidV",
        "outputId": "8b99d9af-5338-4764-9333-d1ef604aeb25"
      },
      "source": [
        "# initial s c\r\n",
        "initial_s_training = np.zeros((NUM_SAMPLES, LATENT_DIM))\r\n",
        "initial_c_training = np.zeros(shape=(NUM_SAMPLES, LATENT_DIM))\r\n",
        "r = model.fit([encoder_input_data, decoder_input_data, initial_s_training, initial_c_training], decoder_target_one_hot, batch_size=100, validation_split=0.3)"
      ],
      "execution_count": null,
      "outputs": [
        {
          "output_type": "stream",
          "text": [
            "70/70 [==============================] - 25s 111ms/step - loss: 5.4504 - accuracy: 0.5496 - val_loss: 2.9905 - val_accuracy: 0.5401\n"
          ],
          "name": "stdout"
        }
      ]
    },
    {
      "cell_type": "markdown",
      "metadata": {
        "id": "J9o097HDNKY0"
      },
      "source": [
        "# **Inference**"
      ]
    },
    {
      "cell_type": "markdown",
      "metadata": {
        "id": "wLQrfR4aNVY3"
      },
      "source": [
        "# Encoder model"
      ]
    },
    {
      "cell_type": "code",
      "metadata": {
        "id": "FWzYfPGAMbEv"
      },
      "source": [
        "encoder_model = Model(encoder_inputs, encoder_outputs)"
      ],
      "execution_count": null,
      "outputs": []
    },
    {
      "cell_type": "code",
      "metadata": {
        "colab": {
          "base_uri": "https://localhost:8080/"
        },
        "id": "_07rZe62Ngjk",
        "outputId": "f02ea71e-b2df-49fd-e795-c09e3eafd53d"
      },
      "source": [
        "encoder_model.summary()"
      ],
      "execution_count": null,
      "outputs": [
        {
          "output_type": "stream",
          "text": [
            "Model: \"model_7\"\n",
            "_________________________________________________________________\n",
            "Layer (type)                 Output Shape              Param #   \n",
            "=================================================================\n",
            "encoderinput (InputLayer)    [(None, 5)]               0         \n",
            "_________________________________________________________________\n",
            "embedding (Embedding)        (None, 5, 200)            466400    \n",
            "_________________________________________________________________\n",
            "encoder_bidirection (Bidirec (None, 5, 512)            935936    \n",
            "=================================================================\n",
            "Total params: 1,402,336\n",
            "Trainable params: 1,402,336\n",
            "Non-trainable params: 0\n",
            "_________________________________________________________________\n"
          ],
          "name": "stdout"
        }
      ]
    },
    {
      "cell_type": "code",
      "metadata": {
        "colab": {
          "base_uri": "https://localhost:8080/",
          "height": 272
        },
        "id": "tN3uvTH9NjQS",
        "outputId": "0ececd9a-0f0c-448a-e63d-1cd51077f4d0"
      },
      "source": [
        "tf.keras.utils.plot_model(encoder_model)"
      ],
      "execution_count": null,
      "outputs": [
        {
          "output_type": "execute_result",
          "data": {
            "image/png": "[encoded data removed]",
            "text/plain": [
              "<IPython.core.display.Image object>"
            ]
          },
          "metadata": {
            "tags": []
          },
          "execution_count": 93
        }
      ]
    },
    {
      "cell_type": "markdown",
      "metadata": {
        "id": "qtv6r9zzPVhG"
      },
      "source": [
        "# Decoder Model"
      ]
    },
    {
      "cell_type": "code",
      "metadata": {
        "id": "Kbog57_4NsWS"
      },
      "source": [
        "#input will have the length double of latent dimension due to bidirectional\r\n",
        "encoder_outputs_as_input = Input(shape=(maxlen_input, LATENT_DIM* 2,)) \r\n",
        "#we are going to predict one word at a time with input of one word\r\n",
        "decoder_input_embedding = Input(shape=(1,))                \r\n",
        "decoder_input_ = decoder_embedding(decoder_input_embedding) "
      ],
      "execution_count": null,
      "outputs": []
    },
    {
      "cell_type": "code",
      "metadata": {
        "id": "_LLxmPsEQFsR"
      },
      "source": [
        "#calculating context\r\n",
        "context = context_attention(encoder_outputs_as_input, initial_s)"
      ],
      "execution_count": null,
      "outputs": []
    },
    {
      "cell_type": "code",
      "metadata": {
        "id": "k0_pfSmiQmw8"
      },
      "source": [
        "decoder_lstm_input = context_last_word_concat_layer(\r\n",
        "    [context, decoder_input_])"
      ],
      "execution_count": null,
      "outputs": []
    },
    {
      "cell_type": "code",
      "metadata": {
        "id": "TvQ5BMzjQx_P"
      },
      "source": [
        "out, s, c = decoder_lstm(decoder_lstm_input,                        \r\n",
        "                       initial_state=[initial_s, initial_c]) \r\n",
        "decoder_outputs = decoder_dense(out) "
      ],
      "execution_count": null,
      "outputs": []
    },
    {
      "cell_type": "code",
      "metadata": {
        "colab": {
          "base_uri": "https://localhost:8080/"
        },
        "id": "cYes6iq7RGnO",
        "outputId": "c87a072a-a873-418f-ed1d-f8e643cfc9ac"
      },
      "source": [
        "decoder_model = Model(\r\n",
        "  inputs=[\r\n",
        "    decoder_input_embedding,\r\n",
        "    encoder_outputs_as_input,\r\n",
        "    initial_s, \r\n",
        "    initial_c\r\n",
        "  ],\r\n",
        "  outputs=[decoder_outputs, s, c]\r\n",
        ")\r\n",
        "decoder_model.summary()"
      ],
      "execution_count": null,
      "outputs": [
        {
          "output_type": "stream",
          "text": [
            "Model: \"model_8\"\n",
            "__________________________________________________________________________________________________\n",
            "Layer (type)                    Output Shape         Param #     Connected to                     \n",
            "==================================================================================================\n",
            "s0 (InputLayer)                 [(None, 256)]        0                                            \n",
            "__________________________________________________________________________________________________\n",
            "input_7 (InputLayer)            [(None, 5, 512)]     0                                            \n",
            "__________________________________________________________________________________________________\n",
            "repeat_vector (RepeatVector)    (None, 5, 256)       0           s0[0][0]                         \n",
            "__________________________________________________________________________________________________\n",
            "concatenate (Concatenate)       (None, 5, 768)       0           input_7[0][0]                    \n",
            "                                                                 repeat_vector[13][0]             \n",
            "__________________________________________________________________________________________________\n",
            "dense (Dense)                   (None, 5, 10)        7690        concatenate[13][0]               \n",
            "__________________________________________________________________________________________________\n",
            "dense_1 (Dense)                 (None, 5, 1)         11          dense[13][0]                     \n",
            "__________________________________________________________________________________________________\n",
            "input_8 (InputLayer)            [(None, 1)]          0                                            \n",
            "__________________________________________________________________________________________________\n",
            "dot (Dot)                       (None, 1, 512)       0           dense_1[13][0]                   \n",
            "                                                                 input_7[0][0]                    \n",
            "__________________________________________________________________________________________________\n",
            "decoder_embedding (Embedding)   multiple             992800      input_8[0][0]                    \n",
            "__________________________________________________________________________________________________\n",
            "concatenate_1 (Concatenate)     (None, 1, 712)       0           dot[13][0]                       \n",
            "                                                                 decoder_embedding[4][0]          \n",
            "__________________________________________________________________________________________________\n",
            "c0 (InputLayer)                 [(None, 256)]        0                                            \n",
            "__________________________________________________________________________________________________\n",
            "decoder_lstm (LSTM)             [(None, 256), (None, 992256      concatenate_1[13][0]             \n",
            "                                                                 s0[0][0]                         \n",
            "                                                                 c0[0][0]                         \n",
            "__________________________________________________________________________________________________\n",
            "decoder_dense (Dense)           (None, 4964)         1275748     decoder_lstm[13][0]              \n",
            "==================================================================================================\n",
            "Total params: 3,268,505\n",
            "Trainable params: 3,268,505\n",
            "Non-trainable params: 0\n",
            "__________________________________________________________________________________________________\n"
          ],
          "name": "stdout"
        }
      ]
    },
    {
      "cell_type": "code",
      "metadata": {
        "colab": {
          "base_uri": "https://localhost:8080/",
          "height": 856
        },
        "id": "8PrOJdQbRh79",
        "outputId": "f614f958-11a4-49a8-fd02-27498121d38a"
      },
      "source": [
        "tf.keras.utils.plot_model(decoder_model)"
      ],
      "execution_count": null,
      "outputs": [
        {
          "output_type": "execute_result",
          "data": {
            "image/png": "[encoded data removed]",
            "text/plain": [
              "<IPython.core.display.Image object>"
            ]
          },
          "metadata": {
            "tags": []
          },
          "execution_count": 99
        }
      ]
    },
    {
      "cell_type": "code",
      "metadata": {
        "id": "B6tnOjkITMvX"
      },
      "source": [
        ""
      ],
      "execution_count": null,
      "outputs": []
    }
  ]
}