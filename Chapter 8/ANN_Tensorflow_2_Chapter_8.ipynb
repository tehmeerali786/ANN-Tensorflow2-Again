{
  "nbformat": 4,
  "nbformat_minor": 0,
  "metadata": {
    "colab": {
      "name": "ANN Tensorflow 2 Chapter 8.ipynb",
      "provenance": [],
      "collapsed_sections": []
    },
    "kernelspec": {
      "name": "python3",
      "display_name": "Python 3"
    }
  },
  "cells": [
    {
      "cell_type": "markdown",
      "metadata": {
        "id": "wEWuhmiC0vMy"
      },
      "source": [
        "#**NEURAL MACHINE TRANSLATION USING ENCODER DECODER ATTENTION MODEL**\r\n",
        "# Translating from English to Spanish"
      ]
    },
    {
      "cell_type": "code",
      "metadata": {
        "id": "prYI5w5vs449"
      },
      "source": [
        "import tensorflow as tf\r\n",
        "\r\n",
        "from tensorflow.keras.models import Model\r\n",
        "from tensorflow.keras.layers import Input, Dense, LSTM, Embedding, Bidirectional, RepeatVector, Concatenate, Activation, Dot, Lambda\r\n",
        "from tensorflow.keras.preprocessing.text import Tokenizer \r\n",
        "from tensorflow.keras.preprocessing.sequence import pad_sequences\r\n",
        "from keras import preprocessing, utils\r\n",
        "import numpy as np\r\n",
        "import matplotlib.pyplot as plt"
      ],
      "execution_count": null,
      "outputs": []
    },
    {
      "cell_type": "markdown",
      "metadata": {
        "id": "QUj3MukFXIX0"
      },
      "source": [
        "## **Downloading dataset for Spanish to English translation**"
      ]
    },
    {
      "cell_type": "code",
      "metadata": {
        "id": "1kRBvka96TJ_"
      },
      "source": [
        "url = '/content/spa.txt'"
      ],
      "execution_count": null,
      "outputs": []
    },
    {
      "cell_type": "code",
      "metadata": {
        "id": "0CkQVnJiYa9N"
      },
      "source": [
        "# reading data\r\n",
        "with open('/content/spa.txt', encoding='utf-8', errors='ignore') as file:\r\n",
        "  text=file.read().split('\\n')"
      ],
      "execution_count": null,
      "outputs": []
    },
    {
      "cell_type": "code",
      "metadata": {
        "colab": {
          "base_uri": "https://localhost:8080/"
        },
        "id": "sBIEqUbOYw14",
        "outputId": "cc11afbd-ac8d-4614-e24c-869c8dbde5ff"
      },
      "source": [
        "len(text)"
      ],
      "execution_count": null,
      "outputs": [
        {
          "output_type": "execute_result",
          "data": {
            "text/plain": [
              "122937"
            ]
          },
          "metadata": {
            "tags": []
          },
          "execution_count": 68
        }
      ]
    },
    {
      "cell_type": "code",
      "metadata": {
        "colab": {
          "base_uri": "https://localhost:8080/"
        },
        "id": "wIgR1lrWZIz3",
        "outputId": "0df2b402-8141-4ddb-a8e4-3c6562c724ac"
      },
      "source": [
        "# input and target data is separated by tab '\\t'\r\n",
        "text[:5]"
      ],
      "execution_count": null,
      "outputs": [
        {
          "output_type": "execute_result",
          "data": {
            "text/plain": [
              "['Go.\\tVe.\\tCC-BY 2.0 (France) Attribution: tatoeba.org #2877272 (CM) & #4986655 (cueyayotl)',\n",
              " 'Go.\\tVete.\\tCC-BY 2.0 (France) Attribution: tatoeba.org #2877272 (CM) & #4986656 (cueyayotl)',\n",
              " 'Go.\\tVaya.\\tCC-BY 2.0 (France) Attribution: tatoeba.org #2877272 (CM) & #4986657 (cueyayotl)',\n",
              " 'Go.\\tVáyase.\\tCC-BY 2.0 (France) Attribution: tatoeba.org #2877272 (CM) & #6586271 (arh)',\n",
              " 'Hi.\\tHola.\\tCC-BY 2.0 (France) Attribution: tatoeba.org #538123 (CM) & #431975 (Leono)']"
            ]
          },
          "metadata": {
            "tags": []
          },
          "execution_count": 69
        }
      ]
    },
    {
      "cell_type": "code",
      "metadata": {
        "colab": {
          "base_uri": "https://localhost:8080/"
        },
        "id": "gTAdNJSvZ1Xm",
        "outputId": "96d230d0-4789-441e-c69f-d78856b062ea"
      },
      "source": [
        "for t in text[100:110]:\r\n",
        "  print(t)"
      ],
      "execution_count": null,
      "outputs": [
        {
          "output_type": "stream",
          "text": [
            "Be good.\tSed buenas.\tCC-BY 2.0 (France) Attribution: tatoeba.org #7932304 (Seael) & #7932308 (Seael)\n",
            "Be good.\tSed buenos.\tCC-BY 2.0 (France) Attribution: tatoeba.org #7932304 (Seael) & #7932309 (Seael)\n",
            "Be good.\tSea buena.\tCC-BY 2.0 (France) Attribution: tatoeba.org #7932304 (Seael) & #7932310 (Seael)\n",
            "Be good.\tSea bueno.\tCC-BY 2.0 (France) Attribution: tatoeba.org #7932304 (Seael) & #7932311 (Seael)\n",
            "Be good.\tSean buenas.\tCC-BY 2.0 (France) Attribution: tatoeba.org #7932304 (Seael) & #7932313 (Seael)\n",
            "Be good.\tSean buenos.\tCC-BY 2.0 (France) Attribution: tatoeba.org #7932304 (Seael) & #7932315 (Seael)\n",
            "Be kind.\tSean gentiles.\tCC-BY 2.0 (France) Attribution: tatoeba.org #1916315 (CK) & #2092229 (hayastan)\n",
            "Be nice.\tSé agradable.\tCC-BY 2.0 (France) Attribution: tatoeba.org #1916314 (CK) & #5769224 (arh)\n",
            "Beat it.\tPírate.\tCC-BY 2.0 (France) Attribution: tatoeba.org #37902 (CM) & #5769215 (arh)\n",
            "Call me.\tLlamame.\tCC-BY 2.0 (France) Attribution: tatoeba.org #1553532 (CK) & #1555788 (hayastan)\n"
          ],
          "name": "stdout"
        }
      ]
    },
    {
      "cell_type": "code",
      "metadata": {
        "id": "pPLpOKcfZ_KW"
      },
      "source": [
        "# encoder inputs\r\n",
        "input_texts = []\r\n",
        "\r\n",
        "# decoder inputs\r\n",
        "target_texts = []"
      ],
      "execution_count": null,
      "outputs": []
    },
    {
      "cell_type": "code",
      "metadata": {
        "id": "DJbB3o8FazDz"
      },
      "source": [
        "# we will select subset of the whole data\r\n",
        "NUM_SAMPLES = 10000\r\n",
        "for line in text[:NUM_SAMPLES]:\r\n",
        "  english, spanish = line.split('\\t')[:2]\r\n",
        "  target_text = spanish.lower()\r\n",
        "  input_texts.append(english.lower())\r\n",
        "  target_texts.append(target_text)"
      ],
      "execution_count": null,
      "outputs": []
    },
    {
      "cell_type": "code",
      "metadata": {
        "colab": {
          "base_uri": "https://localhost:8080/"
        },
        "id": "kXyPNuIVbIFz",
        "outputId": "e9eb9413-01c4-4015-9076-b78de3472f30"
      },
      "source": [
        "print(input_texts[:5], target_texts[:5])"
      ],
      "execution_count": null,
      "outputs": [
        {
          "output_type": "stream",
          "text": [
            "['go.', 'go.', 'go.', 'go.', 'hi.'] ['ve.', 'vete.', 'vaya.', 'váyase.', 'hola.']\n"
          ],
          "name": "stdout"
        }
      ]
    },
    {
      "cell_type": "markdown",
      "metadata": {
        "id": "28MXemgIfIlA"
      },
      "source": [
        "## **Data processing**"
      ]
    },
    {
      "cell_type": "code",
      "metadata": {
        "colab": {
          "base_uri": "https://localhost:8080/"
        },
        "id": "BxxuRV_fdJbx",
        "outputId": "39e8f86b-3d0f-4898-a32e-ea5cfa8573a0"
      },
      "source": [
        "import string \r\n",
        "print('Characters to be removed in preprocessing', string.punctuation)"
      ],
      "execution_count": null,
      "outputs": [
        {
          "output_type": "stream",
          "text": [
            "Characters to be removed in preprocessing !\"#$%&'()*+,-./:;<=>?@[\\]^_`{|}~\n"
          ],
          "name": "stdout"
        }
      ]
    },
    {
      "cell_type": "code",
      "metadata": {
        "id": "f-dqfV3CfXjU"
      },
      "source": [
        "# removing puntuation from target and input \r\n",
        "def remove_punctuation(s):\r\n",
        "  out = s.translate(str.maketrans(\"\", \"\", string.punctuation))\r\n",
        "  return out"
      ],
      "execution_count": null,
      "outputs": []
    },
    {
      "cell_type": "code",
      "metadata": {
        "id": "CsHe8J0Lfz3r"
      },
      "source": [
        "input_texts = [remove_punctuation(s) for s in input_texts]\r\n",
        "target_texts = [remove_punctuation(s) for s in target_texts]"
      ],
      "execution_count": null,
      "outputs": []
    },
    {
      "cell_type": "code",
      "metadata": {
        "colab": {
          "base_uri": "https://localhost:8080/"
        },
        "id": "jO7IzGGxiqk5",
        "outputId": "66a12fd6-4966-4fcb-8f80-ad452b50b635"
      },
      "source": [
        "input_texts[:5], target_texts[:5]"
      ],
      "execution_count": null,
      "outputs": [
        {
          "output_type": "execute_result",
          "data": {
            "text/plain": [
              "(['go', 'go', 'go', 'go', 'hi'], ['ve', 'vete', 'vaya', 'váyase', 'hola'])"
            ]
          },
          "metadata": {
            "tags": []
          },
          "execution_count": 77
        }
      ]
    },
    {
      "cell_type": "code",
      "metadata": {
        "id": "9LHuN8aAhKMI"
      },
      "source": [
        "# adding start and end tags \r\n",
        "target_texts = ['<start> ' + s + ' <end>' for s in target_texts]"
      ],
      "execution_count": null,
      "outputs": []
    },
    {
      "cell_type": "code",
      "metadata": {
        "colab": {
          "base_uri": "https://localhost:8080/",
          "height": 35
        },
        "id": "B8jy6Jsljb8e",
        "outputId": "dadcfbf5-b880-4078-f520-eeecbc179c82"
      },
      "source": [
        "target_texts[1]"
      ],
      "execution_count": null,
      "outputs": [
        {
          "output_type": "execute_result",
          "data": {
            "application/vnd.google.colaboratory.intrinsic+json": {
              "type": "string"
            },
            "text/plain": [
              "'<start> vete <end>'"
            ]
          },
          "metadata": {
            "tags": []
          },
          "execution_count": 49
        }
      ]
    },
    {
      "cell_type": "markdown",
      "metadata": {
        "id": "xEj6YGoKj946"
      },
      "source": [
        "## **Tokenizing Input dataset**"
      ]
    },
    {
      "cell_type": "code",
      "metadata": {
        "id": "BBQx8ggEjt8U"
      },
      "source": [
        "tokenizer_in = Tokenizer()\r\n",
        "# tokenizing the input text\r\n",
        "tokenizer_in.fit_on_texts(input_texts)\r\n",
        "# vocab size of input \r\n",
        "input_vocab_size = len(tokenizer_in.word_index) + 1\r\n",
        "\r\n"
      ],
      "execution_count": null,
      "outputs": []
    },
    {
      "cell_type": "code",
      "metadata": {
        "colab": {
          "base_uri": "https://localhost:8080/"
        },
        "id": "gJWAj94WyrVF",
        "outputId": "b27e5cee-3739-4cc4-81b6-3009e8608641"
      },
      "source": [
        "input_vocab_size"
      ],
      "execution_count": null,
      "outputs": [
        {
          "output_type": "execute_result",
          "data": {
            "text/plain": [
              "2332"
            ]
          },
          "metadata": {
            "tags": []
          },
          "execution_count": 80
        }
      ]
    },
    {
      "cell_type": "code",
      "metadata": {
        "colab": {
          "base_uri": "https://localhost:8080/"
        },
        "id": "1aTyTZGV18aU",
        "outputId": "073c7652-6cf8-4abe-f2f9-153ce67593a9"
      },
      "source": [
        "# Listing few items\r\n",
        "input_tokens = tokenizer_in.index_word \r\n",
        "for k, v in sorted(input_tokens.items())[2000:2010]:\r\n",
        "  print(k, v)"
      ],
      "execution_count": null,
      "outputs": [
        {
          "output_type": "stream",
          "text": [
            "2001 sauce\n",
            "2002 doctors\n",
            "2003 plenty\n",
            "2004 usually\n",
            "2005 credible\n",
            "2006 hopeless\n",
            "2007 starving\n",
            "2008 concept\n",
            "2009 country\n",
            "2010 thought\n"
          ],
          "name": "stdout"
        }
      ]
    },
    {
      "cell_type": "markdown",
      "metadata": {
        "id": "s3P1iqee3626"
      },
      "source": [
        "## **Tokenizing Output dataset**"
      ]
    },
    {
      "cell_type": "code",
      "metadata": {
        "id": "heXnJvtn3rSl"
      },
      "source": [
        "# tokenizing output that is spanish translation\r\n",
        "tokenizer_out = Tokenizer(filters='')\r\n",
        "tokenizer_out.fit_on_texts(target_texts)\r\n",
        "# vocab size of output\r\n",
        "output_vocab_size = len(tokenizer_out.word_index) + 1"
      ],
      "execution_count": null,
      "outputs": []
    },
    {
      "cell_type": "code",
      "metadata": {
        "colab": {
          "base_uri": "https://localhost:8080/"
        },
        "id": "-Vfmskb24lLw",
        "outputId": "9eb0ecdd-43fe-42f6-cf9e-e71c78d508d7"
      },
      "source": [
        "output_vocab_size"
      ],
      "execution_count": null,
      "outputs": [
        {
          "output_type": "execute_result",
          "data": {
            "text/plain": [
              "4964"
            ]
          },
          "metadata": {
            "tags": []
          },
          "execution_count": 55
        }
      ]
    },
    {
      "cell_type": "code",
      "metadata": {
        "colab": {
          "base_uri": "https://localhost:8080/"
        },
        "id": "mJeS-r0Y4r0-",
        "outputId": "9d212a09-3d3e-4006-8693-1af8819bcc21"
      },
      "source": [
        "# Listing few items\r\n",
        "output_tokens = tokenizer_out.index_word\r\n",
        "for k, v in sorted(output_tokens.items())[2000:2010]:\r\n",
        "  print(k, v)"
      ],
      "execution_count": null,
      "outputs": [
        {
          "output_type": "stream",
          "text": [
            "2001 suyos\n",
            "2002 ley\n",
            "2003 palabras\n",
            "2004 ausente\n",
            "2005 delgaducho\n",
            "2006 sucio\n",
            "2007 adoptado\n",
            "2008 violento\n",
            "2009 roncando\n",
            "2010 podríamos\n"
          ],
          "name": "stdout"
        }
      ]
    },
    {
      "cell_type": "markdown",
      "metadata": {
        "id": "qcK-DmXr5gEE"
      },
      "source": [
        "## **Creating input sequences**"
      ]
    },
    {
      "cell_type": "code",
      "metadata": {
        "id": "zCz87o025IBN"
      },
      "source": [
        "# Converting tokenized sentence into sequences\r\n",
        "tokenized_input = tokenizer_in.texts_to_sequences( input_texts)\r\n",
        "# max length of the input\r\n",
        "maxlen_input = max( [ len(x) for x in tokenized_input ] )\r\n",
        "# Padding sequences to the maximum length \r\n",
        "padded_input = preprocessing.sequence.pad_sequences(tokenized_input, maxlen=maxlen_input, padding='post')"
      ],
      "execution_count": null,
      "outputs": []
    },
    {
      "cell_type": "code",
      "metadata": {
        "colab": {
          "base_uri": "https://localhost:8080/"
        },
        "id": "hoJRTxvc7u-C",
        "outputId": "05ac2186-1a4e-4705-9e4f-8e1f3230e940"
      },
      "source": [
        "padded_input[2000:2010]"
      ],
      "execution_count": null,
      "outputs": [
        {
          "output_type": "execute_result",
          "data": {
            "text/plain": [
              "array([[  1, 613, 195,   0,   0],\n",
              "       [  1,  54, 109,   0,   0],\n",
              "       [  1,  54, 109,   0,   0],\n",
              "       [  1,  54, 109,   0,   0],\n",
              "       [  1,  54, 182,   0,   0],\n",
              "       [  1,  54,  14,   0,   0],\n",
              "       [  1,  54,  98,   0,   0],\n",
              "       [  1,  54,  98,   0,   0],\n",
              "       [  1,  54,  10,   0,   0],\n",
              "       [  1,  54,  10,   0,   0]], dtype=int32)"
            ]
          },
          "metadata": {
            "tags": []
          },
          "execution_count": 85
        }
      ]
    },
    {
      "cell_type": "code",
      "metadata": {
        "colab": {
          "base_uri": "https://localhost:8080/"
        },
        "id": "HiW2jKt38c-H",
        "outputId": "7413cd3e-652e-49b8-9b6d-19e83b2a08ac"
      },
      "source": [
        "encoder_input_data = np.array( padded_input )\r\n",
        "print(encoder_input_data.shape)"
      ],
      "execution_count": null,
      "outputs": [
        {
          "output_type": "stream",
          "text": [
            "(10000, 5)\n"
          ],
          "name": "stdout"
        }
      ]
    },
    {
      "cell_type": "markdown",
      "metadata": {
        "id": "woq-ZGX987Oy"
      },
      "source": [
        "## **Creating output sequences**"
      ]
    },
    {
      "cell_type": "code",
      "metadata": {
        "id": "BqT2r3VU81Pm"
      },
      "source": [
        "# Converting tokenized text into sequences \r\n",
        "tokenized_output = tokenizer_out.texts_to_sequences( target_texts )"
      ],
      "execution_count": null,
      "outputs": []
    },
    {
      "cell_type": "code",
      "metadata": {
        "colab": {
          "base_uri": "https://localhost:8080/"
        },
        "id": "HS4u7CkK9bHl",
        "outputId": "bd558339-e8b5-42a8-fe14-abc45a0f6210"
      },
      "source": [
        "output_vocab_size = len(tokenizer_out.word_index) + 1\r\n",
        "output_vocab_size"
      ],
      "execution_count": null,
      "outputs": [
        {
          "output_type": "execute_result",
          "data": {
            "text/plain": [
              "4964"
            ]
          },
          "metadata": {
            "tags": []
          },
          "execution_count": 88
        }
      ]
    },
    {
      "cell_type": "code",
      "metadata": {
        "id": "lhGOL1V_9yGl"
      },
      "source": [
        "# teacher forcing \r\n",
        "for i in range(len(tokenized_output)):\r\n",
        "  tokenized_output[i] = tokenized_output[i][1:]"
      ],
      "execution_count": null,
      "outputs": []
    },
    {
      "cell_type": "code",
      "metadata": {
        "id": "gX7vRUyv-yYQ"
      },
      "source": [
        "# padding\r\n",
        "maxlen_output = max( [ len(x) for x in tokenized_output ] )\r\n",
        "padded_output = preprocessing.sequence.pad_sequences( tokenized_output, maxlen=maxlen_output, padding='post')"
      ],
      "execution_count": null,
      "outputs": []
    },
    {
      "cell_type": "code",
      "metadata": {
        "colab": {
          "base_uri": "https://localhost:8080/"
        },
        "id": "oNftKpUF_nCt",
        "outputId": "8889b917-73e8-48fc-87c2-ad0af89669fd"
      },
      "source": [
        "# converting to numpy \r\n",
        "decoder_input_data = np.array( padded_output )\r\n",
        "decoder_input_data[2000:2010]"
      ],
      "execution_count": null,
      "outputs": [
        {
          "output_type": "execute_result",
          "data": {
            "text/plain": [
              "array([[  11, 1147,   26,  108,    2,    0,    0,    0,    0],\n",
              "       [  51,   17,  135,    2,    0,    0,    0,    0,    0],\n",
              "       [  11,   51,   17,  135,    2,    0,    0,    0,    0],\n",
              "       [  11,   51,   13,  224,    2,    0,    0,    0,    0],\n",
              "       [  51,   59,    2,    0,    0,    0,    0,    0,    0],\n",
              "       [  51,   20,    2,    0,    0,    0,    0,    0,    0],\n",
              "       [  28,   51,    2,    0,    0,    0,    0,    0,    0],\n",
              "       [  37,   51,    2,    0,    0,    0,    0,    0,    0],\n",
              "       [  51,   88,    2,    0,    0,    0,    0,    0,    0],\n",
              "       [  51,   19,    2,    0,    0,    0,    0,    0,    0]],\n",
              "      dtype=int32)"
            ]
          },
          "metadata": {
            "tags": []
          },
          "execution_count": 92
        }
      ]
    },
    {
      "cell_type": "code",
      "metadata": {
        "id": "Rmw4JoXtAmNL"
      },
      "source": [
        "# decorder_target_output\r\n",
        "decorder_target_one_hot = np.zeros((len(input_texts), maxlen_output, output_vocab_size), dtype='float32')\r\n",
        "\r\n",
        "for i, d in enumerate(padded_output):\r\n",
        "  for t, word in enumerate(d):\r\n",
        "    decorder_target_one_hot[i, t, word] = 1"
      ],
      "execution_count": null,
      "outputs": []
    },
    {
      "cell_type": "code",
      "metadata": {
        "colab": {
          "base_uri": "https://localhost:8080/"
        },
        "id": "dyHeTbb1COMZ",
        "outputId": "931beb2c-feaf-4579-8675-473641a1732a"
      },
      "source": [
        "decorder_target_one_hot[0]"
      ],
      "execution_count": null,
      "outputs": [
        {
          "output_type": "execute_result",
          "data": {
            "text/plain": [
              "array([[0., 0., 0., ..., 0., 0., 0.],\n",
              "       [0., 0., 1., ..., 0., 0., 0.],\n",
              "       [1., 0., 0., ..., 0., 0., 0.],\n",
              "       ...,\n",
              "       [1., 0., 0., ..., 0., 0., 0.],\n",
              "       [1., 0., 0., ..., 0., 0., 0.],\n",
              "       [1., 0., 0., ..., 0., 0., 0.]], dtype=float32)"
            ]
          },
          "metadata": {
            "tags": []
          },
          "execution_count": 94
        }
      ]
    },
    {
      "cell_type": "markdown",
      "metadata": {
        "id": "IQ9n_DErCWXr"
      },
      "source": [
        "## **The input sequence is first fed to the embedding layer which converts the words in the input sequences into word vectors. These word vectors are then passed as input to the encoder layer.**"
      ]
    },
    {
      "cell_type": "markdown",
      "metadata": {
        "id": "Qm0D9RSLCZ5p"
      },
      "source": [
        "## **Downloading word embedding**\r\n",
        "\r\n",
        "#### **If you have not downloaded the Glove word embedding to your Google drive, uncomment the following lines to download the file.**"
      ]
    },
    {
      "cell_type": "code",
      "metadata": {
        "colab": {
          "base_uri": "https://localhost:8080/"
        },
        "id": "vALGrYjvCR_N",
        "outputId": "427732da-baea-4d90-c252-937e482a57fa"
      },
      "source": [
        "!pip install wget\r\n",
        "!wget http://nlp.stanford.edu/data/glove.6B.zip #downloading glove word embedding layer\r\n",
        "!unzip glove*.zip"
      ],
      "execution_count": null,
      "outputs": [
        {
          "output_type": "stream",
          "text": [
            "Collecting wget\n",
            "  Downloading https://files.pythonhosted.org/packages/47/6a/62e288da7bcda82b935ff0c6cfe542970f04e29c756b0e147251b2fb251f/wget-3.2.zip\n",
            "Building wheels for collected packages: wget\n",
            "  Building wheel for wget (setup.py) ... \u001b[?25l\u001b[?25hdone\n",
            "  Created wheel for wget: filename=wget-3.2-cp36-none-any.whl size=9682 sha256=4fbbc0ad96431a7bff3f0cd56c2d5f9ca56883723fa351c89f43f9207eb7b2e4\n",
            "  Stored in directory: /root/.cache/pip/wheels/40/15/30/7d8f7cea2902b4db79e3fea550d7d7b85ecb27ef992b618f3f\n",
            "Successfully built wget\n",
            "Installing collected packages: wget\n",
            "Successfully installed wget-3.2\n",
            "--2021-02-13 20:18:24--  http://nlp.stanford.edu/data/glove.6B.zip\n",
            "Resolving nlp.stanford.edu (nlp.stanford.edu)... 171.64.67.140\n",
            "Connecting to nlp.stanford.edu (nlp.stanford.edu)|171.64.67.140|:80... connected.\n",
            "HTTP request sent, awaiting response... 302 Found\n",
            "Location: https://nlp.stanford.edu/data/glove.6B.zip [following]\n",
            "--2021-02-13 20:18:24--  https://nlp.stanford.edu/data/glove.6B.zip\n",
            "Connecting to nlp.stanford.edu (nlp.stanford.edu)|171.64.67.140|:443... connected.\n",
            "HTTP request sent, awaiting response... 301 Moved Permanently\n",
            "Location: http://downloads.cs.stanford.edu/nlp/data/glove.6B.zip [following]\n",
            "--2021-02-13 20:18:25--  http://downloads.cs.stanford.edu/nlp/data/glove.6B.zip\n",
            "Resolving downloads.cs.stanford.edu (downloads.cs.stanford.edu)... 171.64.64.22\n",
            "Connecting to downloads.cs.stanford.edu (downloads.cs.stanford.edu)|171.64.64.22|:80... connected.\n",
            "HTTP request sent, awaiting response... 200 OK\n",
            "Length: 862182613 (822M) [application/zip]\n",
            "Saving to: ‘glove.6B.zip’\n",
            "\n",
            "glove.6B.zip        100%[===================>] 822.24M  2.02MB/s    in 6m 51s  \n",
            "\n",
            "2021-02-13 20:25:16 (2.00 MB/s) - ‘glove.6B.zip’ saved [862182613/862182613]\n",
            "\n",
            "Archive:  glove.6B.zip\n",
            "  inflating: glove.6B.50d.txt        \n",
            "  inflating: glove.6B.100d.txt       \n",
            "  inflating: glove.6B.200d.txt       \n",
            "  inflating: glove.6B.300d.txt       \n"
          ],
          "name": "stdout"
        }
      ]
    },
    {
      "cell_type": "markdown",
      "metadata": {
        "id": "EGnUrLCcH0Py"
      },
      "source": [
        "## **Word to Vectors dictionary**"
      ]
    },
    {
      "cell_type": "code",
      "metadata": {
        "colab": {
          "base_uri": "https://localhost:8080/"
        },
        "id": "S-foOxmrC1Q8",
        "outputId": "35a1b054-1bbe-432a-b922-a9ae67b1941c"
      },
      "source": [
        "# creating dictionary of words corresponding to vectors\r\n",
        "print('Indexing word vectors.')\r\n",
        "\r\n",
        "embeddings_index = {}\r\n",
        "# use this command in case of downloading using wget above \r\n",
        "f = open('glove.6B.200d.txt', encoding='utf-8')"
      ],
      "execution_count": null,
      "outputs": [
        {
          "output_type": "stream",
          "text": [
            "Indexing word vectors.\n"
          ],
          "name": "stdout"
        }
      ]
    },
    {
      "cell_type": "code",
      "metadata": {
        "colab": {
          "base_uri": "https://localhost:8080/"
        },
        "id": "pH27heAAJDAb",
        "outputId": "bf11d1a3-7995-4b1a-a239-a60e21450e3d"
      },
      "source": [
        "for line in f:\r\n",
        "  values = line.split()\r\n",
        "  word = values[0]\r\n",
        "  coefs = np.asarray(values[1:], dtype='float32')\r\n",
        "  embeddings_index[word] = coefs\r\n",
        "\r\n",
        "f.close()\r\n",
        "\r\n",
        "print('Found %s word vectors. ' % len(embeddings_index))"
      ],
      "execution_count": null,
      "outputs": [
        {
          "output_type": "stream",
          "text": [
            "Found 400000 word vectors. \n"
          ],
          "name": "stdout"
        }
      ]
    },
    {
      "cell_type": "code",
      "metadata": {
        "colab": {
          "base_uri": "https://localhost:8080/"
        },
        "id": "MvJwvBPdK8lT",
        "outputId": "83489741-ab1b-4373-d730-ea1f1c793f00"
      },
      "source": [
        "embeddings_index['any']"
      ],
      "execution_count": null,
      "outputs": [
        {
          "output_type": "execute_result",
          "data": {
            "text/plain": [
              "array([ 6.3113e-01,  4.3183e-01,  2.3103e-01, -6.4909e-01,  2.3744e-01,\n",
              "        4.4619e-01, -8.6148e-01,  2.9341e-01,  8.0033e-02,  8.5633e-03,\n",
              "        1.0165e-01,  6.2783e-01,  2.5047e-01,  5.2425e-02,  6.3045e-01,\n",
              "       -4.0008e-02,  2.5212e-01,  6.2147e-01,  6.6967e-02, -7.9787e-02,\n",
              "       -2.1607e-02,  3.4236e+00, -4.7925e-02,  2.4620e-01, -2.8834e-02,\n",
              "        4.0330e-02, -2.7858e-01, -2.7939e-01,  3.5606e-01, -5.7373e-01,\n",
              "       -9.9960e-02, -3.2374e-01,  1.7812e-01,  2.0671e-02,  2.3637e-01,\n",
              "       -1.7074e-01, -4.9345e-01, -4.0289e-01, -3.4184e-01, -1.9405e-01,\n",
              "        4.2506e-01, -3.0081e-01,  1.9997e-01,  6.7150e-01, -1.0461e-01,\n",
              "       -8.7182e-03, -4.4562e-02,  1.7045e-01,  6.5912e-01,  8.9096e-02,\n",
              "       -1.4178e-01, -5.8817e-01, -2.9699e-01,  4.5901e-01,  6.1475e-01,\n",
              "        2.2455e-01,  2.8778e-01, -8.0486e-02, -1.6625e-01,  4.9791e-01,\n",
              "       -1.0441e-02, -1.7307e-01, -1.1364e-01, -1.7177e-01,  6.5001e-01,\n",
              "       -2.0709e-01, -2.5923e-03,  6.8332e-01,  1.3556e-01,  4.2812e-01,\n",
              "        7.3191e-01,  9.6278e-02, -1.3272e-01, -2.5073e-01, -2.8397e-01,\n",
              "        4.2765e-01, -2.2704e-01, -9.0328e-01,  1.3683e-01, -2.2358e-01,\n",
              "        7.0136e-02, -6.2926e-02,  3.0040e-01,  1.6226e-01,  7.0656e-03,\n",
              "       -3.0515e-01, -3.3873e-01, -3.4821e-01,  4.5319e-01, -1.2759e+00,\n",
              "        3.5765e-01,  2.8696e-01,  9.5111e-01,  4.9315e-02, -1.0982e-01,\n",
              "       -1.0340e-01, -7.7415e-02,  1.2165e-01, -4.0848e-01,  5.1662e-03,\n",
              "        5.0023e-01,  3.0727e-02, -3.6101e-02, -2.3839e-01, -6.9315e-02,\n",
              "       -3.6846e-02, -2.1026e-02,  1.1545e+00, -7.4401e-02, -2.9412e-01,\n",
              "       -3.4114e-02, -4.6706e-01,  2.0023e-01, -7.7832e-03,  3.5352e-01,\n",
              "       -5.9343e-02,  1.3922e-01, -8.5423e-01, -1.4959e-01, -1.4127e-01,\n",
              "        3.4172e-01,  3.1567e-01,  3.2408e-01,  1.6529e-01, -3.7918e-01,\n",
              "       -2.4857e-01,  2.2490e-01,  3.4110e-01,  2.5160e-01, -1.9514e-01,\n",
              "       -9.2207e-01,  6.1380e-01,  2.6206e-02, -3.9753e-01, -7.4722e-02,\n",
              "        1.7763e-01, -1.1809e-01, -2.3232e-01, -1.3906e-01, -4.5938e-01,\n",
              "        5.2323e-02,  1.7218e-01,  4.3271e-01, -2.3432e-01,  1.3041e+00,\n",
              "        9.5481e-02, -9.7652e-02,  1.6550e-02, -2.0664e-01, -1.7194e-01,\n",
              "       -4.2629e-01,  7.8176e-01, -3.8817e-01,  3.0179e-01, -2.4771e-01,\n",
              "       -1.3819e-01,  4.3340e-02,  1.2504e-01, -1.8626e-01,  2.0074e-01,\n",
              "       -1.6998e-01, -4.6707e-02,  4.8090e-01, -1.8230e-01, -4.7500e-01,\n",
              "        1.3439e-01, -3.1879e-01,  1.1585e-01, -6.8483e-01,  9.3870e-01,\n",
              "        4.9493e-02,  9.8050e-02, -3.5161e-01, -1.7529e-02,  1.3332e-01,\n",
              "       -1.4423e-01, -2.9472e-01,  4.9777e-01,  1.5164e-01,  1.3853e-02,\n",
              "        1.0823e+00, -1.3419e-01, -4.4366e-03, -2.8620e-01,  5.2703e-02,\n",
              "       -4.6192e-02, -8.5992e-02,  2.5092e-01,  3.0081e-01,  3.2117e-01,\n",
              "       -3.6467e-01, -1.4922e-01,  2.5013e-02, -5.4957e-02, -1.4740e-02,\n",
              "        2.2784e-01,  4.8475e-02, -7.4814e-02, -1.2299e-01, -1.1001e-01],\n",
              "      dtype=float32)"
            ]
          },
          "metadata": {
            "tags": []
          },
          "execution_count": 100
        }
      ]
    },
    {
      "cell_type": "markdown",
      "metadata": {
        "id": "fe3GcfYYMFMP"
      },
      "source": [
        "### **Extracting for our input vocabulary**"
      ]
    },
    {
      "cell_type": "code",
      "metadata": {
        "colab": {
          "base_uri": "https://localhost:8080/"
        },
        "id": "v8NB6xAVLLWN",
        "outputId": "22c5e319-3bf7-4ce5-974d-fab054c203d6"
      },
      "source": [
        "# embedding matrix \r\n",
        "num_words = len(tokenizer_in.word_index) + 1\r\n",
        "word2idx_input = tokenizer_in.word_index \r\n",
        "embedding_matrix = np.zeros((num_words, 200))\r\n",
        "\r\n",
        "for word, i in word2idx_input.items():\r\n",
        "  if i < num_words:\r\n",
        "    embedding_vector = embedding_index.get(word)\r\n",
        "\r\n",
        "  if embedding_vector is not None:\r\n",
        "    embedding_matrix[i] = embedding_index\r\n",
        "\r\n",
        "embedding_matrix.shape\r\n"
      ],
      "execution_count": null,
      "outputs": [
        {
          "output_type": "execute_result",
          "data": {
            "text/plain": [
              "(2332, 200)"
            ]
          },
          "metadata": {
            "tags": []
          },
          "execution_count": 101
        }
      ]
    },
    {
      "cell_type": "markdown",
      "metadata": {
        "id": "3zFzxblpOoMW"
      },
      "source": [
        "### **Embedding layer**"
      ]
    },
    {
      "cell_type": "code",
      "metadata": {
        "id": "ZtIS0OkpOZlL"
      },
      "source": [
        "# lstm hidden dimensions\r\n",
        "LATTENT_DIM = 256\r\n",
        "\r\n",
        "# Embedding layer dimensions\r\n",
        "EMBEDDING_DIM = 200"
      ],
      "execution_count": null,
      "outputs": []
    },
    {
      "cell_type": "code",
      "metadata": {
        "id": "h_w1jqX1O5RX"
      },
      "source": [
        "embedding_layer = Embedding(input_vocab_size, EMBEDDING_DIM, weights=[embedding_matrix], input_length=maxlen_input)"
      ],
      "execution_count": null,
      "outputs": []
    },
    {
      "cell_type": "markdown",
      "metadata": {
        "id": "9Vcj08kqRarE"
      },
      "source": [
        "## **Defining Encoder**"
      ]
    },
    {
      "cell_type": "code",
      "metadata": {
        "id": "_TiaVIfkPUV7"
      },
      "source": [
        "# encoder \r\n",
        "encoder_inputs = Input(shape=(maxlen_input), name='encoder_input')\r\n",
        "encoder_input = embedding_layer(encoder_inputs)\r\n",
        "encoder = Bidirectional(LSTM(LATTENT_DIM, return_sequences=True, dropout=0.3, name='encoder_bidirection'))\r\n",
        "encoder_outputs = encoder(encoder_input)"
      ],
      "execution_count": null,
      "outputs": []
    },
    {
      "cell_type": "code",
      "metadata": {
        "colab": {
          "base_uri": "https://localhost:8080/"
        },
        "id": "UrdhPHZOT3jx",
        "outputId": "5a261f33-9143-43e2-fbc2-a20b16b23e14"
      },
      "source": [
        "encoder_outputs.shape"
      ],
      "execution_count": null,
      "outputs": [
        {
          "output_type": "execute_result",
          "data": {
            "text/plain": [
              "TensorShape([None, 5, 512])"
            ]
          },
          "metadata": {
            "tags": []
          },
          "execution_count": 107
        }
      ]
    },
    {
      "cell_type": "markdown",
      "metadata": {
        "id": "7uJu-2JDUJ2C"
      },
      "source": [
        "### **Decoder Network**"
      ]
    },
    {
      "cell_type": "code",
      "metadata": {
        "id": "vVaM9pBpUBX-"
      },
      "source": [
        "decoder_inputs = Input(shape=(maxlen_output,), name='decoder_input')\r\n",
        "decoder_embedding = Embedding(output_vocab_size, EMBEDDING_DIM, name='decoder_embedding')\r\n",
        "decoder_input = decoder_embedding(decoder_inputs)"
      ],
      "execution_count": null,
      "outputs": []
    },
    {
      "cell_type": "code",
      "metadata": {
        "colab": {
          "base_uri": "https://localhost:8080/"
        },
        "id": "1-7FLGpYUsxk",
        "outputId": "0cdc5ba5-47ac-4f07-af8f-0144e7965313"
      },
      "source": [
        "decoder_input.shape"
      ],
      "execution_count": null,
      "outputs": [
        {
          "output_type": "execute_result",
          "data": {
            "text/plain": [
              "TensorShape([None, 9, 200])"
            ]
          },
          "metadata": {
            "tags": []
          },
          "execution_count": 109
        }
      ]
    },
    {
      "cell_type": "markdown",
      "metadata": {
        "id": "qf0Z5gm2U6d1"
      },
      "source": [
        "### **Defining Decoder layers**"
      ]
    },
    {
      "cell_type": "code",
      "metadata": {
        "id": "B167hpIYUyPM"
      },
      "source": [
        "# decoder lstm\r\n",
        "decoder_lstm = LSTM(LATTENT_DIM, return_state=True, name= 'decoder_lstm')\r\n",
        "# decoder dense with softmax for predicting each word \r\n",
        "decoder_dense = Dense(output_vocab_size, activation='softmax', name='decoder_dense')"
      ],
      "execution_count": null,
      "outputs": []
    },
    {
      "cell_type": "markdown",
      "metadata": {
        "id": "Dqppvr8jVv9a"
      },
      "source": [
        "## **Attention Network**"
      ]
    },
    {
      "cell_type": "markdown",
      "metadata": {
        "id": "cMeGobyeV5mW"
      },
      "source": [
        "### **Defining Softmax layer**"
      ]
    },
    {
      "cell_type": "code",
      "metadata": {
        "id": "6j0MBmzdVoaH"
      },
      "source": [
        "# computing alphas\r\n",
        "import tensorflow.keras.backend as k\r\n",
        "def softmax_attention(x):\r\n",
        "  assert(k.ndim(x)>2)\r\n",
        "\r\n",
        "\r\n",
        "  e = k.exp(x-k.max(x, axis=1, keepdims=True))\r\n",
        "  s = k.sum(e, axis=1, keepdims=True)\r\n",
        "  return e/s"
      ],
      "execution_count": null,
      "outputs": []
    },
    {
      "cell_type": "markdown",
      "metadata": {
        "id": "OURMJSCFZoTz"
      },
      "source": [
        "## **Attention Layers**"
      ]
    },
    {
      "cell_type": "code",
      "metadata": {
        "id": "_IcVdZF3YLhI"
      },
      "source": [
        "# neural network layers for our repeated use\r\n",
        "attention_repeat = RepeatVector(maxlen_input)\r\n",
        "attention_concat = Concatenate(axis=-1)\r\n",
        "dense1_layer = Dense(10, activation='tanh')\r\n",
        "dense2_layer = Dense(1, activation=softmax_attention)\r\n",
        "dot_layer = Dot(axes=1)"
      ],
      "execution_count": null,
      "outputs": []
    },
    {
      "cell_type": "code",
      "metadata": {
        "id": "__oGJRyObYQ6"
      },
      "source": [
        "# computing attention context\r\n",
        "def context_attention(h, st_1):\r\n",
        "  st_1 = attention_repeat(st_1)\r\n",
        "  x = attention_concat([h, st_1])\r\n",
        "  x = dense1_layer(x)\r\n",
        "  alpha= dense2_layer(x)\r\n",
        "  context = dot_layer([alpha, h])\r\n",
        "  return context"
      ],
      "execution_count": null,
      "outputs": []
    },
    {
      "cell_type": "markdown",
      "metadata": {
        "id": "0bKXnGiScTNy"
      },
      "source": [
        "## **Collecting outputs**"
      ]
    },
    {
      "cell_type": "code",
      "metadata": {
        "id": "GU5e4Wg9cDrh"
      },
      "source": [
        "# intital states to be fed\r\n",
        "initial_s = Input(shape=(LATTENT_DIM,), name='s0')\r\n",
        "initial_c = Input(shape=(LATTENT_DIM,), name='c0')\r\n",
        "context_last_word_concat_layer = Concatenate(axis=2)"
      ],
      "execution_count": null,
      "outputs": []
    },
    {
      "cell_type": "code",
      "metadata": {
        "id": "mJcdCJZFdsfp"
      },
      "source": [
        "s = initial_s\r\n",
        "c = initial_c\r\n",
        "outputs = []\r\n",
        "\r\n",
        "# collect output in a list at first\r\n",
        "for t in range(maxlen_output):\r\n",
        "  # get the context using attention mechanism\r\n",
        "  context = context_attention(encoder_outputs, s)\r\n",
        "\r\n",
        "  # we need a different layer for each time step\r\n",
        "  selector = Lambda(lambda x: x[:, t:t+1])\r\n",
        "  x_t = selector(decoder_input)\r\n",
        "\r\n",
        "\r\n",
        "  # combine \r\n",
        "  decoder_lstm_input = context_last_word_concat_layer([context, x_t])\r\n",
        "  x_t = selector(decoder_input)\r\n",
        "\r\n",
        "\r\n",
        "  # pass the combined [context, last word] into lstm\r\n",
        "  # along with [s, c]\r\n",
        "  # get the new[s, c] and output\r\n",
        "  out, s, c = decoder_lstm(decoder_lstm_input, initial_state=[s, c])\r\n",
        "\r\n",
        "  # final dense layer to get next word prediction\r\n",
        "  decoder_outputs = decoder_dense(out)\r\n",
        "  outputs.append(decoder_outputs)"
      ],
      "execution_count": null,
      "outputs": []
    },
    {
      "cell_type": "code",
      "metadata": {
        "colab": {
          "base_uri": "https://localhost:8080/"
        },
        "id": "jUsqyZCEhNRq",
        "outputId": "23108b5a-d4b1-4bf9-c5a2-fc84e0f2d630"
      },
      "source": [
        "outputs"
      ],
      "execution_count": null,
      "outputs": [
        {
          "output_type": "execute_result",
          "data": {
            "text/plain": [
              "[<KerasTensor: shape=(None, 4964) dtype=float32 (created by layer 'decoder_dense')>,\n",
              " <KerasTensor: shape=(None, 4964) dtype=float32 (created by layer 'decoder_dense')>,\n",
              " <KerasTensor: shape=(None, 4964) dtype=float32 (created by layer 'decoder_dense')>,\n",
              " <KerasTensor: shape=(None, 4964) dtype=float32 (created by layer 'decoder_dense')>,\n",
              " <KerasTensor: shape=(None, 4964) dtype=float32 (created by layer 'decoder_dense')>,\n",
              " <KerasTensor: shape=(None, 4964) dtype=float32 (created by layer 'decoder_dense')>,\n",
              " <KerasTensor: shape=(None, 4964) dtype=float32 (created by layer 'decoder_dense')>,\n",
              " <KerasTensor: shape=(None, 4964) dtype=float32 (created by layer 'decoder_dense')>,\n",
              " <KerasTensor: shape=(None, 4964) dtype=float32 (created by layer 'decoder_dense')>]"
            ]
          },
          "metadata": {
            "tags": []
          },
          "execution_count": 117
        }
      ]
    },
    {
      "cell_type": "code",
      "metadata": {
        "id": "IUwzJuqphbtb"
      },
      "source": [
        "# 'outputs' is now a list of length Ty\r\n",
        "# each element is of shape (batch_size, output vocab size)\r\n",
        "# thereof if we simply stack all the outputs into 1 tensor\r\n",
        "# it would be shape of T x N x D\r\n",
        "# we would like it to be shape of N x T x D"
      ],
      "execution_count": null,
      "outputs": []
    },
    {
      "cell_type": "code",
      "metadata": {
        "id": "wwV4fBcriE4E"
      },
      "source": [
        "def stack(x):\r\n",
        "  x = k.stack(x)\r\n",
        "  x = k.permute_dimensions(x, pattern=(1,0,2))\r\n",
        "  return x"
      ],
      "execution_count": null,
      "outputs": []
    },
    {
      "cell_type": "code",
      "metadata": {
        "colab": {
          "base_uri": "https://localhost:8080/"
        },
        "id": "yD1Zdlympcso",
        "outputId": "4def1398-125b-488b-e169-ea9d257449db"
      },
      "source": [
        "stacker = Lambda(stack)\r\n",
        "outputs = stacker(outputs)\r\n",
        "outputs\r\n"
      ],
      "execution_count": null,
      "outputs": [
        {
          "output_type": "execute_result",
          "data": {
            "text/plain": [
              "<KerasTensor: shape=(None, 9, 4964) dtype=float32 (created by layer 'lambda_9')>"
            ]
          },
          "metadata": {
            "tags": []
          },
          "execution_count": 121
        }
      ]
    },
    {
      "cell_type": "markdown",
      "metadata": {
        "id": "G6mqNLropuZ2"
      },
      "source": [
        "## **Defining model**"
      ]
    },
    {
      "cell_type": "code",
      "metadata": {
        "id": "8cXu-7dapojX"
      },
      "source": [
        "model = Model(inputs = [encoder_inputs, decoder_inputs, initial_s, initial_c ], outputs=outputs)\r\n"
      ],
      "execution_count": null,
      "outputs": []
    },
    {
      "cell_type": "code",
      "metadata": {
        "colab": {
          "base_uri": "https://localhost:8080/"
        },
        "id": "4iJ43uXBqMZ_",
        "outputId": "7c0bb71e-296a-4868-b3f9-bdbe50e82275"
      },
      "source": [
        "model.summary()"
      ],
      "execution_count": null,
      "outputs": [
        {
          "output_type": "stream",
          "text": [
            "Model: \"model\"\n",
            "__________________________________________________________________________________________________\n",
            "Layer (type)                    Output Shape         Param #     Connected to                     \n",
            "==================================================================================================\n",
            "encoder_input (InputLayer)      [(None, 5)]          0                                            \n",
            "__________________________________________________________________________________________________\n",
            "embedding (Embedding)           (None, 5, 200)       466400      encoder_input[0][0]              \n",
            "__________________________________________________________________________________________________\n",
            "s0 (InputLayer)                 [(None, 256)]        0                                            \n",
            "__________________________________________________________________________________________________\n",
            "bidirectional (Bidirectional)   (None, 5, 512)       935936      embedding[0][0]                  \n",
            "__________________________________________________________________________________________________\n",
            "repeat_vector (RepeatVector)    (None, 5, 256)       0           s0[0][0]                         \n",
            "                                                                 decoder_lstm[0][1]               \n",
            "                                                                 decoder_lstm[1][1]               \n",
            "                                                                 decoder_lstm[2][1]               \n",
            "                                                                 decoder_lstm[3][1]               \n",
            "                                                                 decoder_lstm[4][1]               \n",
            "                                                                 decoder_lstm[5][1]               \n",
            "                                                                 decoder_lstm[6][1]               \n",
            "                                                                 decoder_lstm[7][1]               \n",
            "__________________________________________________________________________________________________\n",
            "concatenate (Concatenate)       (None, 5, 768)       0           bidirectional[0][0]              \n",
            "                                                                 repeat_vector[0][0]              \n",
            "                                                                 bidirectional[0][0]              \n",
            "                                                                 repeat_vector[1][0]              \n",
            "                                                                 bidirectional[0][0]              \n",
            "                                                                 repeat_vector[2][0]              \n",
            "                                                                 bidirectional[0][0]              \n",
            "                                                                 repeat_vector[3][0]              \n",
            "                                                                 bidirectional[0][0]              \n",
            "                                                                 repeat_vector[4][0]              \n",
            "                                                                 bidirectional[0][0]              \n",
            "                                                                 repeat_vector[5][0]              \n",
            "                                                                 bidirectional[0][0]              \n",
            "                                                                 repeat_vector[6][0]              \n",
            "                                                                 bidirectional[0][0]              \n",
            "                                                                 repeat_vector[7][0]              \n",
            "                                                                 bidirectional[0][0]              \n",
            "                                                                 repeat_vector[8][0]              \n",
            "__________________________________________________________________________________________________\n",
            "dense (Dense)                   (None, 5, 10)        7690        concatenate[0][0]                \n",
            "                                                                 concatenate[1][0]                \n",
            "                                                                 concatenate[2][0]                \n",
            "                                                                 concatenate[3][0]                \n",
            "                                                                 concatenate[4][0]                \n",
            "                                                                 concatenate[5][0]                \n",
            "                                                                 concatenate[6][0]                \n",
            "                                                                 concatenate[7][0]                \n",
            "                                                                 concatenate[8][0]                \n",
            "__________________________________________________________________________________________________\n",
            "decoder_input (InputLayer)      [(None, 9)]          0                                            \n",
            "__________________________________________________________________________________________________\n",
            "dense_1 (Dense)                 (None, 5, 1)         11          dense[0][0]                      \n",
            "                                                                 dense[1][0]                      \n",
            "                                                                 dense[2][0]                      \n",
            "                                                                 dense[3][0]                      \n",
            "                                                                 dense[4][0]                      \n",
            "                                                                 dense[5][0]                      \n",
            "                                                                 dense[6][0]                      \n",
            "                                                                 dense[7][0]                      \n",
            "                                                                 dense[8][0]                      \n",
            "__________________________________________________________________________________________________\n",
            "decoder_embedding (Embedding)   (None, 9, 200)       992800      decoder_input[0][0]              \n",
            "__________________________________________________________________________________________________\n",
            "dot (Dot)                       (None, 1, 512)       0           dense_1[0][0]                    \n",
            "                                                                 bidirectional[0][0]              \n",
            "                                                                 dense_1[1][0]                    \n",
            "                                                                 bidirectional[0][0]              \n",
            "                                                                 dense_1[2][0]                    \n",
            "                                                                 bidirectional[0][0]              \n",
            "                                                                 dense_1[3][0]                    \n",
            "                                                                 bidirectional[0][0]              \n",
            "                                                                 dense_1[4][0]                    \n",
            "                                                                 bidirectional[0][0]              \n",
            "                                                                 dense_1[5][0]                    \n",
            "                                                                 bidirectional[0][0]              \n",
            "                                                                 dense_1[6][0]                    \n",
            "                                                                 bidirectional[0][0]              \n",
            "                                                                 dense_1[7][0]                    \n",
            "                                                                 bidirectional[0][0]              \n",
            "                                                                 dense_1[8][0]                    \n",
            "                                                                 bidirectional[0][0]              \n",
            "__________________________________________________________________________________________________\n",
            "lambda (Lambda)                 (None, 1, 200)       0           decoder_embedding[0][0]          \n",
            "__________________________________________________________________________________________________\n",
            "concatenate_1 (Concatenate)     (None, 1, 712)       0           dot[0][0]                        \n",
            "                                                                 lambda[0][0]                     \n",
            "                                                                 dot[1][0]                        \n",
            "                                                                 lambda_1[0][0]                   \n",
            "                                                                 dot[2][0]                        \n",
            "                                                                 lambda_2[0][0]                   \n",
            "                                                                 dot[3][0]                        \n",
            "                                                                 lambda_3[0][0]                   \n",
            "                                                                 dot[4][0]                        \n",
            "                                                                 lambda_4[0][0]                   \n",
            "                                                                 dot[5][0]                        \n",
            "                                                                 lambda_5[0][0]                   \n",
            "                                                                 dot[6][0]                        \n",
            "                                                                 lambda_6[0][0]                   \n",
            "                                                                 dot[7][0]                        \n",
            "                                                                 lambda_7[0][0]                   \n",
            "                                                                 dot[8][0]                        \n",
            "                                                                 lambda_8[0][0]                   \n",
            "__________________________________________________________________________________________________\n",
            "c0 (InputLayer)                 [(None, 256)]        0                                            \n",
            "__________________________________________________________________________________________________\n",
            "decoder_lstm (LSTM)             [(None, 256), (None, 992256      concatenate_1[0][0]              \n",
            "                                                                 s0[0][0]                         \n",
            "                                                                 c0[0][0]                         \n",
            "                                                                 concatenate_1[1][0]              \n",
            "                                                                 decoder_lstm[0][1]               \n",
            "                                                                 decoder_lstm[0][2]               \n",
            "                                                                 concatenate_1[2][0]              \n",
            "                                                                 decoder_lstm[1][1]               \n",
            "                                                                 decoder_lstm[1][2]               \n",
            "                                                                 concatenate_1[3][0]              \n",
            "                                                                 decoder_lstm[2][1]               \n",
            "                                                                 decoder_lstm[2][2]               \n",
            "                                                                 concatenate_1[4][0]              \n",
            "                                                                 decoder_lstm[3][1]               \n",
            "                                                                 decoder_lstm[3][2]               \n",
            "                                                                 concatenate_1[5][0]              \n",
            "                                                                 decoder_lstm[4][1]               \n",
            "                                                                 decoder_lstm[4][2]               \n",
            "                                                                 concatenate_1[6][0]              \n",
            "                                                                 decoder_lstm[5][1]               \n",
            "                                                                 decoder_lstm[5][2]               \n",
            "                                                                 concatenate_1[7][0]              \n",
            "                                                                 decoder_lstm[6][1]               \n",
            "                                                                 decoder_lstm[6][2]               \n",
            "                                                                 concatenate_1[8][0]              \n",
            "                                                                 decoder_lstm[7][1]               \n",
            "                                                                 decoder_lstm[7][2]               \n",
            "__________________________________________________________________________________________________\n",
            "lambda_1 (Lambda)               (None, 1, 200)       0           decoder_embedding[0][0]          \n",
            "__________________________________________________________________________________________________\n",
            "lambda_2 (Lambda)               (None, 1, 200)       0           decoder_embedding[0][0]          \n",
            "__________________________________________________________________________________________________\n",
            "lambda_3 (Lambda)               (None, 1, 200)       0           decoder_embedding[0][0]          \n",
            "__________________________________________________________________________________________________\n",
            "lambda_4 (Lambda)               (None, 1, 200)       0           decoder_embedding[0][0]          \n",
            "__________________________________________________________________________________________________\n",
            "lambda_5 (Lambda)               (None, 1, 200)       0           decoder_embedding[0][0]          \n",
            "__________________________________________________________________________________________________\n",
            "lambda_6 (Lambda)               (None, 1, 200)       0           decoder_embedding[0][0]          \n",
            "__________________________________________________________________________________________________\n",
            "lambda_7 (Lambda)               (None, 1, 200)       0           decoder_embedding[0][0]          \n",
            "__________________________________________________________________________________________________\n",
            "lambda_8 (Lambda)               (None, 1, 200)       0           decoder_embedding[0][0]          \n",
            "__________________________________________________________________________________________________\n",
            "decoder_dense (Dense)           (None, 4964)         1275748     decoder_lstm[0][0]               \n",
            "                                                                 decoder_lstm[1][0]               \n",
            "                                                                 decoder_lstm[2][0]               \n",
            "                                                                 decoder_lstm[3][0]               \n",
            "                                                                 decoder_lstm[4][0]               \n",
            "                                                                 decoder_lstm[5][0]               \n",
            "                                                                 decoder_lstm[6][0]               \n",
            "                                                                 decoder_lstm[7][0]               \n",
            "                                                                 decoder_lstm[8][0]               \n",
            "__________________________________________________________________________________________________\n",
            "lambda_9 (Lambda)               (None, 9, 4964)      0           decoder_dense[0][0]              \n",
            "                                                                 decoder_dense[1][0]              \n",
            "                                                                 decoder_dense[2][0]              \n",
            "                                                                 decoder_dense[3][0]              \n",
            "                                                                 decoder_dense[4][0]              \n",
            "                                                                 decoder_dense[5][0]              \n",
            "                                                                 decoder_dense[6][0]              \n",
            "                                                                 decoder_dense[7][0]              \n",
            "                                                                 decoder_dense[8][0]              \n",
            "==================================================================================================\n",
            "Total params: 4,670,841\n",
            "Trainable params: 4,670,841\n",
            "Non-trainable params: 0\n",
            "__________________________________________________________________________________________________\n"
          ],
          "name": "stdout"
        }
      ]
    },
    {
      "cell_type": "code",
      "metadata": {
        "colab": {
          "base_uri": "https://localhost:8080/",
          "height": 830
        },
        "id": "dtD9uJayqTiF",
        "outputId": "0fe531de-555b-4ccf-d333-410299776d70"
      },
      "source": [
        "tf.keras.utils.plot_model(model)"
      ],
      "execution_count": null,
      "outputs": [
        {
          "output_type": "execute_result",
          "data": {
            "image/png": "[encoded data removed]",
            "text/plain": [
              "<IPython.core.display.Image object>"
            ]
          },
          "metadata": {
            "tags": []
          },
          "execution_count": 125
        }
      ]
    },
    {
      "cell_type": "code",
      "metadata": {
        "id": "wqObHhBRqqEn"
      },
      "source": [
        "model.compile(optimizer='adam', loss='categorical_crossentropy', metrics=['accuracy'])"
      ],
      "execution_count": null,
      "outputs": []
    },
    {
      "cell_type": "markdown",
      "metadata": {
        "id": "sMGVrDKhq-w2"
      },
      "source": [
        "### **Training**"
      ]
    },
    {
      "cell_type": "code",
      "metadata": {
        "colab": {
          "base_uri": "https://localhost:8080/"
        },
        "id": "fjfhCtP-q9JU",
        "outputId": "3be1e5e0-eeb0-4846-d515-e917d22fde0d"
      },
      "source": [
        "initial_s_training = np.zeros((NUM_SAMPLES, LATTENT_DIM))\r\n",
        "initial_c_training = np.zeros(shape=(NUM_SAMPLES, LATTENT_DIM))\r\n",
        "r = model.fit([encoder_input_data, decoder_input_data, initial_s_training, initial_c_training], decorder_target_one_hot, batch_size=100, epochs=100, validation_split=0.3)"
      ],
      "execution_count": null,
      "outputs": [
        {
          "output_type": "stream",
          "text": [
            "Epoch 1/100\n",
            "70/70 [==============================] - 25s 109ms/step - loss: 5.3601 - accuracy: 0.5495 - val_loss: 3.0592 - val_accuracy: 0.5301\n",
            "Epoch 2/100\n",
            "70/70 [==============================] - 4s 64ms/step - loss: 2.4064 - accuracy: 0.6277 - val_loss: 2.8725 - val_accuracy: 0.5753\n",
            "Epoch 3/100\n",
            "70/70 [==============================] - 4s 63ms/step - loss: 2.2577 - accuracy: 0.6516 - val_loss: 2.8288 - val_accuracy: 0.5873\n",
            "Epoch 4/100\n",
            "70/70 [==============================] - 4s 64ms/step - loss: 2.1654 - accuracy: 0.6651 - val_loss: 2.8306 - val_accuracy: 0.5870\n",
            "Epoch 5/100\n",
            "70/70 [==============================] - 4s 63ms/step - loss: 2.1050 - accuracy: 0.6708 - val_loss: 2.7765 - val_accuracy: 0.5990\n",
            "Epoch 6/100\n",
            "70/70 [==============================] - 4s 62ms/step - loss: 2.0772 - accuracy: 0.6745 - val_loss: 2.7591 - val_accuracy: 0.5989\n",
            "Epoch 7/100\n",
            "70/70 [==============================] - 4s 63ms/step - loss: 2.0417 - accuracy: 0.6807 - val_loss: 2.7593 - val_accuracy: 0.6123\n",
            "Epoch 8/100\n",
            "70/70 [==============================] - 4s 63ms/step - loss: 2.0352 - accuracy: 0.6794 - val_loss: 2.7795 - val_accuracy: 0.6086\n",
            "Epoch 9/100\n",
            "70/70 [==============================] - 4s 63ms/step - loss: 2.0041 - accuracy: 0.6805 - val_loss: 2.7582 - val_accuracy: 0.6099\n",
            "Epoch 10/100\n",
            "70/70 [==============================] - 4s 65ms/step - loss: 1.9665 - accuracy: 0.6823 - val_loss: 2.7514 - val_accuracy: 0.6103\n",
            "Epoch 11/100\n",
            "70/70 [==============================] - 4s 62ms/step - loss: 1.9290 - accuracy: 0.6882 - val_loss: 2.7324 - val_accuracy: 0.6133\n",
            "Epoch 12/100\n",
            "70/70 [==============================] - 4s 63ms/step - loss: 1.9072 - accuracy: 0.6895 - val_loss: 2.7169 - val_accuracy: 0.6147\n",
            "Epoch 13/100\n",
            "70/70 [==============================] - 4s 63ms/step - loss: 1.8813 - accuracy: 0.6889 - val_loss: 2.7220 - val_accuracy: 0.6118\n",
            "Epoch 14/100\n",
            "70/70 [==============================] - 4s 63ms/step - loss: 1.8496 - accuracy: 0.6927 - val_loss: 2.7217 - val_accuracy: 0.6152\n",
            "Epoch 15/100\n",
            "70/70 [==============================] - 4s 62ms/step - loss: 1.8329 - accuracy: 0.6919 - val_loss: 2.7137 - val_accuracy: 0.6178\n",
            "Epoch 16/100\n",
            "70/70 [==============================] - 4s 63ms/step - loss: 1.8052 - accuracy: 0.6947 - val_loss: 2.7189 - val_accuracy: 0.6167\n",
            "Epoch 17/100\n",
            "70/70 [==============================] - 4s 63ms/step - loss: 1.7885 - accuracy: 0.6936 - val_loss: 2.7157 - val_accuracy: 0.6160\n",
            "Epoch 18/100\n",
            "70/70 [==============================] - 4s 63ms/step - loss: 1.7581 - accuracy: 0.6982 - val_loss: 2.7426 - val_accuracy: 0.6150\n",
            "Epoch 19/100\n",
            "70/70 [==============================] - 4s 64ms/step - loss: 1.7314 - accuracy: 0.6986 - val_loss: 2.7228 - val_accuracy: 0.6186\n",
            "Epoch 20/100\n",
            "70/70 [==============================] - 4s 62ms/step - loss: 1.6978 - accuracy: 0.7042 - val_loss: 2.7248 - val_accuracy: 0.6179\n",
            "Epoch 21/100\n",
            "70/70 [==============================] - 4s 62ms/step - loss: 1.6671 - accuracy: 0.7069 - val_loss: 2.7386 - val_accuracy: 0.6171\n",
            "Epoch 22/100\n",
            "70/70 [==============================] - 4s 63ms/step - loss: 1.6490 - accuracy: 0.7070 - val_loss: 2.7111 - val_accuracy: 0.6184\n",
            "Epoch 23/100\n",
            "70/70 [==============================] - 4s 62ms/step - loss: 1.6391 - accuracy: 0.7061 - val_loss: 2.6873 - val_accuracy: 0.6246\n",
            "Epoch 24/100\n",
            "70/70 [==============================] - 4s 62ms/step - loss: 1.6062 - accuracy: 0.7116 - val_loss: 2.6764 - val_accuracy: 0.6273\n",
            "Epoch 25/100\n",
            "70/70 [==============================] - 4s 63ms/step - loss: 1.5641 - accuracy: 0.7163 - val_loss: 2.6827 - val_accuracy: 0.6259\n",
            "Epoch 26/100\n",
            "70/70 [==============================] - 4s 62ms/step - loss: 1.5442 - accuracy: 0.7152 - val_loss: 2.6722 - val_accuracy: 0.6283\n",
            "Epoch 27/100\n",
            "70/70 [==============================] - 4s 62ms/step - loss: 1.5096 - accuracy: 0.7182 - val_loss: 2.6637 - val_accuracy: 0.6298\n",
            "Epoch 28/100\n",
            "70/70 [==============================] - 4s 63ms/step - loss: 1.4855 - accuracy: 0.7202 - val_loss: 2.6671 - val_accuracy: 0.6309\n",
            "Epoch 29/100\n",
            "70/70 [==============================] - 4s 63ms/step - loss: 1.4383 - accuracy: 0.7258 - val_loss: 2.6655 - val_accuracy: 0.6304\n",
            "Epoch 30/100\n",
            "70/70 [==============================] - 4s 62ms/step - loss: 1.4311 - accuracy: 0.7249 - val_loss: 2.6541 - val_accuracy: 0.6324\n",
            "Epoch 31/100\n",
            "70/70 [==============================] - 4s 63ms/step - loss: 1.4072 - accuracy: 0.7268 - val_loss: 2.6436 - val_accuracy: 0.6359\n",
            "Epoch 32/100\n",
            "70/70 [==============================] - 4s 63ms/step - loss: 1.3804 - accuracy: 0.7313 - val_loss: 2.6264 - val_accuracy: 0.6395\n",
            "Epoch 33/100\n",
            "70/70 [==============================] - 4s 64ms/step - loss: 1.3391 - accuracy: 0.7352 - val_loss: 2.6413 - val_accuracy: 0.6412\n",
            "Epoch 34/100\n",
            "70/70 [==============================] - 4s 64ms/step - loss: 1.3162 - accuracy: 0.7361 - val_loss: 2.6278 - val_accuracy: 0.6416\n",
            "Epoch 35/100\n",
            "70/70 [==============================] - 4s 63ms/step - loss: 1.2876 - accuracy: 0.7407 - val_loss: 2.6382 - val_accuracy: 0.6413\n",
            "Epoch 36/100\n",
            "70/70 [==============================] - 4s 62ms/step - loss: 1.2483 - accuracy: 0.7443 - val_loss: 2.6131 - val_accuracy: 0.6429\n",
            "Epoch 37/100\n",
            "70/70 [==============================] - 4s 64ms/step - loss: 1.2257 - accuracy: 0.7459 - val_loss: 2.6110 - val_accuracy: 0.6477\n",
            "Epoch 38/100\n",
            "70/70 [==============================] - 4s 62ms/step - loss: 1.1996 - accuracy: 0.7498 - val_loss: 2.6100 - val_accuracy: 0.6484\n",
            "Epoch 39/100\n",
            "70/70 [==============================] - 4s 63ms/step - loss: 1.1744 - accuracy: 0.7515 - val_loss: 2.6174 - val_accuracy: 0.6483\n",
            "Epoch 40/100\n",
            "70/70 [==============================] - 5s 65ms/step - loss: 1.1341 - accuracy: 0.7560 - val_loss: 2.6094 - val_accuracy: 0.6498\n",
            "Epoch 41/100\n",
            "70/70 [==============================] - 5s 65ms/step - loss: 1.1281 - accuracy: 0.7565 - val_loss: 2.6038 - val_accuracy: 0.6540\n",
            "Epoch 42/100\n",
            "70/70 [==============================] - 4s 64ms/step - loss: 1.0945 - accuracy: 0.7605 - val_loss: 2.6253 - val_accuracy: 0.6524\n",
            "Epoch 43/100\n",
            "70/70 [==============================] - 4s 63ms/step - loss: 1.0567 - accuracy: 0.7645 - val_loss: 2.6009 - val_accuracy: 0.6542\n",
            "Epoch 44/100\n",
            "70/70 [==============================] - 4s 63ms/step - loss: 1.0251 - accuracy: 0.7708 - val_loss: 2.6021 - val_accuracy: 0.6546\n",
            "Epoch 45/100\n",
            "70/70 [==============================] - 4s 62ms/step - loss: 1.0043 - accuracy: 0.7708 - val_loss: 2.5820 - val_accuracy: 0.6542\n",
            "Epoch 46/100\n",
            "70/70 [==============================] - 4s 63ms/step - loss: 0.9815 - accuracy: 0.7744 - val_loss: 2.5854 - val_accuracy: 0.6560\n",
            "Epoch 47/100\n",
            "70/70 [==============================] - 4s 63ms/step - loss: 0.9577 - accuracy: 0.7772 - val_loss: 2.5791 - val_accuracy: 0.6566\n",
            "Epoch 48/100\n",
            "70/70 [==============================] - 4s 63ms/step - loss: 0.9200 - accuracy: 0.7832 - val_loss: 2.6088 - val_accuracy: 0.6552\n",
            "Epoch 49/100\n",
            "70/70 [==============================] - 4s 62ms/step - loss: 0.9020 - accuracy: 0.7837 - val_loss: 2.5864 - val_accuracy: 0.6579\n",
            "Epoch 50/100\n",
            "70/70 [==============================] - 4s 62ms/step - loss: 0.8724 - accuracy: 0.7910 - val_loss: 2.5645 - val_accuracy: 0.6595\n",
            "Epoch 51/100\n",
            "70/70 [==============================] - 4s 62ms/step - loss: 0.8620 - accuracy: 0.7900 - val_loss: 2.5791 - val_accuracy: 0.6597\n",
            "Epoch 52/100\n",
            "70/70 [==============================] - 4s 64ms/step - loss: 0.8329 - accuracy: 0.7955 - val_loss: 2.5934 - val_accuracy: 0.6593\n",
            "Epoch 53/100\n",
            "70/70 [==============================] - 4s 62ms/step - loss: 0.8179 - accuracy: 0.7992 - val_loss: 2.5986 - val_accuracy: 0.6600\n",
            "Epoch 54/100\n",
            "70/70 [==============================] - 4s 63ms/step - loss: 0.7978 - accuracy: 0.8002 - val_loss: 2.5726 - val_accuracy: 0.6614\n",
            "Epoch 55/100\n",
            "70/70 [==============================] - 4s 62ms/step - loss: 0.7696 - accuracy: 0.8078 - val_loss: 2.5715 - val_accuracy: 0.6642\n",
            "Epoch 56/100\n",
            "70/70 [==============================] - 4s 63ms/step - loss: 0.7401 - accuracy: 0.8121 - val_loss: 2.5771 - val_accuracy: 0.6624\n",
            "Epoch 57/100\n",
            "70/70 [==============================] - 5s 64ms/step - loss: 0.7307 - accuracy: 0.8147 - val_loss: 2.5862 - val_accuracy: 0.6629\n",
            "Epoch 58/100\n",
            "70/70 [==============================] - 5s 65ms/step - loss: 0.7064 - accuracy: 0.8205 - val_loss: 2.5737 - val_accuracy: 0.6616\n",
            "Epoch 59/100\n",
            "70/70 [==============================] - 4s 63ms/step - loss: 0.6962 - accuracy: 0.8215 - val_loss: 2.5824 - val_accuracy: 0.6630\n",
            "Epoch 60/100\n",
            "70/70 [==============================] - 4s 64ms/step - loss: 0.6630 - accuracy: 0.8283 - val_loss: 2.5848 - val_accuracy: 0.6622\n",
            "Epoch 61/100\n",
            "70/70 [==============================] - 4s 64ms/step - loss: 0.6468 - accuracy: 0.8322 - val_loss: 2.5919 - val_accuracy: 0.6629\n",
            "Epoch 62/100\n",
            "70/70 [==============================] - 4s 64ms/step - loss: 0.6289 - accuracy: 0.8341 - val_loss: 2.5823 - val_accuracy: 0.6655\n",
            "Epoch 63/100\n",
            "70/70 [==============================] - 4s 62ms/step - loss: 0.6084 - accuracy: 0.8386 - val_loss: 2.5969 - val_accuracy: 0.6650\n",
            "Epoch 64/100\n",
            "70/70 [==============================] - 4s 63ms/step - loss: 0.5947 - accuracy: 0.8422 - val_loss: 2.5852 - val_accuracy: 0.6643\n",
            "Epoch 65/100\n",
            "70/70 [==============================] - 4s 63ms/step - loss: 0.5861 - accuracy: 0.8433 - val_loss: 2.5938 - val_accuracy: 0.6643\n",
            "Epoch 66/100\n",
            "70/70 [==============================] - 4s 64ms/step - loss: 0.5640 - accuracy: 0.8503 - val_loss: 2.6073 - val_accuracy: 0.6640\n",
            "Epoch 67/100\n",
            "70/70 [==============================] - 4s 64ms/step - loss: 0.5492 - accuracy: 0.8513 - val_loss: 2.5954 - val_accuracy: 0.6660\n",
            "Epoch 68/100\n",
            "70/70 [==============================] - 4s 62ms/step - loss: 0.5330 - accuracy: 0.8559 - val_loss: 2.5755 - val_accuracy: 0.6651\n",
            "Epoch 69/100\n",
            "70/70 [==============================] - 4s 63ms/step - loss: 0.5173 - accuracy: 0.8585 - val_loss: 2.5940 - val_accuracy: 0.6670\n",
            "Epoch 70/100\n",
            "70/70 [==============================] - 4s 63ms/step - loss: 0.5036 - accuracy: 0.8614 - val_loss: 2.6102 - val_accuracy: 0.6664\n",
            "Epoch 71/100\n",
            "70/70 [==============================] - 4s 63ms/step - loss: 0.4884 - accuracy: 0.8637 - val_loss: 2.6168 - val_accuracy: 0.6688\n",
            "Epoch 72/100\n",
            "70/70 [==============================] - 4s 62ms/step - loss: 0.4794 - accuracy: 0.8641 - val_loss: 2.6088 - val_accuracy: 0.6661\n",
            "Epoch 73/100\n",
            "70/70 [==============================] - 4s 63ms/step - loss: 0.4792 - accuracy: 0.8656 - val_loss: 2.6130 - val_accuracy: 0.6673\n",
            "Epoch 74/100\n",
            "70/70 [==============================] - 4s 64ms/step - loss: 0.4534 - accuracy: 0.8706 - val_loss: 2.6271 - val_accuracy: 0.6667\n",
            "Epoch 75/100\n",
            "70/70 [==============================] - 5s 66ms/step - loss: 0.4424 - accuracy: 0.8736 - val_loss: 2.6251 - val_accuracy: 0.6671\n",
            "Epoch 76/100\n",
            "70/70 [==============================] - 4s 64ms/step - loss: 0.4317 - accuracy: 0.8738 - val_loss: 2.5842 - val_accuracy: 0.6676\n",
            "Epoch 77/100\n",
            "70/70 [==============================] - 4s 64ms/step - loss: 0.4269 - accuracy: 0.8759 - val_loss: 2.6366 - val_accuracy: 0.6698\n",
            "Epoch 78/100\n",
            "70/70 [==============================] - 4s 64ms/step - loss: 0.4167 - accuracy: 0.8775 - val_loss: 2.6298 - val_accuracy: 0.6703\n",
            "Epoch 79/100\n",
            "70/70 [==============================] - 4s 63ms/step - loss: 0.4028 - accuracy: 0.8803 - val_loss: 2.6395 - val_accuracy: 0.6713\n",
            "Epoch 80/100\n",
            "70/70 [==============================] - 4s 64ms/step - loss: 0.3945 - accuracy: 0.8810 - val_loss: 2.6372 - val_accuracy: 0.6700\n",
            "Epoch 81/100\n",
            "70/70 [==============================] - 4s 64ms/step - loss: 0.3858 - accuracy: 0.8846 - val_loss: 2.6351 - val_accuracy: 0.6683\n",
            "Epoch 82/100\n",
            "70/70 [==============================] - 5s 65ms/step - loss: 0.3770 - accuracy: 0.8843 - val_loss: 2.6388 - val_accuracy: 0.6714\n",
            "Epoch 83/100\n",
            "70/70 [==============================] - 4s 64ms/step - loss: 0.3739 - accuracy: 0.8840 - val_loss: 2.6351 - val_accuracy: 0.6694\n",
            "Epoch 84/100\n",
            "70/70 [==============================] - 4s 63ms/step - loss: 0.3640 - accuracy: 0.8861 - val_loss: 2.6671 - val_accuracy: 0.6686\n",
            "Epoch 85/100\n",
            "70/70 [==============================] - 4s 64ms/step - loss: 0.3596 - accuracy: 0.8863 - val_loss: 2.6646 - val_accuracy: 0.6711\n",
            "Epoch 86/100\n",
            "70/70 [==============================] - 4s 63ms/step - loss: 0.3450 - accuracy: 0.8903 - val_loss: 2.6777 - val_accuracy: 0.6711\n",
            "Epoch 87/100\n",
            "70/70 [==============================] - 4s 63ms/step - loss: 0.3423 - accuracy: 0.8882 - val_loss: 2.6491 - val_accuracy: 0.6698\n",
            "Epoch 88/100\n",
            "70/70 [==============================] - 4s 64ms/step - loss: 0.3395 - accuracy: 0.8900 - val_loss: 2.6695 - val_accuracy: 0.6703\n",
            "Epoch 89/100\n",
            "70/70 [==============================] - 4s 63ms/step - loss: 0.3237 - accuracy: 0.8943 - val_loss: 2.6660 - val_accuracy: 0.6691\n",
            "Epoch 90/100\n",
            "70/70 [==============================] - 5s 65ms/step - loss: 0.3236 - accuracy: 0.8942 - val_loss: 2.6836 - val_accuracy: 0.6717\n",
            "Epoch 91/100\n",
            "70/70 [==============================] - 5s 65ms/step - loss: 0.3166 - accuracy: 0.8939 - val_loss: 2.7085 - val_accuracy: 0.6720\n",
            "Epoch 92/100\n",
            "70/70 [==============================] - 4s 64ms/step - loss: 0.3040 - accuracy: 0.8981 - val_loss: 2.7043 - val_accuracy: 0.6716\n",
            "Epoch 93/100\n",
            "70/70 [==============================] - 4s 63ms/step - loss: 0.3070 - accuracy: 0.8966 - val_loss: 2.6946 - val_accuracy: 0.6726\n",
            "Epoch 94/100\n",
            "70/70 [==============================] - 4s 63ms/step - loss: 0.3011 - accuracy: 0.8959 - val_loss: 2.7030 - val_accuracy: 0.6727\n",
            "Epoch 95/100\n",
            "70/70 [==============================] - 5s 65ms/step - loss: 0.2964 - accuracy: 0.8963 - val_loss: 2.6984 - val_accuracy: 0.6709\n",
            "Epoch 96/100\n",
            "70/70 [==============================] - 5s 65ms/step - loss: 0.2853 - accuracy: 0.8985 - val_loss: 2.6973 - val_accuracy: 0.6723\n",
            "Epoch 97/100\n",
            "70/70 [==============================] - 4s 64ms/step - loss: 0.2825 - accuracy: 0.9002 - val_loss: 2.7003 - val_accuracy: 0.6724\n",
            "Epoch 98/100\n",
            "70/70 [==============================] - 4s 64ms/step - loss: 0.2776 - accuracy: 0.9026 - val_loss: 2.7038 - val_accuracy: 0.6736\n",
            "Epoch 99/100\n",
            "70/70 [==============================] - 4s 64ms/step - loss: 0.2757 - accuracy: 0.9010 - val_loss: 2.7033 - val_accuracy: 0.6725\n",
            "Epoch 100/100\n",
            "70/70 [==============================] - 5s 65ms/step - loss: 0.2629 - accuracy: 0.9070 - val_loss: 2.7033 - val_accuracy: 0.6726\n"
          ],
          "name": "stdout"
        }
      ]
    },
    {
      "cell_type": "markdown",
      "metadata": {
        "id": "0-1BoH6nt41l"
      },
      "source": [
        "## **Encoder model**"
      ]
    },
    {
      "cell_type": "code",
      "metadata": {
        "id": "p0xfsUwfryKe"
      },
      "source": [
        "encoder_model = Model(encoder_inputs, encoder_outputs)"
      ],
      "execution_count": null,
      "outputs": []
    },
    {
      "cell_type": "code",
      "metadata": {
        "colab": {
          "base_uri": "https://localhost:8080/"
        },
        "id": "hTHx4s0suJoI",
        "outputId": "96f063fd-0308-41ee-b330-fa2801f13828"
      },
      "source": [
        "encoder_model.summary()"
      ],
      "execution_count": null,
      "outputs": [
        {
          "output_type": "stream",
          "text": [
            "Model: \"model_1\"\n",
            "_________________________________________________________________\n",
            "Layer (type)                 Output Shape              Param #   \n",
            "=================================================================\n",
            "encoder_input (InputLayer)   [(None, 5)]               0         \n",
            "_________________________________________________________________\n",
            "embedding (Embedding)        (None, 5, 200)            466400    \n",
            "_________________________________________________________________\n",
            "bidirectional (Bidirectional (None, 5, 512)            935936    \n",
            "=================================================================\n",
            "Total params: 1,402,336\n",
            "Trainable params: 1,402,336\n",
            "Non-trainable params: 0\n",
            "_________________________________________________________________\n"
          ],
          "name": "stdout"
        }
      ]
    },
    {
      "cell_type": "code",
      "metadata": {
        "colab": {
          "base_uri": "https://localhost:8080/",
          "height": 272
        },
        "id": "RdWYTnDYuM7P",
        "outputId": "637bd51b-ba1e-4a74-910e-5ac26b893f44"
      },
      "source": [
        "tf.keras.utils.plot_model(encoder_model)"
      ],
      "execution_count": null,
      "outputs": [
        {
          "output_type": "execute_result",
          "data": {
            "image/png": "[encoded data removed]",
            "text/plain": [
              "<IPython.core.display.Image object>"
            ]
          },
          "metadata": {
            "tags": []
          },
          "execution_count": 131
        }
      ]
    },
    {
      "cell_type": "markdown",
      "metadata": {
        "id": "Gtc1CohsudPg"
      },
      "source": [
        "## **Decoder Model**"
      ]
    },
    {
      "cell_type": "code",
      "metadata": {
        "id": "JJW7Yq37uY-e"
      },
      "source": [
        "# input will have the length double of latent dimension due to bidirectional\r\n",
        "encoder_outputs_as_input = Input(shape=(maxlen_input, LATTENT_DIM * 2))\r\n",
        "# we are going to predict one word at a time with input of one word\r\n",
        "decoder_input_embedding = Input(shape=(1,))\r\n",
        "decoder_input_ = decoder_embedding(decoder_input_embedding)"
      ],
      "execution_count": null,
      "outputs": []
    },
    {
      "cell_type": "code",
      "metadata": {
        "id": "GmeZGbU_vQEQ"
      },
      "source": [
        "# calculating context \r\n",
        "context = context_attention(encoder_outputs_as_input, initial_s)"
      ],
      "execution_count": null,
      "outputs": []
    },
    {
      "cell_type": "code",
      "metadata": {
        "id": "ZC3SydWNvefd"
      },
      "source": [
        "decoder_lstm_input = context_last_word_concat_layer([context, decoder_input_])"
      ],
      "execution_count": null,
      "outputs": []
    },
    {
      "cell_type": "code",
      "metadata": {
        "id": "t--V2oJkvsRM"
      },
      "source": [
        "out, s, c, = decoder_lstm(decoder_lstm_input, initial_state=[initial_s, initial_c])\r\n",
        "decoder_outputs = decoder_dense(out)"
      ],
      "execution_count": null,
      "outputs": []
    },
    {
      "cell_type": "code",
      "metadata": {
        "colab": {
          "base_uri": "https://localhost:8080/"
        },
        "id": "HxFWXgcvv_H7",
        "outputId": "164d331a-45ea-4080-d1b2-f3914326d5a5"
      },
      "source": [
        "decoder_model = Model(\r\n",
        "    inputs = [decoder_input_embedding, encoder_outputs_as_input, initial_s, initial_c], outputs=[decoder_outputs, s, c]\r\n",
        ")\r\n",
        "\r\n",
        "decoder_model.summary()"
      ],
      "execution_count": null,
      "outputs": [
        {
          "output_type": "stream",
          "text": [
            "Model: \"model_2\"\n",
            "__________________________________________________________________________________________________\n",
            "Layer (type)                    Output Shape         Param #     Connected to                     \n",
            "==================================================================================================\n",
            "s0 (InputLayer)                 [(None, 256)]        0                                            \n",
            "__________________________________________________________________________________________________\n",
            "input_1 (InputLayer)            [(None, 5, 512)]     0                                            \n",
            "__________________________________________________________________________________________________\n",
            "repeat_vector (RepeatVector)    (None, 5, 256)       0           s0[0][0]                         \n",
            "__________________________________________________________________________________________________\n",
            "concatenate (Concatenate)       (None, 5, 768)       0           input_1[0][0]                    \n",
            "                                                                 repeat_vector[9][0]              \n",
            "__________________________________________________________________________________________________\n",
            "dense (Dense)                   (None, 5, 10)        7690        concatenate[9][0]                \n",
            "__________________________________________________________________________________________________\n",
            "dense_1 (Dense)                 (None, 5, 1)         11          dense[9][0]                      \n",
            "__________________________________________________________________________________________________\n",
            "input_2 (InputLayer)            [(None, 1)]          0                                            \n",
            "__________________________________________________________________________________________________\n",
            "dot (Dot)                       (None, 1, 512)       0           dense_1[9][0]                    \n",
            "                                                                 input_1[0][0]                    \n",
            "__________________________________________________________________________________________________\n",
            "decoder_embedding (Embedding)   multiple             992800      input_2[0][0]                    \n",
            "__________________________________________________________________________________________________\n",
            "concatenate_1 (Concatenate)     (None, 1, 712)       0           dot[9][0]                        \n",
            "                                                                 decoder_embedding[1][0]          \n",
            "__________________________________________________________________________________________________\n",
            "c0 (InputLayer)                 [(None, 256)]        0                                            \n",
            "__________________________________________________________________________________________________\n",
            "decoder_lstm (LSTM)             [(None, 256), (None, 992256      concatenate_1[9][0]              \n",
            "                                                                 s0[0][0]                         \n",
            "                                                                 c0[0][0]                         \n",
            "__________________________________________________________________________________________________\n",
            "decoder_dense (Dense)           (None, 4964)         1275748     decoder_lstm[9][0]               \n",
            "==================================================================================================\n",
            "Total params: 3,268,505\n",
            "Trainable params: 3,268,505\n",
            "Non-trainable params: 0\n",
            "__________________________________________________________________________________________________\n"
          ],
          "name": "stdout"
        }
      ]
    },
    {
      "cell_type": "code",
      "metadata": {
        "colab": {
          "base_uri": "https://localhost:8080/",
          "height": 856
        },
        "id": "RnDsIFV4wal9",
        "outputId": "942bfd9c-9266-472b-a234-0d5b2575a926"
      },
      "source": [
        "tf.keras.utils.plot_model(decoder_model)"
      ],
      "execution_count": null,
      "outputs": [
        {
          "output_type": "execute_result",
          "data": {
            "image/png": "[encoded data removed]",
            "text/plain": [
              "<IPython.core.display.Image object>"
            ]
          },
          "metadata": {
            "tags": []
          },
          "execution_count": 137
        }
      ]
    },
    {
      "cell_type": "markdown",
      "metadata": {
        "id": "aMxnjS8Vw3cb"
      },
      "source": [
        "## **Translating**"
      ]
    },
    {
      "cell_type": "code",
      "metadata": {
        "id": "JOzUYJrnwkwb"
      },
      "source": [
        "word2index_input = tokenizer_in.word_index\r\n",
        "word2index_output = tokenizer_out.word_index \r\n",
        "\r\n",
        "# reverse mapping integer to words for english\r\n",
        "idx2word_eng = {v:k for k, v in word2index_input.items()}\r\n",
        "\r\n",
        "# reverse mapping integer to words for spanish\r\n",
        "idx2word_trans = {v:k for k, v in word2index_output.items()}"
      ],
      "execution_count": null,
      "outputs": []
    },
    {
      "cell_type": "code",
      "metadata": {
        "id": "BQFQE2q_x7rd"
      },
      "source": [
        "def decode_sequence(input_seq):\r\n",
        "  # Encode the input as state vectors.\r\n",
        "  enc_out = encoder_model.predict(input_seq)\r\n",
        "\r\n",
        "  # Generate empty target sequence of length 1\r\n",
        "  target_seq = np.zeros((1, 1))\r\n",
        "\r\n",
        "  # Populate the first character of target sequence with the start character.\r\n",
        "  # NOTE: tokenizer lower-case all words\r\n",
        "  target_seq[0, 0] = word2index_output['<start>']\r\n",
        "\r\n",
        "  # if we get this we break\r\n",
        "  End_statement = word2index_output['<end>']\r\n",
        "\r\n",
        "  # [s, c] will be updated in each loop iteration\r\n",
        "  s = np.zeros((1, LATTENT_DIM))\r\n",
        "  c = np.zeros((1, LATTENT_DIM))\r\n",
        "\r\n",
        "  # Create the translation\r\n",
        "  output_sentence = []\r\n",
        "\r\n",
        "  for _ in range(maxlen_output):\r\n",
        "    out, s, c = decoder_model.predict([target_seq, enc_out, s, c])\r\n",
        "\r\n",
        "    # Get next word\r\n",
        "    index = np.argmax(out.flatten())\r\n",
        "\r\n",
        "    # End sentence\r\n",
        "    if End_statement == index:\r\n",
        "      break\r\n",
        "\r\n",
        "    word = ''\r\n",
        "    if index > 0:\r\n",
        "      word = idx2word_trans[index]\r\n",
        "      output_sentence.append(word)\r\n",
        "\r\n",
        "    # Update the decoder input\r\n",
        "    # which is just the word just generated\r\n",
        "    target_seq[0, 0] = index\r\n",
        "\r\n",
        "  return ' '.join(output_sentence)\r\n",
        "\r\n",
        "  "
      ],
      "execution_count": null,
      "outputs": []
    },
    {
      "cell_type": "code",
      "metadata": {
        "colab": {
          "base_uri": "https://localhost:8080/"
        },
        "id": "VexPVuUU1VZW",
        "outputId": "d30faccc-ff0c-4662-b41e-c51e794f49b3"
      },
      "source": [
        "count = 0\r\n",
        "while (count<5):\r\n",
        "\r\n",
        "  input_text = [str(input('input the sentence: '))]\r\n",
        "  seq = tokenizer_in.texts_to_sequences(input_text)\r\n",
        "\r\n",
        "  input_seq = pad_sequences(seq, maxlen=maxlen_input, padding='post')\r\n",
        "  translation = decode_sequence(input_seq)\r\n",
        "\r\n",
        "\r\n",
        "  print('Predicted translation : ', translation)\r\n",
        "  count = count + 1"
      ],
      "execution_count": null,
      "outputs": [
        {
          "output_type": "stream",
          "text": [
            "input the sentence: Hello\n",
            "Predicted translation :  hola\n",
            "input the sentence: How are you?\n",
            "Predicted translation :  ¡qué están\n",
            "input the sentence: What are you doing?\n",
            "Predicted translation :  te te de\n",
            "input the sentence: see  you later\n",
            "Predicted translation :  tú en\n",
            "input the sentence: bye\n",
            "Predicted translation :  ¡ataque\n"
          ],
          "name": "stdout"
        }
      ]
    },
    {
      "cell_type": "code",
      "metadata": {
        "id": "h6ZC7Rbd2MkP"
      },
      "source": [
        ""
      ],
      "execution_count": null,
      "outputs": []
    }
  ]
}