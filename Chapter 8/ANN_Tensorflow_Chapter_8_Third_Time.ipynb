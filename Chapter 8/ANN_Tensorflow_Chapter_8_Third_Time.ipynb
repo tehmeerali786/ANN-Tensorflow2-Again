{
  "nbformat": 4,
  "nbformat_minor": 0,
  "metadata": {
    "colab": {
      "name": "ANN Tensorflow Chapter 8 Third Time.ipynb",
      "provenance": [],
      "collapsed_sections": []
    },
    "kernelspec": {
      "name": "python3",
      "display_name": "Python 3"
    },
    "language_info": {
      "name": "python"
    },
    "accelerator": "GPU"
  },
  "cells": [
    {
      "cell_type": "markdown",
      "metadata": {
        "id": "7Sz8Ae62lRtP"
      },
      "source": [
        "# **NEURAL MACHINE TRANSLATION USING ENCODER AND DECODER**\n",
        "# Translating from English to Spanish"
      ]
    },
    {
      "cell_type": "code",
      "metadata": {
        "id": "4cUNEAYklHvA"
      },
      "source": [
        "import tensorflow as tf\n",
        "\n",
        "from tensorflow.keras.models import Model\n",
        "from tensorflow.keras.layers import Input, Dense, LSTM, Embedding, Bidirectional, RepeatVector, Concatenate, Activation, Dot, Lambda\n",
        "from tensorflow.keras.preprocessing.text import Tokenizer \n",
        "from tensorflow.keras.preprocessing.sequence import pad_sequences \n",
        "from keras import preprocessing, utils \n",
        "import numpy as np\n",
        "import matplotlib.pyplot as plt"
      ],
      "execution_count": 3,
      "outputs": []
    },
    {
      "cell_type": "markdown",
      "metadata": {
        "id": "O9ZwLvPEm7ma"
      },
      "source": [
        "## Creating Datasets for Training"
      ]
    },
    {
      "cell_type": "code",
      "metadata": {
        "id": "B2Vc6OVrmje0"
      },
      "source": [
        "# reading data\n",
        "with open('/content/spa.txt', encoding='utf-8', errors='ignore') as file:\n",
        "  text = file.read().split('\\n')"
      ],
      "execution_count": 4,
      "outputs": []
    },
    {
      "cell_type": "code",
      "metadata": {
        "id": "CPgm8_nrpOWR",
        "colab": {
          "base_uri": "https://localhost:8080/"
        },
        "outputId": "8f372276-e5f3-401e-fd1c-3dc37a616fbe"
      },
      "source": [
        "len(text)"
      ],
      "execution_count": 5,
      "outputs": [
        {
          "output_type": "execute_result",
          "data": {
            "text/plain": [
              "122937"
            ]
          },
          "metadata": {
            "tags": []
          },
          "execution_count": 5
        }
      ]
    },
    {
      "cell_type": "code",
      "metadata": {
        "colab": {
          "base_uri": "https://localhost:8080/"
        },
        "id": "ivKlM-gFfveQ",
        "outputId": "fdc800fc-9f2b-419e-dc71-3852dc5542cc"
      },
      "source": [
        "# input and target data is separated by tab '\\t'\n",
        "text[:5]"
      ],
      "execution_count": 6,
      "outputs": [
        {
          "output_type": "execute_result",
          "data": {
            "text/plain": [
              "['Go.\\tVe.\\tCC-BY 2.0 (France) Attribution: tatoeba.org #2877272 (CM) & #4986655 (cueyayotl)',\n",
              " 'Go.\\tVete.\\tCC-BY 2.0 (France) Attribution: tatoeba.org #2877272 (CM) & #4986656 (cueyayotl)',\n",
              " 'Go.\\tVaya.\\tCC-BY 2.0 (France) Attribution: tatoeba.org #2877272 (CM) & #4986657 (cueyayotl)',\n",
              " 'Go.\\tVáyase.\\tCC-BY 2.0 (France) Attribution: tatoeba.org #2877272 (CM) & #6586271 (arh)',\n",
              " 'Hi.\\tHola.\\tCC-BY 2.0 (France) Attribution: tatoeba.org #538123 (CM) & #431975 (Leono)']"
            ]
          },
          "metadata": {
            "tags": []
          },
          "execution_count": 6
        }
      ]
    },
    {
      "cell_type": "code",
      "metadata": {
        "colab": {
          "base_uri": "https://localhost:8080/"
        },
        "id": "1XRmCp3ugcCf",
        "outputId": "8597782f-406b-455b-8d11-d58afdd9ced2"
      },
      "source": [
        "for t in text[100:110]:\n",
        "  print(t)"
      ],
      "execution_count": 7,
      "outputs": [
        {
          "output_type": "stream",
          "text": [
            "Be good.\tSed buenas.\tCC-BY 2.0 (France) Attribution: tatoeba.org #7932304 (Seael) & #7932308 (Seael)\n",
            "Be good.\tSed buenos.\tCC-BY 2.0 (France) Attribution: tatoeba.org #7932304 (Seael) & #7932309 (Seael)\n",
            "Be good.\tSea buena.\tCC-BY 2.0 (France) Attribution: tatoeba.org #7932304 (Seael) & #7932310 (Seael)\n",
            "Be good.\tSea bueno.\tCC-BY 2.0 (France) Attribution: tatoeba.org #7932304 (Seael) & #7932311 (Seael)\n",
            "Be good.\tSean buenas.\tCC-BY 2.0 (France) Attribution: tatoeba.org #7932304 (Seael) & #7932313 (Seael)\n",
            "Be good.\tSean buenos.\tCC-BY 2.0 (France) Attribution: tatoeba.org #7932304 (Seael) & #7932315 (Seael)\n",
            "Be kind.\tSean gentiles.\tCC-BY 2.0 (France) Attribution: tatoeba.org #1916315 (CK) & #2092229 (hayastan)\n",
            "Be nice.\tSé agradable.\tCC-BY 2.0 (France) Attribution: tatoeba.org #1916314 (CK) & #5769224 (arh)\n",
            "Beat it.\tPírate.\tCC-BY 2.0 (France) Attribution: tatoeba.org #37902 (CM) & #5769215 (arh)\n",
            "Call me.\tLlamame.\tCC-BY 2.0 (France) Attribution: tatoeba.org #1553532 (CK) & #1555788 (hayastan)\n"
          ],
          "name": "stdout"
        }
      ]
    },
    {
      "cell_type": "code",
      "metadata": {
        "colab": {
          "base_uri": "https://localhost:8080/"
        },
        "id": "H70NpnckguDu",
        "outputId": "5c5664ac-3fcd-4813-df99-85fee8da4e44"
      },
      "source": [
        "text[100:110]"
      ],
      "execution_count": 8,
      "outputs": [
        {
          "output_type": "execute_result",
          "data": {
            "text/plain": [
              "['Be good.\\tSed buenas.\\tCC-BY 2.0 (France) Attribution: tatoeba.org #7932304 (Seael) & #7932308 (Seael)',\n",
              " 'Be good.\\tSed buenos.\\tCC-BY 2.0 (France) Attribution: tatoeba.org #7932304 (Seael) & #7932309 (Seael)',\n",
              " 'Be good.\\tSea buena.\\tCC-BY 2.0 (France) Attribution: tatoeba.org #7932304 (Seael) & #7932310 (Seael)',\n",
              " 'Be good.\\tSea bueno.\\tCC-BY 2.0 (France) Attribution: tatoeba.org #7932304 (Seael) & #7932311 (Seael)',\n",
              " 'Be good.\\tSean buenas.\\tCC-BY 2.0 (France) Attribution: tatoeba.org #7932304 (Seael) & #7932313 (Seael)',\n",
              " 'Be good.\\tSean buenos.\\tCC-BY 2.0 (France) Attribution: tatoeba.org #7932304 (Seael) & #7932315 (Seael)',\n",
              " 'Be kind.\\tSean gentiles.\\tCC-BY 2.0 (France) Attribution: tatoeba.org #1916315 (CK) & #2092229 (hayastan)',\n",
              " 'Be nice.\\tSé agradable.\\tCC-BY 2.0 (France) Attribution: tatoeba.org #1916314 (CK) & #5769224 (arh)',\n",
              " 'Beat it.\\tPírate.\\tCC-BY 2.0 (France) Attribution: tatoeba.org #37902 (CM) & #5769215 (arh)',\n",
              " 'Call me.\\tLlamame.\\tCC-BY 2.0 (France) Attribution: tatoeba.org #1553532 (CK) & #1555788 (hayastan)']"
            ]
          },
          "metadata": {
            "tags": []
          },
          "execution_count": 8
        }
      ]
    },
    {
      "cell_type": "code",
      "metadata": {
        "id": "8Ig94sn2hLYM"
      },
      "source": [
        "# encoder input \n",
        "input_texts = []\n",
        "\n",
        "# decoder input \n",
        "target_texts = []"
      ],
      "execution_count": 9,
      "outputs": []
    },
    {
      "cell_type": "code",
      "metadata": {
        "id": "g1BagTg4hwwM"
      },
      "source": [
        "# we will select subset of the whole data \n",
        "NUM_SAMPLES = 10000\n",
        "\n",
        "for line in text[:NUM_SAMPLES]:\n",
        "  english, spanish = line.split('\\t')[:2]\n",
        "  target_text = spanish.lower()\n",
        "  input_texts.append(english.lower())\n",
        "  target_texts.append(target_text)"
      ],
      "execution_count": 10,
      "outputs": []
    },
    {
      "cell_type": "code",
      "metadata": {
        "colab": {
          "base_uri": "https://localhost:8080/"
        },
        "id": "yQBoFO77jExo",
        "outputId": "022e1588-fd1d-45da-a960-ad86a42b6259"
      },
      "source": [
        "print(input_texts[:5], target_texts[:5])"
      ],
      "execution_count": 11,
      "outputs": [
        {
          "output_type": "stream",
          "text": [
            "['go.', 'go.', 'go.', 'go.', 'hi.'] ['ve.', 'vete.', 'vaya.', 'váyase.', 'hola.']\n"
          ],
          "name": "stdout"
        }
      ]
    },
    {
      "cell_type": "markdown",
      "metadata": {
        "id": "6UFSUuKfkWTj"
      },
      "source": [
        "## Data Processing"
      ]
    },
    {
      "cell_type": "code",
      "metadata": {
        "colab": {
          "base_uri": "https://localhost:8080/"
        },
        "id": "rTaSqCnKkIjn",
        "outputId": "8b12f87d-d0ce-427f-dbeb-31c38b6faed0"
      },
      "source": [
        "import string \n",
        "print('Characters to be removed in preprocessing', string.punctuation)"
      ],
      "execution_count": 12,
      "outputs": [
        {
          "output_type": "stream",
          "text": [
            "Characters to be removed in preprocessing !\"#$%&'()*+,-./:;<=>?@[\\]^_`{|}~\n"
          ],
          "name": "stdout"
        }
      ]
    },
    {
      "cell_type": "code",
      "metadata": {
        "id": "BYU-Aovolmk1"
      },
      "source": [
        "# removing punctuation from target and input \n",
        "def remove_punctuation(s):\n",
        "  out = s.translate(str.maketrans(\"\", \"\", string.punctuation))\n",
        "  return out"
      ],
      "execution_count": 13,
      "outputs": []
    },
    {
      "cell_type": "code",
      "metadata": {
        "id": "xcM3E7v0nRFh"
      },
      "source": [
        "input_texts = [remove_punctuation(s) for s in input_texts]\n",
        "target_texts = [remove_punctuation(s) for s in target_texts]"
      ],
      "execution_count": 14,
      "outputs": []
    },
    {
      "cell_type": "code",
      "metadata": {
        "colab": {
          "base_uri": "https://localhost:8080/"
        },
        "id": "_L_9Ifj1oFz7",
        "outputId": "d83a19f8-a4a2-49e3-a653-d9e68c8786c3"
      },
      "source": [
        "input_texts[:5], target_texts[:5]"
      ],
      "execution_count": 15,
      "outputs": [
        {
          "output_type": "execute_result",
          "data": {
            "text/plain": [
              "(['go', 'go', 'go', 'go', 'hi'], ['ve', 'vete', 'vaya', 'váyase', 'hola'])"
            ]
          },
          "metadata": {
            "tags": []
          },
          "execution_count": 15
        }
      ]
    },
    {
      "cell_type": "code",
      "metadata": {
        "id": "0z2fmfhlpO6t"
      },
      "source": [
        "# adding start and end tags\n",
        "target_texts = ['<start> ' + s + ' <end>' for s in target_texts]"
      ],
      "execution_count": 16,
      "outputs": []
    },
    {
      "cell_type": "code",
      "metadata": {
        "colab": {
          "base_uri": "https://localhost:8080/",
          "height": 35
        },
        "id": "L_3tXkpiqC-b",
        "outputId": "107b8a00-ec50-4556-cb39-416266e3aa5a"
      },
      "source": [
        "target_texts[1]"
      ],
      "execution_count": 17,
      "outputs": [
        {
          "output_type": "execute_result",
          "data": {
            "application/vnd.google.colaboratory.intrinsic+json": {
              "type": "string"
            },
            "text/plain": [
              "'<start> vete <end>'"
            ]
          },
          "metadata": {
            "tags": []
          },
          "execution_count": 17
        }
      ]
    },
    {
      "cell_type": "markdown",
      "metadata": {
        "id": "SXUdbA8ery4C"
      },
      "source": [
        "## Tokenizing the Input Dataset\n"
      ]
    },
    {
      "cell_type": "code",
      "metadata": {
        "id": "SY-Y-1reqGh7"
      },
      "source": [
        "tokenizer_in = Tokenizer()\n",
        "# tokenizing the input texts\n",
        "tokenizer_in.fit_on_texts(input_texts)\n",
        "# vocab size of input\n",
        "input_vocab_size = len(tokenizer_in.word_index) + 1"
      ],
      "execution_count": 18,
      "outputs": []
    },
    {
      "cell_type": "code",
      "metadata": {
        "colab": {
          "base_uri": "https://localhost:8080/"
        },
        "id": "nVrx7WKd1mpQ",
        "outputId": "3d097ada-6fa9-41d6-e3f9-498cf89953f6"
      },
      "source": [
        "input_vocab_size"
      ],
      "execution_count": 19,
      "outputs": [
        {
          "output_type": "execute_result",
          "data": {
            "text/plain": [
              "2332"
            ]
          },
          "metadata": {
            "tags": []
          },
          "execution_count": 19
        }
      ]
    },
    {
      "cell_type": "code",
      "metadata": {
        "colab": {
          "base_uri": "https://localhost:8080/"
        },
        "id": "rvfqb25L1xe1",
        "outputId": "3921b79b-6f92-4b17-db11-ebd4a0971bac"
      },
      "source": [
        "# Listing few items\n",
        "input_tokens = tokenizer_in.index_word \n",
        "for k, v in sorted(input_tokens.items())[2000:2010]:\n",
        "  print(k, v)"
      ],
      "execution_count": 20,
      "outputs": [
        {
          "output_type": "stream",
          "text": [
            "2001 sauce\n",
            "2002 doctors\n",
            "2003 plenty\n",
            "2004 usually\n",
            "2005 credible\n",
            "2006 hopeless\n",
            "2007 starving\n",
            "2008 concept\n",
            "2009 country\n",
            "2010 thought\n"
          ],
          "name": "stdout"
        }
      ]
    },
    {
      "cell_type": "markdown",
      "metadata": {
        "id": "UcJWkQLX3Fkm"
      },
      "source": [
        "## Tokenizing Output Dataset"
      ]
    },
    {
      "cell_type": "code",
      "metadata": {
        "colab": {
          "base_uri": "https://localhost:8080/"
        },
        "id": "U7tDORn53IZy",
        "outputId": "fc53d831-3459-4403-84ed-03cb71f50dcc"
      },
      "source": [
        "# tokenizing output in spanish tranlation \n",
        "tokenizer_out = Tokenizer(filters='')\n",
        "tokenizer_out.fit_on_texts(target_texts)\n",
        "# vocab size of output \n",
        "output_vocab_size = len(tokenizer_out.word_index) + 1\n",
        "output_vocab_size"
      ],
      "execution_count": 21,
      "outputs": [
        {
          "output_type": "execute_result",
          "data": {
            "text/plain": [
              "4964"
            ]
          },
          "metadata": {
            "tags": []
          },
          "execution_count": 21
        }
      ]
    },
    {
      "cell_type": "code",
      "metadata": {
        "colab": {
          "base_uri": "https://localhost:8080/"
        },
        "id": "Po5vKoFL3yL6",
        "outputId": "17fdafab-e8c0-46f8-8acb-7632580caf6b"
      },
      "source": [
        "# Listing view items\n",
        "output_tokens = tokenizer_out.index_word \n",
        "for k, v in sorted(output_tokens.items())[2000:2010]:\n",
        "  print(k, v)"
      ],
      "execution_count": 22,
      "outputs": [
        {
          "output_type": "stream",
          "text": [
            "2001 suyos\n",
            "2002 ley\n",
            "2003 palabras\n",
            "2004 ausente\n",
            "2005 delgaducho\n",
            "2006 sucio\n",
            "2007 adoptado\n",
            "2008 violento\n",
            "2009 roncando\n",
            "2010 podríamos\n"
          ],
          "name": "stdout"
        }
      ]
    },
    {
      "cell_type": "markdown",
      "metadata": {
        "id": "iYBKqZSB4btV"
      },
      "source": [
        "## Creating Input Sequences"
      ]
    },
    {
      "cell_type": "code",
      "metadata": {
        "id": "pAXrTG8T4Q9T"
      },
      "source": [
        "# converting tokenized sentences into sequences\n",
        "tokenized_input = tokenizer_in.texts_to_sequences( input_texts )\n",
        "# max length of the input \n",
        "maxlen_input = max( [len(x) for x in tokenized_input] )\n",
        "# padding sequences to maximum length \n",
        "padded_input = preprocessing.sequence.pad_sequences( tokenized_input, maxlen=maxlen_input, padding='post' )"
      ],
      "execution_count": 23,
      "outputs": []
    },
    {
      "cell_type": "code",
      "metadata": {
        "colab": {
          "base_uri": "https://localhost:8080/"
        },
        "id": "BYVLGmqL6Pie",
        "outputId": "d27e7eec-cf91-4dde-eba9-3be4a582ac5e"
      },
      "source": [
        "padded_input[2000:2010]"
      ],
      "execution_count": 24,
      "outputs": [
        {
          "output_type": "execute_result",
          "data": {
            "text/plain": [
              "array([[  1, 613, 195,   0,   0],\n",
              "       [  1,  54, 109,   0,   0],\n",
              "       [  1,  54, 109,   0,   0],\n",
              "       [  1,  54, 109,   0,   0],\n",
              "       [  1,  54, 182,   0,   0],\n",
              "       [  1,  54,  14,   0,   0],\n",
              "       [  1,  54,  98,   0,   0],\n",
              "       [  1,  54,  98,   0,   0],\n",
              "       [  1,  54,  10,   0,   0],\n",
              "       [  1,  54,  10,   0,   0]], dtype=int32)"
            ]
          },
          "metadata": {
            "tags": []
          },
          "execution_count": 24
        }
      ]
    },
    {
      "cell_type": "code",
      "metadata": {
        "id": "OEc0L0np6Yk-",
        "colab": {
          "base_uri": "https://localhost:8080/"
        },
        "outputId": "ab6b04fc-2b59-4f76-baf3-4eb51b4a796b"
      },
      "source": [
        "encoder_input_data = np.array( padded_input )\n",
        "print( encoder_input_data.shape )"
      ],
      "execution_count": 25,
      "outputs": [
        {
          "output_type": "stream",
          "text": [
            "(10000, 5)\n"
          ],
          "name": "stdout"
        }
      ]
    },
    {
      "cell_type": "markdown",
      "metadata": {
        "id": "XQHyqhNxEYIe"
      },
      "source": [
        "## Creating Output Sequences"
      ]
    },
    {
      "cell_type": "code",
      "metadata": {
        "id": "JJwKwI_GDyCr"
      },
      "source": [
        "# converting output text into sequences\n",
        "tokenized_output = tokenizer_out.texts_to_sequences(target_texts)\n"
      ],
      "execution_count": 26,
      "outputs": []
    },
    {
      "cell_type": "code",
      "metadata": {
        "colab": {
          "base_uri": "https://localhost:8080/"
        },
        "id": "fU2MJeFXFtqg",
        "outputId": "877466b4-5170-4311-f06f-54a622792c4d"
      },
      "source": [
        "output_vocab_size = len(tokenizer_out.word_index) + 1\n",
        "output_vocab_size"
      ],
      "execution_count": 27,
      "outputs": [
        {
          "output_type": "execute_result",
          "data": {
            "text/plain": [
              "4964"
            ]
          },
          "metadata": {
            "tags": []
          },
          "execution_count": 27
        }
      ]
    },
    {
      "cell_type": "code",
      "metadata": {
        "colab": {
          "base_uri": "https://localhost:8080/"
        },
        "id": "Hog6VvUqGAy3",
        "outputId": "5ab7dd3b-e7fb-48e4-dfb6-e1f1fdbe28a4"
      },
      "source": [
        "# teacher forcing\n",
        "for i in range(len(tokenized_output)):\n",
        "  if i == 1:\n",
        "    print(tokenized_output[i])\n",
        "    print(tokenized_output[i][1:])\n",
        "  tokenized_output[i] = tokenized_output[i][1:]"
      ],
      "execution_count": 28,
      "outputs": [
        {
          "output_type": "stream",
          "text": [
            "[1, 235, 2]\n",
            "[235, 2]\n"
          ],
          "name": "stdout"
        }
      ]
    },
    {
      "cell_type": "code",
      "metadata": {
        "id": "HjVwaj3jIbqC"
      },
      "source": [
        "# padding\n",
        "maxlen_output = max([ len(x) for x in tokenized_output ])\n",
        "padded_output = preprocessing.sequence.pad_sequences(tokenized_output, maxlen=maxlen_output, padding='post')"
      ],
      "execution_count": 29,
      "outputs": []
    },
    {
      "cell_type": "code",
      "metadata": {
        "colab": {
          "base_uri": "https://localhost:8080/"
        },
        "id": "plLvcUMVwQ-0",
        "outputId": "6af7651d-3c66-47f1-f7e9-1b79516d5b73"
      },
      "source": [
        "# converting to numpy \n",
        "decoder_input_data = np.array( padded_output )\n",
        "decoder_input_data[2000:2010]\n"
      ],
      "execution_count": 30,
      "outputs": [
        {
          "output_type": "execute_result",
          "data": {
            "text/plain": [
              "array([[  11, 1147,   26,  108,    2,    0,    0,    0,    0],\n",
              "       [  51,   17,  135,    2,    0,    0,    0,    0,    0],\n",
              "       [  11,   51,   17,  135,    2,    0,    0,    0,    0],\n",
              "       [  11,   51,   13,  224,    2,    0,    0,    0,    0],\n",
              "       [  51,   59,    2,    0,    0,    0,    0,    0,    0],\n",
              "       [  51,   20,    2,    0,    0,    0,    0,    0,    0],\n",
              "       [  28,   51,    2,    0,    0,    0,    0,    0,    0],\n",
              "       [  37,   51,    2,    0,    0,    0,    0,    0,    0],\n",
              "       [  51,   88,    2,    0,    0,    0,    0,    0,    0],\n",
              "       [  51,   19,    2,    0,    0,    0,    0,    0,    0]],\n",
              "      dtype=int32)"
            ]
          },
          "metadata": {
            "tags": []
          },
          "execution_count": 30
        }
      ]
    },
    {
      "cell_type": "code",
      "metadata": {
        "id": "7iPegIf8w8hJ"
      },
      "source": [
        "# decoder target output \n",
        "decoder_target_one_hot = np.zeros((len(input_texts), maxlen_output, output_vocab_size), dtype='float32')"
      ],
      "execution_count": 31,
      "outputs": []
    },
    {
      "cell_type": "code",
      "metadata": {
        "colab": {
          "base_uri": "https://localhost:8080/"
        },
        "id": "4l9Q5D6u0jMC",
        "outputId": "4e27748b-39f4-4b29-a97f-d37ea49038f9"
      },
      "source": [
        "decoder_target_one_hot.shape"
      ],
      "execution_count": 32,
      "outputs": [
        {
          "output_type": "execute_result",
          "data": {
            "text/plain": [
              "(10000, 9, 4964)"
            ]
          },
          "metadata": {
            "tags": []
          },
          "execution_count": 32
        }
      ]
    },
    {
      "cell_type": "code",
      "metadata": {
        "colab": {
          "base_uri": "https://localhost:8080/"
        },
        "id": "tLMm7kDl0KRW",
        "outputId": "dac2efd1-cf97-4c01-e9fb-0f6029c8e931"
      },
      "source": [
        "padded_output.shape"
      ],
      "execution_count": 33,
      "outputs": [
        {
          "output_type": "execute_result",
          "data": {
            "text/plain": [
              "(10000, 9)"
            ]
          },
          "metadata": {
            "tags": []
          },
          "execution_count": 33
        }
      ]
    },
    {
      "cell_type": "code",
      "metadata": {
        "id": "sEcyt5dT0KVD"
      },
      "source": [
        ""
      ],
      "execution_count": 33,
      "outputs": []
    },
    {
      "cell_type": "code",
      "metadata": {
        "id": "c8blFNzwzLpE"
      },
      "source": [
        "for i, d in enumerate(padded_output):\n",
        "  for t, word in enumerate(d):\n",
        "    decoder_target_one_hot[i, t, word] = 1"
      ],
      "execution_count": 34,
      "outputs": []
    },
    {
      "cell_type": "code",
      "metadata": {
        "colab": {
          "base_uri": "https://localhost:8080/"
        },
        "id": "DwcVPkp90xAM",
        "outputId": "0bb1f1b9-a2b8-4b4b-f8c1-29c7e489197d"
      },
      "source": [
        "decoder_target_one_hot[0]"
      ],
      "execution_count": 35,
      "outputs": [
        {
          "output_type": "execute_result",
          "data": {
            "text/plain": [
              "array([[0., 0., 0., ..., 0., 0., 0.],\n",
              "       [0., 0., 1., ..., 0., 0., 0.],\n",
              "       [1., 0., 0., ..., 0., 0., 0.],\n",
              "       ...,\n",
              "       [1., 0., 0., ..., 0., 0., 0.],\n",
              "       [1., 0., 0., ..., 0., 0., 0.],\n",
              "       [1., 0., 0., ..., 0., 0., 0.]], dtype=float32)"
            ]
          },
          "metadata": {
            "tags": []
          },
          "execution_count": 35
        }
      ]
    },
    {
      "cell_type": "markdown",
      "metadata": {
        "id": "eAIcfWjC4B0o"
      },
      "source": [
        "## The input sequence is first to fed to the embedding layer which converts the words in the input sequences into word vectors. These word vectors. These words are then passed as input to the encoded layer. "
      ]
    },
    {
      "cell_type": "markdown",
      "metadata": {
        "id": "4HYGPmBu6Cjd"
      },
      "source": [
        "## Downloading word embedding"
      ]
    },
    {
      "cell_type": "code",
      "metadata": {
        "colab": {
          "base_uri": "https://localhost:8080/"
        },
        "id": "CxXY_FXw3lTk",
        "outputId": "cbfe6a5a-a5bd-46d2-cd20-f2741445587e"
      },
      "source": [
        "!wget http://nlp.stanford.edu/data/glove.6B.zip # downloading glove word embedding layer\n",
        "!unzip glove*.zip"
      ],
      "execution_count": 36,
      "outputs": [
        {
          "output_type": "stream",
          "text": [
            "--2021-06-28 19:56:04--  http://nlp.stanford.edu/data/glove.6B.zip\n",
            "Resolving nlp.stanford.edu (nlp.stanford.edu)... 171.64.67.140\n",
            "Connecting to nlp.stanford.edu (nlp.stanford.edu)|171.64.67.140|:80... connected.\n",
            "HTTP request sent, awaiting response... 302 Found\n",
            "Location: https://nlp.stanford.edu/data/glove.6B.zip [following]\n",
            "--2021-06-28 19:56:04--  https://nlp.stanford.edu/data/glove.6B.zip\n",
            "Connecting to nlp.stanford.edu (nlp.stanford.edu)|171.64.67.140|:443... connected.\n",
            "HTTP request sent, awaiting response... 301 Moved Permanently\n",
            "Location: http://downloads.cs.stanford.edu/nlp/data/glove.6B.zip [following]\n",
            "--2021-06-28 19:56:04--  http://downloads.cs.stanford.edu/nlp/data/glove.6B.zip\n",
            "Resolving downloads.cs.stanford.edu (downloads.cs.stanford.edu)... 171.64.64.22\n",
            "Connecting to downloads.cs.stanford.edu (downloads.cs.stanford.edu)|171.64.64.22|:80... connected.\n",
            "HTTP request sent, awaiting response... 200 OK\n",
            "Length: 862182613 (822M) [application/zip]\n",
            "Saving to: ‘glove.6B.zip’\n",
            "\n",
            "glove.6B.zip        100%[===================>] 822.24M  5.01MB/s    in 2m 40s  \n",
            "\n",
            "2021-06-28 19:58:44 (5.14 MB/s) - ‘glove.6B.zip’ saved [862182613/862182613]\n",
            "\n",
            "Archive:  glove.6B.zip\n",
            "  inflating: glove.6B.50d.txt        \n",
            "  inflating: glove.6B.100d.txt       \n",
            "  inflating: glove.6B.200d.txt       \n",
            "  inflating: glove.6B.300d.txt       \n"
          ],
          "name": "stdout"
        }
      ]
    },
    {
      "cell_type": "markdown",
      "metadata": {
        "id": "aT4jlXRU7CaO"
      },
      "source": [
        "## Word to vectors dictionary"
      ]
    },
    {
      "cell_type": "code",
      "metadata": {
        "colab": {
          "base_uri": "https://localhost:8080/"
        },
        "id": "zRlp1Td46s1W",
        "outputId": "34c46ffe-a5ba-44d2-aecc-988d873cb391"
      },
      "source": [
        "# Creating dictionary of words corresponding to vectors\n",
        "print(\"Indexing word vectors.\")\n",
        "\n",
        "# Use this one in case downloading using wge above\n",
        "f = open('glove.6B.200d.txt', encoding='utf-8')"
      ],
      "execution_count": 37,
      "outputs": [
        {
          "output_type": "stream",
          "text": [
            "Indexing word vectors.\n"
          ],
          "name": "stdout"
        }
      ]
    },
    {
      "cell_type": "code",
      "metadata": {
        "id": "HGZZaraA8PXc"
      },
      "source": [
        "embeddings_index = {}\n",
        "\n",
        "for line in f:\n",
        "  values = line.split()\n",
        "  word = values[0]\n",
        "  coefs = np.asarray(values[1:], dtype='float32')\n",
        "  embeddings_index[word] = coefs\n",
        "\n",
        "\n",
        "f.close()"
      ],
      "execution_count": 38,
      "outputs": []
    },
    {
      "cell_type": "code",
      "metadata": {
        "colab": {
          "base_uri": "https://localhost:8080/"
        },
        "id": "IN46Xri4-LWA",
        "outputId": "91ebe23a-ed27-4804-8b6e-5379ef3c4b4f"
      },
      "source": [
        "print('Found %s word vectors.' % len(embeddings_index))"
      ],
      "execution_count": 39,
      "outputs": [
        {
          "output_type": "stream",
          "text": [
            "Found 400000 word vectors.\n"
          ],
          "name": "stdout"
        }
      ]
    },
    {
      "cell_type": "code",
      "metadata": {
        "colab": {
          "base_uri": "https://localhost:8080/"
        },
        "id": "KWkEAau--0iu",
        "outputId": "75c9f0fc-3b61-4f32-b2f5-309675189d45"
      },
      "source": [
        "embeddings_index['any']"
      ],
      "execution_count": 40,
      "outputs": [
        {
          "output_type": "execute_result",
          "data": {
            "text/plain": [
              "array([ 6.3113e-01,  4.3183e-01,  2.3103e-01, -6.4909e-01,  2.3744e-01,\n",
              "        4.4619e-01, -8.6148e-01,  2.9341e-01,  8.0033e-02,  8.5633e-03,\n",
              "        1.0165e-01,  6.2783e-01,  2.5047e-01,  5.2425e-02,  6.3045e-01,\n",
              "       -4.0008e-02,  2.5212e-01,  6.2147e-01,  6.6967e-02, -7.9787e-02,\n",
              "       -2.1607e-02,  3.4236e+00, -4.7925e-02,  2.4620e-01, -2.8834e-02,\n",
              "        4.0330e-02, -2.7858e-01, -2.7939e-01,  3.5606e-01, -5.7373e-01,\n",
              "       -9.9960e-02, -3.2374e-01,  1.7812e-01,  2.0671e-02,  2.3637e-01,\n",
              "       -1.7074e-01, -4.9345e-01, -4.0289e-01, -3.4184e-01, -1.9405e-01,\n",
              "        4.2506e-01, -3.0081e-01,  1.9997e-01,  6.7150e-01, -1.0461e-01,\n",
              "       -8.7182e-03, -4.4562e-02,  1.7045e-01,  6.5912e-01,  8.9096e-02,\n",
              "       -1.4178e-01, -5.8817e-01, -2.9699e-01,  4.5901e-01,  6.1475e-01,\n",
              "        2.2455e-01,  2.8778e-01, -8.0486e-02, -1.6625e-01,  4.9791e-01,\n",
              "       -1.0441e-02, -1.7307e-01, -1.1364e-01, -1.7177e-01,  6.5001e-01,\n",
              "       -2.0709e-01, -2.5923e-03,  6.8332e-01,  1.3556e-01,  4.2812e-01,\n",
              "        7.3191e-01,  9.6278e-02, -1.3272e-01, -2.5073e-01, -2.8397e-01,\n",
              "        4.2765e-01, -2.2704e-01, -9.0328e-01,  1.3683e-01, -2.2358e-01,\n",
              "        7.0136e-02, -6.2926e-02,  3.0040e-01,  1.6226e-01,  7.0656e-03,\n",
              "       -3.0515e-01, -3.3873e-01, -3.4821e-01,  4.5319e-01, -1.2759e+00,\n",
              "        3.5765e-01,  2.8696e-01,  9.5111e-01,  4.9315e-02, -1.0982e-01,\n",
              "       -1.0340e-01, -7.7415e-02,  1.2165e-01, -4.0848e-01,  5.1662e-03,\n",
              "        5.0023e-01,  3.0727e-02, -3.6101e-02, -2.3839e-01, -6.9315e-02,\n",
              "       -3.6846e-02, -2.1026e-02,  1.1545e+00, -7.4401e-02, -2.9412e-01,\n",
              "       -3.4114e-02, -4.6706e-01,  2.0023e-01, -7.7832e-03,  3.5352e-01,\n",
              "       -5.9343e-02,  1.3922e-01, -8.5423e-01, -1.4959e-01, -1.4127e-01,\n",
              "        3.4172e-01,  3.1567e-01,  3.2408e-01,  1.6529e-01, -3.7918e-01,\n",
              "       -2.4857e-01,  2.2490e-01,  3.4110e-01,  2.5160e-01, -1.9514e-01,\n",
              "       -9.2207e-01,  6.1380e-01,  2.6206e-02, -3.9753e-01, -7.4722e-02,\n",
              "        1.7763e-01, -1.1809e-01, -2.3232e-01, -1.3906e-01, -4.5938e-01,\n",
              "        5.2323e-02,  1.7218e-01,  4.3271e-01, -2.3432e-01,  1.3041e+00,\n",
              "        9.5481e-02, -9.7652e-02,  1.6550e-02, -2.0664e-01, -1.7194e-01,\n",
              "       -4.2629e-01,  7.8176e-01, -3.8817e-01,  3.0179e-01, -2.4771e-01,\n",
              "       -1.3819e-01,  4.3340e-02,  1.2504e-01, -1.8626e-01,  2.0074e-01,\n",
              "       -1.6998e-01, -4.6707e-02,  4.8090e-01, -1.8230e-01, -4.7500e-01,\n",
              "        1.3439e-01, -3.1879e-01,  1.1585e-01, -6.8483e-01,  9.3870e-01,\n",
              "        4.9493e-02,  9.8050e-02, -3.5161e-01, -1.7529e-02,  1.3332e-01,\n",
              "       -1.4423e-01, -2.9472e-01,  4.9777e-01,  1.5164e-01,  1.3853e-02,\n",
              "        1.0823e+00, -1.3419e-01, -4.4366e-03, -2.8620e-01,  5.2703e-02,\n",
              "       -4.6192e-02, -8.5992e-02,  2.5092e-01,  3.0081e-01,  3.2117e-01,\n",
              "       -3.6467e-01, -1.4922e-01,  2.5013e-02, -5.4957e-02, -1.4740e-02,\n",
              "        2.2784e-01,  4.8475e-02, -7.4814e-02, -1.2299e-01, -1.1001e-01],\n",
              "      dtype=float32)"
            ]
          },
          "metadata": {
            "tags": []
          },
          "execution_count": 40
        }
      ]
    },
    {
      "cell_type": "markdown",
      "metadata": {
        "id": "yzctouyw_Wz0"
      },
      "source": [
        "## Extracting for our input vocabulary"
      ]
    },
    {
      "cell_type": "code",
      "metadata": {
        "id": "2AOWaBm6-5qI"
      },
      "source": [
        "# embedding matrix \n",
        "num_words = len(tokenizer_in.word_index) + 1"
      ],
      "execution_count": 41,
      "outputs": []
    },
    {
      "cell_type": "code",
      "metadata": {
        "colab": {
          "base_uri": "https://localhost:8080/"
        },
        "id": "ZdmbIHrG_pBN",
        "outputId": "3eaaca80-5078-4e92-8c3a-0dbcdb9d7ebb"
      },
      "source": [
        "type(tokenizer_in.word_index)"
      ],
      "execution_count": 42,
      "outputs": [
        {
          "output_type": "execute_result",
          "data": {
            "text/plain": [
              "dict"
            ]
          },
          "metadata": {
            "tags": []
          },
          "execution_count": 42
        }
      ]
    },
    {
      "cell_type": "code",
      "metadata": {
        "id": "NMds8t01Bf2l"
      },
      "source": [
        "word2idx_input = tokenizer_in.word_index"
      ],
      "execution_count": 43,
      "outputs": []
    },
    {
      "cell_type": "code",
      "metadata": {
        "colab": {
          "base_uri": "https://localhost:8080/"
        },
        "id": "3H2QBiZKBneo",
        "outputId": "8f1a261d-d820-48fd-9ad8-f6fc922f1403"
      },
      "source": [
        "num_words"
      ],
      "execution_count": 44,
      "outputs": [
        {
          "output_type": "execute_result",
          "data": {
            "text/plain": [
              "2332"
            ]
          },
          "metadata": {
            "tags": []
          },
          "execution_count": 44
        }
      ]
    },
    {
      "cell_type": "code",
      "metadata": {
        "id": "Y2nFP5-1BqX5"
      },
      "source": [
        "embedding_matrix = np.zeros((num_words, 200))"
      ],
      "execution_count": 45,
      "outputs": []
    },
    {
      "cell_type": "code",
      "metadata": {
        "colab": {
          "base_uri": "https://localhost:8080/"
        },
        "id": "_gQMC4DhB2XV",
        "outputId": "e00ea7a6-538f-4174-8653-f32152ee663e"
      },
      "source": [
        "for word, i in word2idx_input.items():\n",
        "\n",
        "  if i < num_words:\n",
        "    if i < 2:\n",
        "      print(word, i)\n",
        "      embedding_vector = embeddings_index.get(word)\n",
        "      print(embedding_vector)"
      ],
      "execution_count": 46,
      "outputs": [
        {
          "output_type": "stream",
          "text": [
            "i 1\n",
            "[ 2.6805e-01  3.6032e-01 -3.3200e-01 -5.4642e-01 -5.0451e-01 -1.3461e-02\n",
            " -8.0432e-01 -2.4214e-01  5.3736e-01  7.7581e-01 -3.2554e-01  4.8300e-01\n",
            "  8.4265e-01  3.7780e-01 -1.4767e-01  5.3192e-01 -7.0518e-01  4.4037e-01\n",
            "  7.5035e-01 -1.8171e-01  7.0139e-01  2.9383e+00  4.5612e-02 -2.1176e-01\n",
            "  1.9947e-01 -4.8175e-01 -2.5815e-01  4.6200e-01 -5.6841e-03 -3.0563e-01\n",
            " -5.7541e-01 -1.9527e-02 -1.3751e-01 -5.9450e-01 -3.8216e-01 -1.3541e-01\n",
            " -6.6444e-01 -2.3028e-01 -5.5466e-02  3.8421e-01 -1.6888e-01  5.1462e-02\n",
            " -2.8293e-01  4.5076e-01 -3.6464e-01  3.6101e-01  1.0935e+00 -1.1947e-01\n",
            "  4.9729e-02  4.8765e-02  4.8944e-01 -3.3138e-04  1.6365e-01  4.9743e-01\n",
            "  3.3814e-01  1.5570e-02  2.5762e-01 -5.8483e-01 -5.5821e-01 -2.9092e-01\n",
            "  2.3611e-01 -2.8951e-01 -3.1919e-01  6.5705e-02 -3.1602e-01 -1.2054e-01\n",
            " -7.7942e-01  6.0136e-01  4.4160e-01 -2.7946e-02  7.3821e-01 -3.1318e-01\n",
            " -5.3737e-02 -2.6919e-01 -5.6458e-01 -6.5164e-01 -1.2298e+00 -5.0430e-02\n",
            " -7.2749e-01  8.5426e-02 -1.4811e-01 -1.5080e-01 -4.5213e-01  3.4224e-01\n",
            "  9.9421e-02 -3.8825e-01 -2.6387e-01 -2.5937e-01 -4.5955e-02 -1.5518e+00\n",
            "  2.7701e-01 -5.0155e-01  6.3821e-01 -2.1799e-01 -1.5459e-01  2.0470e-01\n",
            "  3.7607e-01  1.3830e-01 -5.9114e-01 -2.0036e-01 -1.7630e-02 -2.9715e-01\n",
            "  1.2323e-02 -1.1470e-01  8.2837e-01  1.0221e-01 -2.1023e-01  1.4215e+00\n",
            " -5.7118e-01  3.4696e-01  1.0750e-01  2.0036e-01  1.1781e-01 -1.6939e-01\n",
            " -6.6335e-02 -9.4572e-02 -2.1243e-01 -6.3982e-02 -3.0773e-01  1.4120e-01\n",
            "  5.5169e-01  1.4343e-01  7.4784e-01 -3.1253e-01 -1.0610e-01 -3.3361e-01\n",
            "  2.8880e-02 -4.1480e-02  5.8897e-01 -8.4928e-01 -3.6634e-01  4.0954e-02\n",
            "  8.3578e-02  2.0159e-01 -3.1628e-01  3.2837e-01  7.8545e-02  6.8703e-02\n",
            " -3.2559e-01 -5.8249e-01 -2.0688e-01 -4.9981e-01 -9.8690e-02 -5.5841e-01\n",
            "  2.0955e+00  6.1811e-01  2.3829e-01 -5.2405e-01 -1.3310e-01 -9.6439e-03\n",
            "  6.3668e-01  9.2328e-01 -7.3654e-01  2.0892e-01  6.4937e-02 -1.6934e-01\n",
            " -6.1282e-02 -1.3634e-01  1.5841e-01  5.0026e-01 -2.7620e-01  2.2532e-01\n",
            "  8.6730e-02 -5.6935e-02 -4.5413e-01  1.2981e-01 -1.7020e-02  4.6354e-01\n",
            " -4.2211e-01 -7.2322e-02 -6.1887e-02 -4.0143e-01  6.6137e-01 -4.6212e-02\n",
            "  2.7799e-01  1.3435e-01 -7.7289e-01 -2.1018e-01  1.0200e+00  4.4495e-01\n",
            "  1.1312e+00 -1.7580e-01 -6.7577e-01  2.8609e-01 -6.0770e-01 -6.5499e-01\n",
            "  3.8634e-02  4.8288e-01  3.5732e-01  2.4206e-01 -1.8247e-01 -2.7803e-01\n",
            " -6.0281e-02 -6.6602e-02 -5.5558e-02 -1.9829e-01  5.3632e-01  1.7769e-01\n",
            "  2.2362e-01  1.4241e-02]\n"
          ],
          "name": "stdout"
        }
      ]
    },
    {
      "cell_type": "code",
      "metadata": {
        "colab": {
          "base_uri": "https://localhost:8080/"
        },
        "id": "0jAZa2qWCv1s",
        "outputId": "c5a307de-8e00-4c54-96c2-22c56e9d51f5"
      },
      "source": [
        "for word, i in word2idx_input.items():\n",
        "\n",
        "  if i < num_words:\n",
        "    embedding_vector = embeddings_index.get(word)\n",
        "  if embedding_vector is not None:\n",
        "    embedding_matrix[i] = embedding_vector\n",
        "\n",
        "\n",
        "embedding_matrix.shape"
      ],
      "execution_count": 47,
      "outputs": [
        {
          "output_type": "execute_result",
          "data": {
            "text/plain": [
              "(2332, 200)"
            ]
          },
          "metadata": {
            "tags": []
          },
          "execution_count": 47
        }
      ]
    },
    {
      "cell_type": "code",
      "metadata": {
        "colab": {
          "base_uri": "https://localhost:8080/"
        },
        "id": "qrK1pVIfJBVL",
        "outputId": "df94ba03-1939-4fd0-8906-a2d38664d92b"
      },
      "source": [
        "embedding_matrix[1]"
      ],
      "execution_count": 48,
      "outputs": [
        {
          "output_type": "execute_result",
          "data": {
            "text/plain": [
              "array([ 2.68049985e-01,  3.60320002e-01, -3.31999987e-01, -5.46419978e-01,\n",
              "       -5.04509985e-01, -1.34610003e-02, -8.04319978e-01, -2.42139995e-01,\n",
              "        5.37360013e-01,  7.75810003e-01, -3.25540006e-01,  4.83000010e-01,\n",
              "        8.42649996e-01,  3.77799988e-01, -1.47670001e-01,  5.31920016e-01,\n",
              "       -7.05179989e-01,  4.40369993e-01,  7.50349998e-01, -1.81710005e-01,\n",
              "        7.01390028e-01,  2.93829989e+00,  4.56119999e-02, -2.11759999e-01,\n",
              "        1.99469998e-01, -4.81750011e-01, -2.58150011e-01,  4.62000012e-01,\n",
              "       -5.68410009e-03, -3.05629998e-01, -5.75410008e-01, -1.95269994e-02,\n",
              "       -1.37510002e-01, -5.94500005e-01, -3.82160008e-01, -1.35409996e-01,\n",
              "       -6.64439976e-01, -2.30279997e-01, -5.54660000e-02,  3.84209991e-01,\n",
              "       -1.68880001e-01,  5.14619984e-02, -2.82929987e-01,  4.50760007e-01,\n",
              "       -3.64639997e-01,  3.61009985e-01,  1.09350002e+00, -1.19470000e-01,\n",
              "        4.97290008e-02,  4.87650000e-02,  4.89439994e-01, -3.31379997e-04,\n",
              "        1.63650006e-01,  4.97429997e-01,  3.38140011e-01,  1.55699998e-02,\n",
              "        2.57620007e-01, -5.84829986e-01, -5.58210015e-01, -2.90919989e-01,\n",
              "        2.36110002e-01, -2.89510012e-01, -3.19189996e-01,  6.57050014e-02,\n",
              "       -3.16020012e-01, -1.20540000e-01, -7.79420018e-01,  6.01360023e-01,\n",
              "        4.41599995e-01, -2.79460009e-02,  7.38210022e-01, -3.13180000e-01,\n",
              "       -5.37369996e-02, -2.69190013e-01, -5.64580023e-01, -6.51639998e-01,\n",
              "       -1.22979999e+00, -5.04299998e-02, -7.27490008e-01,  8.54260027e-02,\n",
              "       -1.48110002e-01, -1.50800005e-01, -4.52129990e-01,  3.42240006e-01,\n",
              "        9.94210020e-02, -3.88249993e-01, -2.63870001e-01, -2.59369999e-01,\n",
              "       -4.59549986e-02, -1.55180001e+00,  2.77009994e-01, -5.01550019e-01,\n",
              "        6.38209999e-01, -2.17989996e-01, -1.54589996e-01,  2.04699993e-01,\n",
              "        3.76069993e-01,  1.38300002e-01, -5.91139972e-01, -2.00360000e-01,\n",
              "       -1.76299997e-02, -2.97149986e-01,  1.23229995e-02, -1.14699997e-01,\n",
              "        8.28369975e-01,  1.02210000e-01, -2.10229993e-01,  1.42149997e+00,\n",
              "       -5.71179986e-01,  3.46960008e-01,  1.07500002e-01,  2.00360000e-01,\n",
              "        1.17810003e-01, -1.69389993e-01, -6.63350001e-02, -9.45720002e-02,\n",
              "       -2.12430000e-01, -6.39820024e-02, -3.07729989e-01,  1.41200006e-01,\n",
              "        5.51689982e-01,  1.43429995e-01,  7.47839987e-01, -3.12530011e-01,\n",
              "       -1.06100000e-01, -3.33609998e-01,  2.88800001e-02, -4.14800011e-02,\n",
              "        5.88970006e-01, -8.49280000e-01, -3.66340011e-01,  4.09540012e-02,\n",
              "        8.35779980e-02,  2.01590002e-01, -3.16280007e-01,  3.28370005e-01,\n",
              "        7.85449967e-02,  6.87030032e-02, -3.25590014e-01, -5.82490027e-01,\n",
              "       -2.06880003e-01, -4.99810010e-01, -9.86900032e-02, -5.58409989e-01,\n",
              "        2.09549999e+00,  6.18110001e-01,  2.38289997e-01, -5.24049997e-01,\n",
              "       -1.33100003e-01, -9.64390021e-03,  6.36680007e-01,  9.23280001e-01,\n",
              "       -7.36540020e-01,  2.08920002e-01,  6.49370030e-02, -1.69340000e-01,\n",
              "       -6.12820014e-02, -1.36340007e-01,  1.58409998e-01,  5.00259995e-01,\n",
              "       -2.76199996e-01,  2.25319996e-01,  8.67300034e-02, -5.69350012e-02,\n",
              "       -4.54129994e-01,  1.29810005e-01, -1.70200001e-02,  4.63539988e-01,\n",
              "       -4.22109991e-01, -7.23220035e-02, -6.18869998e-02, -4.01430011e-01,\n",
              "        6.61369979e-01, -4.62119989e-02,  2.77990013e-01,  1.34350002e-01,\n",
              "       -7.72889972e-01, -2.10179999e-01,  1.01999998e+00,  4.44950014e-01,\n",
              "        1.13119996e+00, -1.75799996e-01, -6.75769985e-01,  2.86089987e-01,\n",
              "       -6.07699990e-01, -6.54990017e-01,  3.86339985e-02,  4.82879996e-01,\n",
              "        3.57320011e-01,  2.42060006e-01, -1.82469994e-01, -2.78030008e-01,\n",
              "       -6.02810010e-02, -6.66019991e-02, -5.55579998e-02, -1.98290005e-01,\n",
              "        5.36319971e-01,  1.77689999e-01,  2.23619998e-01,  1.42409997e-02])"
            ]
          },
          "metadata": {
            "tags": []
          },
          "execution_count": 48
        }
      ]
    },
    {
      "cell_type": "code",
      "metadata": {
        "id": "OB6M_--TJHGr"
      },
      "source": [
        ""
      ],
      "execution_count": 48,
      "outputs": []
    },
    {
      "cell_type": "markdown",
      "metadata": {
        "id": "-nj-X4KGKXnX"
      },
      "source": [
        "## **Embedding Layer**"
      ]
    },
    {
      "cell_type": "code",
      "metadata": {
        "id": "D4CjCDRYKaeo"
      },
      "source": [
        "# lstm hidden dimensions\n",
        "LATENT_DIM = 256\n",
        "\n",
        "# embedding layer dimensions\n",
        "EMBEDDING_DIM = 200"
      ],
      "execution_count": 49,
      "outputs": []
    },
    {
      "cell_type": "code",
      "metadata": {
        "id": "Wna2bpKLK-Bq"
      },
      "source": [
        "embedding_layer = Embedding(input_vocab_size, EMBEDDING_DIM, weights=[embedding_matrix], input_length=maxlen_input)"
      ],
      "execution_count": 50,
      "outputs": []
    },
    {
      "cell_type": "markdown",
      "metadata": {
        "id": "LXbbopI0L6E1"
      },
      "source": [
        "## **Defining Encoder**"
      ]
    },
    {
      "cell_type": "code",
      "metadata": {
        "id": "GZ19pwjpLuYW"
      },
      "source": [
        "# encoder\n",
        "encoder_inputs = Input(shape=(maxlen_input,), name='encoderinput')\n",
        "encoder_input = embedding_layer(encoder_inputs)\n",
        "encoder = Bidirectional(LSTM(LATENT_DIM, return_sequences=True, dropout=0.3), name='encoder_bidirection')\n",
        "encoder_outputs = encoder(encoder_input)"
      ],
      "execution_count": 51,
      "outputs": []
    },
    {
      "cell_type": "code",
      "metadata": {
        "colab": {
          "base_uri": "https://localhost:8080/"
        },
        "id": "lQF-eJfNOXbx",
        "outputId": "f11a9248-9283-4385-a493-afbc8d2987ff"
      },
      "source": [
        "encoder_outputs.shape"
      ],
      "execution_count": 52,
      "outputs": [
        {
          "output_type": "execute_result",
          "data": {
            "text/plain": [
              "TensorShape([None, 5, 512])"
            ]
          },
          "metadata": {
            "tags": []
          },
          "execution_count": 52
        }
      ]
    },
    {
      "cell_type": "markdown",
      "metadata": {
        "id": "fX3ghJcsOvrS"
      },
      "source": [
        "## Decoder Network"
      ]
    },
    {
      "cell_type": "code",
      "metadata": {
        "id": "4pOlJYufOfKw"
      },
      "source": [
        "decoder_inputs = Input(shape=(maxlen_output,), name='decoder_input')\n",
        "decoder_embedding = Embedding(output_vocab_size, EMBEDDING_DIM, name='decoder_embedding')\n",
        "decoder_input = decoder_embedding(decoder_inputs)"
      ],
      "execution_count": 53,
      "outputs": []
    },
    {
      "cell_type": "code",
      "metadata": {
        "colab": {
          "base_uri": "https://localhost:8080/"
        },
        "id": "hfBuAJjOPvXn",
        "outputId": "da34acc8-bce7-47b4-806c-4ccc263f4eb7"
      },
      "source": [
        "decoder_input.shape"
      ],
      "execution_count": 54,
      "outputs": [
        {
          "output_type": "execute_result",
          "data": {
            "text/plain": [
              "TensorShape([None, 9, 200])"
            ]
          },
          "metadata": {
            "tags": []
          },
          "execution_count": 54
        }
      ]
    },
    {
      "cell_type": "markdown",
      "metadata": {
        "id": "7C84itvHQjSy"
      },
      "source": [
        "## Defining Decoder Layers"
      ]
    },
    {
      "cell_type": "code",
      "metadata": {
        "id": "Y1KaOkbVQTY_"
      },
      "source": [
        "# decoder lstm\n",
        "decoder_lstm = LSTM(LATENT_DIM, return_state=True, name='decoder_lstm')\n",
        "\n",
        "# decoder dense with softmax for predicting each word \n",
        "decoder_dense = Dense(output_vocab_size, activation='softmax', name='decoder_dense')\n"
      ],
      "execution_count": 55,
      "outputs": []
    },
    {
      "cell_type": "markdown",
      "metadata": {
        "id": "fuZUIQr5Si7G"
      },
      "source": [
        "## **Attention Network**"
      ]
    },
    {
      "cell_type": "markdown",
      "metadata": {
        "id": "td9X-1NEWrgx"
      },
      "source": [
        "## Defining Softmax Layer "
      ]
    },
    {
      "cell_type": "code",
      "metadata": {
        "id": "iz8W60AAW5ju"
      },
      "source": [
        "# Computing Alphas\n",
        "import tensorflow.keras.backend as k\n",
        "\n",
        "def softmax_attention(x):\n",
        "  assert(k.ndim(x)>2)\n",
        "\n",
        "  e=k.exp(x-k.max(x, axis=1, keepdims=True))\n",
        "  s=k.sum(e, axis=1, keepdims=True)\n",
        "  return e/s"
      ],
      "execution_count": 56,
      "outputs": []
    },
    {
      "cell_type": "markdown",
      "metadata": {
        "id": "f4Qw3eioXyB0"
      },
      "source": [
        "## Attention Layers"
      ]
    },
    {
      "cell_type": "code",
      "metadata": {
        "id": "xqp9tl9BXpAP"
      },
      "source": [
        "# neural network layers for our repeated use\n",
        "attention_repeat = RepeatVector(maxlen_input)\n",
        "attention_concat = Concatenate(axis=-1)\n",
        "dense1_layer = Dense(10, activation='tanh')\n",
        "dense2_layer = Dense(1, activation= softmax_attention)\n",
        "dot_layer = Dot(axes=1)"
      ],
      "execution_count": 57,
      "outputs": []
    },
    {
      "cell_type": "code",
      "metadata": {
        "id": "D7b2u6QgYeo2"
      },
      "source": [
        "# computing attention context\n",
        "def context_attention(h, st_1):\n",
        "  st_1 = attention_repeat(st_1)\n",
        "  x=attention_concat([h, st_1])\n",
        "  x=dense1_layer(x)\n",
        "  alphas= dense2_layer(x)\n",
        "  context = dot_layer([alphas, h])\n",
        "  return context"
      ],
      "execution_count": 58,
      "outputs": []
    },
    {
      "cell_type": "markdown",
      "metadata": {
        "id": "xdnBc-ZWfXJs"
      },
      "source": [
        "## Collecting Outputs"
      ]
    },
    {
      "cell_type": "code",
      "metadata": {
        "id": "ueEfwj7mceE2"
      },
      "source": [
        "# initial states to be fed\n",
        "initial_s = Input(shape=(LATENT_DIM,), name='s0')\n",
        "initial_c = Input(shape=(LATENT_DIM,), name='c0')\n",
        "context_last_word_concat_layer = Concatenate(axis=2)"
      ],
      "execution_count": 59,
      "outputs": []
    },
    {
      "cell_type": "code",
      "metadata": {
        "id": "GMgfOdxtmyGK"
      },
      "source": [
        "s = initial_s\n",
        "c = initial_c \n",
        "outputs = []\n",
        "\n",
        "# collect output in a list at first\n",
        "for t in range(maxlen_output): #ty time\n",
        "   # the the context using the attention mechanism\n",
        "   context = context_attention(encoder_outputs, s)\n",
        "\n",
        "   # we need a different layer for each time step\n",
        "   selector = Lambda(lambda x: x[:, t:t+1])\n",
        "   x_t = selector(decoder_input)\n",
        "\n",
        "   # combine \n",
        "   decoder_lstm_input = context_last_word_concat_layer([context, x_t])\n",
        "\n",
        "   # pass the combined [context, last word] into lstm\n",
        "   # along with [s, c]\n",
        "   # get the new[s, c] and output \n",
        "   out, s, c = decoder_lstm(decoder_lstm_input, initial_state=[s, c])\n",
        "\n",
        "   # final dense layer to get next word prediction\n",
        "   decoder_outputs = decoder_dense(out)\n",
        "   outputs.append(decoder_outputs)"
      ],
      "execution_count": 60,
      "outputs": []
    },
    {
      "cell_type": "code",
      "metadata": {
        "colab": {
          "base_uri": "https://localhost:8080/"
        },
        "id": "TjLJdm6s2WbS",
        "outputId": "a344f2ba-7a72-46bd-b352-5316d936ed23"
      },
      "source": [
        "outputs"
      ],
      "execution_count": 61,
      "outputs": [
        {
          "output_type": "execute_result",
          "data": {
            "text/plain": [
              "[<KerasTensor: shape=(None, 4964) dtype=float32 (created by layer 'decoder_dense')>,\n",
              " <KerasTensor: shape=(None, 4964) dtype=float32 (created by layer 'decoder_dense')>,\n",
              " <KerasTensor: shape=(None, 4964) dtype=float32 (created by layer 'decoder_dense')>,\n",
              " <KerasTensor: shape=(None, 4964) dtype=float32 (created by layer 'decoder_dense')>,\n",
              " <KerasTensor: shape=(None, 4964) dtype=float32 (created by layer 'decoder_dense')>,\n",
              " <KerasTensor: shape=(None, 4964) dtype=float32 (created by layer 'decoder_dense')>,\n",
              " <KerasTensor: shape=(None, 4964) dtype=float32 (created by layer 'decoder_dense')>,\n",
              " <KerasTensor: shape=(None, 4964) dtype=float32 (created by layer 'decoder_dense')>,\n",
              " <KerasTensor: shape=(None, 4964) dtype=float32 (created by layer 'decoder_dense')>]"
            ]
          },
          "metadata": {
            "tags": []
          },
          "execution_count": 61
        }
      ]
    },
    {
      "cell_type": "code",
      "metadata": {
        "id": "4HtLrcln4aJH"
      },
      "source": [
        "# 'outputs' is now a list of length Ty\n",
        "# each element of shape (batch size, output vocab size)\n",
        "# therefore if we simply stack all the outputs into 1 tensor\n",
        "# it would be shape of T X N X D\n",
        "# we would like it to be N X T X D"
      ],
      "execution_count": 62,
      "outputs": []
    },
    {
      "cell_type": "code",
      "metadata": {
        "id": "aWnRBIjG7LBc"
      },
      "source": [
        "def stack(x):\n",
        "  x = k.stack(x)\n",
        "  x = k.permute_dimensions(x, pattern=(1, 0, 2))\n",
        "  return x"
      ],
      "execution_count": 63,
      "outputs": []
    },
    {
      "cell_type": "code",
      "metadata": {
        "colab": {
          "base_uri": "https://localhost:8080/"
        },
        "id": "PRFNpvD47jET",
        "outputId": "27011eac-cd25-4223-b8fe-2cc86e074092"
      },
      "source": [
        "stacker = Lambda(stack)\n",
        "outputs = stacker(outputs)\n",
        "outputs"
      ],
      "execution_count": 64,
      "outputs": [
        {
          "output_type": "execute_result",
          "data": {
            "text/plain": [
              "<KerasTensor: shape=(None, 9, 4964) dtype=float32 (created by layer 'lambda_9')>"
            ]
          },
          "metadata": {
            "tags": []
          },
          "execution_count": 64
        }
      ]
    },
    {
      "cell_type": "code",
      "metadata": {
        "id": "i0L7cn9C8MOW"
      },
      "source": [
        ""
      ],
      "execution_count": 64,
      "outputs": []
    },
    {
      "cell_type": "markdown",
      "metadata": {
        "id": "8GZOmp7H8jaO"
      },
      "source": [
        "## Defining Model"
      ]
    },
    {
      "cell_type": "code",
      "metadata": {
        "id": "Sc9F0LdN8m2R"
      },
      "source": [
        "model = Model(inputs=[encoder_inputs, decoder_inputs, initial_s, initial_c], outputs=outputs)"
      ],
      "execution_count": 65,
      "outputs": []
    },
    {
      "cell_type": "code",
      "metadata": {
        "colab": {
          "base_uri": "https://localhost:8080/"
        },
        "id": "SN3abaSF9AZv",
        "outputId": "c2178586-e5d9-44a3-ba9d-8117e7bde9e1"
      },
      "source": [
        "model.summary()"
      ],
      "execution_count": 66,
      "outputs": [
        {
          "output_type": "stream",
          "text": [
            "Model: \"model\"\n",
            "__________________________________________________________________________________________________\n",
            "Layer (type)                    Output Shape         Param #     Connected to                     \n",
            "==================================================================================================\n",
            "encoderinput (InputLayer)       [(None, 5)]          0                                            \n",
            "__________________________________________________________________________________________________\n",
            "embedding (Embedding)           (None, 5, 200)       466400      encoderinput[0][0]               \n",
            "__________________________________________________________________________________________________\n",
            "s0 (InputLayer)                 [(None, 256)]        0                                            \n",
            "__________________________________________________________________________________________________\n",
            "encoder_bidirection (Bidirectio (None, 5, 512)       935936      embedding[0][0]                  \n",
            "__________________________________________________________________________________________________\n",
            "repeat_vector (RepeatVector)    (None, 5, 256)       0           s0[0][0]                         \n",
            "                                                                 decoder_lstm[0][1]               \n",
            "                                                                 decoder_lstm[1][1]               \n",
            "                                                                 decoder_lstm[2][1]               \n",
            "                                                                 decoder_lstm[3][1]               \n",
            "                                                                 decoder_lstm[4][1]               \n",
            "                                                                 decoder_lstm[5][1]               \n",
            "                                                                 decoder_lstm[6][1]               \n",
            "                                                                 decoder_lstm[7][1]               \n",
            "__________________________________________________________________________________________________\n",
            "concatenate (Concatenate)       (None, 5, 768)       0           encoder_bidirection[0][0]        \n",
            "                                                                 repeat_vector[0][0]              \n",
            "                                                                 encoder_bidirection[0][0]        \n",
            "                                                                 repeat_vector[1][0]              \n",
            "                                                                 encoder_bidirection[0][0]        \n",
            "                                                                 repeat_vector[2][0]              \n",
            "                                                                 encoder_bidirection[0][0]        \n",
            "                                                                 repeat_vector[3][0]              \n",
            "                                                                 encoder_bidirection[0][0]        \n",
            "                                                                 repeat_vector[4][0]              \n",
            "                                                                 encoder_bidirection[0][0]        \n",
            "                                                                 repeat_vector[5][0]              \n",
            "                                                                 encoder_bidirection[0][0]        \n",
            "                                                                 repeat_vector[6][0]              \n",
            "                                                                 encoder_bidirection[0][0]        \n",
            "                                                                 repeat_vector[7][0]              \n",
            "                                                                 encoder_bidirection[0][0]        \n",
            "                                                                 repeat_vector[8][0]              \n",
            "__________________________________________________________________________________________________\n",
            "dense (Dense)                   (None, 5, 10)        7690        concatenate[0][0]                \n",
            "                                                                 concatenate[1][0]                \n",
            "                                                                 concatenate[2][0]                \n",
            "                                                                 concatenate[3][0]                \n",
            "                                                                 concatenate[4][0]                \n",
            "                                                                 concatenate[5][0]                \n",
            "                                                                 concatenate[6][0]                \n",
            "                                                                 concatenate[7][0]                \n",
            "                                                                 concatenate[8][0]                \n",
            "__________________________________________________________________________________________________\n",
            "decoder_input (InputLayer)      [(None, 9)]          0                                            \n",
            "__________________________________________________________________________________________________\n",
            "dense_1 (Dense)                 (None, 5, 1)         11          dense[0][0]                      \n",
            "                                                                 dense[1][0]                      \n",
            "                                                                 dense[2][0]                      \n",
            "                                                                 dense[3][0]                      \n",
            "                                                                 dense[4][0]                      \n",
            "                                                                 dense[5][0]                      \n",
            "                                                                 dense[6][0]                      \n",
            "                                                                 dense[7][0]                      \n",
            "                                                                 dense[8][0]                      \n",
            "__________________________________________________________________________________________________\n",
            "decoder_embedding (Embedding)   (None, 9, 200)       992800      decoder_input[0][0]              \n",
            "__________________________________________________________________________________________________\n",
            "dot (Dot)                       (None, 1, 512)       0           dense_1[0][0]                    \n",
            "                                                                 encoder_bidirection[0][0]        \n",
            "                                                                 dense_1[1][0]                    \n",
            "                                                                 encoder_bidirection[0][0]        \n",
            "                                                                 dense_1[2][0]                    \n",
            "                                                                 encoder_bidirection[0][0]        \n",
            "                                                                 dense_1[3][0]                    \n",
            "                                                                 encoder_bidirection[0][0]        \n",
            "                                                                 dense_1[4][0]                    \n",
            "                                                                 encoder_bidirection[0][0]        \n",
            "                                                                 dense_1[5][0]                    \n",
            "                                                                 encoder_bidirection[0][0]        \n",
            "                                                                 dense_1[6][0]                    \n",
            "                                                                 encoder_bidirection[0][0]        \n",
            "                                                                 dense_1[7][0]                    \n",
            "                                                                 encoder_bidirection[0][0]        \n",
            "                                                                 dense_1[8][0]                    \n",
            "                                                                 encoder_bidirection[0][0]        \n",
            "__________________________________________________________________________________________________\n",
            "lambda (Lambda)                 (None, 1, 200)       0           decoder_embedding[0][0]          \n",
            "__________________________________________________________________________________________________\n",
            "concatenate_1 (Concatenate)     (None, 1, 712)       0           dot[0][0]                        \n",
            "                                                                 lambda[0][0]                     \n",
            "                                                                 dot[1][0]                        \n",
            "                                                                 lambda_1[0][0]                   \n",
            "                                                                 dot[2][0]                        \n",
            "                                                                 lambda_2[0][0]                   \n",
            "                                                                 dot[3][0]                        \n",
            "                                                                 lambda_3[0][0]                   \n",
            "                                                                 dot[4][0]                        \n",
            "                                                                 lambda_4[0][0]                   \n",
            "                                                                 dot[5][0]                        \n",
            "                                                                 lambda_5[0][0]                   \n",
            "                                                                 dot[6][0]                        \n",
            "                                                                 lambda_6[0][0]                   \n",
            "                                                                 dot[7][0]                        \n",
            "                                                                 lambda_7[0][0]                   \n",
            "                                                                 dot[8][0]                        \n",
            "                                                                 lambda_8[0][0]                   \n",
            "__________________________________________________________________________________________________\n",
            "c0 (InputLayer)                 [(None, 256)]        0                                            \n",
            "__________________________________________________________________________________________________\n",
            "decoder_lstm (LSTM)             [(None, 256), (None, 992256      concatenate_1[0][0]              \n",
            "                                                                 s0[0][0]                         \n",
            "                                                                 c0[0][0]                         \n",
            "                                                                 concatenate_1[1][0]              \n",
            "                                                                 decoder_lstm[0][1]               \n",
            "                                                                 decoder_lstm[0][2]               \n",
            "                                                                 concatenate_1[2][0]              \n",
            "                                                                 decoder_lstm[1][1]               \n",
            "                                                                 decoder_lstm[1][2]               \n",
            "                                                                 concatenate_1[3][0]              \n",
            "                                                                 decoder_lstm[2][1]               \n",
            "                                                                 decoder_lstm[2][2]               \n",
            "                                                                 concatenate_1[4][0]              \n",
            "                                                                 decoder_lstm[3][1]               \n",
            "                                                                 decoder_lstm[3][2]               \n",
            "                                                                 concatenate_1[5][0]              \n",
            "                                                                 decoder_lstm[4][1]               \n",
            "                                                                 decoder_lstm[4][2]               \n",
            "                                                                 concatenate_1[6][0]              \n",
            "                                                                 decoder_lstm[5][1]               \n",
            "                                                                 decoder_lstm[5][2]               \n",
            "                                                                 concatenate_1[7][0]              \n",
            "                                                                 decoder_lstm[6][1]               \n",
            "                                                                 decoder_lstm[6][2]               \n",
            "                                                                 concatenate_1[8][0]              \n",
            "                                                                 decoder_lstm[7][1]               \n",
            "                                                                 decoder_lstm[7][2]               \n",
            "__________________________________________________________________________________________________\n",
            "lambda_1 (Lambda)               (None, 1, 200)       0           decoder_embedding[0][0]          \n",
            "__________________________________________________________________________________________________\n",
            "lambda_2 (Lambda)               (None, 1, 200)       0           decoder_embedding[0][0]          \n",
            "__________________________________________________________________________________________________\n",
            "lambda_3 (Lambda)               (None, 1, 200)       0           decoder_embedding[0][0]          \n",
            "__________________________________________________________________________________________________\n",
            "lambda_4 (Lambda)               (None, 1, 200)       0           decoder_embedding[0][0]          \n",
            "__________________________________________________________________________________________________\n",
            "lambda_5 (Lambda)               (None, 1, 200)       0           decoder_embedding[0][0]          \n",
            "__________________________________________________________________________________________________\n",
            "lambda_6 (Lambda)               (None, 1, 200)       0           decoder_embedding[0][0]          \n",
            "__________________________________________________________________________________________________\n",
            "lambda_7 (Lambda)               (None, 1, 200)       0           decoder_embedding[0][0]          \n",
            "__________________________________________________________________________________________________\n",
            "lambda_8 (Lambda)               (None, 1, 200)       0           decoder_embedding[0][0]          \n",
            "__________________________________________________________________________________________________\n",
            "decoder_dense (Dense)           (None, 4964)         1275748     decoder_lstm[0][0]               \n",
            "                                                                 decoder_lstm[1][0]               \n",
            "                                                                 decoder_lstm[2][0]               \n",
            "                                                                 decoder_lstm[3][0]               \n",
            "                                                                 decoder_lstm[4][0]               \n",
            "                                                                 decoder_lstm[5][0]               \n",
            "                                                                 decoder_lstm[6][0]               \n",
            "                                                                 decoder_lstm[7][0]               \n",
            "                                                                 decoder_lstm[8][0]               \n",
            "__________________________________________________________________________________________________\n",
            "lambda_9 (Lambda)               (None, 9, 4964)      0           decoder_dense[0][0]              \n",
            "                                                                 decoder_dense[1][0]              \n",
            "                                                                 decoder_dense[2][0]              \n",
            "                                                                 decoder_dense[3][0]              \n",
            "                                                                 decoder_dense[4][0]              \n",
            "                                                                 decoder_dense[5][0]              \n",
            "                                                                 decoder_dense[6][0]              \n",
            "                                                                 decoder_dense[7][0]              \n",
            "                                                                 decoder_dense[8][0]              \n",
            "==================================================================================================\n",
            "Total params: 4,670,841\n",
            "Trainable params: 4,670,841\n",
            "Non-trainable params: 0\n",
            "__________________________________________________________________________________________________\n"
          ],
          "name": "stdout"
        }
      ]
    },
    {
      "cell_type": "code",
      "metadata": {
        "colab": {
          "base_uri": "https://localhost:8080/",
          "height": 602
        },
        "id": "RZvUS6m29Wqu",
        "outputId": "0326fb68-a59d-4240-9f24-92244dcb33e4"
      },
      "source": [
        "tf.keras.utils.plot_model(model)"
      ],
      "execution_count": 67,
      "outputs": [
        {
          "output_type": "execute_result",
          "data": {
            "image/png": "[encoded data removed]",
            "text/plain": [
              "<IPython.core.display.Image object>"
            ]
          },
          "metadata": {
            "tags": []
          },
          "execution_count": 67
        }
      ]
    },
    {
      "cell_type": "code",
      "metadata": {
        "id": "5naiCrFn--6d"
      },
      "source": [
        "model.compile(optimizer='adam', loss='categorical_crossentropy', metrics=['accuracy'])"
      ],
      "execution_count": 68,
      "outputs": []
    },
    {
      "cell_type": "code",
      "metadata": {
        "id": "tEYdswqf_4dz"
      },
      "source": [
        ""
      ],
      "execution_count": 68,
      "outputs": []
    },
    {
      "cell_type": "markdown",
      "metadata": {
        "id": "7G93AQZzANNe"
      },
      "source": [
        "# Training"
      ]
    },
    {
      "cell_type": "code",
      "metadata": {
        "colab": {
          "base_uri": "https://localhost:8080/"
        },
        "id": "53YdVwIGARZp",
        "outputId": "200a621c-7b2f-4582-b294-518ef09d7800"
      },
      "source": [
        "initial_s_training = np.zeros((NUM_SAMPLES, LATENT_DIM)) # initial s c\n",
        "initial_c_training = np.zeros(shape=(NUM_SAMPLES, LATENT_DIM))\n",
        "r = model.fit([encoder_input_data, decoder_input_data, initial_s_training, initial_c_training], \n",
        "              decoder_target_one_hot, batch_size=100, epochs=100, validation_split=0.3)"
      ],
      "execution_count": 69,
      "outputs": [
        {
          "output_type": "stream",
          "text": [
            "Epoch 1/100\n",
            "70/70 [==============================] - 26s 115ms/step - loss: 3.4612 - accuracy: 0.5823 - val_loss: 2.9541 - val_accuracy: 0.5319\n",
            "Epoch 2/100\n",
            "70/70 [==============================] - 4s 63ms/step - loss: 2.3773 - accuracy: 0.6335 - val_loss: 2.8705 - val_accuracy: 0.5722\n",
            "Epoch 3/100\n",
            "70/70 [==============================] - 5s 71ms/step - loss: 2.2888 - accuracy: 0.6478 - val_loss: 2.8728 - val_accuracy: 0.5736\n",
            "Epoch 4/100\n",
            "70/70 [==============================] - 5s 71ms/step - loss: 2.2249 - accuracy: 0.6563 - val_loss: 2.8125 - val_accuracy: 0.5966\n",
            "Epoch 5/100\n",
            "70/70 [==============================] - 5s 72ms/step - loss: 2.1802 - accuracy: 0.6629 - val_loss: 2.7786 - val_accuracy: 0.6061\n",
            "Epoch 6/100\n",
            "70/70 [==============================] - 4s 62ms/step - loss: 2.1326 - accuracy: 0.6696 - val_loss: 2.7383 - val_accuracy: 0.6181\n",
            "Epoch 7/100\n",
            "70/70 [==============================] - 4s 63ms/step - loss: 2.0873 - accuracy: 0.6741 - val_loss: 2.7082 - val_accuracy: 0.6207\n",
            "Epoch 8/100\n",
            "70/70 [==============================] - 5s 71ms/step - loss: 2.0366 - accuracy: 0.6810 - val_loss: 2.6816 - val_accuracy: 0.6213\n",
            "Epoch 9/100\n",
            "70/70 [==============================] - 5s 72ms/step - loss: 1.9864 - accuracy: 0.6866 - val_loss: 2.6592 - val_accuracy: 0.6220\n",
            "Epoch 10/100\n",
            "70/70 [==============================] - 5s 72ms/step - loss: 1.9360 - accuracy: 0.6926 - val_loss: 2.6356 - val_accuracy: 0.6245\n",
            "Epoch 11/100\n",
            "70/70 [==============================] - 5s 72ms/step - loss: 1.8909 - accuracy: 0.6958 - val_loss: 2.6088 - val_accuracy: 0.6296\n",
            "Epoch 12/100\n",
            "70/70 [==============================] - 4s 63ms/step - loss: 1.8469 - accuracy: 0.7018 - val_loss: 2.5862 - val_accuracy: 0.6337\n",
            "Epoch 13/100\n",
            "70/70 [==============================] - 4s 63ms/step - loss: 1.8081 - accuracy: 0.7044 - val_loss: 2.5784 - val_accuracy: 0.6347\n",
            "Epoch 14/100\n",
            "70/70 [==============================] - 5s 71ms/step - loss: 1.7716 - accuracy: 0.7068 - val_loss: 2.5461 - val_accuracy: 0.6369\n",
            "Epoch 15/100\n",
            "70/70 [==============================] - 4s 63ms/step - loss: 1.7313 - accuracy: 0.7103 - val_loss: 2.5263 - val_accuracy: 0.6391\n",
            "Epoch 16/100\n",
            "70/70 [==============================] - 5s 71ms/step - loss: 1.6938 - accuracy: 0.7132 - val_loss: 2.5109 - val_accuracy: 0.6384\n",
            "Epoch 17/100\n",
            "70/70 [==============================] - 5s 72ms/step - loss: 1.6614 - accuracy: 0.7150 - val_loss: 2.4928 - val_accuracy: 0.6434\n",
            "Epoch 18/100\n",
            "70/70 [==============================] - 5s 72ms/step - loss: 1.6192 - accuracy: 0.7200 - val_loss: 2.4864 - val_accuracy: 0.6459\n",
            "Epoch 19/100\n",
            "70/70 [==============================] - 5s 72ms/step - loss: 1.5790 - accuracy: 0.7239 - val_loss: 2.4481 - val_accuracy: 0.6466\n",
            "Epoch 20/100\n",
            "70/70 [==============================] - 5s 72ms/step - loss: 1.5396 - accuracy: 0.7272 - val_loss: 2.4294 - val_accuracy: 0.6497\n",
            "Epoch 21/100\n",
            "70/70 [==============================] - 5s 71ms/step - loss: 1.5011 - accuracy: 0.7301 - val_loss: 2.4292 - val_accuracy: 0.6509\n",
            "Epoch 22/100\n",
            "70/70 [==============================] - 4s 64ms/step - loss: 1.4603 - accuracy: 0.7336 - val_loss: 2.3938 - val_accuracy: 0.6545\n",
            "Epoch 23/100\n",
            "70/70 [==============================] - 5s 72ms/step - loss: 1.4201 - accuracy: 0.7377 - val_loss: 2.3916 - val_accuracy: 0.6570\n",
            "Epoch 24/100\n",
            "70/70 [==============================] - 4s 64ms/step - loss: 1.3814 - accuracy: 0.7419 - val_loss: 2.3671 - val_accuracy: 0.6618\n",
            "Epoch 25/100\n",
            "70/70 [==============================] - 4s 63ms/step - loss: 1.3420 - accuracy: 0.7459 - val_loss: 2.3556 - val_accuracy: 0.6624\n",
            "Epoch 26/100\n",
            "70/70 [==============================] - 5s 73ms/step - loss: 1.3073 - accuracy: 0.7487 - val_loss: 2.3579 - val_accuracy: 0.6638\n",
            "Epoch 27/100\n",
            "70/70 [==============================] - 4s 64ms/step - loss: 1.2651 - accuracy: 0.7540 - val_loss: 2.3397 - val_accuracy: 0.6673\n",
            "Epoch 28/100\n",
            "70/70 [==============================] - 5s 72ms/step - loss: 1.2272 - accuracy: 0.7581 - val_loss: 2.3513 - val_accuracy: 0.6695\n",
            "Epoch 29/100\n",
            "70/70 [==============================] - 5s 72ms/step - loss: 1.1933 - accuracy: 0.7614 - val_loss: 2.3257 - val_accuracy: 0.6713\n",
            "Epoch 30/100\n",
            "70/70 [==============================] - 5s 65ms/step - loss: 1.1556 - accuracy: 0.7650 - val_loss: 2.3129 - val_accuracy: 0.6690\n",
            "Epoch 31/100\n",
            "70/70 [==============================] - 5s 65ms/step - loss: 1.1216 - accuracy: 0.7680 - val_loss: 2.3146 - val_accuracy: 0.6765\n",
            "Epoch 32/100\n",
            "70/70 [==============================] - 4s 63ms/step - loss: 1.0839 - accuracy: 0.7722 - val_loss: 2.3058 - val_accuracy: 0.6716\n",
            "Epoch 33/100\n",
            "70/70 [==============================] - 5s 72ms/step - loss: 1.0554 - accuracy: 0.7736 - val_loss: 2.3222 - val_accuracy: 0.6777\n",
            "Epoch 34/100\n",
            "70/70 [==============================] - 5s 73ms/step - loss: 1.0225 - accuracy: 0.7786 - val_loss: 2.2933 - val_accuracy: 0.6782\n",
            "Epoch 35/100\n",
            "70/70 [==============================] - 4s 63ms/step - loss: 0.9910 - accuracy: 0.7818 - val_loss: 2.2864 - val_accuracy: 0.6797\n",
            "Epoch 36/100\n",
            "70/70 [==============================] - 5s 73ms/step - loss: 0.9550 - accuracy: 0.7856 - val_loss: 2.3063 - val_accuracy: 0.6795\n",
            "Epoch 37/100\n",
            "70/70 [==============================] - 4s 64ms/step - loss: 0.9223 - accuracy: 0.7899 - val_loss: 2.2871 - val_accuracy: 0.6814\n",
            "Epoch 38/100\n",
            "70/70 [==============================] - 5s 73ms/step - loss: 0.8935 - accuracy: 0.7929 - val_loss: 2.2920 - val_accuracy: 0.6815\n",
            "Epoch 39/100\n",
            "70/70 [==============================] - 5s 72ms/step - loss: 0.8602 - accuracy: 0.7973 - val_loss: 2.2897 - val_accuracy: 0.6826\n",
            "Epoch 40/100\n",
            "70/70 [==============================] - 4s 64ms/step - loss: 0.8330 - accuracy: 0.8011 - val_loss: 2.2808 - val_accuracy: 0.6807\n",
            "Epoch 41/100\n",
            "70/70 [==============================] - 4s 63ms/step - loss: 0.8065 - accuracy: 0.8055 - val_loss: 2.2749 - val_accuracy: 0.6814\n",
            "Epoch 42/100\n",
            "70/70 [==============================] - 5s 73ms/step - loss: 0.7785 - accuracy: 0.8093 - val_loss: 2.2901 - val_accuracy: 0.6806\n",
            "Epoch 43/100\n",
            "70/70 [==============================] - 5s 73ms/step - loss: 0.7495 - accuracy: 0.8129 - val_loss: 2.2832 - val_accuracy: 0.6779\n",
            "Epoch 44/100\n",
            "70/70 [==============================] - 5s 64ms/step - loss: 0.7220 - accuracy: 0.8186 - val_loss: 2.2788 - val_accuracy: 0.6843\n",
            "Epoch 45/100\n",
            "70/70 [==============================] - 4s 64ms/step - loss: 0.6992 - accuracy: 0.8216 - val_loss: 2.2729 - val_accuracy: 0.6820\n",
            "Epoch 46/100\n",
            "70/70 [==============================] - 4s 63ms/step - loss: 0.6745 - accuracy: 0.8265 - val_loss: 2.2781 - val_accuracy: 0.6849\n",
            "Epoch 47/100\n",
            "70/70 [==============================] - 5s 73ms/step - loss: 0.6499 - accuracy: 0.8310 - val_loss: 2.2799 - val_accuracy: 0.6851\n",
            "Epoch 48/100\n",
            "70/70 [==============================] - 5s 73ms/step - loss: 0.6249 - accuracy: 0.8360 - val_loss: 2.2820 - val_accuracy: 0.6803\n",
            "Epoch 49/100\n",
            "70/70 [==============================] - 5s 72ms/step - loss: 0.6052 - accuracy: 0.8390 - val_loss: 2.2807 - val_accuracy: 0.6846\n",
            "Epoch 50/100\n",
            "70/70 [==============================] - 4s 63ms/step - loss: 0.5829 - accuracy: 0.8440 - val_loss: 2.2727 - val_accuracy: 0.6850\n",
            "Epoch 51/100\n",
            "70/70 [==============================] - 5s 72ms/step - loss: 0.5637 - accuracy: 0.8475 - val_loss: 2.2773 - val_accuracy: 0.6846\n",
            "Epoch 52/100\n",
            "70/70 [==============================] - 5s 73ms/step - loss: 0.5464 - accuracy: 0.8495 - val_loss: 2.2809 - val_accuracy: 0.6865\n",
            "Epoch 53/100\n",
            "70/70 [==============================] - 4s 64ms/step - loss: 0.5260 - accuracy: 0.8546 - val_loss: 2.2810 - val_accuracy: 0.6823\n",
            "Epoch 54/100\n",
            "70/70 [==============================] - 5s 73ms/step - loss: 0.5117 - accuracy: 0.8570 - val_loss: 2.2807 - val_accuracy: 0.6857\n",
            "Epoch 55/100\n",
            "70/70 [==============================] - 5s 72ms/step - loss: 0.4899 - accuracy: 0.8615 - val_loss: 2.2908 - val_accuracy: 0.6845\n",
            "Epoch 56/100\n",
            "70/70 [==============================] - 4s 64ms/step - loss: 0.4787 - accuracy: 0.8624 - val_loss: 2.2926 - val_accuracy: 0.6878\n",
            "Epoch 57/100\n",
            "70/70 [==============================] - 4s 64ms/step - loss: 0.4625 - accuracy: 0.8667 - val_loss: 2.3009 - val_accuracy: 0.6854\n",
            "Epoch 58/100\n",
            "70/70 [==============================] - 4s 63ms/step - loss: 0.4482 - accuracy: 0.8689 - val_loss: 2.3070 - val_accuracy: 0.6865\n",
            "Epoch 59/100\n",
            "70/70 [==============================] - 4s 64ms/step - loss: 0.4354 - accuracy: 0.8721 - val_loss: 2.3088 - val_accuracy: 0.6847\n",
            "Epoch 60/100\n",
            "70/70 [==============================] - 5s 72ms/step - loss: 0.4201 - accuracy: 0.8740 - val_loss: 2.3028 - val_accuracy: 0.6852\n",
            "Epoch 61/100\n",
            "70/70 [==============================] - 4s 63ms/step - loss: 0.4093 - accuracy: 0.8767 - val_loss: 2.3219 - val_accuracy: 0.6857\n",
            "Epoch 62/100\n",
            "70/70 [==============================] - 4s 64ms/step - loss: 0.3970 - accuracy: 0.8790 - val_loss: 2.3067 - val_accuracy: 0.6869\n",
            "Epoch 63/100\n",
            "70/70 [==============================] - 5s 72ms/step - loss: 0.3875 - accuracy: 0.8807 - val_loss: 2.3157 - val_accuracy: 0.6851\n",
            "Epoch 64/100\n",
            "70/70 [==============================] - 4s 64ms/step - loss: 0.3735 - accuracy: 0.8833 - val_loss: 2.3118 - val_accuracy: 0.6826\n",
            "Epoch 65/100\n",
            "70/70 [==============================] - 5s 72ms/step - loss: 0.3650 - accuracy: 0.8834 - val_loss: 2.3338 - val_accuracy: 0.6887\n",
            "Epoch 66/100\n",
            "70/70 [==============================] - 4s 64ms/step - loss: 0.3561 - accuracy: 0.8850 - val_loss: 2.3258 - val_accuracy: 0.6885\n",
            "Epoch 67/100\n",
            "70/70 [==============================] - 4s 64ms/step - loss: 0.3467 - accuracy: 0.8885 - val_loss: 2.3257 - val_accuracy: 0.6870\n",
            "Epoch 68/100\n",
            "70/70 [==============================] - 4s 64ms/step - loss: 0.3382 - accuracy: 0.8887 - val_loss: 2.3427 - val_accuracy: 0.6876\n",
            "Epoch 69/100\n",
            "70/70 [==============================] - 4s 64ms/step - loss: 0.3305 - accuracy: 0.8898 - val_loss: 2.3421 - val_accuracy: 0.6856\n",
            "Epoch 70/100\n",
            "70/70 [==============================] - 5s 72ms/step - loss: 0.3243 - accuracy: 0.8912 - val_loss: 2.3397 - val_accuracy: 0.6876\n",
            "Epoch 71/100\n",
            "70/70 [==============================] - 4s 64ms/step - loss: 0.3183 - accuracy: 0.8913 - val_loss: 2.3480 - val_accuracy: 0.6861\n",
            "Epoch 72/100\n",
            "70/70 [==============================] - 5s 72ms/step - loss: 0.3098 - accuracy: 0.8938 - val_loss: 2.3519 - val_accuracy: 0.6880\n",
            "Epoch 73/100\n",
            "70/70 [==============================] - 5s 73ms/step - loss: 0.3040 - accuracy: 0.8941 - val_loss: 2.3453 - val_accuracy: 0.6855\n",
            "Epoch 74/100\n",
            "70/70 [==============================] - 5s 72ms/step - loss: 0.2962 - accuracy: 0.8958 - val_loss: 2.3505 - val_accuracy: 0.6873\n",
            "Epoch 75/100\n",
            "70/70 [==============================] - 5s 72ms/step - loss: 0.2915 - accuracy: 0.8962 - val_loss: 2.3567 - val_accuracy: 0.6884\n",
            "Epoch 76/100\n",
            "70/70 [==============================] - 4s 64ms/step - loss: 0.2871 - accuracy: 0.8960 - val_loss: 2.3725 - val_accuracy: 0.6896\n",
            "Epoch 77/100\n",
            "70/70 [==============================] - 5s 72ms/step - loss: 0.2790 - accuracy: 0.8982 - val_loss: 2.3762 - val_accuracy: 0.6890\n",
            "Epoch 78/100\n",
            "70/70 [==============================] - 5s 73ms/step - loss: 0.2773 - accuracy: 0.8981 - val_loss: 2.3671 - val_accuracy: 0.6912\n",
            "Epoch 79/100\n",
            "70/70 [==============================] - 5s 73ms/step - loss: 0.2694 - accuracy: 0.9002 - val_loss: 2.3712 - val_accuracy: 0.6889\n",
            "Epoch 80/100\n",
            "70/70 [==============================] - 5s 65ms/step - loss: 0.2673 - accuracy: 0.8997 - val_loss: 2.3830 - val_accuracy: 0.6881\n",
            "Epoch 81/100\n",
            "70/70 [==============================] - 5s 65ms/step - loss: 0.2590 - accuracy: 0.9022 - val_loss: 2.3906 - val_accuracy: 0.6882\n",
            "Epoch 82/100\n",
            "70/70 [==============================] - 5s 72ms/step - loss: 0.2560 - accuracy: 0.9022 - val_loss: 2.3809 - val_accuracy: 0.6871\n",
            "Epoch 83/100\n",
            "70/70 [==============================] - 5s 72ms/step - loss: 0.2507 - accuracy: 0.9019 - val_loss: 2.3874 - val_accuracy: 0.6901\n",
            "Epoch 84/100\n",
            "70/70 [==============================] - 4s 63ms/step - loss: 0.2486 - accuracy: 0.9030 - val_loss: 2.3941 - val_accuracy: 0.6881\n",
            "Epoch 85/100\n",
            "70/70 [==============================] - 5s 73ms/step - loss: 0.2446 - accuracy: 0.9032 - val_loss: 2.3918 - val_accuracy: 0.6890\n",
            "Epoch 86/100\n",
            "70/70 [==============================] - 5s 72ms/step - loss: 0.2412 - accuracy: 0.9043 - val_loss: 2.4109 - val_accuracy: 0.6918\n",
            "Epoch 87/100\n",
            "70/70 [==============================] - 5s 73ms/step - loss: 0.2392 - accuracy: 0.9033 - val_loss: 2.4097 - val_accuracy: 0.6901\n",
            "Epoch 88/100\n",
            "70/70 [==============================] - 5s 73ms/step - loss: 0.2343 - accuracy: 0.9041 - val_loss: 2.4165 - val_accuracy: 0.6884\n",
            "Epoch 89/100\n",
            "70/70 [==============================] - 5s 72ms/step - loss: 0.2331 - accuracy: 0.9042 - val_loss: 2.4069 - val_accuracy: 0.6901\n",
            "Epoch 90/100\n",
            "70/70 [==============================] - 5s 73ms/step - loss: 0.2304 - accuracy: 0.9053 - val_loss: 2.4195 - val_accuracy: 0.6900\n",
            "Epoch 91/100\n",
            "70/70 [==============================] - 5s 72ms/step - loss: 0.2272 - accuracy: 0.9054 - val_loss: 2.4311 - val_accuracy: 0.6906\n",
            "Epoch 92/100\n",
            "70/70 [==============================] - 4s 64ms/step - loss: 0.2257 - accuracy: 0.9059 - val_loss: 2.4154 - val_accuracy: 0.6892\n",
            "Epoch 93/100\n",
            "70/70 [==============================] - 5s 73ms/step - loss: 0.2216 - accuracy: 0.9058 - val_loss: 2.4128 - val_accuracy: 0.6912\n",
            "Epoch 94/100\n",
            "70/70 [==============================] - 5s 73ms/step - loss: 0.2186 - accuracy: 0.9072 - val_loss: 2.4264 - val_accuracy: 0.6903\n",
            "Epoch 95/100\n",
            "70/70 [==============================] - 5s 65ms/step - loss: 0.2153 - accuracy: 0.9074 - val_loss: 2.4233 - val_accuracy: 0.6921\n",
            "Epoch 96/100\n",
            "70/70 [==============================] - 5s 73ms/step - loss: 0.2139 - accuracy: 0.9073 - val_loss: 2.4327 - val_accuracy: 0.6917\n",
            "Epoch 97/100\n",
            "70/70 [==============================] - 4s 64ms/step - loss: 0.2142 - accuracy: 0.9068 - val_loss: 2.4676 - val_accuracy: 0.6906\n",
            "Epoch 98/100\n",
            "70/70 [==============================] - 5s 73ms/step - loss: 0.2109 - accuracy: 0.9077 - val_loss: 2.4527 - val_accuracy: 0.6889\n",
            "Epoch 99/100\n",
            "70/70 [==============================] - 4s 64ms/step - loss: 0.2080 - accuracy: 0.9076 - val_loss: 2.4578 - val_accuracy: 0.6903\n",
            "Epoch 100/100\n",
            "70/70 [==============================] - 5s 73ms/step - loss: 0.2072 - accuracy: 0.9073 - val_loss: 2.4531 - val_accuracy: 0.6900\n"
          ],
          "name": "stdout"
        }
      ]
    },
    {
      "cell_type": "markdown",
      "metadata": {
        "id": "Su-0r1uZZGu5"
      },
      "source": [
        "## **Encoder Model**"
      ]
    },
    {
      "cell_type": "code",
      "metadata": {
        "colab": {
          "base_uri": "https://localhost:8080/"
        },
        "id": "Q0yBqQP3GYZO",
        "outputId": "7a2cb76d-2688-4698-dada-6a46a1baa125"
      },
      "source": [
        "encoder_model = Model(encoder_inputs, encoder_outputs)\n",
        "encoder_model.summary()"
      ],
      "execution_count": 70,
      "outputs": [
        {
          "output_type": "stream",
          "text": [
            "Model: \"model_1\"\n",
            "_________________________________________________________________\n",
            "Layer (type)                 Output Shape              Param #   \n",
            "=================================================================\n",
            "encoderinput (InputLayer)    [(None, 5)]               0         \n",
            "_________________________________________________________________\n",
            "embedding (Embedding)        (None, 5, 200)            466400    \n",
            "_________________________________________________________________\n",
            "encoder_bidirection (Bidirec (None, 5, 512)            935936    \n",
            "=================================================================\n",
            "Total params: 1,402,336\n",
            "Trainable params: 1,402,336\n",
            "Non-trainable params: 0\n",
            "_________________________________________________________________\n"
          ],
          "name": "stdout"
        }
      ]
    },
    {
      "cell_type": "code",
      "metadata": {
        "colab": {
          "base_uri": "https://localhost:8080/",
          "height": 272
        },
        "id": "pDkyld65Z9Ec",
        "outputId": "a5309307-3e65-4453-cd45-e5dd9e04ecc2"
      },
      "source": [
        "tf.keras.utils.plot_model(encoder_model)"
      ],
      "execution_count": 71,
      "outputs": [
        {
          "output_type": "execute_result",
          "data": {
            "image/png": "[encoded data removed]",
            "text/plain": [
              "<IPython.core.display.Image object>"
            ]
          },
          "metadata": {
            "tags": []
          },
          "execution_count": 71
        }
      ]
    },
    {
      "cell_type": "markdown",
      "metadata": {
        "id": "SI8qY0ZoaHsQ"
      },
      "source": [
        "## **Decoder Model**"
      ]
    },
    {
      "cell_type": "code",
      "metadata": {
        "id": "VSwu9C76aFR9"
      },
      "source": [
        "# input will have the length double of latent dimension due to bidirectiional\n",
        "encoder_outputs_as_input = Input(shape=(maxlen_input, LATENT_DIM * 2))\n",
        "# we are going to predict one word at a time with input of the word\n",
        "decoder_input_embedding = Input(shape=(1,))\n",
        "decoder_input_ = decoder_embedding(decoder_input_embedding) "
      ],
      "execution_count": 72,
      "outputs": []
    },
    {
      "cell_type": "code",
      "metadata": {
        "id": "qjIN1IOUa3qE"
      },
      "source": [
        "# calculating context \n",
        "context = context_attention(encoder_outputs_as_input, initial_s)"
      ],
      "execution_count": 73,
      "outputs": []
    },
    {
      "cell_type": "code",
      "metadata": {
        "id": "cqQxmJqwbI-r"
      },
      "source": [
        "decoder_lstm_input = context_last_word_concat_layer([context, decoder_input_])"
      ],
      "execution_count": 74,
      "outputs": []
    },
    {
      "cell_type": "code",
      "metadata": {
        "id": "3AU9f5mhbVxK"
      },
      "source": [
        "out, s, c = decoder_lstm(decoder_lstm_input, initial_state=[initial_s, initial_c])"
      ],
      "execution_count": 75,
      "outputs": []
    },
    {
      "cell_type": "code",
      "metadata": {
        "id": "x9AHoJXDbnsa"
      },
      "source": [
        "decoder_outputs = decoder_dense(out)"
      ],
      "execution_count": 76,
      "outputs": []
    },
    {
      "cell_type": "code",
      "metadata": {
        "colab": {
          "base_uri": "https://localhost:8080/"
        },
        "id": "b2rME7eCbs1a",
        "outputId": "64df5eab-2868-4240-c220-e32943378f09"
      },
      "source": [
        "decoder_model = Model(\n",
        "    inputs = [\n",
        "              \n",
        "      decoder_input_embedding,\n",
        "      encoder_outputs_as_input,\n",
        "      initial_s,\n",
        "      initial_c\n",
        "    ], \n",
        "    outputs = [decoder_outputs, s, c]\n",
        ")\n",
        "\n",
        "decoder_model.summary()"
      ],
      "execution_count": 77,
      "outputs": [
        {
          "output_type": "stream",
          "text": [
            "Model: \"model_2\"\n",
            "__________________________________________________________________________________________________\n",
            "Layer (type)                    Output Shape         Param #     Connected to                     \n",
            "==================================================================================================\n",
            "s0 (InputLayer)                 [(None, 256)]        0                                            \n",
            "__________________________________________________________________________________________________\n",
            "input_1 (InputLayer)            [(None, 5, 512)]     0                                            \n",
            "__________________________________________________________________________________________________\n",
            "repeat_vector (RepeatVector)    (None, 5, 256)       0           s0[0][0]                         \n",
            "__________________________________________________________________________________________________\n",
            "concatenate (Concatenate)       (None, 5, 768)       0           input_1[0][0]                    \n",
            "                                                                 repeat_vector[9][0]              \n",
            "__________________________________________________________________________________________________\n",
            "dense (Dense)                   (None, 5, 10)        7690        concatenate[9][0]                \n",
            "__________________________________________________________________________________________________\n",
            "dense_1 (Dense)                 (None, 5, 1)         11          dense[9][0]                      \n",
            "__________________________________________________________________________________________________\n",
            "input_2 (InputLayer)            [(None, 1)]          0                                            \n",
            "__________________________________________________________________________________________________\n",
            "dot (Dot)                       (None, 1, 512)       0           dense_1[9][0]                    \n",
            "                                                                 input_1[0][0]                    \n",
            "__________________________________________________________________________________________________\n",
            "decoder_embedding (Embedding)   multiple             992800      input_2[0][0]                    \n",
            "__________________________________________________________________________________________________\n",
            "concatenate_1 (Concatenate)     (None, 1, 712)       0           dot[9][0]                        \n",
            "                                                                 decoder_embedding[1][0]          \n",
            "__________________________________________________________________________________________________\n",
            "c0 (InputLayer)                 [(None, 256)]        0                                            \n",
            "__________________________________________________________________________________________________\n",
            "decoder_lstm (LSTM)             [(None, 256), (None, 992256      concatenate_1[9][0]              \n",
            "                                                                 s0[0][0]                         \n",
            "                                                                 c0[0][0]                         \n",
            "__________________________________________________________________________________________________\n",
            "decoder_dense (Dense)           (None, 4964)         1275748     decoder_lstm[9][0]               \n",
            "==================================================================================================\n",
            "Total params: 3,268,505\n",
            "Trainable params: 3,268,505\n",
            "Non-trainable params: 0\n",
            "__________________________________________________________________________________________________\n"
          ],
          "name": "stdout"
        }
      ]
    },
    {
      "cell_type": "code",
      "metadata": {
        "colab": {
          "base_uri": "https://localhost:8080/",
          "height": 856
        },
        "id": "MeY14dk5cGRp",
        "outputId": "50711cd4-a0a8-4429-9891-bfae08c83c4d"
      },
      "source": [
        "tf.keras.utils.plot_model(decoder_model)"
      ],
      "execution_count": 78,
      "outputs": [
        {
          "output_type": "execute_result",
          "data": {
            "image/png": "[encoded data removed]",
            "text/plain": [
              "<IPython.core.display.Image object>"
            ]
          },
          "metadata": {
            "tags": []
          },
          "execution_count": 78
        }
      ]
    },
    {
      "cell_type": "code",
      "metadata": {
        "id": "dNEyfKJscO5Z"
      },
      "source": [
        ""
      ],
      "execution_count": 78,
      "outputs": []
    },
    {
      "cell_type": "markdown",
      "metadata": {
        "id": "6FYUIZJscRv8"
      },
      "source": [
        "## **Translating**"
      ]
    },
    {
      "cell_type": "code",
      "metadata": {
        "id": "YhNDiKWtcTyI"
      },
      "source": [
        "word2index_input = tokenizer_in.word_index \n",
        "word2index_output = tokenizer_out.word_index \n",
        "# reverse mapping integer to words for english \n",
        "idx2word_eng = {v:k for k, v in word2index_input.items()}\n",
        "# reverse mapping integer to words for spanish\n",
        "idx2word_trans = {v:k for k, v in word2index_output.items()}"
      ],
      "execution_count": 79,
      "outputs": []
    },
    {
      "cell_type": "code",
      "metadata": {
        "id": "ZmYScI1qc_c4"
      },
      "source": [
        "def decode_sequence(input_seq):\n",
        "  # Encode the input as state vectors\n",
        "  enc_out = encoder_model.predict(input_seq)\n",
        "\n",
        "  # Generate empty target sequence of length 1. \n",
        "  target_seq = np.zeros((1, 1))\n",
        "\n",
        "  # Populate the first character of target sequence with the start character \n",
        "  # NOTE: tokenizer lower-case all words \n",
        "  target_seq[0, 0] = word2index_output['<start>']\n",
        "\n",
        "  # if we get this we break\n",
        "  End_statement = word2index_output['<end>']\n",
        "\n",
        "  # [s, c] will be updated in each loop iteration\n",
        "  s = np.zeros((1, LATENT_DIM))\n",
        "  c = np.zeros((1, LATENT_DIM))\n",
        "\n",
        "  # Create Translation\n",
        "  output_sentence = []\n",
        "\n",
        "  for _ in range(maxlen_output):\n",
        "    out, s, c = decoder_model.predict([target_seq, enc_out, s, c])\n",
        "\n",
        "    # Get next word \n",
        "    index = np.argmax(out.flatten())\n",
        "\n",
        "    # End sentence \n",
        "    if End_statement == index:\n",
        "      break\n",
        "\n",
        "    word = ''\n",
        "    if index > 0:\n",
        "      word = idx2word_trans[index]\n",
        "      output_sentence.append(word)\n",
        "\n",
        "    # Update the decoder input \n",
        "    # which is just the word just generated\n",
        "    target_seq[0, 0] = index \n",
        "\n",
        "  return ' '.join(output_sentence)"
      ],
      "execution_count": 80,
      "outputs": []
    },
    {
      "cell_type": "code",
      "metadata": {
        "colab": {
          "base_uri": "https://localhost:8080/"
        },
        "id": "PuCAYYMeJ_6q",
        "outputId": "d5709cb1-bc3e-4b0b-8ae6-da6e82610d5a"
      },
      "source": [
        "count = 0\n",
        "while (count<5):\n",
        "\n",
        "  input_text = [str(input('input the sentence : '))]\n",
        "  seq = tokenizer_in.texts_to_sequences(input_text)\n",
        "\n",
        "  input_seq = pad_sequences(seq, maxlen=maxlen_input, padding='post' )\n",
        "  translation = decode_sequence(input_seq)\n",
        "\n",
        "  print('Predicted tranlation: ', translation)\n",
        "  count = count + 1\n",
        "\n",
        "\n",
        "\n",
        "\n",
        "\n",
        "\n",
        "\n"
      ],
      "execution_count": 82,
      "outputs": [
        {
          "output_type": "stream",
          "text": [
            "input the sentence : Hello\n",
            "Predicted tranlation:  hola\n",
            "input the sentence : How are you?\n",
            "Predicted tranlation:  ¿cómo están\n",
            "input the sentence : What are you doing?\n",
            "Predicted tranlation:  ¿qué están están\n",
            "input the sentence : see you later\n",
            "Predicted tranlation:  pareces luego\n",
            "input the sentence : bye\n",
            "Predicted tranlation:  bienvenidos\n"
          ],
          "name": "stdout"
        }
      ]
    },
    {
      "cell_type": "code",
      "metadata": {
        "id": "gkbq2jcFPn7E"
      },
      "source": [
        ""
      ],
      "execution_count": 81,
      "outputs": []
    }
  ]
}