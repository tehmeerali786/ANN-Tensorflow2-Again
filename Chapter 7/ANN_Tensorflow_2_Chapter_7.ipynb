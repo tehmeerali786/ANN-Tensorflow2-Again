{
  "nbformat": 4,
  "nbformat_minor": 0,
  "metadata": {
    "colab": {
      "name": "ANN Tensorflow 2 Chapter 7.ipynb",
      "provenance": [],
      "collapsed_sections": [],
      "toc_visible": true
    },
    "kernelspec": {
      "name": "python3",
      "display_name": "Python 3"
    }
  },
  "cells": [
    {
      "cell_type": "markdown",
      "metadata": {
        "id": "yGCwA7U-d1--"
      },
      "source": [
        "# **Text Generation Baby Names**"
      ]
    },
    {
      "cell_type": "code",
      "metadata": {
        "id": "gytDyzrDbfK2"
      },
      "source": [
        "import sys\r\n",
        "import re \r\n",
        "import requests\r\n",
        "import numpy as np\r\n",
        "import tensorflow as tf\r\n",
        "from tensorflow.keras import Sequential\r\n",
        "from tensorflow.keras.callbacks import ModelCheckpoint\r\n",
        "from tensorflow.keras.layers import Dense, Activation, Dropout, LSTM\r\n",
        "\r\n"
      ],
      "execution_count": null,
      "outputs": []
    },
    {
      "cell_type": "code",
      "metadata": {
        "id": "05gJiUX1f-_T"
      },
      "source": [
        "r = requests.get('https://cs.stanford.edu/people/karpathy/namesGenUnique.txt')"
      ],
      "execution_count": null,
      "outputs": []
    },
    {
      "cell_type": "code",
      "metadata": {
        "colab": {
          "base_uri": "https://localhost:8080/"
        },
        "id": "y3zDBemFiPrA",
        "outputId": "d712ed08-143c-4a9b-c9c3-5ad103d42038"
      },
      "source": [
        "raw_txt = r.text\r\n",
        "len(raw_txt)"
      ],
      "execution_count": null,
      "outputs": [
        {
          "output_type": "execute_result",
          "data": {
            "text/plain": [
              "52127"
            ]
          },
          "metadata": {
            "tags": []
          },
          "execution_count": 3
        }
      ]
    },
    {
      "cell_type": "code",
      "metadata": {
        "colab": {
          "base_uri": "https://localhost:8080/",
          "height": 137
        },
        "id": "pKfbNeFZihDE",
        "outputId": "f732d3fb-d6bf-44fd-e6d6-2c0b6d5652d0"
      },
      "source": [
        "raw_txt"
      ],
      "execution_count": null,
      "outputs": [
        {
          "output_type": "execute_result",
          "data": {
            "application/vnd.google.colaboratory.intrinsic+json": {
              "type": "string"
            },
            "text/plain": [
              "'jka\\nDillie\\nRyine\\nCherita\\nDasher\\nChailine\\nFrennide\\nGremaley\\nPatj\\nHandi\\nGully\\nWennie\\nFerentra\\nJixandlia\\nSlimele\\nElispor\\nKathine\\nMasdadina\\nChilcina\\nTiz\\nJolina\\nCorbenton\\nHaustina\\nDelimeet\\nEppal\\nMolenia\\nFrecki\\nSenny\\nHelphon\\nSaminda\\nKa\\nWynther\\nHelsey\\nMisa\\nLynetta\\nHalonie\\nBartta\\nAnathea\\nHelricka\\nEnezela\\nSherlees\\nRandon\\nNokminia\\nBelli\\nRoWindon\\nJaena\\nMeralin\\nOrgen\\nWhad\\nMeyne\\nLuchine\\nAlogge\\nGren\\nKollette\\nLeath\\nCorth\\nMariedia\\nRhul\\nGenylena\\nAkepy\\nGabdie\\nJehn\\nRocelle\\nJoeno\\nMeruann\\nKainy\\nDiliar\\nOlell\\nWelke\\nLileen\\nArti\\nValira\\nPaynir\\nJuvinge\\nKrady\\nMogna\\nShabfoe\\nMandelina\\nRosatha\\nDacine\\nUll\\nVonell\\nElword\\nAngrelly\\nKodilla\\nLouge\\nTemmie\\nGerthe\\nFildhine\\nOlyna\\nDibfie\\nHarmin\\nMellina\\nEdongia\\nLorant\\nBaires\\nDasher\\nQuengy\\nKens\\nPaac\\nJeencia\\nJaiep\\nDeua\\nAnaline\\nMifalia\\nConette\\nDovanice\\nTyberr\\nIrda\\nGerfand\\nAuberro\\nThamosa\\nBabrield\\nKait\\nStephepoa\\nAbi\\nChrristen\\nStephanna\\nRacky\\nDones\\nLys\\nVira\\nPhela\\nDeney\\nDorah\\nAvet\\nCa\\niunia\\nJasqquosius\\nEsty\\nSolumote\\nHilling\\nGredie\\nDynae\\nBerdiah\\nSuynn\\nTile\\nBlian\\nMancie\\nTovey\\nJotaLine\\nMeiger\\nGalrucd\\nFerdeor\\nSoligo\\nJoan-Rodelina\\nEttellon\\nViterine\\nSobi\\nAderina\\nJuloina\\nKarali\\nOethreh\\nMorred\\nRangell\\nCrico\\nCervynt\\nSyere\\nDucky\\nAkie\\nEmilya\\nEpheny\\nMalda\\nWetenn\\nJaqueteg\\nEugy\\nLaustin\\nJeennie\\nJoyelle\\nJac\\nDuris\\nLennia\\nSilisa\\nVaulen\\nMargelle\\nRienney\\nDorisetta\\nReanne\\nRocy\\nJoenella\\nVassie\\nAnneca\\nKestin\\nSuza\\nBeogjeTley\\nEusta\\nMarionne\\nKasponde\\nMortdie\\nKale-Na\\nRodanie\\nSten\\nMyrry\\nRheldin\\nDin\\nVelylen\\nSamwer\\nGybray\\nLahe\\nLertin\\nSudanta\\nDarmen\\nGanny\\nMargonell\\nJossen\\nDayne\\nNashard\\nHadrick\\nGarthy\\nErni\\nWibett\\nEustin\\nMeagy\\nMireil\\nLuzsia\\nRagctin\\nWinslord\\nSechella\\nRosem\\nTangur\\nEkekeh\\nLoray\\nAnstante\\nIngyce\\nMatha\\nSaudine\\nNaista\\nEudara\\nNikoliah\\nDaralla\\nShervye\\nCalina\\nHueleed\\nSabenen\\nTardore\\nZolena\\nSiigphry\\nHander\\nInzie\\nEtha\\nHel\\nSielon\\nJeillie\\nJemricia\\nMett\\nRhishand\\nAmanie\\nFarfyet\\nGelanda\\nShillina\\nAddrace\\nMegnina\\nPenc\\nMarrore\\nReeler\\nGrapfoy\\nHaylan\\nModise\\nEi\\nLindella\\nFress\\nIdgin\\nRodelle\\nJad\\nFalie\\nDoze\\nNedie\\nYanaly\\nRaman\\nEulesy\\nPefry\\nTade\\nSilbort\\nCattie\\nLelse\\nBrig\\ntanie\\nLooina\\nTarch\\nPellina\\nVazarine\\nRane\\nMadina\\nIsa-Gbean\\nMaxingine\\nZedri\\nTearne\\nRufie\\nSalpha\\nVelere\\nNoronna\\nEnnef\\nRet\\nBelin\\nDalli\\nLaheemet\\nCilla\\nCalm\\nDandy\\nHadrick\\nDoy\\nJuiette\\nChristyr\\nAnelle\\nEvonye\\nFranch\\nVar\\nDoini\\nRosalina\\nPatisie\\nLeonaude\\nWeecha\\nTemonila\\nKikb\\nMorion\\nCathilia\\nDawel\\nStelia\\nBattey\\nGabry\\nMarli\\nNettiny\\nEdida\\nCor\\nElurica\\nAborta\\nSand\\nHarmael\\nPailite\\nCamina\\nHustyn\\nChari\\nGriernem\\nBertalle\\nAnite\\nAdach\\nVign\\nMiroline\\nDome\\nWilon\\nDannabel\\nSaugen\\nDeivy\\nPippio\\nShandia\\nCelistou\\nAdisa\\nNushan\\nUlma\\nLinc\\nSsistyl\\nJonia\\nNarie\\nIvicey\\nTreccon\\nRady\\nStipphun\\nWurcard\\nBridishe\\nBatkie\\nClaisham\\nFrencasfiot\\nShaiche\\nJethine\\nFrickie\\nJiana\\nMargun\\nWannell\\nCtini\\nChar\\nHaMelly\\nDoreline\\nBaol\\nufferdina\\nLinia\\nEbbie\\nVaniie\\nDameline\\nDofate\\nDelanne\\nLeson\\nAllton\\nCamye\\nLeoners\\nStiph\\nGalys\\nWyann\\nCarsy\\nKetta\\nFranke\\nDarit\\nDionas\\nJosan\\nAlbal\\nIssaby\\nFlorrich\\nFanita\\nPeerie\\nLosha\\nRondy\\nThauflor\\nChenter\\nByonne\\nDynice\\nStaino\\nNaine\\nPetdi\\nTamey\\nRoeddei\\nBrancola\\nRarie\\nMascalet\\nElvank\\nTammya\\nTadei\\nEmamio\\nCharmaline\\nChestin\\nTeanni\\nPecrick\\nBrette\\nEmieria\\nSacfy\\nBrodey\\nVylssius\\nPaile\\nHedd\\nCanole\\nJoh\\nLean\\nTharta\\nTelly\\nCassalynno\\nGrederio\\nToda\\nCharmeyto\\nCanina\\nSholamora\\nFelinie\\nLoyno\\nSter\\nDait\\nAste\\nMangous\\nTarete\\nWeerom\\nMatiline\\nUrsule\\nNesma\\nHalin\\nIs\\nbenar\\nWomdi\\nDenolis\\nFhandale\\nKasa\\nMichalla\\nPrule\\nMenney\\nBorgannes\\nDynnis\\nTroci\\nBency\\nWing\\nJoddie\\nElea\\nNarye\\nThudiee\\nCamiy\\nGuolper\\nSarcon\\nModalle\\nUlisse\\nJatuddey\\nClimh\\nStera\\nXileh\\nJonnie\\nSankie\\nRossell\\nGie\\nWolmonh\\nAloria\\nSveth\\nCristam\\nDemas\\nElwis\\nAderic\\nIlmah\\nCedella\\nJean-Xelly\\nMaub\\nHaailyn\\nAugardino\\nNeras\\nTholf\\nMotodie\\nChari\\nMerile\\nChridiner\\nBhene\\nLonianna\\nNaylen\\nBendrick\\nPhela\\nHawcie\\nStaf\\nErmonce\\nPetsia\\nClalyn\\nElry\\nJeuri\\nWonnette\\nEllian\\nSaunne\\nRanika\\nLuckanh\\nNaso\\nShephan\\nDoren\\nBarbad\\nAstevianne\\nTenna\\nCandel\\nHerrily\\nDaifa\\nMyntine\\nBeigatte\\nMolonie\\nGeregese\\nCornayn\\nMarac\\nHomie\\nJeraldn\\nFrorick\\nOlis\\nRowanna\\nCeleine\\nMayhin\\nIsabina\\nCasiva\\nGiffid\\nHellys\\nAldio\\nPrescine\\nKanny\\nMaus\\nMaxtumine\\nKatharinus\\nRegner\\nNucion\\nBerneta\\nAresta\\nRunerttw\\nNengell\\nOsobaldo\\nPrisa\\nWelson\\nKerena\\nPemba\\nPrie\\nCalins\\nJanson\\nTonda\\nEisabale\\nShurlea\\nCabci\\nDasyy\\nCarcom\\nRes\\nWilver\\nJey\\nDroy\\nThergina\\nMargela\\nYania\\nJacyquela\\nJehnalda\\nGyn\\nJachul\\nShifhet\\nOstank\\nDoles\\nHiynie\\nJebee\\nSsob\\nBrenchon\\nPrat\\nMilyd\\nPist\\nDen\\nCoston\\nLitt-Evandriv\\nTerrick\\nEmalaine\\nMirca\\nAledie\\nKiptie\\nThadia\\nAntis\\nHarchell\\nAphamina\\nGelchel\\nMarolanse\\nMerindelle\\nTebun\\nOamie\\nAlmis\\nAbba\\nChormita\\nZaqqyanne\\nShaiache\\nNera\\nBaby\\nLyndsee\\nDaroe\\nNichile\\nKorlind\\nLusti\\nBilluce\\nMathanida\\nTemine\\nMarcalla\\nBerdenelle\\nMayie\\nAlra\\nChariel\\nTrestor\\nJuya\\nJemmey\\nSpora\\nArnande\\nMegolethe\\nWuscibro\\nNeia\\nGara\\nOphlion\\nFrancir\\nMargwrette\\nAurreett\\nDikkey\\nTherisa\\nDiza\\nBetchey\\nCarmolina\\nCirielle\\nQuanc\\nDillie\\nLauva\\nDepreod\\nArde\\nEalon\\nBowette\\nLedrie\\nQeectine\\nTablie\\nCarrylda\\nEmm\\nFlorente\\nToedee\\nFodnaid\\nGolbertia\\nTalle\\nRauri\\nGweran\\nDuon\\nDerenisa\\nJene\\nKarli\\nSosus\\nDerrind\\nKartine\\nWatt\\nBebice\\nLorocce\\nAnne-Camilline\\nDemenn\\nShanenne\\nMadan\\nVitcian\\nPellica\\nJaleean\\nWanthure\\nJaciquen\\nJoaanna\\nLerick\\nTaa\\nIobie\\nVoline\\nMeutoe\\nSuze\\nFeedie\\nNeat\\nThedson\\nDorna\\nCasson\\nLovynna\\nFreg\\nLelind\\nGoylus\\nManita\\nMelenia\\nMicaell\\nJusea\\nEvvin\\nTeita\\nLanel\\nKerica\\nCanie\\nJoad\\nSixneit\\nFraidia\\nNarlaan\\nSabgee\\nSandiene\\nBeut\\nHergan\\nEmyn\\nCezina\\nJomy\\nEphraki\\nFlabetta\\nTomey\\nSian\\nSothanne\\nDere\\nBrennie\\nTalle\\nIardan\\nFynnis\\nJaenanne\\nBlaan\\nHericoda\\nFilna\\nTanda\\nBatt\\nConthen\\nGetty\\nStafphee\\nFeestavi\\nDorello\\nTamb\\nDussie\\nMichetta\\nDevonnie\\nDoace\\nDollia\\nSisand\\nGroand\\nNonette\\nCarianne\\nConrina\\nDyver\\nLeoia\\nGisfy\\nKaterisa\\nDorcy\\nLiny\\nWente\\n\\nRhefond\\nCaeb\\nHemmar\\nHelya\\nCalesse\\nRunnie\\nBliug\\nAnniele\\nGida\\nCreley\\nMabesha\\nCanny\\nPelly\\nDorotte\\nLaulah\\nMornette\\nLynatke\\nMichevin\\nSan\\nShacmeord\\nTodra\\nRalia\\nDieke\\nHabry\\nCea\\nEloake\\nArebella\\nBib\\nBerkia\\nTulla\\nRantan\\nTodetta\\nSizela\\nFrodiell\\nNeeta\\nHolmine\\nGara\\nEla\\nMadarite\\nArmere\\nAlris\\nLiannebelle\\nFilamine\\nPristin\\nRolyn\\nDubort\\nCatal\\nMareana\\nCheucher\\nHerdelle\\nChayla\\nAned\\nAnneil\\nVilvi\\nKoricie\\nDaysse\\nUrdeline\\nRota\\nPtel\\nShelifa\\nJeon\\nMello\\nRetta\\nChedil\\nSavoen\\nToey\\nErric\\nChey\\nDordun\\nInaman\\nTrodet\\nUrronne\\nKoriette\\nWerty\\nKarbal\\nShetley\\nMarkie\\nAllet\\nGrannik\\nFolise\\nSacen\\nPoetta\\nSanna\\nBorra\\nAdri\\nGeordina\\nLogia\\nMartolis\\nElliona\\nDawin\\nMeyril\\nJashenm\\nVichollje\\nSharnan\\nSheria\\nAwnalina\\nChristabull\\nMervellee\\nLeici\\nWioonnee\\nJorel\\nLevita\\nGastian\\nWinhy\\nEsileer\\nRincsett\\nBafn\\nAurria\\nMaltence\\nDed\\nShelije\\nFamer\\nPaudord\\nDary\\nHieel\\nEbel\\nChristolme\\nJodeline\\nElisina\\nHerreitta\\nTrit\\nWaller\\nDeonie\\nIdebella\\nJelyly\\nTedma\\nGinella\\nJaanne\\nMaina\\nMerilila\\nFery\\nLilfa\\nEvaunne\\nMachelline\\nKastina\\nDerique\\nMorno\\nThorsy\\nTysa\\nGrota\\nMargoria\\nRegelet\\nDionna\\nTag\\nShelo\\nJoam\\nElline\\nAtthau\\nGreggi\\nSamdiphor\\nLanue\\nAnilie\\nTifo\\nEmanon\\nFroderice\\nWidether\\nEniser\\nKaul\\nEngena\\nSusanga\\nGrene\\nJabinay\\nTianane\\nEthley\\nFrancisie\\nGannia\\nShilia\\nAmele\\nPeon\\nCicklyn\\nArns\\nLannell\\nTorianna\\nJahne\\nZafpher\\nEbascorl\\nAnnel\\nBipare\\nTonne\\nEmenia\\nNicti\\nAnney\\nAlresta\\nCerinne\\nGarr\\nDiza\\nCerys\\nArita\\nOmey\\nJidalia\\nConstyn\\nNivette\\nIrold\\nMidne\\nWillyn\\nCemant\\nJone\\nMargusly\\nPrustith\\nLorranne\\nRebina\\nAgateline\\nUlbire\\nSkeyler\\nBabylo\\nFarsha\\nEphrey\\nKaci\\nRubley\\nDabe\\nBernance\\nImavie\\nEpine\\nClistie\\nPerr\\nBartalina\\nRockie\\nDheira\\nCarille\\nMiag\\nCar\\nElporha\\nPandie\\nJenaid\\nBendrustCninia\\nCathaline\\nCona\\nTamaon\\nKandie\\nAntha\\nTorion\\nPotti\\nWanton\\nCabil\\nLonie\\nAilelee\\nSlepta\\nWennard\\nBantie\\nSarni\\nKasi\\nUlli\\nHayly\\nErvert\\nThaene\\nLikielda\\nMikia\\nDelcon\\nDas\\nBloafrey\\nDianor\\nMarlen\\nSamandy\\nLonda\\nScette\\nKristapha\\nKorente\\nElica\\nWonna\\nSvick\\nBeyn\\nPotorvis\\nByrt\\nGiorger\\nLomena\\nCorlyne\\nBrrett\\nCorgetta\\nAnay\\nEbilobeda\\nPaol\\nTamminka\\nZazie\\nJossudine\\nMarysannel\\nBraus\\nTaldy\\nImage\\nGretch\\nPart\\nAuly\\nSherpy\\nVatnaie\\nDorchel\\nJoVin\\nJaszer\\nEndleore\\nKylin\\nKathilee\\nClaur\\nChardise\\nOta\\nSilisaMatho\\nRenello\\nJeres\\nDarie\\nSherrick\\nRoxinas\\nMelica\\nFurnard\\nErbiner\\nRhanne\\nRelaki\\nSan\\nRodri\\nJoefon\\nWanny\\nBabry\\nLenia\\nSkellise\\nGolanna\\nTaphi\\nArbilla\\nArsell\\nEmblonce\\nGean-Desmy\\nFrentricio\\nMed\\nAly\\nKire\\nDiskil\\nFanan\\nSibuen\\nCaslel\\nJosamon\\nKaralla\\nLaland\\nAnnaus\\nSperc\\nMaliaca\\nStitha\\nBenesta\\nDare\\nChail\\nNonaed\\nMeggiah\\nDal\\nDonaline\\nJueliese\\nPecrelly\\nWaddall\\nGellie\\nPatt\\nJafni\\nKalo\\nWilbett\\nCussina\\nTalita\\nIzelle\\nNary\\nRoditett\\nMaxzy\\nCledis\\nAla\\nLosela\\nThoroa\\nHotria\\nRobi\\nXedy\\nAncue\\nEtea\\nIsomiia\\nMonsa\\nAlpide\\nCushan\\nCarom\\nSelyn\\nBena\\nJenahne\\nBion\\nHadvid\\nChellica\\nRatha\\nLaunette\\nWirtJane\\nKlay\\nNestie\\nSawne\\nMeriba\\nMethenna\\nSherf\\nElica\\nEdanie\\nMelodre\\nMerylla\\nVernel\\nMarridelee\\nChristieon\\nAlbary\\nFrora\\nJelica\\nSipOlethe\\nElnert\\nYona\\nDereny\\nThale\\nErris\\nDedorie\\nPurt\\nVorl\\nSanie\\nBeofra\\nBethi\\nKasten\\nMadiah\\nMerty\\nMaggelia\\nLrinord\\nBrinnette\\nCaryanne\\nMerr\\nErmoro\\nBacham\\nMesulidia\\nJean-Nano\\nTonotashorah\\nPerrica\\nCharloon\\nSanda\\nNailo\\nOnnire\\nGeronna\\nMichily\\nMaline\\nCarilla\\nOlix\\nFlomine\\nEnney\\nOustas\\nBuudres\\nFannah\\nMallye\\nClancen\\nDomynie\\nWishand\\nBer\\nIene\\nHallia\\nStane\\nFhradella\\nShelophia\\nCraskie\\nAngessa\\nMartei\\nSheanne\\nCathleveria\\nNelte\\nTewina\\nDaca\\nBeadra\\nBobinola\\nVivo\\nNetha\\nMeraditsa\\nKerice\\nOdelina\\nRoilwang\\nKyro\\nErbi\\nErace\\nNanue\\nSelna\\nBeverla\\nJoannel\\nPhynd\\nSashanny\\nRobine\\nLires\\nBrillette\\nVelvie\\nCaslico\\nCantin\\nUnchyn\\nMenkita\\nShellisen\\nJosaminia\\nMagil\\nAtban\\nMartuten\\nDolite\\nGustine\\nFerry\\nMadina\\nNuchee\\nSrene\\nIgte\\nT\\nunique 1247 1430 0.872027972028\\n\\nDifferent model checkpoint:\\n\\nTrose\\nAigelika\\nAllo\\nMartaech\\nGiss\\nMegedoleca\\nElvord\\nEshrain\\nGlenifa\\nAuvina\\nLenley\\nGinis\\nChyritt\\nAn-Doore\\nBansuel\\nJarine\\nJogne\\nRosamay\\nHallisa\\nHeli\\nSilven\\nTareh\\nQuant\\nRous\\nHilia\\nChristop\\nMentina\\nErelle\\nMelisand\\nAbelyne\\nMohanden\\nGrande\\nRolann\\nMartice\\nBwik\\nTossa\\nHanici\\nBagbha\\nReug\\nElizia\\nMaadelyn\\nBallis\\nFirand\\nCherine\\nMornett\\nUland\\nFewande\\nHerilde\\nWellia\\nSus\\nRodyis\\nNevy\\nMireel\\nCyssy\\nSdatha\\nKie\\nLanelle\\nGllin\\nVelle-Anne\\nThe\\nporeli\\nGerton\\nAngrenet\\nMartheen\\nGrenee\\nThoreenna\\nStiphard\\nFarnen\\nMellina\\nEdner\\nGororamur\\nDarina\\nConitte\\nCamtie\\nRinda\\nJesan\\nAibfe\\nVandel\\nNacil\\nEtveling\\nFloia\\nParilyn\\nSharod\\nCondtaline\\nCorettee\\nIskia\\nDaffer\\nChel\\nVaimer\\nShanton\\nBabriell\\nLicy\\nStenelli\\nDabi\\nClouden\\nGolbia\\nMugen\\nFlerzy\\nGorel\\nBobita\\nAigiel\\nEthanj\\nYes\\nDa\\nSrattie\\nJollyn\\nStaretta\\nGretenga\\nPeeneley\\nBradel\\nAstris\\nTilia\\nManciielle\\nChristia\\nEstela\\nGreggy\\nStephon\\nSaldor\\nJonnette\\nGiosgine\\nAllora\\nJulomia\\nKennie\\nKarami\\nNaylin\\nClorida\\nRangell\\nCtobre\\nEpty\\nXaswer\\nLevarie\\nMarha\\nCleide\\nLwin\\nVeudin\\nJerney\\nJelvay\\nLattney\\nHalline\\nDorenen\\nMyriella\\nBanton\\nFlennid\\nRonand\\nUlulina\\nDelilla\\nRilly\\nZaine\\nSiviell\\nAlvia\\nPaylen\\nMerrely\\nSteph\\nKioda\\nKistor\\nBindred\\nWyl\\nBerine\\nMortoo\\nRechad\\nMirhlle\\nAnvery\\nPerlah\\nTedy\\nFrishas\\nLany\\nRavin\\nBebgie\\nPraty\\nBeve\\nDarner\\nHanly\\nMargone\\nKarryl\\nLemby\\nHarbie\\nTemstan\\nLembert\\nGaleha\\nWellin\\nWidfy\\nCettie\\nZa Entha\\nRomena\\nTyria\\nIngolle\\nWhinne\\nStepcon\\nJaes\\nLevil\\nChermone\\nByn\\nJerylee\\nGugall\\nSanny\\nMaistan\\nShaya\\nMinsel\\nShalla\\nSherine\\nWibfferd\\nArlren\\nGalia\\nGwanda\\nAshe\\nRachern\\nTarese\\nOzlee\\nGiorgbeode\\nJaice\\nPerylee\\nShanne\\nArnalma\\nIngshand\\nMaur\\nAlianna\\nSharle\\nIleon\\nFarextwand\\nAngellis\\nMeril\\nAlpana\\nEongi\\nAleena\\nNatina\\nOlie\\nLeurite\\nQuinsse\\nRasemy\\nGuel\\nHaylabell\\nPundea\\nKerbella\\nFress\\nIdeni\\nRoeelle\\nGelam\\nCelilvy\\nElyan\\nPyar\\nEulesy\\nPeloy\\nSadeanne\\nPey\\nDavyn\\nIncabel\\nPhicracie\\nShamia\\nLondie\\nSarbe\\nNeller\\nWuly\\nSheston\\nNiic\\nDinia\\nMalisa\\nGud\\nGan\\nNaralline\\nWinsoon\\nWilto\\nTebvor\\nCorchyl\\nEshelle\\nKreson\\nFiandr\\nBheni\\nCanil\\nKahiah\\nWall\\nHargean\\nFeldra\\nFarice\\nEpwalr\\nBrislin\\nZolio\\nJawyl\\nMankie\\nVinyt\\nDuli\\nJasan\\nDoinn\\nPetilie\\nJoliene\\nQuinttha\\nMigunost\\nDeshil\\nMereg\\nLuenee\\nCalogeina\\nElycd\\nPrilice\\nBreeue\\nAlpunde\\nMad\\nErvy\\nNettosy\\nEfferi\\nThalete\\nLaua\\nSpilop\\nKealand\\nBerrica\\nTodde\\nKillisa\\nKisson\\nMaderwand\\nOarene\\nGawfer\\nStaree\\nBerbica\\nSauiga\\nDikvy\\nOronah\\nRodeel\\nGendroy\\nYa\\nBirgi\\nDili\\nMyrcel\\nVarca\\nLicalle\\nVylenne\\nBeramana\\nVilgyenn\\nDugnnette\\nCatto\\nAren\\nStarmon\\nAiresa\\nPiolles\\nRickell\\nGupqeavines\\nShaiah\\nAmbristha\\nTraire\\nDaline\\nMarescar\\nJojene\\nTinita\\nZoll\\nAmal\\nGaalanne\\nMigello\\nAgde\\nuggan\\nLonene\\nMarg\\nCeressa\\nMeda\\nElesha\\nDoidra\\nChelmyne\\nKimk\\nAllysa\\nCalyen\\nJoselynn\\nHalyss\\nSpariart\\nSoldeneh\\nChebita\\nEdonua\\nLuuly\\nJosan\\nAlded\\nAndelecha\\nKyile\\nKiler\\nElinne\\nRumette\\nArine\\nJase\\nBlontan\\nByrget\\nStephy\\nOgbil\\nPeudra\\nMarby\\nHaxjie\\nGlina\\nSaser\\nOris\\nAphree\\nPatras\\nEnstar\\nCindheia\\nThandre\\nChermane\\nShelol\\nSlomina\\nShusta\\nJebor\\nCoda\\nWilor\\nKynty\\nVorylse\\nChelis\\nErilebe\\nBlede\\nLoraloh\\nSufard\\nLuveann\\nMoryt\\nDoncie\\nNicovia\\nIud\\nKosndan\\nMiamaline\\nElwyro\\nRosla\\nAdra\\nSom\\nMarinolde\\nMattry\\nElonok\\nHandie\\nHo\\nceres\\nGiomaito\\nGoddie\\nDorcy\\nCarstan\\nHajie\\nMichall\\nStruid\\nMillite\\nPizoly\\nToshy\\nEdvey\\nPabin\\nClerela\\nJuly\\nOmts\\nCaryine\\nFtandy\\nNatrini\\nChinatonne\\nFietta\\nOvelle\\nMatthia\\nMatilus\\nHernard\\nTherrila\\nVolmone\\nAloria\\nSvate\\nHatlenie\\nJackque\\nMarcell\\nKel\\nTaxia\\nWillys\\nMata\\nHaaley\\nErvira\\nVelly\\nXeath\\nMariva\\nMeithe\\nSheannie\\nEmamea\\nMenne\\nChrickier\\nDeonalida\\nXelandsa\\nSsane\\nNelca\\nPagg\\nStak\\nEolnel\\nRaneann\\nFloy\\nKetri\\nWlislletc\\nChelnat\\nSherfobd\\nMadis\\nSavy\\nJaflie\\nCadi\\nSpey\\nBrissie\\nLabel\\nJanipha\\nVilea\\nChivas\\nMercely\\nBaiiamen\\nMolonie\\nGereele\\nVybell\\nEbgopha\\nImmando\\nRohelle\\nMianet\\nDool\\nJeilan\\nLiziti\\nJoldon\\nDackey\\nKarene\\nDendryn\\nBelina\\nGershel\\nHuwlor\\nChristyn\\nOlysten\\nParly\\nClerynne\\nKilleyn\\nIsne\\nCaslina\\nStephiszen\\nFlery\\nNika\\nChurstlia\\nWelona\\nKencie\\nOnel\\nCisse\\nBaekas\\nCharutta\\nRobana\\nSalamona\\nWendal\\nEafra\\nArttud\\nEdses\\nDob\\nOlino\\nLynath\\nBeny\\nKarmenna\\nRikkell\\nRedde\\nWania\\nKahyns\\nKhareel\\nMaile\\nMegelyn\\nJacina\\nRosamera\\nStanna\\nMarrajius\\nArni\\nAdlen\\nJonest\\nSanney\\nEngerondio\\nAles\\nCrystee\\nPrisciell\\nGyandred\\nSherodia\\nKalande\\nMirea\\nAlegsia\\nRoxene\\nKallie\\nKrisha\\nMandil\\nArianna\\nRembert\\nAnalle\\nSuzenta\\nMarlone\\nJavian\\nMarger\\nJola\\nHerve-\\nYely\\nRez\\nDoraen\\nAdreca\\nIsv\\nNera\\nBaby\\nKurita\\nGellia\\nNidalme\\nJuriko\\nEmusti\\nAresta\\nMertelle\\nFrondie\\nStin\\nMarcalla\\nBerchetta\\nMeryle\\nAlocha\\nBregge\\nBritcor\\nMosta\\nZulana\\nMayton\\nLadari\\nLoralla\\nChristyne\\nHavom\\nDadfi\\nNanilla\\nStelpha\\nMalleka\\nThovni\\nWinelyn\\nElisandra\\nThelicee\\nArean\\nCanra\\nJyna\\nEmsaline\\nPhald\\nDillie\\nLauva\\nDimoel\\nJarel\\nPollie\\nAlri\\nBrydrie\\nKaloria\\nBianna\\nPredie\\nCendi\\nJeemine\\nIeddine\\nGerreloe\\nSrache\\nFrancice\\nRede\\nEmelianne\\nGweran\\nDyne\\nDerenifer\\nDeland\\nMedriste\\nDerlett\\nMartlei\\nStevanan\\nTobbi\\nMargilin\\nChabine\\nVivianda\\nSasi\\nBabray\\nResan\\nNikfel\\nJanee\\nRayanne\\nNenia\\nDorin\\nKib\\nShaxile\\nCons\\nAchay\\nGuron\\nRebut\\nTanite\\nCoryse\\nGranie\\nNeat\\nShalvin\\nDoro-Ba\\nSinna\\nNowny\\nLellie\\nHiwmyn\\nMelitika\\nBrodinia\\nBorna\\nMandria\\nMie\\nKatalyn\\nChelenka\\nMarila\\nMauslee\\nInda\\nThevaldor\\nFnandi\\nKerid\\nAldera\\nJoaca\\nNorolle\\nBescie\\nRabfie\\nTandiera\\nDorord\\nMuude\\nTaela\\nMyr\\nCezin\\nPetny\\nCondrosa\\nYerl\\nGavord\\nRorianna\\nBrannie\\nIbolete\\nZillon\\nDenes\\nGalley\\nGorrene\\nHelci\\nAlfine\\nMaline\\nRhie\\nAtra\\nShonnie\\nIveyne\\nMarimos\\nGune-Na\\nCoseun\\nErtelis\\nTama\\nLaulene\\nGoster\\nLussina\\nDoah\\nDarele\\nGrean\\nOlbis\\nHorjoe\\nMaitre\\nBrerkh\\nAgvy\\nJenes\\nThedraRdy\\nResnar\\nLinu\\nWimpa\\nAlleis\\nFrada\\nThandy\\nAlba\\nShippy\\nMuld\\nMiriulle\\nSpone\\nCapey\\nAlrine\\nAllyne\\nGinnette\\nSheodod\\nMarvinda\\nWilyn\\nYorann\\nInvina\\nCharle\\nSherylle\\nSaro\\nJecabel\\nRodae\\nAihl\\nDerand\\nLavin\\nLada\\nPesley\\nGlennilla\\nSaoud\\nGwillor\\nHarthel\\nLetsy\\nDaleed\\nDaneya\\nPaxlar\\nMorianna\\nMirge\\nRahde\\nAndellera\\nAlsora\\nLawroy\\nGussamell\\nEmebert\\nEmian\\nChirttee\\nGarney\\nDay\\nSan\\nMareanne\\nMaxalina\\nHeiley\\nAlicy\\nChari\\nBarria\\nAvomon\\nJoricka\\nCetty\\nOrline\\nGouel\\nThanelina\\nMadilene\\nRetta\\nChrestah\\nTobmey\\nEvighel\\nAgino\\nDonanda\\nGerdi\\nVordet\\nTinnina\\nCarisa\\nJulmita\\nBrace\\nSheura\\nTaile\\nKail\\nGydrine\\nOtabie\\nAlphira\\nAlponda\\nJansell\\nAdreon\\nTraso\\nRosae\\nAun\\nFide\\nKael\\nLusella\\nHannif\\nRosamon\\nDawin\\nWileh\\nLoyne\\nJeance\\nShettel\\nDeris\\nShenia\\nSiluf\\nAvellie\\nMaggoric\\nJulone\\nNomenee\\nJasm\\nAel\\nFronsonne\\nChatty\\nJeanoe\\nMarmer\\nMurmey\\nDooleeth\\nSheresa\\nHorri\\nBadn\\nWail\\nAurrianne\\nTarrie\\nKair\\nNateon\\nKabita\\nRebel\\nAol\\nChristolla\\nJodelena\\nElisina\\nHerreett\\nNossy\\nDuanna\\nDanielam\\nBellere\\nJomuny\\nAilbert\\nHenjee\\nDoxenica\\nDawev\\nSilph\\nEmmilli\\nKaleen\\nPiokette\\nBritkie\\nTysel\\nMorca\\nDomise\\nTallwan\\nGuld\\nRosan\\nDennlyn\\nTuncy\\nErlene\\nRamcey\\nSushann\\nAbella\\nLuretta\\nDariacle\\nEmmelly\\nLerisand\\nFulita\\nMerlole\\nValena\\nSheryn\\nGenafre\\nFen\\nAnolze\\nBrinasd\\nSkipfy\\nShefer\\nSammor\\nElengane\\nShali\\nJlan\\nClaritta\\nSos\\nLuri\\nSrindie\\nCh\\nLmeiy\\nGuker\\nEbathea\\nBridil\\nTonne\\nFleri\\nToray\\nAbdy\\nWaies\\nRogganne\\nSkela\\nMargiele\\nLynall\\nMorelly\\nPemy\\nJehann\\nMathrit\\nAmly\\nOrilly\\nJodenta\\nWillyn\\nDenann\\nMargustta\\nWinomos\\nJonnamora\\nJoyen\\nCaselyne\\nTedine\\nRomuston\\nAdysta\\nJha\\nFanne\\nAimep\\nTund\\nShilia\\nGabert\\nMariellle\\nWannie\\nDornie\\nBrenk\\nBarteren\\nVincon\\nVaniel\\nCanferld\\nMiah\\nCar\\nEloson\\nCodelle\\nJenala\\nCarelynn\\nPortan\\nEvele\\nQuilla\\nCobella\\nKalere\\nAntha\\nSonette\\nTrinat\\nKrise\\nBarelle\\nCindoren\\nEnwalt\\nKlatt\\nBantin\\nSaphi\\nJendar\\nLoeley\\nTaero\\nRonola\\nMerlee\\nMinnella\\nDamelain\\nDav\\nArralph\\nDapa\\nVillie\\nEmdua\\nCheyrer\\nDabreett\\nSivill\\nTrephie\\nMircee\\nCala\\nVinne\\nSyn\\nLailya\\nNorentel\\nBwit\\nKistie\\nAnnabelia\\nMerlene\\nMaccoughea\\nRobbrier\\nLazee\\nLeyen\\nNese\\nCesdie\\nTusey\\nYonaanne\\nBronkie\\nVornie\\nDoneet\\nHaila\\nFrencia\\nDeta\\nWitly\\nRossin\\nRodica\\nLoner\\nDen\\nRobe\\nTydi\\nFranchyl\\nKylis\\nHarmer\\nKalletta\\nKarelle\\nOracob\\nCorratte\\nSangentha\\nNeth\\nEngher\\nRukienn\\nGwenemei\\nLeyne\\nPacgoa\\nRosanda\\nSsatha\\nGraude\\nRofse\\nHoley\\nKebelt\\nZanit\\nA\\nArrene\\nMarhelin\\nLyna\\nMaelie\\nTando\\nArbie\\nJuania\\nSharbett\\nDanel\\nLanina\\nDavinne\\nKerena\\nKorea\\nNorita\\nSibraie\\nMeye\\nCondel\\nOsalla\\nKaralon\\nMalcie\\nAnnaus\\nTred\\nMalialanne\\nWelcy\\nKalisa\\nElma\\nDeda\\nEline\\nOlissa\\nResha\\nEagna\\nMarices\\nGilvurd\\nAsgily\\nWaddand\\nGallie\\nPatt\\nIieme\\nJeck\\nWilbett\\nCyndro\\nMogeete\\nJynilla\\nXewne\\nColi\\nJonszor\\nSharre\\nCabina\\nJaJuine\\nDanry\\nRaze\\nWalfward\\nNinie\\nKarert\\nMorrac\\nDoretnaen\\nClam\\nMio\\nSelyn\\nBled\\nJenalynd\\nGoobel\\nVilbari\\nJohefonne\\nBlarchs\\nSavisa\\nDilner\\nLayeer\\nShorgene\\nLaibelle\\nRucquesla\\nGleman\\nAllona\\nOlranc\\nLinston\\nTherli\\nMarrie\\nRothie\\nMarjone\\nGaoreeta\\nWolbad\\nMyrgori\\nBlengalline\\nHaulisa\\nZelana\\nReoy\\nFlena\\nEronn\\nEleton\\nNaril\\nRurodore\\nArchil\\nBendra\\nBerdra\\nGloodree\\nWannard\\nDichell\\nAditha\\nMarcondole\\nSrakes\\nLouine\\nMarvinell\\nMauugien\\nJoliane\\nAledia\\nChratte\\nVevirla\\nAngondi\\nWandon\\nBolbert\\nTheodana\\nOnissia\\nAnnabissa\\nGilfong\\nHesetha\\nBertande\\nFrentrise\\nByne\\nJinel\\nUugune\\nFami\\nRandante\\nNatel\\nDolynne\\nYeth\\nRegana\\nGerrek\\nDilbort\\nNelinia\\nElulyne\\nFrentel\\nWaston\\nAllika\\nDonis\\nDaund\\nUlnes\\nTybil\\nGuornaward\\nCebara\\nNesci\\nLiva\\nSharme\\nHerra\\nSturlie\\nJanin\\nFlencher\\nKolfwanz\\nRafi\\nSalo\\nBamladra\\nRedia\\nAlyne\\nDenn\\nPetralite\\nAbeth\\nVarich\\npassa\\nAsmeona\\nLivianna\\nDesri\\nJariando\\nJasmany\\nAnella\\nCinstoe\\nSoline\\nJimaane\\nArban\\nMannya\\nSalva\\nWilitrie\\nMonita\\nCicalon\\nMucheelee\\nJeemare\\nSigerna\\nBrennand\\nSarnetta\\nAledora\\nPhenette\\nHerbona\\nGilbett\\nInce\\nTabry\\nCristiph\\nAngeli\\nBolldig\\nShelene\\nNeuta\\nRamke\\nSumette\\nAlady\\nGoyne\\nSonnel\\nJecharn\\nCorrelle\\nKiv\\nAlder\\nVara\\nMardel\\nVaharian\\nGaltie\\nMaxde\\nGelviu\\nSonina\\nDandy\\nWilbayl\\nPatra\\nAorie\\nSybdra\\nDorkain\\nMonell\\nCnelma\\nMaurida\\nPaulite\\nRogine\\nCinne\\nCivi\\nClaudri\\nBadia\\nDelestine\\nTerrenc\\nIsmia\\nLacia\\nInaam\\nGelfred\\nLukia\\nDusci\\nSheell\\nMerralye\\nElletta\\nRillann\\nKrene\\nBrynte\\nRevina\\nGeonny\\nLyinalle\\nHirth\\nBandy\\nWinolan\\nSharney\\nMardane\\nPeure\\nRoina\\nBretha\\nOilbarto\\nSabel\\nKatrie\\nRany\\nPatlie\\nMariar\\nLalen\\nDams\\nHorcette\\nAlanda\\nJenamder\\nPatrie\\nTorrrey\\nChedita\\nKeressa\\nQuixlen\\nTabaud\\nJacesta\\nTidolf\\nKrony\\nPhielmor\\nTheod\\nGoronce\\nMargel\\nTamota\\nRosgillin\\nRoline\\nRandweyl\\nEYgen\\nArton\\nRosof\\nKinsey\\nLuntin\\nShalens\\nEdalina\\nMirlele\\nDarie\\nRawfkey\\nBripal\\nPherree\\nMerge\\nNoth\\nwatie\\nKon\\nLeris\\nCherrie\\nRall\\nBelbie\\nRanea\\nChanty\\nBretry\\nCarlea\\nMartoa\\nLann\\nGulva\\nHanell\\nHedilae\\nTame\\nMaribell\\nRaniha\\nJehania\\nJesri\\nTorn\\nPerlino\\nShail\\nChritty\\nCinnie\\nPatsie\\nChristion\\nSorine\\nShelen\\nRati\\nLandy\\nAlfa\\nGark\\nJeandia\\nIvita\\nChisget\\nLae\\nKarcod\\nTodra\\nMerice\\nGurthriisold\\nMizel\\nAbat\\nBippin\\nGennina\\nLiffa\\nFlaorey\\nErsna\\nSkayae\\nLolyann\\nConna\\nCisbi\\nBresth\\nCondreich\\nSuzons\\nDesca\\nFlorianne\\nArry\\nJacka\\nRolane\\nEmi\\nWimmie\\nAmerine\\nStove\\nCarrit\\nNerna\\nStelina\\nFerendra\\nMorrin\\nEdette\\nVananne\\nMertrune\\nMikia\\nKave\\nKradwia\\nFaudia\\nFeaneb\\nSporney\\nHerdett\\nJorine\\nApres\\nOybel\\nMaggor\\nNachela\\nKilley\\nLera\\nJantae\\nDowi\\nTrodurd\\nLeel\\nRandas\\nAldica\\nGurtravine\\nMicquenille\\nKayrang\\nAbita\\nTrech\\nMaston\\nOsalia\\nCarfetta\\nEdra\\nLaurente\\nEmely\\nNizon\\nInasmiella\\nMitabyne\\nKabka\\nGrongham\\nRoifra\\nMarnette\\nAigelia\\nElestine\\nRanae\\nJerel\\nNorol\\nEthios\\nCatinna\\nGerrguet\\nAnnalyn\\nHolbert\\nStaun\\nBanna\\nNatea\\nGrena\\nJulyn\\nJalie\\nDaanna\\nAlisabithe\\nGulsanny\\nPason\\nBeb\\nMilry\\nNigece\\nElfona\\nMarte\\nOrgend\\nTedder\\nSharuane\\nBionald\\nDarena\\nWinnat\\nNovinia\\nGerette\\nAryl\\nNeline\\nIsebett\\nElwine\\nMineta\\nDeurgeyna\\nAdbie\\nSian\\nDondye\\nLivoris\\nCistlis\\nZiforo\\nLindte\\nPhare\\nMersie\\nAdicdee\\nPrisse\\nBrislie\\nGerven\\nQuintis\\nVilli\\nNarle\\nCanar\\nThowna\\nChrianne\\nAuns\\nNikeslynte\\nSlenter\\nAltadite\\nDoonty\\nPene\\nHulsalen\\nMarcule\\nElbuxtrus\\nHenissa\\nDoranda\\nEsiah\\nAntry\\nRajeman\\nHatchh\\nTharhot\\nGonnora\\nElinorl\\nFlorick\\nTimanie\\nJuriell\\nTharna\\nCacolme\\nKeltie\\nPab\\nAlenia\\nMelanp\\nLarita\\nCarlianna\\nMaline-Sdelle\\nMardie\\nNafierle\\nRodbert\\nChristelle\\nGioreone\\nLaurthe\\nFrette\\nDinnil\\nEunte\\nEsile\\nHalor\\nRtedina\\nNizale\\nShamana\\nGelli\\nBrancicr\\nMeradiard\\nGeether\\nSheva\\nGandy\\nJanlyn\\nGlavie\\nVirill\\nPethie\\nReoch\\nDaose\\nMorl\\nEmiriell\\nWilby\\nCamil\\nMikelye\\nJeeda\\nCerbie\\nBanmeton\\nKarelan\\nCa\\nsiell\\nTracia\\nDulita\\nWynet\\nRanges\\nHelre\\nGritoe\\nStafius\\nPau\\nWommheo\\nFlorgenca\\nBath\\nGair\\nPripa\\nCarstar\\nClnoig\\nFrori\\nLage\\nMalssia\\nLaeliane\\nJodesten\\nTheborth\\nDilli\\nKamorette\\nAnre-mare\\nIshin\\nKeraris\\nCarilla\\nOlsen\\nJerrick\\nCarit\\nDilpher\\nSimfeusten\\nSutelle\\nSherda\\nJosuss\\nEllassa\\nMagy\\nAugis\\nCatryne\\nAlfradich\\nTeste\\nLinsel\\nGalder\\nShania\\nBolda\\nGiffrew\\nIloch\\nLerina\\nTeline\\nDajie\\nElomher\\nLeosLa\\nPieliza\\nGennia\\nKarleann\\nLenerl\\nBrithana\\nComa\\nRack\\nAdita\\nIchulyne\\nChristinna\\nRokuolt\\nDishi\\nAssie\\nChrystine\\nZob\\nBrudi\\nBrecka\\nDiabel\\nMebrie\\nNalele\\nVine\\nKarlyen\\nKormey\\nWillacie\\nErmarite\\nTassa\\nYsele\\nWines\\nLent\\nDiline\\nKatry\\nRheyland\\nRommel\\nGeorganne\\nCansalina\\nEinotk\\nBrikkie\\nMamina\\nVeyles\\nEngmay\\nStann\\nNorban\\nGuorgges\\nOvanda\\nEdwelb\\nHeberroa\\nSteltha\\nMetorit\\nMattee\\nJafferdy\\nBrocgie\\nLernald\\nHyngree\\nDegan\\nDoleman\\nElrine\\nKaley\\nMaxinardo\\nGertrie\\nFrota\\nGith\\nHanel\\nZabel\\nShelbie\\nDeury\\nRasaf\\nBionnette\\nWallat\\nTosmye\\nMerron\\nJorwin\\nSublynn\\nMarysalla\\nAstun\\nFroker\\nNenor\\nSkerelina\\nMal\\nTabriela\\nTyron\\nLuole\\nFard\\nGornute\\nNida\\nHernell\\nWalfa\\nIsamaly\\nIsy\\nElgerem\\nZegalia\\nCarelia\\nRanes\\nErilah\\nDoryelle\\nFylina\\nRosabna\\nPaore\\nKessie\\nGrathere\\nShannetf\\nKere\\nJe\\nViyna\\nCobay\\nTerrya\\nChristaf\\nAlideth\\nCor\\nLarie\\nErmolike\\nAllomon\\nBewald\\nDinni\\nJedna\\nParline\\nClir\\nScove\\nHergur\\nTorina\\nAuleona\\nSandre\\nPatrale\\nMareril\\nLelyn\\nGars\\nAblee\\nElisia\\nGaron\\nSalen\\nDayley\\nChergene\\nRachard\\nBernaxiea\\nEbdia\\nRibzy\\nAnebore\\nEnrina\\nSineel\\nNomley\\nDorah\\nJusqiee\\nBrintin\\nAnanda\\nFroddie\\nFratheri\\nSkarin\\nAdelin\\nMadgeen\\nAnnalea\\nElvenco\\nCasee\\nFrorkay\\nYeren\\nWalline\\nMelmie\\nRockie\\nUalyn\\nAnyanz\\nAgvie\\nConrin\\nCorelia\\nSastit\\nGedovard\\nZosher\\nBordy\\nMadiessa\\nFrenka\\nGarrost\\nHersabelle\\nHarbaig\\nPtouora\\nWilnile\\nGelenna\\nMarden\\nRadalon\\nAleWiah\\nMarkheli\\nHegdry\\nPhiilley\\nHadi\\nSushett\\nLerell\\nRoolia\\nWindril\\nElianor\\nAdolva\\nVil\\nOndya\\nKrestorr\\nSterry\\nMordie\\nSherrfy\\nMetty\\nRoki\\nCarisu\\nGide\\nSedela\\nHenice\\nWildie\\nKirgt\\nItha\\nTorrine\\nBarmet\\nDadie\\nFrancisko\\nDooida\\nJodelle\\nElisset\\nElex\\nBraily\\nSilvert\\nEry\\nMelarie\\nCledina\\nLanjane\\nCherrut\\nDammay\\nHender\\nAntherily\\nArgon\\nHanne\\nCilina\\nJoner\\nSham\\nEvanela\\nFatpha\\nLan\\nYasla\\nShaila\\nRuthanno\\nSlamathee\\nMilyann\\nMaate\\nGwell\\nStel\\nButtin\\nJainette\\nWilmssen\\nCarletta\\nAlvan\\nLaryana\\nRuzina\\nMickeil\\nFl\\nrisa\\nBreetta\\nClaudese\\nGirelis\\nVilin\\nBitudy\\nStiffer\\nOtallen\\nChanderento\\nGondrea\\nMillaud\\nArssulya\\nGetrea\\nVip\\nJonedor\\nBenengi\\nEdiel\\nVinkie\\nShimam\\nAlam\\nJosweor\\nElman\\nMalita\\nBengie\\nPegdila\\nKrcib\\nChargley\\nEsn\\nCayle\\nCrractie\\nLenet\\naun\\nMannora\\nLanel\\nVatta\\nLilf\\nRabe\\nBlouc\\nLose\\nGelfie\\nHachee\\nSayly\\nLionord\\nThadsa\\nLattis\\nBristyn\\nHroodr\\nAlisandre\\nStefmande\\nFrina\\nKeriss\\nPhullis\\nMiddie\\nCoty\\nDemon\\nKaceline\\nSkifmail\\nTolene\\nMircace\\nRike\\nOubina\\nGuerla\\nSuvanie\\nTurianne\\nHolmina\\nMucqyelyn\\nJanymar\\nThemeta\\nJoznetta\\nKetlanda\\nIdelia\\nWallico\\nFreckalynna\\nJamene\\nDaneel\\nAugris\\nShaena\\nAnNom\\nHilyane\\nJedi\\nBenky\\nSabbu\\nRobenemie\\nPaude\\nChrmentea\\nNelan\\nSandricka\\nKarila\\nAlisse\\nLerenda\\nShaure\\nKactlice\\nTeene\\ntamissa\\nMoltne\\nScaule\\nKlisroi\\nSLindy\\nCorstie\\nMarca\\nTrise\\nGoan\\nLumanie\\nDilbithe\\nGloufera\\nEngy\\nKaarica\\nEissel\\nNesty\\nKilie\\nApher\\nWitnaNia\\nPatithe\\nPefer\\nJavianna\\nMoxetta\\nHelbert\\nShasmer\\nMurry\\nBernlye\\nLoonna\\nGinaka\\nJacqiid\\nSternina\\nRimanie\\nElano\\nWapBri-V\\nArris\\nDarlain\\nCrastos\\nTordandia\\nMedynella\\nHarva\\nJeann\\nHompord\\nAndrace\\nNisti\\nKralk\\nTatty\\nAsalene\\nGunnley\\nSaylenne\\nTeoronne\\nAnbila\\nVipe\\nAnzie\\nHadia\\nKailla\\nChillian\\nIdisha\\nDam\\nHeleona\\nGlorina\\nDarwell\\nJefsy\\nAnna-werth\\nGhandy\\nMarsla\\nAinabor\\nGrand\\nMichuol\\nRhandhy\\nMicteta\\nSharcy\\nShebed\\nRake\\nIn\\nBernia\\nDarchy\\nBredarie\\nOrthias\\nGionne\\nJelenie\\nFlaremiuc\\nCorryynn\\nLoriee\\nWameli\\nEmelley\\nThedithe\\nGara\\nKatin\\nLilyande\\nStorvine\\nGlemisron\\nSherela\\nLarneyl\\nKerosta\\nBrys\\nMaxerea\\nSabon\\nGulfa\\nWarbal\\nSobe\\nDerher\\nLiole\\nScelly\\nDoshel\\nTledina\\nGell\\nTabbe\\nOdelisa\\nHorret\\nCatheonda\\nRenne\\nWiudera\\nAvita\\nGilleny\\nFrodmert\\nBldedisa\\nFledis\\nEmmaloria\\nDorsele\\nRosalea\\nDarath\\nLomita\\nCleustina\\nElis\\nLawell\\nMigbie\\nCorelann\\nSauguster\\nCatera\\nKama\\nKinstay\\nLicky\\nJesfeer\\nKarsolie\\nRacki\\nWatky\\nJarie\\nChrester\\nCharm\\nuucka\\nJeriel\\nShelph\\nRoweta\\nShannie\\nOsabae\\nF\\nriga\\nPippia\\nKicthy\\naster\\nSenanna\\nMoxin\\nWalrot\\nSoege\\nFonni\\nDosamersy\\nGeinda\\nRhemerech\\nFa\\ncarobita\\nMoiell\\nCornaw\\nBrelnand\\nSMelpi\\nGrettha\\nAlsse\\ntacellena\\nMagulyn\\nGbenpha\\nNoryta\\nRebod\\nDildel\\nVilra\\nZacky\\nMarien\\nVille\\nHanghole\\nBibbia\\nClidi\\nLusan\\nJolani\\nDorius\\nViwett\\nMaide\\nNesy\\nWallen\\nShewild\\nTrixyn\\nGynthe\\nGelley\\nCallane\\nAngrysley\\nziona\\npirphan\\nRosoline\\nCandia\\nLinna\\nRosuflem\\nShayli\\nCharleya\\nBortie\\nReal\\nMaryn\\nMaxatha\\nDienn\\nDadeand\\nHivber\\nSomanna\\nLeeth\\nMaygra\\nDancy\\nZani\\nLanrita\\nRozive\\nKerra\\nDaup\\nMuurica\\nClailynne\\nEimberl\\nHayl\\nMayne\\nFraane\\nCorabell\\nVinis\\nOnog\\nAnnella\\nIdadel\\nJorfe\\nAlety\\nVelchor\\nThuleese\\nRacker\\nAllussea\\nWandra\\nAnd\\nElmary\\nDade\\nEmman\\nTexis\\nJoelena\\nEobert\\nBriecor\\nMorelwin\\nTibie\\nOlecp\\nRannee\\nJonan\\nMeri\\nMargyle\\nArlla\\nZolkana\\nKarenta\\nKarn\\nTubbe\\nMargelle\\nZorila\\nG\\nKeritta\\nBlidatta\\nMarysna\\nHimnis\\nhrick\\nRoemanne\\nGudhia\\nUlpon\\nAbrutce\\nLeny\\nMarnosd\\nDace\\nTadi\\nDongtley\\nGrewder\\nLouvanes\\nSibaptee\\nKatel\\nShaven\\nKincey\\nCoedy\\nGerwen\\nWuit\\nVelasta\\nTorney\\nJonenna\\nTamrida\\nSlerrin\\nRubra\\nShar\\nCassson\\nJanya\\nToba\\nYawila\\nGoword\\nJosamold\\nKinnordison\\nAloe\\nEthann\\nDorija\\nZillo\\nNonnita\\nHalaja\\nGindee\\nCirrys\\nuzly\\nNereann\\nJannce\\nGuigun\\nKatrin\\nStewner\\nKindie\\nOdel\\nElland\\nChera\\nGerfri\\nDoCend\\nBe\\nGrenna\\nIlvand\\nElyne\\nGrinard\\nGartha\\nMarimo\\nArtog\\nPanletta\\nLoude\\nBirdari\\nSheaice\\nPodrid\\nCatrool\\nBorbeyl\\nTabborc\\nhatchig\\nOrmith\\nMilia\\nGreoda\\nKarres\\nMah\\nGustin\\nBellie\\nMinald\\nAurrico\\nJoree\\nDobby\\nMorthon\\nMyye\\nLynigas\\nTabliee\\nDaryly\\nMarjea\\nLazlie\\nHarnick\\nPringall\\nEmwell\\nDilbi\\nKatla\\nTenrie\\nChelia\\nComryl\\nClistof\\nLore\\nRosasher\\nhili\\nIkica\\nSraglyenna\\nBrickay\\nAuxan\\nJariela\\nKendy\\nAubinina\\nBretni\\nElventy\\nPati\\nArgo\\nJelferda\\nJoseel\\nConnelette\\nRunovka\\nBorgey\\nCerenty\\nGeodgat\\nSammina\\nMyora\\nGeadaid\\nJo eje\\nMirsa\\nWilandra\\nGrick\\nAleemuna\\nClaryl\\nMaronnia\\nSeszie\\nMelenie\\nDenney\\nMulimpe\\nBridey\\nEina\\nDat\\nMichella\\nJa\\nNonette\\nStifieba\\nSiphell\\nDorria\\nArelyn\\nSasmer\\nIlyne\\nDanina\\nMainedea\\nChrestine\\nLonal\\nDoan\\nReotus\\nAnnina\\nJean-Hanca\\nZachoria\\nGuff\\nJof\\nAnos\\nJeniel\\nBaib\\nAmaith\\nDarrett\\nNisella\\nDulm\\nLati\\nCore\\nRaskie\\nSuzice\\nAngalie\\nYortina\\nSusser\\nTarrold\\nLeonor\\nGusha\\nCtisty\\nZondy\\nDudard\\nDeederine\\nFlanrig\\nShew\\nPetri\\nMadrie\\nSethy\\nSamela\\nNitsa\\nHerrane\\nWils\\nTeunhane\\nCameri\\nKinn\\nCiwrf\\nCansterick\\nMireanette\\nDanole\\nAgbelde\\nArdedre\\nFordy\\nPawrie\\nDelra\\nHolantie\\nGalher\\nZarthe\\nWynda\\nArlonie\\nSgiffed\\nSallan\\nSibwyn\\nHhernie\\nChrillabal\\nShalian\\nDispy\\nBilbul\\nCorttey\\nSaene\\nLindrie\\nEveino\\nTephie\\nGrystto\\nMatla\\nJaciena\\nAllile\\nResella\\nHarty\\nParug\\nRanasot\\nIz\\nNasther\\nLenie\\nShille\\nWasten\\nVanora\\nNianne\\nKather\\nBelian\\nHondreel\\nMetellie\\nBolenne\\nTamit\\nBalland\\nKareon\\nArressie\\nHirnett\\nNatchel\\nLeanore\\nGgettie\\nKornett\\nMelesandr\\nVesty\\nAmagina\\nElisond\\nBrcoy\\nLynnie\\nEmy\\nSubin\\nPemeried\\nLowon\\nGersee\\nTherd\\nWallyn\\nDazi\\nSalissa\\nMalda\\nKal\\nTlorisa\\nEberti\\nGmery\\nThaede\\nKolvette\\nWalara\\nAblay\\nHamlor\\nOmeve\\nJensel\\nFybid\\nCond\\nKelana\\nSuola\\nJeadere\\nSabil\\nBristinn\\nMigki\\nBlyzes\\nHelfert\\nBerrich\\nAmith\\nLaurale\\nOdilla\\nDilm\\nDarre\\nAlbar\\nNinkeeth\\nSolda\\nAmbett\\nSuden\\nSleryn\\nEira\\nCelicie\\nWilles\\nKessi\\nFrye\\nUrsha\\nDinn\\nJanett\\nJuiliand\\nAsmi\\nTyanne\\nMiAur\\nNicfard\\nEprena\\nJothn\\nBinasda\\nLorsten\\nSirins\\nMalko\\nWussy\\nManiel\\nMargen\\nAramini\\nVismilla\\nDinki\\nClissice\\nSilman\\nGranda\\nMee\\nGanie\\nInette\\nLineel\\nCylly\\nSibp\\nFore\\nJelin\\nAnze-Hilla\\nKaray\\nEoldie\\nQeendi\\nVeli\\nGrigge\\nTione\\nSiguther\\nZaina\\nAngol\\nWanthe\\nIgache\\nMaarla\\nClais\\nCilsio\\nGuanrossa\\nNicke\\nCandel\\nLinvie\\nBabnella\\nPatrey\\nJeddie\\nDeese\\nHarthy\\nSheren\\nBrinc\\nMaari\\nGinne\\nMyrin\\nMasaf\\nJea\\nTip\\nDy\\nPhellik\\nBeanses\\nSherra\\nJaryenne\\nQuennen\\nNalie\\nElmonia\\nLorbey\\nSonn\\nThomet\\nMaidia\\nSharlan\\nRothi\\nCengy\\nBretna\\nMadea\\nAlwy\\nMerthan\\nWilan\\nFardina\\nEttela\\nTaletha\\nStichelie\\nShine\\nMerlon\\nRehne\\nArdere\\nCatbele\\nKanle\\nTreda\\nMania\\nPerter\\nGtenena\\nBreck\\nHelraodo\\nApga\\nSharlina\\nFallena\\nKortlyne\\nDamine\\nLaurelan\\nPhyly\\nKarolen\\nVhrinn\\nIrgilia\\nJeennda\\nVerenle\\nWilclees\\nGlena\\nMargelice\\nQeer\\nUdores\\nDonnia\\nSalven\\nArrel\\nMarllen\\nEgpelite\\nVincy\\nSkebert\\nBrilie\\nMureme\\nBenata\\nEcy\\nDinster\\nKrioste\\nBraelee\\nElvert\\nFlody\\nKreset\\nStarita\\nJeus\\nCoril\\nTressy\\nJani\\nLinett\\nErmine\\nAngrener\\nThenne\\nLaira\\nWidrey\\nDertlein\\nHanlan\\nKorli\\nReb\\nLochelion\\nUlsand\\nCimel\\nZannetie\\nBriceton\\nHianelea\\nGrac\\nKlarina\\nElny\\nLarelah\\nBanrie\\nNorlynn\\nMiligten\\nCander\\nJanabela\\nNicall\\nGilloun\\nPhagissa\\nTila\\nArisa\\nAths\\nHelleta\\nPaus\\nMilcheo\\nAlsena\\nAnston\\nRercina\\nGieley\\nJol\\nmenny\\nAsmund\\nBettty\\nToolane\\nMarija\\nClaida\\nIvellis\\nWerdy\\nRosey\\nLinzton\\nLoine\\nVande\\nSkaers\\nRosals\\nAmnrimon\\nMaste\\nCessi\\nXripus\\nBbanthea\\nZenet\\nYivi\\nTem\\nJoses\\nAbelle\\nSysel\\nHeirlia\\nKavell\\nMerye\\nStiphi\\nRebbi\\nSherg\\nSyline\\nJorania\\nSilvy\\nKirsia\\nVenni\\nMaxa\\nGorny\\nLiallen\\nParlene\\nCecalin\\nRomynor\\nSharlean\\nStephina\\nClistia\\nEs\\nBristin\\nIsavau\\nMredapina\\nDollan\\nCawella\\nCrosto\\nCandila\\nRavie\\nDemmie\\nKrinta\\nSTema\\nBeorgan\\nStewmund\\nYinnella\\nRari\\nStafille\\nIndil\\nDlane\\nJanell\\nThaith\\nDerite\\nMelled\\nSuzis\\nPhilil\\nSustas\\nAllane\\nAdmood\\nBinn\\nDorijea\\nDalin\\nIdany\\nRebelle\\nDannel\\nAagalee\\nKaline\\nVell\\nRosamyne\\nAmell\\nBeren\\nDorjan\\nGlamene\\nGayra\\nForianne\\nCasy\\nShullona\\nHodeliana\\nRobenet\\nIngele\\nRanne\\nSongis\\nTarvin\\nPauldina\\nWillee\\nRosoli\\nNesly\\nHathine\\nRayard\\nSusey\\nKalla\\nSilyse\\nHameste\\nMaduck\\nPaulene\\nSolensandra\\nClipce\\nSalind\\nMorlie\\nLoraynne\\nEdlia\\nCorzy\\nAlvetty\\nMelid\\nLazey\\nTracearr\\nMiwyl\\nAlmen\\nCoresa\\nOlmert\\nBranky\\nZozana\\nAlixone\\nCleba\\nGure\\nPetcey\\nJeriea\\nAndrod\\nElispa\\nCorbarl\\nJahan\\nIshishel\\nTharah\\nKlyson\\nStuncine\\nJahel\\nCorsand\\nMarston\\nOlbart\\nBeptie\\nEsie\\nBail\\nTham\\nGorfie\\nMarcny\\nPauree\\nTelrh\\nMilca\\nThooca\\nMayna\\nAbdred\\nTommanta\\nKarell\\nArdus\\nNrida\\nLigate\\nKensley\\nGlergant\\nGubbree\\nCharlye\\nMradie\\nThem\\nKorstan\\nTime\\nMera\\nJeneita\\nBriand\\nEtAdole\\nMicka\\nHarmia\\nDerde\\nDweunn\\nJoqmy\\nAlytta\\nRochan\\nRaola\\nRorgy\\nRingil\\nNikeche\\nAncfrace\\nRocelle\\nRuebad\\nJoene\\nShiul\\nManimere\\nKizprik\\nHeliea\\nFlar\\nShorah\\nCliston\\nMartula\\nCoriile\\nKristob\\nHaviy\\nCathoraon\\nMargid\\nGobfy\\nMagdeline\\nTrora\\nHamly\\nTayfand\\nDessen\\nPhars\\nAlexandre\\nVerance\\nMargoretta\\nLarreta\\nMalless\\nLrida\\nAbliah\\nJedn\\nZanna\\nCherstant\\nBelleven\\nConstauo\\nCommy\\nAdith\\nCondra\\nXavore\\nJenis\\nDantina\\nWelle\\nDeelora\\nMathee\\nRoine\\nRomelie\\nDetta\\nRoer\\nSharete\\nNette\\nEleciy\\nGilborn\\nDocy\\nHenre\\nOlinda\\nFpongart\\nDare\\nDelen\\nLerette\\nVanca\\nGishom\\nGragguthe\\nAlgarica\\nCharce\\nFelande\\nMercid\\nJanan\\nHansale\\nThami\\nBerth\\nRosena\\nOlexon\\nBabma\\nGeordiece\\nUnna-Treven\\nEndie\\nRosel\\nTabei\\nLanol\\nJacie\\nHeffy\\nHattha\\nHarkner\\nAnsta\\nRudi\\nMarrabil\\nArbi\\nTonatte\\nOlpola\\nViphed\\nJolynne\\nFelifson\\nCorlanne\\nKorsey\\nLoibel\\nShervand\\nLatry\\nRosenna\\nCarela\\nAlietta\\nDedriek\\nHairre\\nStelmeod\\nTmebert\\nCanilee\\nGilphon\\nJuannen\\nMiregah\\nKaralyn\\nKilian\\nCtarly\\nElexevard\\nCorrit\\nRaneel\\nElisadora\\nEknie\\nMartyna\\nVirie\\nElianne\\nGwandris\\nLuelona\\nStere\\nEngus\\nSamen\\nJeannan\\nJonetta\\nGlande\\nIugan\\nGarlee\\nKarein\\nCtarwatt\\nGir\\nNodalda\\nBianut\\nPitf\\nMolrca\\nAggrin\\nFranci\\nLonele\\nFlinnig\\nhelra\\nPenwin\\nLucgy\\nDomania\\nSNevan\\nMidai\\nStorla\\nAuri\\nKatilm\\nMellin\\nAlbanu\\nPerre\\nCherlatte\\nMerelle\\nRoselee\\nMernil\\nThomahon\\nLeanford\\nRhana\\nEmmelina\\nNicci\\nDeannen\\nRacell\\nGendioro\\nLunilan\\nBendram\\nRollyn\\nThidia\\nAmey\\nGiamord\\nHildia\\nTapher\\nHoddah\\nHarvia\\nCaldor\\nMhuni\\nErtande\\nCatherne\\nBabraiett\\nDone\\nNacky\\nKarea\\nUrarda\\nGrine\\nZrrie\\nMalki\\nOnilia\\nAdette\\nErie\\nKresty\\nCoptie\\nBlotk\\nHadras\\nHylla\\nStanloe\\nLussi\\nBonatta\\nKranki\\nErit\\nAbrianne\\nHarel\\nLaveren\\nMeline\\nDanea\\nPaklie\\nGerenia\\nRolle\\nSzipporn\\nBorte\\nCel\\nLinnse\\nWilmaud\\nTamb\\nLustine\\nJacolyn\\nNimman\\nKras\\nKristit\\nDipber\\nZini\\nNonc\\nNabett\\nMarecoe\\nMigtten\\nSionnel\\nLussie\\nIsabill\\nMalveline\\nOrei\\nLowina\\nElwit\\nBrid\\nDeun\\nButtor\\nMorgie\\nLemerth\\nWaibert\\nGarya\\nXimo\\nDiona\\nTyd\\nAnruis\\nKensie\\nStefferd\\nNalline\\nEmyna\\nJacquolette\\nMade\\nNadie\\nAln\\nNeell\\nVancal\\nKarbee\\nChristiesa\\nLothya\\nFroreya\\nLathord\\nDanri\\nDarica\\nZolaana\\nMaxe\\nMarajace\\nNenne\\nMaver\\nBeboel\\nWille\\nLisica\\nTeme\\nHilley\\nJelley\\nShoroe\\nThay\\nArrette\\nsand\\nMadiaer\\nTorye\\nCagbert\\nHerry\\nAdbina\\nMardice\\nSidhanna\\nArlane\\nMadrico\\nDerrande\\nJecian\\nPaira\\nPierlen\\nNea\\nTamre\\nCottina\\nHer\\nQueriy\\nAndato\\nNasale\\nBut\\nImina\\nDeyni\\nKippine\\nConsie\\nSuderth\\nYoned\\nBernina\\nMargorie\\nPrinell\\nEpricha\\nValieno\\nMelanda\\nRuggo\\nRuchell\\nMar\\nBorriette\\nAdeen\\nAbloy\\nArle\\nCorisa\\nEnzelr\\nDarrie\\nAlise\\nJina\\nDeiza\\nRessond\\nEvanel\\nAure\\nutrelle\\nOua\\nOenetta\\nDaryne\\nHava\\nCril\\nAddia\\nBeliald\\nKarkey\\nOlit\\nJundy\\nDoranie\\nSulisa\\nBinnla\\nHongine\\nTollie\\nNillote\\nRazan\\nIvert\\nDarry\\nCondreta\\nUlebla\\nVaree\\nSanxarda\\nMerrio\\nGreck\\nAnrel\\nDathy\\nBryndee\\nOlaceite\\nRodiahna\\nKar\\nEshla\\nZarrie\\nHesn\\nTamle\\nJasel\\nMianod\\nSenhruld\\nCorbo\\nMarint\\nJandena\\nFrede\\nKenett\\nOrille\\nMaralo\\nJancena\\nWololo\\nQonette\\nSinslotne\\nLulank\\nAuducs\\nTabde\\nClistane\\nEknane\\nRalte\\nMoaretna\\nTobfy\\nCarme\\nBeddia\\nArnandr\\nAlejandr\\nMoryssa\\nDanah\\nLoustina\\nRynel\\nSey\\nLudia\\nAra-Dore\\nJogie\\nJonem\\nZomenra\\nTreminda\\nNiglen\\nHoldy\\nTabrod\\nCerilia\\nTibb\\nMarim\\nShielle\\nWigk\\nTarry\\nPrini\\nRoshloud\\nGarrie\\nRoeb\\nAnjaid\\nJonette\\nMoiella\\nElvens\\nFinlee\\nPhaylon\\nPeidie\\nRozert\\nTrumi\\nSherrota\\nMaunella\\nJoda\\nGaugun\\nKaylin\\nFleretta\\nRonale\\nSyda\\nRight\\nAgana\\nTeree\\nKathriel\\nArmah\\nScinder\\nParya\\nZellane\\nRaniel\\nTrea\\nEillo\\nMissa\\nMarinell\\nKemine\\nDucharl\\nBerielle\\nMarjuel\\nFlarina\\nGeerguda\\nBilther\\nMadgne\\nGudia\\nCrasty\\nDalline\\nShary\\nMered\\nJacapy\\nLoynan\\nMayn\\nMarime\\nBeobfree\\nJeonund\\nIshjoe\\nEllina\\nAthelite\\nWivhy\\nKety\\nGezett\\nIltes\\nArwel\\nErtana\\nKatelina\\nVit\\nIdzey\\nDerrie\\nAdri\\nNath\\nCharrmand\\nEdelya\\nKendi\\nDrekcer\\nEljia\\nFrandite\\nTrine\\nDedan\\nPape\\nOllond\\nGlary\\nFranches\\nNullo\\nWirffi\\nNacta\\nHorriel\\nCreda\\nPeme\\nHoletta\\nCeldie\\nPour\\nToodora\\nEmlaud\\nChachy\\nSamery\\nGylbert\\nUisobel\\nRhymi\\nEmolas\\nGarria\\nAustane\\nRaelean\\nShirdi\\nLutha\\nNinatt\\nRucha\\nAlekyaneta\\nCatn\\nSterten\\nRitande\\nElricine\\nCrad\\nSaundre\\nStepphir\\nLynni\\nWilmion\\nGendie\\nMayall\\nRobelle\\nKivmani\\nElin\\nMickalen\\nMartoone\\nJenethe\\nBobbey\\nSarje\\nWandel\\nKale\\nAosandra\\nZelase\\nErra\\nEntoriette\\nGacha\\nLojanne\\nCabwun\\nVenarin\\nStanuda\\nChritta\\nKelan\\nGabriila\\nGoral\\nJehnfer\\nLanyce\\nAgnela\\nSianla\\nDira\\nPetror\\nWalle\\nAlimean\\nGarol\\nRuzmafre\\nCorrette\\nSamrie\\nCharlan\\nYary\\nBetthen\\nClamara\\nYansey\\nDeruka\\nKenstonce\\nMarno\\nKillye\\nQuenta\\nCundie\\nMaroy\\nTameta\\nAssland\\nBarthalem\\nGerlie\\nShaman\\nSilyne\\nIgebellia\\nMichelline\\nClasea\\nRobbon\\nMartele\\nTalean\\nLameria\\nIsos\\nSyll\\nSaka\\nGuanne\\nBreaca\\nMarijee\\nJurly\\nChlystel\\nRoselen\\nKirica\\nElvicpo\\nTyania\\nDedina\\nMerjie\\nLenned\\nGyal\\nBric\\nQuyn\\nBabri\\nHordie\\nHellan\\nMancielle\\nMarlole\\nDonnela\\nTrik\\nAbeley\\nHalusa\\nCallee\\nIlena\\nAdetta\\nMorrys\\nShephand\\nSheart\\nGlewelle\\nMareth\\nInador\\nGeney\\nSiz\\nPecrekie\\nZag\\nBortteine\\nErice\\nCanita\\nHarria\\nFlarice\\nHeslie\\nWetttha\\nSharneud\\nLoinie\\nCerria\\nThey\\nLovann\\nIveva\\nMyrtes\\nSeanye\\nPiarstan\\nNensolina\\nGarriel\\nElicie\\nMeladi\\nKuzeut\\nGirvard\\nArgurite\\nWanelle\\nTriphe\\nDoorsta\\nEvera\\nWilvat\\nCirculyn\\nAnacha\\nMinabel\\nHarje\\nIdaxly\\nLiniy\\nConett\\nNacella\\nDelry\\nEssell\\nCeterine\\nStafke\\nNelmon\\nWunnin\\nFanit\\nKeircey\\nCheryll\\nFyndes\\nBrussie\\nKollay\\nColmeut\\nLydvan\\nTamina\\nJnbort\\nCosty\\nAbelia\\nScitte\\nNilalyn\\nSaby\\nKintel\\nSibe\\nChorid\\nHiateline\\nFradil\\nTarcha\\nZilolene\\nPergella\\nSollas\\nAlva\\nMelavina\\nElvare\\nZarina\\nGayfamd\\nGvene\\nAndraTborne\\nNuvelea\\nGarbina\\nAcgolina\\nRissy\\nSatha\\nVindy\\nVaplad\\nBeadres\\nHaty\\nAsil\\nJoan-Lorille\\nRorin\\nGlaner\\nSanshia\\nDerina\\nKatriya\\nLianno\\nHelisso\\nIndia\\nNalis\\nErman\\nCer\\nJacfand\\nBrengil\\nJonivet\\nMilie\\nKebra\\nAdatte\\nTheeda\\nRovan-Glonia\\nGerredic\\nSicquen\\nAlweston\\nEbela\\nUlssand\\nSoreutta\\nRause\\nDesly\\nThraki\\nNanie\\nSalfonde\\nAnnalao\\nAdrain\\nChesthan\\nShettine\\nChurita\\nAlbund\\nSumals\\nUllea\\nMarle\\nGerrgie\\nKhatela\\nBrece\\nAidwe\\nAmary\\nHorvarot\\nGelia\\nRederd\\nMaira\\nLucom\\nNovol\\nEilie\\nTussa\\nMarye\\nDvai\\nTarmes\\nJo-Geini\\nMausey\\nGelly\\nMany\\nIvyne\\nTolina\\nAugsy\\nJoney\\nHuoran\\nBloschard\\nRusann\\nKerrish\\nArgerin\\nGussia\\nRrisa\\nClissa\\nPalli\\nCondrey\\nRowneat\\nIlwy\\nIdada\\nhernnie\\nSede\\nRogdy\\nHordand\\nBarfad\\nSisandlot\\nCarnie\\nSarfand\\nKarya\\nRindsein\\nChemly\\nMrapith\\nJanevauld\\nMelara\\nMarlynne\\nCroril\\nowarda\\nAlig\\nDelan\\nWanecetta\\nNichade\\nRade\\nShellica\\nTomerin\\nRega\\nDenit\\nVixiord\\nKorrtatte\\nPerrick\\nAnnec\\nAlajee\\nJoonna\\nNah\\nLorrice\\nChorlen\\nMor\\nCens\\nKarline\\nJasquillyn\\nXyry\\nCanette\\nVanne\\nPayla\\nElvan\\nMelica\\nJame\\nBelcie\\nLuzia\\nLoneanne\\nThodey\\nFilex\\nLesti\\nLiele\\nGysell\\nGyonora\\nGhatfiane\\nTabetha\\nKatrane\\nRofga\\nBrits\\nThossus\\nApabila\\nFradmen\\nHyma\\nNits\\nCanle\\nLonona\\nDanethe\\nDole\\nBanda\\nThandadina\\nShare\\nLaselle\\nAndrobe\\nAggnelea\\nDanieut\\nChissia\\nJuxy\\nPevera\\nJaquelen\\nLayn\\nBeigmetterina\\nReanne\\nIsalia\\nDary\\nOligand\\nHerrin\\nNoide\\nJacquela\\nRewald\\nBretta\\nCustine\\nLalie\\nJonnon\\nCath\\nMalie\\nNylla\\nHinet\\nAngne\\nDoyard\\nTren\\nTrrista\\nAsogne\\nSimana\\nEllin\\nOrelina\\nMarcelly\\nCleis\\nBarelse\\nGeeella\\nBrinette\\nMyrtel\\nAudelse\\nMont\\nNikila\\nDue\\nWalvon\\nOmeline\\nBrakd\\nEmmond\\nEmeria\\nBrai\\nLy\\nFildurita\\nQiitty\\nDennyie\\nKatta\\nRoxina\\nChristiena\\nHarlye\\nGolfusde\\nJamena\\nGritmudia\\nGponne\\nRosam\\nWoorgor\\nBawnie\\nHeras\\nNtannie\\nKitkie\\nLlonpre\\nVivell\\nKadie\\nHarlyna\\nThebmie\\nEderiel\\nShorrine\\nKingida\\nResnard\\nRaie\\nSuzana\\nSrid\\nJuneyne\\nKeva\\nKioxor\\nOssi\\nOlania\\nVing\\nBeiseza\\nHephyand\\nAmelen\\nAdath\\nMigdi\\nVarna\\nStingang\\nMatry\\nLougtine\\nHilgory\\nOthaline\\nFwancha\\nWauttrinna\\nDiday\\nJoigh\\nNid\\nItham\\nKartan\\nJebell\\nDerette\\nCemmie\\nWindres\\nHarbette\\nWiltheman\\nCliscoste\\nVinde\\nDuello\\nJonnie\\nKaabell\\nPhurison\\nHoreld\\nGilabel\\nHagg\\nAndrick\\nBartoede\\nIxean\\nChrodey\\nSaspuo\\nDerie\\nVana\\nMerros\\nGurtanas\\nGablee\\nJeeis\\nBaneig\\nPherl\\nMadreen\\nSheis\\nMarjos\\nAn\\nMoralld\\nAngalis\\nHolina\\nMarsy\\nCerila\\nHairel\\nRondri\\nDoney\\nFleter\\nAlija\\nKiin\\nLophyre\\nNikke\\nMavie\\nJomin\\nHodria\\nDomondo\\nEgga\\nJeyline\\nJoaha\\nCiora\\nGeodra\\nLinny\\nMaxtix\\nBlene\\nArlyan\\nBatri\\nChantasia\\nGerric\\nJardey\\nCarys\\nClescorne\\nWanny\\nDaji\\nGurina\\nWarna\\nariana\\nPatsa\\nElanga\\nLavriel\\nGarbida\\nAloxde\\nVelica\\nCatis\\nScelen\\nDos\\nMadiel\\nOysel\\nTastor\\nAllod\\nAsherl\\nMeran\\nSoleene\\nJuliel\\nBodfree\\nEKamalie\\nCerelia\\nHeemas\\nJorinell\\nkalia\\nLita-Ed\\nMegfer\\nLarle\\nMorea\\nCharlese\\nGeranda\\nBavnette\\nEmbil\\nShamalia\\nSillan\\nShorvonne\\nFesnie\\nEvanla\\nSront\\nMorene\\nColli\\nAssel\\nDacine\\nKeler\\nJwinh\\nGeid\\nBeverdiga\\nRoscy\\nVicelle\\nKindor\\nAntrodif\\nStiffie\\nSimilee\\nMairella\\nEnana\\nPhorla\\nMerynn\\nBurtte\\nTrebaine\\nShailine\\nGarene\\nRakdar\\nCarrice\\nDredela\\nAbene\\nHitreli\\nMeste\\nTambau\\nVarges\\nNewie\\nTricky\\nElsanna\\nWenobesh\\nPeurlona\\nTarvan\\nGionna\\nKenina\\nRosemes\\nClarsye\\nStellie\\nAldine\\nAnnerice\\nCosina\\nHar\\nValvie\\nLiann\\nPetrich\\nGulg\\nMardalme\\nCharlio\\nMarybella\\nCindieh\\nSoblee\\nLunaser\\nJienicie\\nGilleon\\nKaber\\nKaury\\nRebite\\nAlysi\\nPapelle\\nGoorrannette\\nClasop\\nKeirny\\nGwid\\nRahlea\\nGlirimos\\nNinatta\\nArchan\\nStepher\\nCovi\\nBerterton\\nGabell\\nNalma\\nHeral\\nTyise\\nTishen\\nBelci\\nRammon\\nBiffa\\nOlize\\nMuckalyne\\nCalorte\\nParle\\nCan\\nMelizie\\nMelsia\\nGailia\\nBabbie\\nMantacka\\nSangorse\\nAdesea\\nSustan\\nMorlande\\nCherstian\\nOmail\\nJenciette\\nMaryeve\\nMarlynn\\nEdelina\\nWavie\\nFlero\\nJonene\\nDaynett\\nAnga\\nWilnett\\nPhart\\nHiles\\nGelegie\\nJenfpa\\nDerride\\nTienah\\nMaydaur\\nGwendriane\\nLebain\\nClaisa\\nDele\\nWelva\\nHeby\\nDaraan\\nTherdence\\nCraride\\nLisci\\nPhuline\\nGain-Metis\\nBannie\\nGelerea\\nRorrie\\nEryth\\nTiph\\nAlianor\\nLurvil\\nValenie\\nVathia\\nRico\\nJenaug\\nIngiz\\nDenedy\\nShalus\\nBrieette\\nHynice\\nHilmy\\nJaxiwhrl\\nAlbunes\\nTouca\\nMairenton\\nBesta\\ncillon\\nMelin\\nSten\\nCall\\nBesdeson\\nJunyanne\\nEmbrisandre\\nJesci\\nJaina\\nGlavin\\nLidina\\nRipkah\\nSternne\\nWindil\\nUhbie\\nHode\\nGrickay\\nHirbief\\nChaddi\\nArsilina\\nKany\\nRoyger\\nTebert\\nMuley\\nCaylya\\nMerkelle\\nAlvile\\nWandy\\nArdi\\nWandris\\nOnry\\nBibbay\\nLourene\\nFrancie\\nKoraltta\\nRennell\\nMarka\\nCrridus\\nSibgy\\nRoscie\\nTusse\\nDarri\\nTharney\\nAhaup\\nShurline\\nRagell\\nWistie\\nInvea\\nTrewel\\nDefier\\nMorinna\\nDamania\\nCherdys\\nAcree\\nShalia\\nWendari\\nFreichie\\nPhylytte\\nSa\\nMailina\\nIgaberh\\nIsabar\\nIaja\\nArhabite\\nVirah\\nPaull\\nYolby\\nMarkell\\nArupus\\nKranquol\\nRetika\\nElisse\\nFusa\\nJole\\nNinde\\nBarrerie\\nDorildy\\nPellens\\nLonn\\nMorely\\nSac\\nNemi\\nAgley\\nTawdia\\nThust\\nCheplia\\nDolses\\nDoreanne\\nMalline\\nButthan\\nAlessa\\nDiffyllan\\nDauha\\nIsika\\nLicie\\nKanetty\\nEwbanto\\nKraek\\nLucena\\nBlynn\\nAndrie\\nIgcessa\\nClisthe\\nHaehi\\nEowette\\nMargibart\\nRingine\\nIndlard\\nWivin\\nKaysy\\nHerryn\\nJuriel\\nGustroin\\nNalmin\\nStephenni\\nKelle\\nFariang\\nGoyson\\nChlisty\\nLestan\\nKelisa\\nComisti\\nChruck\\nKhar\\nAleca\\nEvher\\nHranuc\\nTomon\\nShipie\\nDanne\\nBeetpan\\nMauin\\nVinnarda\\nCorrich\\nRannaya\\nZianne\\nOrirm\\nFermard\\nSoselia\\nDehuc\\nJanea\\nKresaina\\nAmlie\\nCaylola\\nFrendie\\nKarston\\nRobay\\nSold\\nJalys\\nClimmah\\nWariel\\nMinco\\nMiane\\nTedni\\nBeri\\nJinetta\\nBritat\\nStakey\\nCherylyn\\nCharianna\\nPrad\\nHeada\\nKeyell\\nChelly\\nSophals\\nJulc\\nRomund\\nNitkie\\nAdry\\nAjabell\\nScyley\\nMardal\\nSiynetto\\nVarely\\nAdni\\nMaydee\\nShouopA\\nDawe\\nNetne\\nRosalinna\\nCadol\\nCylin\\nLumette\\nTlorianne\\nSteka\\nRabf\\nClada\\nGurddie\\nHawie\\nJean-Larel\\nMarjoaz\\nFuoderterit\\nLaden\\nAugela\\nFlara\\nJorele\\nKaris\\nAlgaria\\nWeelen\\nMerrih\\nJusky\\nDamassa\\nKinotte\\nSozda\\nVatrice\\nZalah\\nPensrick\\nChristapha\\nMerkale\\nDasan\\nElyna\\nNailine\\nShelle\\nMiwald\\nOnnard\\nJockie\\nSazie\\nPorna\\nWatto\\nSoli\\nSaph\\nDobi\\nKell\\nAudria\\nWiler\\nMaidot\\nRils\\nTirotta\\nMirrina\\nHens\\nDaelin\\nPaterica\\nLounace\\nCherrad\\nGrotcher\\nRognan\\nNencie\\nDaflia\\nCoralde\\nKilfie\\nWilb\\nDoimi\\nAlinetta\\nJeline\\nDouthie\\nMelolina\\nSaela\\nCrentin\\nHarlen\\nRoutt\\nRyly\\nGall\\nCossey\\nKristinna\\nBrika\\nAulia\\nBrardila\\nPatrinka\\nJosasmell\\nSayne\\nThareane\\nAlay\\nGerthar\\nAlisand\\nRabley\\nDedaid\\nShaneh\\nMariman\\nTorri\\nArlye\\nFredellise\\nJodan\\nDikd\\nVisson\\nJesabelle\\nAdalene\\nWillan\\nChissye\\nDusane\\nGylay\\nAnnabol\\nRohgseah\\nNalina\\nHeark\\nDosnay\\nMargey\\nLuz\\nLannes\\nDanuna\\nAdda\\nArena\\nLaisse\\nFredolf\\nFlemora\\nVancie\\nIlyen\\nMargorys\\nChurice\\nNia\\nAphod\\nPhilce\\nFarge\\nHullakia\\nCharmithe\\nWallengod\\nKinny\\nChrisold\\nDewnat\\nAnnamalina\\nHerran\\nRuse\\nBave\\nTrrycol\\nThoroes\\nUdnelle\\nCarmare\\nPrig\\nSheotty\\nFrennin\\nVerrine\\nMadin\\nOlla\\nKannie\\nRonorg\\nMarguna\\nKater\\nAgnette\\nDoraanne\\nCayd\\nMayl\\nAmmel\\nMatthie\\nPaodie\\nKivf\\nMarda\\nMer\\nReone\\nEdafer\\nShaj\\nDulare\\nOsmubette\\nBrecie\\nDaana\\nDevit\\nDenina\\nAgan\\nRomene\\nFlerica\\nJaled\\nEistag\\nMitnice\\nBarstan\\nMargarix\\nTophes\\nTattes\\nFarrikia\\nKereline\\nClauty\\nPabbey\\nJenne\\nAgnas\\nKetsy\\nUrbenta\\nBerslen\\nDanys\\nNelsa\\nOrica\\nCianco\\nOlEva\\nLerthel\\nJeckiah\\nBerma\\nBerip\\nJunsel\\nDuzetta\\nSoddey\\nYikie\\nKrilley\\nGlonne\\nClellimon\\nLemande\\ntardel\\nElice\\nElese\\nLeany\\nIvutt\\nSillon\\nBerrlette\\nAndelines\\nRodeloos\\nSardon\\nAngasia\\nSulina\\nDevann\\nKilvard\\nRomonty\\nRoduston\\nLosanda\\nSuig\\nOngil\\nFlodawder\\nKussol\\nDhonatonna\\nMarther\\nJonannes\\nGabreel\\nHadabell\\nSussun\\nHarlo\\nGoncea\\nBrindaline\\nIpina\\nKandie\\nKailbert\\nAlisanda\\nGorde\\nGapharia\\nElessie\\nNatlenna\\nFabonta\\nMartareon\\nQuetta\\nKivi\\nEsmen\\nBreddia\\nArrito\\nEmella\\nNerely\\nShaela\\nAmlleen\\nMareann\\nBlanda\\nJoalfa\\nPrunt\\nElimabina\\nMorthemen\\nJeoda\\nBabbabie\\nRebina\\nZdarde\\nShilepia\\nBardelle\\nThoid\\nJeina\\nGerofd\\nGeriell\\nClaria\\nHellye\\nSharkon\\nTadda\\nAlicla\\nDuzett\\nMerelila\\nWaman\\nWilord\\nDolina\\nZecharien\\nTher\\nLmanne\\nScett\\nLonalia\\nJudna\\nIkebir\\nHisVy\\nChristid\\nSucglin\\nEmila\\nHilbeth\\nWardie\\nTerrica\\nTadee\\nSoberia\\nKisboy\\nMargaleus\\nDodanie\\nTronanni\\nPaylat\\nGyine\\nYicha\\nDardan\\nHarlica\\nAlegen\\nKelino\\nKicke\\nDudelia\\nBronkio\\nMabley\\nNacke\\nCariane\\nMargolyne\\nCodorda\\nBrenkimen\\nSilipa\\nChristyl\\nElyzie\\nCorel\\nSamiliah\\nUlino\\nChallie\\nJusmie\\nLeene\\nJamonne\\nOlolise\\nWimbar\\nTherett\\nTresche\\nBandree\\nGarne\\nMayco\\nQuank\\nFronca\\nAlyn\\nWailly\\nTullen\\nValerice\\nTuccy\\nTatene\\nTorra\\nCarleta\\nOdevand\\nBricce\\nLulie\\nArde\\nStaina\\nBleten\\nLalenne\\nGlifmeris\\nThol\\nhethaa\\nNattie\\nRoson\\nMirre\\nKrittie\\nSeral\\nAndelia\\nAnchaleta\\nOlvert\\nIdelb\\nMickius\\nPetris\\nClypterce\\nShaudee\\nSuzio\\nJoi\\nLimar\\nGlerendo\\nQrennina\\nElvard\\nJenor\\nDomonatta\\nLyth\\nKandrig\\nCecila\\nAbraid\\nKet\\nClaral-Vita\\nKaus\\nKerell\\nwonton\\nKearol\\nHelis\\nKilb\\nGeargie\\nRoie\\nGridye\\nBridina\\nEdreltus\\nEuwina\\nElalos\\nRhadean\\nOvela\\nAsren\\nDoantha\\nDarett\\nElizor\\nCondris\\nRuellie\\nBumdteucka\\nWallean\\nSalda\\nGeoxe\\nEnice\\nKiveri\\nTamat\\nRoba\\nLimbon\\nMairy\\nFleyb\\nRunnien\\nRynen\\nSpuchan\\nFiance\\nCas\\nEmynsell\\nReye\\nJushin\\nLerci\\nSparfie\\nPeall\\nDayor\\nLeerita\\nMorshell\\nGiffrer\\nGwedie\\nCarelley\\nIlin\\nRoseffede\\nHyacy\\nNunett\\nElisand\\nChivo\\nAmaby\\nGaory\\nKisii\\nOthaloa\\nSania\\nReban\\nAunesse\\nBundert\\nRollie\\nCerstan\\nPatricil\\nTissy\\nRileena\\nHaylott\\nZanny\\nShachyn\\nCorett\\nMarchell\\nContise\\nDavianne\\nArdre\\nRogil\\nDonnnie\\nWurette\\nCalva\\nKamas\\nSholgi\\nGergadd\\nBornandia\\nGarben\\nCheod\\nRosalyna\\nVirgick\\nKittri\\nCobetts\\nBaelene\\nCasley\\nJaylle\\nFlere\\nYande\\nEmmea\\nCheritta\\nCatrianor\\nLyenne\\nStarene\\nWinfrod\\nRannerl\\nAnnerari\\nAmandia\\nRolita\\nZoui\\nKik\\nEshi\\nLuze\\nAdbe\\nAdethe\\nColl\\nElo\\nWelfer\\nNodtel\\nSnanne\\nKrestina\\nWanrielle\\nNanna\\nAnnemarike\\nImana\\nArla\\nMaroanda\\nGrynrton\\nKrysporr\\nReddio\\nShepAnda\\nJoonn\\nLeiar\\nAlelia\\nShellah\\nTamlie\\nJean-Clandor\\nKimelia\\nGrain\\nFherci\\nGabthea\\nGsan\\nPrudie\\nCylmi\\nPiumlet\\nBrin\\nAval\\nChariann\\nSalmorea\\nFolnsi\\nMarjita\\nRodosain\\nVivore\\nBetdea\\nGungine\\nWinolma\\nUlerica\\nKristun\\nDim\\nJearf\\nGemory\\nCalina\\nWoldy\\nSiffrie\\nGhany\\nGundraminzy\\nEnn\\nEols\\nOlle-Allee\\nMagente\\nSiena\\nLvanetta\\nMangie\\nGeorgiza\\nIde\\nKasrie\\nThemart\\nSilex\\nDodney\\nShall\\nDomana\\nApussa\\nWivenox\\nClamett\\nDenmie\\nPaxrid\\nKerie\\nThorisa\\nMaisel\\nEmia\\nGerzan\\nMerlyn\\nTely\\nCaroy\\nAleolone\\nChrosa\\nGildie\\nSirna\\nCrl\\norey\\nMedala\\nTombtee\\nTrry\\nDabita\\nKarvy\\nCarobe\\nBarnarine\\nMaterine\\nZanah\\nAshles\\nAlesdere\\nKlance\\nMasie\\nKenday\\nMadfy\\nGpenny\\nMargarie\\nMargoa\\nGernit\\nBreeder\\nGleres\\nParcelin\\nPiekri\\nGronic\\nFrania\\nJonalde\\nLibfad\\nHoortrane\\nItaz\\nCostoe\\nIAde\\nValore\\nOzi\\nHodnard\\nRete\\nKephsie\\nCadsty\\nPreigonda\\nTresta\\nJossy\\nYaldon\\nDai\\nEmelyn\\nAvicie\\nJoike\\nBaar\\nElwyna\\nKerwin\\nHossie\\nNevonje\\nSesmie\\nDilah\\nPatolene\\nTamri\\nRony\\nFadri\\nSrick\\nTonnet\\nMaxes\\nBency\\nTemmie\\nJofpine\\nDaty\\nJeanne-Lanetho\\nMaggalde\\nAlester\\nSespha\\nAdice\\nJelfaclinna\\nJoaniel\\nPhellay\\nEvmand\\nPamla\\nTolly\\nAdisa\\nJacprille\\nDoriena\\nRozan\\nZobarie\\nMyria\\nCliodhrop\\nTay\\nFedfa\\nZacon\\nWilbell\\nKerelia\\nChaslea\\nCarraAn\\nEdrick\\nAibla\\nGoorde\\nAlfrick\\nMargita\\nVazenmine\\nDonina\\nJolers\\nTalie\\nLanell\\nMantan\\nRocel\\nKimaline\\nOaplet\\nIston\\nKrudita\\nKerlie\\nOlezpad\\nMalmytas\\nErjande\\nIrdy\\nBern\\nAnthionoud\\nPeiley\\nJends\\nDrincine\\nAlbonda\\nGlyna\\nJebe\\nAnna-Brye\\nLulica\\nViltica\\nThoi\\nMadrionn\\nPair\\nCildy\\nFrenky\\nBearota\\nMurton\\nUrsy\\nLinabef\\nStavelle\\nElvore\\nJarfe\\nKilly\\nNicorah\\nRacia\\nSusstee\\nThaylor\\nNarth\\nManio\\nBiphsey\\nDarea\\nToday\\nWeyton\\nClidsy\\nKeli\\nSorgina\\nGillelino\\nSharea\\nShorie\\nPaelia\\nKrent\\nSylisa\\nRebeldanere\\nFlerena\\nJourita\\nMolane\\nFragedie\\nArdena\\nOsrin\\nFlorbine\\nKendie\\nBretgil\\nAnasEre\\nGarrael\\nShaleon\\nCharmotte\\nTeedyen\\nSpo\\nMir\\nHandy\\nJaffey\\nJeyno-h\\nChtar\\nThemathe\\nMargasla\\nEbel\\nAibrebel\\nPie\\nSEnita\\nMelri\\nTodsie\\nKinf\\nGieliat\\nCores\\nStephyn\\nGitlie\\nCobe\\nYapphan\\nCharrika\\nSuphre\\nMadabel\\nAlaur\\nIRomi\\nSusty\\nVilsand\\nSidne\\nBarib\\nBerruce\\nLeana\\nCyunn\\nBell-Blenka\\nNatrine\\nEpidie\\nChardina\\nBreana\\nBiana\\nElegTortie\\nCynni\\nLaan\\nLiaa\\nBestaz\\nLaeva\\nAdala\\nSabieanna\\nLarritk\\nLuc\\nAggell\\nCarbyne\\nHarwil\\nKariella\\nErthell\\nMarionette\\nDenetta\\nMariella\\nShrine\\nCerela\\nKilo\\nIba\\nStivey\\nDobica\\nDoryand\\nLei\\nJuni\\nCleyn\\nSiigbel\\nThabeth\\nMarke\\nData\\nfelti\\nJobdi\\nWort-Alaline\\nHulcia\\nJoeliann\\nMaydie\\nMenico\\nTruden\\nShelgorn\\nRuckie\\nEryson\\nGlovrie\\nCalpy\\nCorlis\\nDarhcia\\nMore\\nTibfany\\nBastar\\nKeldie\\nZacharine\\nMariold\\nCosenta\\nKynstan\\nTorita\\nTewn\\nSyna\\nDulanie\\nBreta\\nVilane\\nLyne\\nThevas\\nBand\\nRane\\nJefdea\\nEbobel\\nMyrale\\nMarmaugd\\nPetrike\\nShafnie\\nKrint\\nherrie\\nMaode\\nJele\\nKeras\\nLainie\\nTarta\\nWyrttia\\nVinica\\nSibfon\\nKaixan\\nMayina\\nWenjer\\nSrenerl\\nShillee\\nOrdina\\nJanim\\nEleth\\nWithia\\nJamolah\\nRaoron\\nGusnetre\\nCarnold\\nKarane\\nLaren\\nRyce\\nGrelia\\nBerdie\\nPeurne\\nHilla\\nIrake\\nHasmer\\niles\\nChemita\\nKoritta\\nHarsherin\\nAdery\\nArbelia\\nGibert\\nGillil\\nLovandie\\nSharnette\\nClarida\\nLinasle\\nGulont\\nScil\\nLaureeun\\nOlilah\\nNeojla\\nJonsela\\nDelca\\nAsta\\nBod\\nKarbeln\\nDandore\\nTrestor\\nRobrie\\nGhord\\nPabille\\nBirie\\nDeannie\\nQuentina\\nTibora\\nTamdy\\nRodue\\nNethy\\nPut\\nRhory\\nDamy\\nAsa\\nGerthe\\nCirrie\\nTomy\\nAshlola\\nGowna\\nOllester\\nBoscy\\nIsherl\\nConnmina\\nDesan\\nCharroor\\nSJele\\nGaspa\\nTrara\\nMattha\\nurena\\nSubben\\nCande\\nCrevina\\nEvinette\\nClastina\\nMarcher\\nNoie\\nKeol\\nBaril\\nTussea\\nMerys\\nAtronic\\nAndroy\\nGaregar\\nSloxi\\nClarrine\\nAnhara\\nLoibie\\nOthel\\nMav\\nElynda\\nZibal\\nAurene\\nBratrich\\nKarcot\\nfensina\\nMaceelle\\nJaquinia\\nPaylam\\nJenal\\nChand\\nMaurwand\\nLoorry\\nFi\\nholda\\nShirle\\nJaines\\nKateleen\\nRoberti\\nJonallo\\nTudnia\\nCrestroze\\nGuli\\nJaho-Shann\\nRomi\\nWorgy\\nCharlense\\nGown\\nMagf\\nAratte\\nKatsy\\nCharina\\nIscu\\nGilvon\\nGierros\\nRearle\\nKermi\\nCatara\\nDandie\\nGlint\\nEnmino\\nMelene\\nCote\\nDilion\\nJelyn\\nSoparia\\nMargalena\\nOdeven\\nShedah\\nCorria\\nRosseon\\nharc\\nShawina\\nMirigna\\nWinber\\nSharo\\nCharloona\\nRingilli\\nRosi\\nMirgodard\\nOthelyn\\nRudin\\nSherise\\nArmin\\nWorhhe\\nStenna\\nBidnalyn\\nRinsell\\nFremaf\\nAnneon\\nGrener\\nChar\\n-ongi\\nAmilean\\nMaresanna\\nLorrena\\nAllaina\\nIva\\nDolia\\nGorbi\\nRoide\\nClemilah\\nDorolco\\nJonean\\nBeanne\\nAgnasa\\nMetka\\nDerella\\nBrycke\\nLelmana\\nAngs\\nSteana\\nLielle\\nZarly\\nBednain\\nNenstar\\nHelice\\nClix\\nNichavie\\nLwit\\nArdolf\\nGabetanora\\nAndrich\\nIsta\\nCarlon\\nJanne\\nAbmet\\nConnole\\nhevell\\nGoake\\nRaren\\nSese\\nCadbett\\nCorriene\\nGpina\\nGabria\\nRodelle\\nJareba\\nStonifer\\nEami\\nGylry\\nMarrit\\nLorelie\\nAsthel\\nJebriques\\nDiecia\\nGiera\\nAlone\\nStaunn\\nRosamina\\nDaran\\nPetlina\\nChristiut\\nBavi\\nLilo\\nBoms\\nEmolee\\nBennice\\nGilfond\\nMylard\\nGully\\nSannel\\nCylley\\nSelwann\\nGeorgana\\nDaurette\\nMargia\\nFanney\\nullan\\nNonne\\nDaaflen\\nCorih\\nTamya\\nHarmid\\nStacrons\\nNalavon\\nNeane\\nDolencake\\nRosedor\\nKhelsus\\nJudgei\\nFloeda\\nLarenne\\nSafdie\\nKinfie\\nBira\\nDonas\\nLaria\\nCaloba\\nMolecia\\nChariean\\nMaraa\\nCloutta\\nIlanc\\nDaley\\nDoorre\\nRenanne\\nArnaLi\\nClirth\\nPeola\\nCacell\\nFrincie\\nErsty\\nRosalann\\nDegina\\nJussaj\\nDann\\nDeriqea\\nOthalina\\nFornin\\nSillia\\nNikei\\nBertone\\nPak\\nGridgie\\nAnnelice\\nLene\\nAndotte\\nReven\\nQuentine\\nAndel\\nJoyde\\nEuderticha\\nNecore\\nAdera\\nAlexie\\nMarvi\\nHarwen\\nRizika\\nKareor\\nHazdor\\nShaley\\nFardi\\nJuffy\\nValela\\nGrev\\nEune\\nFirisadall\\nMylinde\\nSethanna\\nGroudo\\nSkavara\\nSharmetie\\nVaidie\\nShelman\\nAndolie\\nWaneh\\nFlaorh\\nGenyelar\\nDobine\\nWimwerd\\nDeerkta\\nAdardo\\nSii\\nOde\\nVillis\\nAulette\\nIngnad\\nBarpard\\nVynnette\\nBerrold\\nKarleet\\nQuette\\nChira\\nJeonellan\\nDerrey\\nKorosaanne\\nIggan\\nLowolbe\\nVato\\nMarlomare\\nGerford\\nCertin\\nMengulina\\nGavi\\nRannaul\\nNayla\\nLevie\\nLolanne\\nChail\\nJexem\\nLau\\nMelvine\\nNik\\nJoretta\\nReener\\nKingfrid\\nSbaurg\\nAlite\\nHary\\nPipmia\\nRobdeyd\\nAnisa\\nCabrie\\nLivald\\nZobert\\nWrissin\\nOly\\nMalceva\\nGobxine\\nShaut\\nDemeta\\nMihre\\nMacyen\\nMadamisa\\nAlzens\\nTersi\\nKaro\\nShenese\\nClipe\\nHaleise\\nMoine\\nSasDa\\nMaligon\\nLotenra\\nShally\\nTenna\\nAliMgadu\\nXris\\nJolphin\\nFefey\\nPante\\nTin\\nMagilyn\\nGingmet\\nAinna\\nAdandwen\\nAnsee\\nKenin\\nTidi\\nShennina\\nMardo\\nGrigreley\\nJannie\\nAnnela\\nAgverin\\nTary\\nJoil\\nReanna\\nMagcris\\nMarmune\\nUroby\\nKacelyc\\nBerrotthe\\nTaveh\\nBrist\\nSheas\\nDolenie\\nChil\\nJamonis\\nSlella\\nCletree\\nXripe\\nGwennta\\nEdina\\nSolenda\\nCachorina\\nZacci\\nGrencis\\nAvella\\nGilbart\\nBreddos\\nSherleen\\nGinolie\\nEmene\\nMynilla\\nMilla\\nJanesta\\nRosis\\nBitte\\nEbena\\nPetrrick\\nTowor\\nBeranna\\nJeanda\\nTybot\\nMaggel\\nNange\\nSdilli\\nSenga\\nOthie\\nHaylie\\nJoanneth\\nHamlyn\\nCalmy\\nTimomee\\nFretta\\nOrilda\\nMann\\nChairy\\nAnidata\\nBresta\\nDorna\\nNedse\\nWiliue\\nGanetta\\nMiggeette\\nKevbya\\nOrten\\nSteff\\nMengy\\nPaorette\\nMeggorie\\nMaivia\\nEllana\\nSyllle\\nRoyna\\nRoone\\nGathalay\\nAmelo\\nCarlab\\nStargeo\\nRadrey\\nDarbett\\nMyrionn\\nSullia\\nGullera\\nPauberta\\nAngberie\\nHatl\\nBricheus\\nConii\\nAr\\nOlysa\\nAlsen\\nGambra\\nJaman\\nAllya\\nShloan\\nIsbybel\\nJenabie\\nChrilina\\nPhelu\\nFrarcie\\nCordette\\nSaugine\\nHamfie\\nTheice\\nMirdie\\nSkaurk\\nThorkord\\nGrich\\nSudriee\\nAlles\\nTobborner\\nCorenna\\nRogena\\nAnal\\nWaid\\nGascell\\nJonnana\\nEimiva\\nRomane\\nJincie\\nWalmandra\\nJeseann\\nAlfi\\nZeretty\\nStegine\\nLimon\\nSuania\\nHadlie\\nClesas\\nPatlyn\\nGlerella\\nCast\\nDalmad\\nCossi\\nRus\\nPhe\\nRorett\\nCenbel\\nMercett\\nSpare\\nZean\\nGusteer\\nGlandie\\nIegone\\nVorang\\nDihla\\nGnylor\\nDalann\\nAponelle\\nRobbett\\nMaise\\nMagmet\\nDasian\\nCharrotte\\nZobly\\nDopren\\nCiar\\nCrank\\nKont\\nSougen\\nCarmey\\nNortharene\\nWalvan\\nSbewin\\nWenad\\nArgex\\nTobwey\\nLorina\\nZelvey\\nDothie\\nMurchalla\\nLoudelee\\nMadget\\nJurline\\nAlee\\nSiszy\\nKerina\\nLiyla\\nDynald\\nLarel\\nCl\\nrolen\\nLaldenn\\nTheneph\\nBar\\nVergi\\nGrendelle\\nInvyn\\nHeldie\\nFarrell\\nGirlie\\nNais\\nDaDonda\\nKitky\\nSuengi\\nKorbil\\nShacia\\nJussie\\nMorc\\nHeler\\nCaline\\nZow\\nAdrie\\nFlimebir\\nBleeta\\nVindie\\nJonina\\nLaith\\nToine\\nVikley\\nGerena\\nBobgott\\nPmescor\\nPrick\\nMeriu\\nDevrie\\nJaria\\nCaroll\\nRiffut\\nBrikk\\nChamelia\\nYile\\nFregcie\\nWarn\\nBethoria\\nCaric\\nJelah\\nJarilla\\nWisdy\\nKasser\\nTrissa\\nRkemari\\nHonny\\nTil\\nKanria\\nGerr\\nMargoy\\nGredy\\nKlestase\\nChardy\\nNania\\nKiobel\\nKelmi\\nMeramele\\nJonna\\nChristab\\nSyerle\\nMelcie\\nSharly\\nBrriette\\nAlaon\\nMarli\\nHargka\\nHenletta\\nWallin\\nSorie\\nDennora\\nTareanna\\nDennan\\nJontte\\nKanina\\nEvrik\\nPemlie\\nGlotiy\\nSeug\\nHenrilla\\nCharmi\\nRuise\\nMana\\nBastia\\nDuvica\\nJeego\\nRobgy\\nTaydi\\nCaresne\\nVizette\\nDillin\\nTodi\\nJianelle\\nMellis\\nClorry\\nGret\\nMaganer\\nLannetta\\nSusten\\nQuinten\\nMelianna\\nParbie\\nPatrielle\\nChabford\\nGeretta\\nRusten\\nDaus\\nJonite\\nFardeth\\nJoxyenne\\nResmof\\nGretrie\\nTarli\\nuster\\nTaresce\\nLisa-Rone\\nGisely\\nRucrisa\\nLiona\\nUdri\\nNateica\\nAlacia\\nLoudney\\nSave\\nWolfuna\\nRuigurd\\nArabio\\nHillaud\\nRugce\\nGulfie\\nLasol\\nCarnon\\nAngeilla\\nMauyna\\nAcylie\\nSporella\\nIlex\\nAllessa\\nDienne\\nChee\\nFass\\nGiolfonda\\nDaynell\\nAlinelyj\\nHasoe\\nRamel\\nReda\\nShoffy\\nMarcar\\nTions\\nAnsher\\nGeurggi\\nAnnala\\nTamyt\\nStarhy\\nKyndie\\nNenwie\\nSterley\\nEllas\\nArli\\nRabalda\\nMarteul\\nHalverr\\nBabal\\nLillene\\nClancos\\nAmarie\\nMait\\nJesionn\\nMariertt\\nKentad\\nGrenpa\\nTreyne\\nMicoem\\nGachea\\nChristoe\\nImander\\nDeeo\\nTickie\\nElynia\\nEnginelle\\nCadilean\\nAilo\\nSherla\\nDuanne\\nQuitta\\nFritcha\\nReade\\nWhintiu\\nNeylel\\nValaen\\nRosna\\nPex-Marton\\nAbath\\nPintie\\nRonzald\\nGucellina\\nStacqSy\\nBernarka\\nLiklay\\nAugra\\nIscmer\\nJees\\nTebia\\nQuebed\\nRuget\\nAnille\\nLynetta\\nZinole\\nTeina\\nPatry\\nDoree\\nGorotte\\nGlin\\nMestiell\\nJonesta\\nGilleven\\nUrborne\\nSwindotha\\nGorden\\nDynather\\nHarky\\nMonis\\nBrasa\\nCamoian\\nSconnel\\nSusa\\nCylina\\nThraid\\nAugrrie\\nZa\\nCorettea\\nKormen\\nHerthina\\nThonso\\nHavina\\nCarlein\\nButtanise\\nEmnabelia\\nDelver\\nMyril\\nCatphina\\nCharlite\\nBlennett\\nDuls\\nRosamynd\\nSamemina\\nTasee\\nLiuvine\\nLindol\\nAurelene\\nCofbertiean\\nBabfielle\\nVelina\\nRung\\nSelwand\\nMiri\\nJogymard\\nTibelta\\nAdianne\\nChefrethe\\nOssil\\nBerlie\\nZath\\nSustinh\\nBusty\\nGuntta\\nUr\\nLoati\\nSharsy\\nAngavelle\\nMaytie\\nrorik\\nEare\\nBeena\\nHannay\\nCourtta\\nLuricla\\nYonnie\\nRoa\\nDelgug\\nActhalina\\nOva\\nRimie\\nDulaan\\nElsand\\nRijey\\nHemmy\\nPallyann\\nSiline\\nJhannie\\nCona\\nGarre\\nJohdna\\nJura\\nVilk\\nAnacole\\nKesci\\nGeifley\\nElney\\nJul\\nDolian\\nLaylyni\\nKir\\nWaice\\nDilks\\nHersed\\nCaddy\\nAule\\nBolbir\\nDiwet\\nJenianne\\nLiszald\\nSobina\\nCaballeon\\nJoriquedelle\\nFren\\nMalex\\nMarnajamen\\nCatena\\nFrence\\nTorsanna\\nZiquila\\nColon\\nClaysia\\nGarby\\nKiach\\nFercis\\nBradles\\nHaloe\\nNars\\nThebath\\nNonslie\\nBriff\\nColamora\\nRuigos\\nSizie\\nMevita\\nAmael\\nFabdrie\\nTebin\\nMartioelle\\nElsvert\\nBruckoa\\nQuinti\\nSumella\\nDordie\\nAndelta\\nArnall\\nCecina\\nPealor\\nMariod\\nKendris\\nDali\\nHaaltta\\nAdil\\nWildetr\\nJannella\\nCarbe\\nOlyce\\nAgandra\\nJean-Norian\\nConald\\nunique 6098 7177 0.84965863174\\n'"
            ]
          },
          "metadata": {
            "tags": []
          },
          "execution_count": 4
        }
      ]
    },
    {
      "cell_type": "code",
      "metadata": {
        "colab": {
          "base_uri": "https://localhost:8080/"
        },
        "id": "MEydR2c2iqu1",
        "outputId": "a4289e98-aa77-45d8-f98e-37abcc86c883"
      },
      "source": [
        "print(raw_txt[:100])"
      ],
      "execution_count": null,
      "outputs": [
        {
          "output_type": "stream",
          "text": [
            "jka\n",
            "Dillie\n",
            "Ryine\n",
            "Cherita\n",
            "Dasher\n",
            "Chailine\n",
            "Frennide\n",
            "Gremaley\n",
            "Patj\n",
            "Handi\n",
            "Gully\n",
            "Wennie\n",
            "Ferentra\n",
            "Jixandli\n"
          ],
          "name": "stdout"
        }
      ]
    },
    {
      "cell_type": "code",
      "metadata": {
        "colab": {
          "base_uri": "https://localhost:8080/"
        },
        "id": "ElYg_8URiyNE",
        "outputId": "e9ce469c-ffc0-472c-d019-b9385823e781"
      },
      "source": [
        "set(raw_txt)"
      ],
      "execution_count": null,
      "outputs": [
        {
          "output_type": "execute_result",
          "data": {
            "text/plain": [
              "{'\\n',\n",
              " ' ',\n",
              " '-',\n",
              " '.',\n",
              " '0',\n",
              " '1',\n",
              " '2',\n",
              " '3',\n",
              " '4',\n",
              " '5',\n",
              " '6',\n",
              " '7',\n",
              " '8',\n",
              " '9',\n",
              " ':',\n",
              " 'A',\n",
              " 'B',\n",
              " 'C',\n",
              " 'D',\n",
              " 'E',\n",
              " 'F',\n",
              " 'G',\n",
              " 'H',\n",
              " 'I',\n",
              " 'J',\n",
              " 'K',\n",
              " 'L',\n",
              " 'M',\n",
              " 'N',\n",
              " 'O',\n",
              " 'P',\n",
              " 'Q',\n",
              " 'R',\n",
              " 'S',\n",
              " 'T',\n",
              " 'U',\n",
              " 'V',\n",
              " 'W',\n",
              " 'X',\n",
              " 'Y',\n",
              " 'Z',\n",
              " 'a',\n",
              " 'b',\n",
              " 'c',\n",
              " 'd',\n",
              " 'e',\n",
              " 'f',\n",
              " 'g',\n",
              " 'h',\n",
              " 'i',\n",
              " 'j',\n",
              " 'k',\n",
              " 'l',\n",
              " 'm',\n",
              " 'n',\n",
              " 'o',\n",
              " 'p',\n",
              " 'q',\n",
              " 'r',\n",
              " 's',\n",
              " 't',\n",
              " 'u',\n",
              " 'v',\n",
              " 'w',\n",
              " 'x',\n",
              " 'y',\n",
              " 'z'}"
            ]
          },
          "metadata": {
            "tags": []
          },
          "execution_count": 6
        }
      ]
    },
    {
      "cell_type": "code",
      "metadata": {
        "colab": {
          "base_uri": "https://localhost:8080/"
        },
        "id": "uzWjj7wIjSxz",
        "outputId": "1cdc3e4a-67b2-463c-f4be-f3c7c20bf799"
      },
      "source": [
        "len(set(raw_txt))"
      ],
      "execution_count": null,
      "outputs": [
        {
          "output_type": "execute_result",
          "data": {
            "text/plain": [
              "67"
            ]
          },
          "metadata": {
            "tags": []
          },
          "execution_count": 7
        }
      ]
    },
    {
      "cell_type": "code",
      "metadata": {
        "colab": {
          "base_uri": "https://localhost:8080/"
        },
        "id": "jcs8U6MbjxNT",
        "outputId": "e4066812-9fbe-4fe6-8b71-90659992d4f3"
      },
      "source": [
        "raw_txt = raw_txt.replace('\\n', ' ')\r\n",
        "set(raw_txt)"
      ],
      "execution_count": null,
      "outputs": [
        {
          "output_type": "execute_result",
          "data": {
            "text/plain": [
              "{' ',\n",
              " '-',\n",
              " '.',\n",
              " '0',\n",
              " '1',\n",
              " '2',\n",
              " '3',\n",
              " '4',\n",
              " '5',\n",
              " '6',\n",
              " '7',\n",
              " '8',\n",
              " '9',\n",
              " ':',\n",
              " 'A',\n",
              " 'B',\n",
              " 'C',\n",
              " 'D',\n",
              " 'E',\n",
              " 'F',\n",
              " 'G',\n",
              " 'H',\n",
              " 'I',\n",
              " 'J',\n",
              " 'K',\n",
              " 'L',\n",
              " 'M',\n",
              " 'N',\n",
              " 'O',\n",
              " 'P',\n",
              " 'Q',\n",
              " 'R',\n",
              " 'S',\n",
              " 'T',\n",
              " 'U',\n",
              " 'V',\n",
              " 'W',\n",
              " 'X',\n",
              " 'Y',\n",
              " 'Z',\n",
              " 'a',\n",
              " 'b',\n",
              " 'c',\n",
              " 'd',\n",
              " 'e',\n",
              " 'f',\n",
              " 'g',\n",
              " 'h',\n",
              " 'i',\n",
              " 'j',\n",
              " 'k',\n",
              " 'l',\n",
              " 'm',\n",
              " 'n',\n",
              " 'o',\n",
              " 'p',\n",
              " 'q',\n",
              " 'r',\n",
              " 's',\n",
              " 't',\n",
              " 'u',\n",
              " 'v',\n",
              " 'w',\n",
              " 'x',\n",
              " 'y',\n",
              " 'z'}"
            ]
          },
          "metadata": {
            "tags": []
          },
          "execution_count": 8
        }
      ]
    },
    {
      "cell_type": "code",
      "metadata": {
        "colab": {
          "base_uri": "https://localhost:8080/"
        },
        "id": "xmVabmMMkS_j",
        "outputId": "722f2de7-1d01-41e6-e123-af29522c6fb8"
      },
      "source": [
        "len(set(raw_txt))"
      ],
      "execution_count": null,
      "outputs": [
        {
          "output_type": "execute_result",
          "data": {
            "text/plain": [
              "66"
            ]
          },
          "metadata": {
            "tags": []
          },
          "execution_count": 9
        }
      ]
    },
    {
      "cell_type": "code",
      "metadata": {
        "colab": {
          "base_uri": "https://localhost:8080/"
        },
        "id": "reJZ7FikkkER",
        "outputId": "512f60ac-05a0-4812-972c-2b23c3a6b5b4"
      },
      "source": [
        "raw_txt = re.sub('[-.0-9:]', '', raw_txt)\r\n",
        "len(set(raw_txt))"
      ],
      "execution_count": null,
      "outputs": [
        {
          "output_type": "execute_result",
          "data": {
            "text/plain": [
              "53"
            ]
          },
          "metadata": {
            "tags": []
          },
          "execution_count": 10
        }
      ]
    },
    {
      "cell_type": "code",
      "metadata": {
        "colab": {
          "base_uri": "https://localhost:8080/"
        },
        "id": "rLjzu-OamVeu",
        "outputId": "0c8af093-d0f9-4e82-80cb-ac6ed2b5dfc1"
      },
      "source": [
        "raw_txt1 = raw_txt.lower()\r\n",
        "set(raw_txt1)"
      ],
      "execution_count": null,
      "outputs": [
        {
          "output_type": "execute_result",
          "data": {
            "text/plain": [
              "{' ',\n",
              " 'a',\n",
              " 'b',\n",
              " 'c',\n",
              " 'd',\n",
              " 'e',\n",
              " 'f',\n",
              " 'g',\n",
              " 'h',\n",
              " 'i',\n",
              " 'j',\n",
              " 'k',\n",
              " 'l',\n",
              " 'm',\n",
              " 'n',\n",
              " 'o',\n",
              " 'p',\n",
              " 'q',\n",
              " 'r',\n",
              " 's',\n",
              " 't',\n",
              " 'u',\n",
              " 'v',\n",
              " 'w',\n",
              " 'x',\n",
              " 'y',\n",
              " 'z'}"
            ]
          },
          "metadata": {
            "tags": []
          },
          "execution_count": 11
        }
      ]
    },
    {
      "cell_type": "code",
      "metadata": {
        "colab": {
          "base_uri": "https://localhost:8080/"
        },
        "id": "Kjeh-dmfpNfV",
        "outputId": "c9e6c03a-3ae9-4306-cab3-ec9eb9ccdbb3"
      },
      "source": [
        "len1 = len(set(raw_txt1))\r\n",
        "print(len1)"
      ],
      "execution_count": null,
      "outputs": [
        {
          "output_type": "stream",
          "text": [
            "27\n"
          ],
          "name": "stdout"
        }
      ]
    },
    {
      "cell_type": "code",
      "metadata": {
        "colab": {
          "base_uri": "https://localhost:8080/"
        },
        "id": "KQagVhnIpiw6",
        "outputId": "b0a7119e-806a-4cb4-f3f7-9d423ffc2633"
      },
      "source": [
        "len1"
      ],
      "execution_count": null,
      "outputs": [
        {
          "output_type": "execute_result",
          "data": {
            "text/plain": [
              "27"
            ]
          },
          "metadata": {
            "tags": []
          },
          "execution_count": 13
        }
      ]
    },
    {
      "cell_type": "code",
      "metadata": {
        "id": "dtYGRHETppVK"
      },
      "source": [
        "chars = sorted(list(set(raw_txt1)))"
      ],
      "execution_count": null,
      "outputs": []
    },
    {
      "cell_type": "code",
      "metadata": {
        "colab": {
          "base_uri": "https://localhost:8080/"
        },
        "id": "LwaCz1fcqWcb",
        "outputId": "54366b93-a621-4594-f123-41b103623e01"
      },
      "source": [
        "chars"
      ],
      "execution_count": null,
      "outputs": [
        {
          "output_type": "execute_result",
          "data": {
            "text/plain": [
              "[' ',\n",
              " 'a',\n",
              " 'b',\n",
              " 'c',\n",
              " 'd',\n",
              " 'e',\n",
              " 'f',\n",
              " 'g',\n",
              " 'h',\n",
              " 'i',\n",
              " 'j',\n",
              " 'k',\n",
              " 'l',\n",
              " 'm',\n",
              " 'n',\n",
              " 'o',\n",
              " 'p',\n",
              " 'q',\n",
              " 'r',\n",
              " 's',\n",
              " 't',\n",
              " 'u',\n",
              " 'v',\n",
              " 'w',\n",
              " 'x',\n",
              " 'y',\n",
              " 'z']"
            ]
          },
          "metadata": {
            "tags": []
          },
          "execution_count": 15
        }
      ]
    },
    {
      "cell_type": "code",
      "metadata": {
        "id": "bAzVs8B7qaYY"
      },
      "source": [
        "arr = np.arange(0, len1)\r\n",
        "\r\n",
        "char_to_ix = {}\r\n",
        "ix_to_char = {}\r\n",
        "\r\n",
        "for i in range(len1):\r\n",
        "  char_to_ix[chars[i]] = arr[i]\r\n",
        "  ix_to_char[arr[i]] = chars[i]"
      ],
      "execution_count": null,
      "outputs": []
    },
    {
      "cell_type": "code",
      "metadata": {
        "colab": {
          "base_uri": "https://localhost:8080/"
        },
        "id": "e0IfS-UzrpAW",
        "outputId": "ac5a49ab-9b17-47c3-a2ce-b075420d91e1"
      },
      "source": [
        "char_to_ix"
      ],
      "execution_count": null,
      "outputs": [
        {
          "output_type": "execute_result",
          "data": {
            "text/plain": [
              "{' ': 0,\n",
              " 'a': 1,\n",
              " 'b': 2,\n",
              " 'c': 3,\n",
              " 'd': 4,\n",
              " 'e': 5,\n",
              " 'f': 6,\n",
              " 'g': 7,\n",
              " 'h': 8,\n",
              " 'i': 9,\n",
              " 'j': 10,\n",
              " 'k': 11,\n",
              " 'l': 12,\n",
              " 'm': 13,\n",
              " 'n': 14,\n",
              " 'o': 15,\n",
              " 'p': 16,\n",
              " 'q': 17,\n",
              " 'r': 18,\n",
              " 's': 19,\n",
              " 't': 20,\n",
              " 'u': 21,\n",
              " 'v': 22,\n",
              " 'w': 23,\n",
              " 'x': 24,\n",
              " 'y': 25,\n",
              " 'z': 26}"
            ]
          },
          "metadata": {
            "tags": []
          },
          "execution_count": 17
        }
      ]
    },
    {
      "cell_type": "code",
      "metadata": {
        "colab": {
          "base_uri": "https://localhost:8080/"
        },
        "id": "2Jjn9taDsZRl",
        "outputId": "133f185a-3901-4660-eff1-bdbee905391b"
      },
      "source": [
        "ix_to_char"
      ],
      "execution_count": null,
      "outputs": [
        {
          "output_type": "execute_result",
          "data": {
            "text/plain": [
              "{0: ' ',\n",
              " 1: 'a',\n",
              " 2: 'b',\n",
              " 3: 'c',\n",
              " 4: 'd',\n",
              " 5: 'e',\n",
              " 6: 'f',\n",
              " 7: 'g',\n",
              " 8: 'h',\n",
              " 9: 'i',\n",
              " 10: 'j',\n",
              " 11: 'k',\n",
              " 12: 'l',\n",
              " 13: 'm',\n",
              " 14: 'n',\n",
              " 15: 'o',\n",
              " 16: 'p',\n",
              " 17: 'q',\n",
              " 18: 'r',\n",
              " 19: 's',\n",
              " 20: 't',\n",
              " 21: 'u',\n",
              " 22: 'v',\n",
              " 23: 'w',\n",
              " 24: 'x',\n",
              " 25: 'y',\n",
              " 26: 'z'}"
            ]
          },
          "metadata": {
            "tags": []
          },
          "execution_count": 18
        }
      ]
    },
    {
      "cell_type": "code",
      "metadata": {
        "colab": {
          "base_uri": "https://localhost:8080/"
        },
        "id": "D25hILbMswCF",
        "outputId": "0c5f281e-3ccc-49a2-bdfd-d1731456c2fc"
      },
      "source": [
        "print(\"Total length of file : {}\".format(len(raw_txt1)))"
      ],
      "execution_count": null,
      "outputs": [
        {
          "output_type": "stream",
          "text": [
            "Total length of file : 52043\n"
          ],
          "name": "stdout"
        }
      ]
    },
    {
      "cell_type": "code",
      "metadata": {
        "colab": {
          "base_uri": "https://localhost:8080/"
        },
        "id": "dm51r571tsXz",
        "outputId": "db84fd2e-78a3-42da-9685-582e848b95f5"
      },
      "source": [
        "maxlen = 5\r\n",
        "X_data = []\r\n",
        "y_data = []\r\n",
        "\r\n",
        "for i in range(0, len(raw_txt1)-maxlen, 1):\r\n",
        "  in_seq = raw_txt1[i: i + maxlen]\r\n",
        "  out_seq = raw_txt1[i + maxlen]\r\n",
        "\r\n",
        "  X_data.append([char_to_ix[char] for char in in_seq])\r\n",
        "  y_data.append([char_to_ix[out_seq]])\r\n",
        "\r\n",
        "nb_chars = len(X_data)\r\n",
        "print('Text corpus: {}'.format(nb_chars))\r\n",
        "print('Sequences # ', int(len(X_data) / maxlen))"
      ],
      "execution_count": null,
      "outputs": [
        {
          "output_type": "stream",
          "text": [
            "Text corpus: 52038\n",
            "Sequences #  10407\n"
          ],
          "name": "stdout"
        }
      ]
    },
    {
      "cell_type": "code",
      "metadata": {
        "colab": {
          "base_uri": "https://localhost:8080/"
        },
        "id": "S9YweQp36z3D",
        "outputId": "c018e9f9-813f-47e0-fac0-39c81edf2b38"
      },
      "source": [
        "X_data[1][:]"
      ],
      "execution_count": null,
      "outputs": [
        {
          "output_type": "execute_result",
          "data": {
            "text/plain": [
              "[11, 1, 0, 4, 9]"
            ]
          },
          "metadata": {
            "tags": []
          },
          "execution_count": 21
        }
      ]
    },
    {
      "cell_type": "code",
      "metadata": {
        "colab": {
          "base_uri": "https://localhost:8080/"
        },
        "id": "ZY9_Ozsd8k9_",
        "outputId": "8c0bfd45-ee60-4be0-eaca-acfe5d583c33"
      },
      "source": [
        "y_data[:5]"
      ],
      "execution_count": null,
      "outputs": [
        {
          "output_type": "execute_result",
          "data": {
            "text/plain": [
              "[[9], [12], [12], [9], [5]]"
            ]
          },
          "metadata": {
            "tags": []
          },
          "execution_count": 22
        }
      ]
    },
    {
      "cell_type": "code",
      "metadata": {
        "id": "HYqmVU6s8yEb"
      },
      "source": [
        "X = np.reshape(X_data, (nb_chars, maxlen, 1))\r\n",
        "X = X/float(len(chars))"
      ],
      "execution_count": null,
      "outputs": []
    },
    {
      "cell_type": "code",
      "metadata": {
        "colab": {
          "base_uri": "https://localhost:8080/"
        },
        "id": "xr8DDH-nIEyp",
        "outputId": "d87a7833-4bec-4b6d-90f8-8358c32c38d2"
      },
      "source": [
        "y = tf.keras.utils.to_categorical(y_data)\r\n",
        "y[:1]"
      ],
      "execution_count": null,
      "outputs": [
        {
          "output_type": "execute_result",
          "data": {
            "text/plain": [
              "array([[0., 0., 0., 0., 0., 0., 0., 0., 0., 1., 0., 0., 0., 0., 0., 0.,\n",
              "        0., 0., 0., 0., 0., 0., 0., 0., 0., 0., 0.]], dtype=float32)"
            ]
          },
          "metadata": {
            "tags": []
          },
          "execution_count": 24
        }
      ]
    },
    {
      "cell_type": "code",
      "metadata": {
        "colab": {
          "base_uri": "https://localhost:8080/"
        },
        "id": "qeoqulN8InMm",
        "outputId": "1b405d7b-f843-4753-eb6e-7d1db50b5f5f"
      },
      "source": [
        "X.shape"
      ],
      "execution_count": null,
      "outputs": [
        {
          "output_type": "execute_result",
          "data": {
            "text/plain": [
              "(52038, 5, 1)"
            ]
          },
          "metadata": {
            "tags": []
          },
          "execution_count": 25
        }
      ]
    },
    {
      "cell_type": "code",
      "metadata": {
        "colab": {
          "base_uri": "https://localhost:8080/"
        },
        "id": "aJcgpeK8I82K",
        "outputId": "db88d88c-5a4e-4c50-d3d2-4f5904af2440"
      },
      "source": [
        "y.shape"
      ],
      "execution_count": null,
      "outputs": [
        {
          "output_type": "execute_result",
          "data": {
            "text/plain": [
              "(52038, 27)"
            ]
          },
          "metadata": {
            "tags": []
          },
          "execution_count": 26
        }
      ]
    },
    {
      "cell_type": "code",
      "metadata": {
        "id": "crcMwXyzI_81"
      },
      "source": [
        "model = tf.keras.Sequential([\r\n",
        "                             \r\n",
        "                tf.keras.layers.LSTM(256, input_shape=(maxlen, 1), return_sequences= True),\r\n",
        "                tf.keras.layers.LSTM(256, return_sequences=True),\r\n",
        "                tf.keras.layers.Dropout(0.2),\r\n",
        "                tf.keras.layers.LSTM(64),\r\n",
        "                tf.keras.layers.Dropout(0.2),\r\n",
        "                tf.keras.layers.Dense(len(y[1]), activation='softmax')\r\n",
        "])"
      ],
      "execution_count": null,
      "outputs": []
    },
    {
      "cell_type": "code",
      "metadata": {
        "colab": {
          "base_uri": "https://localhost:8080/"
        },
        "id": "0NoGjvYUJybu",
        "outputId": "35463ddf-933c-48f5-b834-c40dedd1752c"
      },
      "source": [
        "model.summary()"
      ],
      "execution_count": null,
      "outputs": [
        {
          "output_type": "stream",
          "text": [
            "Model: \"sequential\"\n",
            "_________________________________________________________________\n",
            "Layer (type)                 Output Shape              Param #   \n",
            "=================================================================\n",
            "lstm (LSTM)                  (None, 5, 256)            264192    \n",
            "_________________________________________________________________\n",
            "lstm_1 (LSTM)                (None, 5, 256)            525312    \n",
            "_________________________________________________________________\n",
            "dropout (Dropout)            (None, 5, 256)            0         \n",
            "_________________________________________________________________\n",
            "lstm_2 (LSTM)                (None, 64)                82176     \n",
            "_________________________________________________________________\n",
            "dropout_1 (Dropout)          (None, 64)                0         \n",
            "_________________________________________________________________\n",
            "dense (Dense)                (None, 27)                1755      \n",
            "=================================================================\n",
            "Total params: 873,435\n",
            "Trainable params: 873,435\n",
            "Non-trainable params: 0\n",
            "_________________________________________________________________\n"
          ],
          "name": "stdout"
        }
      ]
    },
    {
      "cell_type": "code",
      "metadata": {
        "id": "i4fDHWJAJ7oD"
      },
      "source": [
        "model.compile(loss='categorical_crossentropy', optimizer='adam')"
      ],
      "execution_count": null,
      "outputs": []
    },
    {
      "cell_type": "code",
      "metadata": {
        "id": "SfhMXV0wKE4k"
      },
      "source": [
        "filepath = \"model_weights_babynames.hdf5\"\r\n",
        "checkpoint = ModelCheckpoint(filepath, monitor='loss', verbose=1, save_best_only=True, mode = 'min')\r\n",
        "model_callbacks = [checkpoint]"
      ],
      "execution_count": null,
      "outputs": []
    },
    {
      "cell_type": "code",
      "metadata": {
        "colab": {
          "base_uri": "https://localhost:8080/",
          "height": 1000
        },
        "id": "0_YbGuxMKlpz",
        "outputId": "12bf6384-26a2-420f-a45f-f2da6ae4d39d"
      },
      "source": [
        "model.fit(X, y, epochs=300, batch_size=32, callbacks=model_callbacks)"
      ],
      "execution_count": null,
      "outputs": [
        {
          "output_type": "stream",
          "text": [
            "Epoch 1/300\n",
            "1627/1627 [==============================] - 87s 51ms/step - loss: 2.8650\n",
            "\n",
            "Epoch 00001: loss improved from inf to 2.78804, saving model to model_weights_babynames.hdf5\n",
            "Epoch 2/300\n",
            "1627/1627 [==============================] - 82s 51ms/step - loss: 2.6048\n",
            "\n",
            "Epoch 00002: loss improved from 2.78804 to 2.57581, saving model to model_weights_babynames.hdf5\n",
            "Epoch 3/300\n",
            "1627/1627 [==============================] - 82s 50ms/step - loss: 2.5206\n",
            "\n",
            "Epoch 00003: loss improved from 2.57581 to 2.51347, saving model to model_weights_babynames.hdf5\n",
            "Epoch 4/300\n",
            "1627/1627 [==============================] - 83s 51ms/step - loss: 2.4803\n",
            "\n",
            "Epoch 00004: loss improved from 2.51347 to 2.47417, saving model to model_weights_babynames.hdf5\n",
            "Epoch 5/300\n",
            "1627/1627 [==============================] - 83s 51ms/step - loss: 2.4564\n",
            "\n",
            "Epoch 00005: loss improved from 2.47417 to 2.44853, saving model to model_weights_babynames.hdf5\n",
            "Epoch 6/300\n",
            "1627/1627 [==============================] - 83s 51ms/step - loss: 2.4246\n",
            "\n",
            "Epoch 00006: loss improved from 2.44853 to 2.42619, saving model to model_weights_babynames.hdf5\n",
            "Epoch 7/300\n",
            "1627/1627 [==============================] - 85s 52ms/step - loss: 2.4047\n",
            "\n",
            "Epoch 00007: loss improved from 2.42619 to 2.40532, saving model to model_weights_babynames.hdf5\n",
            "Epoch 8/300\n",
            "1627/1627 [==============================] - 83s 51ms/step - loss: 2.3826\n",
            "\n",
            "Epoch 00008: loss improved from 2.40532 to 2.38712, saving model to model_weights_babynames.hdf5\n",
            "Epoch 9/300\n",
            "1627/1627 [==============================] - 85s 52ms/step - loss: 2.3735\n",
            "\n",
            "Epoch 00009: loss improved from 2.38712 to 2.37317, saving model to model_weights_babynames.hdf5\n",
            "Epoch 10/300\n",
            "1627/1627 [==============================] - 88s 54ms/step - loss: 2.3504\n",
            "\n",
            "Epoch 00010: loss improved from 2.37317 to 2.35647, saving model to model_weights_babynames.hdf5\n",
            "Epoch 11/300\n",
            "1627/1627 [==============================] - 88s 54ms/step - loss: 2.3370\n",
            "\n",
            "Epoch 00011: loss improved from 2.35647 to 2.34192, saving model to model_weights_babynames.hdf5\n",
            "Epoch 12/300\n",
            "1627/1627 [==============================] - 93s 57ms/step - loss: 2.3229\n",
            "\n",
            "Epoch 00012: loss improved from 2.34192 to 2.32625, saving model to model_weights_babynames.hdf5\n",
            "Epoch 13/300\n",
            "1627/1627 [==============================] - 93s 57ms/step - loss: 2.3068\n",
            "\n",
            "Epoch 00013: loss improved from 2.32625 to 2.31395, saving model to model_weights_babynames.hdf5\n",
            "Epoch 14/300\n",
            "1627/1627 [==============================] - 89s 55ms/step - loss: 2.2924\n",
            "\n",
            "Epoch 00014: loss improved from 2.31395 to 2.30221, saving model to model_weights_babynames.hdf5\n",
            "Epoch 15/300\n",
            "1627/1627 [==============================] - 87s 54ms/step - loss: 2.2810\n",
            "\n",
            "Epoch 00015: loss improved from 2.30221 to 2.28981, saving model to model_weights_babynames.hdf5\n",
            "Epoch 16/300\n",
            "1627/1627 [==============================] - 85s 52ms/step - loss: 2.2783\n",
            "\n",
            "Epoch 00016: loss improved from 2.28981 to 2.27602, saving model to model_weights_babynames.hdf5\n",
            "Epoch 17/300\n",
            "1627/1627 [==============================] - 87s 54ms/step - loss: 2.2561\n",
            "\n",
            "Epoch 00017: loss improved from 2.27602 to 2.26651, saving model to model_weights_babynames.hdf5\n",
            "Epoch 18/300\n",
            "1627/1627 [==============================] - 91s 56ms/step - loss: 2.2497\n",
            "\n",
            "Epoch 00018: loss improved from 2.26651 to 2.25227, saving model to model_weights_babynames.hdf5\n",
            "Epoch 19/300\n",
            "1627/1627 [==============================] - 93s 57ms/step - loss: 2.2495\n",
            "\n",
            "Epoch 00019: loss improved from 2.25227 to 2.24465, saving model to model_weights_babynames.hdf5\n",
            "Epoch 20/300\n",
            "1627/1627 [==============================] - 92s 57ms/step - loss: 2.2121\n",
            "\n",
            "Epoch 00020: loss improved from 2.24465 to 2.23174, saving model to model_weights_babynames.hdf5\n",
            "Epoch 21/300\n",
            "1627/1627 [==============================] - 92s 56ms/step - loss: 2.2120\n",
            "\n",
            "Epoch 00021: loss improved from 2.23174 to 2.21939, saving model to model_weights_babynames.hdf5\n",
            "Epoch 22/300\n",
            "1627/1627 [==============================] - 92s 57ms/step - loss: 2.2007\n",
            "\n",
            "Epoch 00022: loss improved from 2.21939 to 2.20966, saving model to model_weights_babynames.hdf5\n",
            "Epoch 23/300\n",
            "1627/1627 [==============================] - 92s 56ms/step - loss: 2.1904\n",
            "\n",
            "Epoch 00023: loss improved from 2.20966 to 2.19966, saving model to model_weights_babynames.hdf5\n",
            "Epoch 24/300\n",
            "1627/1627 [==============================] - 93s 57ms/step - loss: 2.1826\n",
            "\n",
            "Epoch 00024: loss improved from 2.19966 to 2.19263, saving model to model_weights_babynames.hdf5\n",
            "Epoch 25/300\n",
            "1627/1627 [==============================] - 94s 58ms/step - loss: 2.1718\n",
            "\n",
            "Epoch 00025: loss improved from 2.19263 to 2.17918, saving model to model_weights_babynames.hdf5\n",
            "Epoch 26/300\n",
            "1627/1627 [==============================] - 95s 58ms/step - loss: 2.1612\n",
            "\n",
            "Epoch 00026: loss improved from 2.17918 to 2.17035, saving model to model_weights_babynames.hdf5\n",
            "Epoch 27/300\n",
            "1627/1627 [==============================] - 95s 58ms/step - loss: 2.1566\n",
            "\n",
            "Epoch 00027: loss improved from 2.17035 to 2.16249, saving model to model_weights_babynames.hdf5\n",
            "Epoch 28/300\n",
            "1627/1627 [==============================] - 93s 57ms/step - loss: 2.1432\n",
            "\n",
            "Epoch 00028: loss improved from 2.16249 to 2.15052, saving model to model_weights_babynames.hdf5\n",
            "Epoch 29/300\n",
            "1627/1627 [==============================] - 93s 57ms/step - loss: 2.1196\n",
            "\n",
            "Epoch 00029: loss improved from 2.15052 to 2.14081, saving model to model_weights_babynames.hdf5\n",
            "Epoch 30/300\n",
            "1627/1627 [==============================] - 92s 57ms/step - loss: 2.1257\n",
            "\n",
            "Epoch 00030: loss improved from 2.14081 to 2.13220, saving model to model_weights_babynames.hdf5\n",
            "Epoch 31/300\n",
            "1627/1627 [==============================] - 89s 55ms/step - loss: 2.1099\n",
            "\n",
            "Epoch 00031: loss improved from 2.13220 to 2.12000, saving model to model_weights_babynames.hdf5\n",
            "Epoch 32/300\n",
            "1627/1627 [==============================] - 89s 55ms/step - loss: 2.1002\n",
            "\n",
            "Epoch 00032: loss improved from 2.12000 to 2.11274, saving model to model_weights_babynames.hdf5\n",
            "Epoch 33/300\n",
            "1627/1627 [==============================] - 85s 52ms/step - loss: 2.0765\n",
            "\n",
            "Epoch 00033: loss improved from 2.11274 to 2.10146, saving model to model_weights_babynames.hdf5\n",
            "Epoch 34/300\n",
            "1627/1627 [==============================] - 91s 56ms/step - loss: 2.0737\n",
            "\n",
            "Epoch 00034: loss improved from 2.10146 to 2.09119, saving model to model_weights_babynames.hdf5\n",
            "Epoch 35/300\n",
            "1627/1627 [==============================] - 92s 57ms/step - loss: 2.0741\n",
            "\n",
            "Epoch 00035: loss improved from 2.09119 to 2.07906, saving model to model_weights_babynames.hdf5\n",
            "Epoch 36/300\n",
            "1627/1627 [==============================] - 94s 57ms/step - loss: 2.0537\n",
            "\n",
            "Epoch 00036: loss improved from 2.07906 to 2.07101, saving model to model_weights_babynames.hdf5\n",
            "Epoch 37/300\n",
            "1627/1627 [==============================] - 95s 58ms/step - loss: 2.0466\n",
            "\n",
            "Epoch 00037: loss improved from 2.07101 to 2.06190, saving model to model_weights_babynames.hdf5\n",
            "Epoch 38/300\n",
            "1627/1627 [==============================] - 96s 59ms/step - loss: 2.0396\n",
            "\n",
            "Epoch 00038: loss improved from 2.06190 to 2.05002, saving model to model_weights_babynames.hdf5\n",
            "Epoch 39/300\n",
            "1627/1627 [==============================] - 94s 58ms/step - loss: 2.0281\n",
            "\n",
            "Epoch 00039: loss improved from 2.05002 to 2.04212, saving model to model_weights_babynames.hdf5\n",
            "Epoch 40/300\n",
            "1627/1627 [==============================] - 92s 57ms/step - loss: 2.0195\n",
            "\n",
            "Epoch 00040: loss improved from 2.04212 to 2.03570, saving model to model_weights_babynames.hdf5\n",
            "Epoch 41/300\n",
            "1627/1627 [==============================] - 91s 56ms/step - loss: 2.0117\n",
            "\n",
            "Epoch 00041: loss improved from 2.03570 to 2.02365, saving model to model_weights_babynames.hdf5\n",
            "Epoch 42/300\n",
            "1627/1627 [==============================] - 91s 56ms/step - loss: 1.9872\n",
            "\n",
            "Epoch 00042: loss improved from 2.02365 to 2.00925, saving model to model_weights_babynames.hdf5\n",
            "Epoch 43/300\n",
            "1627/1627 [==============================] - 93s 57ms/step - loss: 1.9939\n",
            "\n",
            "Epoch 00043: loss improved from 2.00925 to 2.00359, saving model to model_weights_babynames.hdf5\n",
            "Epoch 44/300\n",
            "1627/1627 [==============================] - 97s 60ms/step - loss: 1.9855\n",
            "\n",
            "Epoch 00044: loss improved from 2.00359 to 1.99550, saving model to model_weights_babynames.hdf5\n",
            "Epoch 45/300\n",
            "1627/1627 [==============================] - 99s 61ms/step - loss: 1.9812\n",
            "\n",
            "Epoch 00045: loss improved from 1.99550 to 1.98871, saving model to model_weights_babynames.hdf5\n",
            "Epoch 46/300\n",
            "1627/1627 [==============================] - 98s 60ms/step - loss: 1.9585\n",
            "\n",
            "Epoch 00046: loss improved from 1.98871 to 1.97733, saving model to model_weights_babynames.hdf5\n",
            "Epoch 47/300\n",
            "1627/1627 [==============================] - 97s 60ms/step - loss: 1.9535\n",
            "\n",
            "Epoch 00047: loss improved from 1.97733 to 1.96866, saving model to model_weights_babynames.hdf5\n",
            "Epoch 48/300\n",
            "1627/1627 [==============================] - 96s 59ms/step - loss: 1.9401\n",
            "\n",
            "Epoch 00048: loss improved from 1.96866 to 1.95679, saving model to model_weights_babynames.hdf5\n",
            "Epoch 49/300\n",
            "1627/1627 [==============================] - 92s 57ms/step - loss: 1.9332\n",
            "\n",
            "Epoch 00049: loss improved from 1.95679 to 1.95176, saving model to model_weights_babynames.hdf5\n",
            "Epoch 50/300\n",
            "1627/1627 [==============================] - 95s 59ms/step - loss: 1.9255\n",
            "\n",
            "Epoch 00050: loss improved from 1.95176 to 1.94556, saving model to model_weights_babynames.hdf5\n",
            "Epoch 51/300\n",
            "1627/1627 [==============================] - 95s 58ms/step - loss: 1.9144\n",
            "\n",
            "Epoch 00051: loss improved from 1.94556 to 1.93205, saving model to model_weights_babynames.hdf5\n",
            "Epoch 52/300\n",
            "1627/1627 [==============================] - 94s 57ms/step - loss: 1.9077\n",
            "\n",
            "Epoch 00052: loss improved from 1.93205 to 1.92387, saving model to model_weights_babynames.hdf5\n",
            "Epoch 53/300\n",
            "1627/1627 [==============================] - 92s 57ms/step - loss: 1.9021\n",
            "\n",
            "Epoch 00053: loss improved from 1.92387 to 1.91383, saving model to model_weights_babynames.hdf5\n",
            "Epoch 54/300\n",
            "1627/1627 [==============================] - 90s 55ms/step - loss: 1.8947\n",
            "\n",
            "Epoch 00054: loss improved from 1.91383 to 1.90761, saving model to model_weights_babynames.hdf5\n",
            "Epoch 55/300\n",
            "1627/1627 [==============================] - 88s 54ms/step - loss: 1.8863\n",
            "\n",
            "Epoch 00055: loss improved from 1.90761 to 1.90236, saving model to model_weights_babynames.hdf5\n",
            "Epoch 56/300\n",
            "1627/1627 [==============================] - 85s 52ms/step - loss: 1.8680\n",
            "\n",
            "Epoch 00056: loss improved from 1.90236 to 1.89492, saving model to model_weights_babynames.hdf5\n",
            "Epoch 57/300\n",
            "1627/1627 [==============================] - 85s 52ms/step - loss: 1.8645\n",
            "\n",
            "Epoch 00057: loss improved from 1.89492 to 1.88376, saving model to model_weights_babynames.hdf5\n",
            "Epoch 58/300\n",
            "1627/1627 [==============================] - 86s 53ms/step - loss: 1.8627\n",
            "\n",
            "Epoch 00058: loss improved from 1.88376 to 1.87959, saving model to model_weights_babynames.hdf5\n",
            "Epoch 59/300\n",
            "1627/1627 [==============================] - 87s 54ms/step - loss: 1.8572\n",
            "\n",
            "Epoch 00059: loss improved from 1.87959 to 1.87033, saving model to model_weights_babynames.hdf5\n",
            "Epoch 60/300\n",
            "1627/1627 [==============================] - 90s 55ms/step - loss: 1.8357\n",
            "\n",
            "Epoch 00060: loss improved from 1.87033 to 1.85830, saving model to model_weights_babynames.hdf5\n",
            "Epoch 61/300\n",
            "1627/1627 [==============================] - 90s 55ms/step - loss: 1.8422\n",
            "\n",
            "Epoch 00061: loss improved from 1.85830 to 1.85788, saving model to model_weights_babynames.hdf5\n",
            "Epoch 62/300\n",
            "1627/1627 [==============================] - 91s 56ms/step - loss: 1.8297\n",
            "\n",
            "Epoch 00062: loss improved from 1.85788 to 1.84675, saving model to model_weights_babynames.hdf5\n",
            "Epoch 63/300\n",
            "1627/1627 [==============================] - 93s 57ms/step - loss: 1.8274\n",
            "\n",
            "Epoch 00063: loss improved from 1.84675 to 1.84321, saving model to model_weights_babynames.hdf5\n",
            "Epoch 64/300\n",
            "1627/1627 [==============================] - 95s 58ms/step - loss: 1.8127\n",
            "\n",
            "Epoch 00064: loss improved from 1.84321 to 1.83711, saving model to model_weights_babynames.hdf5\n",
            "Epoch 65/300\n",
            "1627/1627 [==============================] - 95s 58ms/step - loss: 1.8035\n",
            "\n",
            "Epoch 00065: loss improved from 1.83711 to 1.82593, saving model to model_weights_babynames.hdf5\n",
            "Epoch 66/300\n",
            "1627/1627 [==============================] - 96s 59ms/step - loss: 1.8048\n",
            "\n",
            "Epoch 00066: loss improved from 1.82593 to 1.82250, saving model to model_weights_babynames.hdf5\n",
            "Epoch 67/300\n",
            "1627/1627 [==============================] - 97s 59ms/step - loss: 1.7950\n",
            "\n",
            "Epoch 00067: loss improved from 1.82250 to 1.81429, saving model to model_weights_babynames.hdf5\n",
            "Epoch 68/300\n",
            "1627/1627 [==============================] - 95s 58ms/step - loss: 1.7845\n",
            "\n",
            "Epoch 00068: loss improved from 1.81429 to 1.80538, saving model to model_weights_babynames.hdf5\n",
            "Epoch 69/300\n",
            "1627/1627 [==============================] - 94s 58ms/step - loss: 1.7922\n",
            "\n",
            "Epoch 00069: loss improved from 1.80538 to 1.80295, saving model to model_weights_babynames.hdf5\n",
            "Epoch 70/300\n",
            "1627/1627 [==============================] - 96s 59ms/step - loss: 1.7808\n",
            "\n",
            "Epoch 00070: loss improved from 1.80295 to 1.79832, saving model to model_weights_babynames.hdf5\n",
            "Epoch 71/300\n",
            "1627/1627 [==============================] - 96s 59ms/step - loss: 1.7758\n",
            "\n",
            "Epoch 00071: loss improved from 1.79832 to 1.78526, saving model to model_weights_babynames.hdf5\n",
            "Epoch 72/300\n",
            "1627/1627 [==============================] - 97s 60ms/step - loss: 1.7699\n",
            "\n",
            "Epoch 00072: loss did not improve from 1.78526\n",
            "Epoch 73/300\n",
            "1627/1627 [==============================] - 98s 60ms/step - loss: 1.7478\n",
            "\n",
            "Epoch 00073: loss improved from 1.78526 to 1.77546, saving model to model_weights_babynames.hdf5\n",
            "Epoch 74/300\n",
            "1627/1627 [==============================] - 96s 59ms/step - loss: 1.7492\n",
            "\n",
            "Epoch 00074: loss improved from 1.77546 to 1.77304, saving model to model_weights_babynames.hdf5\n",
            "Epoch 75/300\n",
            "1627/1627 [==============================] - 94s 58ms/step - loss: 1.7403\n",
            "\n",
            "Epoch 00075: loss improved from 1.77304 to 1.76550, saving model to model_weights_babynames.hdf5\n",
            "Epoch 76/300\n",
            "1627/1627 [==============================] - 96s 59ms/step - loss: 1.7323\n",
            "\n",
            "Epoch 00076: loss improved from 1.76550 to 1.75665, saving model to model_weights_babynames.hdf5\n",
            "Epoch 77/300\n",
            "1627/1627 [==============================] - 93s 57ms/step - loss: 1.7342\n",
            "\n",
            "Epoch 00077: loss improved from 1.75665 to 1.75487, saving model to model_weights_babynames.hdf5\n",
            "Epoch 78/300\n",
            "1627/1627 [==============================] - 96s 59ms/step - loss: 1.7233\n",
            "\n",
            "Epoch 00078: loss improved from 1.75487 to 1.74653, saving model to model_weights_babynames.hdf5\n",
            "Epoch 79/300\n",
            "1627/1627 [==============================] - 95s 59ms/step - loss: 1.7223\n",
            "\n",
            "Epoch 00079: loss improved from 1.74653 to 1.74271, saving model to model_weights_babynames.hdf5\n",
            "Epoch 80/300\n",
            "1627/1627 [==============================] - 92s 56ms/step - loss: 1.7165\n",
            "\n",
            "Epoch 00080: loss improved from 1.74271 to 1.73698, saving model to model_weights_babynames.hdf5\n",
            "Epoch 81/300\n",
            "1627/1627 [==============================] - 92s 57ms/step - loss: 1.7009\n",
            "\n",
            "Epoch 00081: loss improved from 1.73698 to 1.72840, saving model to model_weights_babynames.hdf5\n",
            "Epoch 82/300\n",
            "1627/1627 [==============================] - 94s 58ms/step - loss: 1.7105\n",
            "\n",
            "Epoch 00082: loss improved from 1.72840 to 1.72579, saving model to model_weights_babynames.hdf5\n",
            "Epoch 83/300\n",
            "1627/1627 [==============================] - 96s 59ms/step - loss: 1.7097\n",
            "\n",
            "Epoch 00083: loss improved from 1.72579 to 1.72494, saving model to model_weights_babynames.hdf5\n",
            "Epoch 84/300\n",
            "1627/1627 [==============================] - 96s 59ms/step - loss: 1.6971\n",
            "\n",
            "Epoch 00084: loss improved from 1.72494 to 1.71352, saving model to model_weights_babynames.hdf5\n",
            "Epoch 85/300\n",
            "1627/1627 [==============================] - 94s 58ms/step - loss: 1.6850\n",
            "\n",
            "Epoch 00085: loss improved from 1.71352 to 1.70617, saving model to model_weights_babynames.hdf5\n",
            "Epoch 86/300\n",
            "1627/1627 [==============================] - 98s 60ms/step - loss: 1.6797\n",
            "\n",
            "Epoch 00086: loss improved from 1.70617 to 1.70564, saving model to model_weights_babynames.hdf5\n",
            "Epoch 87/300\n",
            "1627/1627 [==============================] - 99s 61ms/step - loss: 1.6802\n",
            "\n",
            "Epoch 00087: loss improved from 1.70564 to 1.69668, saving model to model_weights_babynames.hdf5\n",
            "Epoch 88/300\n",
            "1627/1627 [==============================] - 99s 61ms/step - loss: 1.6816\n",
            "\n",
            "Epoch 00088: loss improved from 1.69668 to 1.69494, saving model to model_weights_babynames.hdf5\n",
            "Epoch 89/300\n",
            "1627/1627 [==============================] - 98s 60ms/step - loss: 1.6735\n",
            "\n",
            "Epoch 00089: loss improved from 1.69494 to 1.68776, saving model to model_weights_babynames.hdf5\n",
            "Epoch 90/300\n",
            "1627/1627 [==============================] - 98s 60ms/step - loss: 1.6673\n",
            "\n",
            "Epoch 00090: loss improved from 1.68776 to 1.68613, saving model to model_weights_babynames.hdf5\n",
            "Epoch 91/300\n",
            "1627/1627 [==============================] - 94s 58ms/step - loss: 1.6644\n",
            "\n",
            "Epoch 00091: loss improved from 1.68613 to 1.68367, saving model to model_weights_babynames.hdf5\n",
            "Epoch 92/300\n",
            "1627/1627 [==============================] - 94s 58ms/step - loss: 1.6499\n",
            "\n",
            "Epoch 00092: loss improved from 1.68367 to 1.67184, saving model to model_weights_babynames.hdf5\n",
            "Epoch 93/300\n",
            "1627/1627 [==============================] - 92s 57ms/step - loss: 1.6541\n",
            "\n",
            "Epoch 00093: loss improved from 1.67184 to 1.67178, saving model to model_weights_babynames.hdf5\n",
            "Epoch 94/300\n",
            "1627/1627 [==============================] - 94s 58ms/step - loss: 1.6537\n",
            "\n",
            "Epoch 00094: loss improved from 1.67178 to 1.66625, saving model to model_weights_babynames.hdf5\n",
            "Epoch 95/300\n",
            "1627/1627 [==============================] - 90s 55ms/step - loss: 1.6360\n",
            "\n",
            "Epoch 00095: loss improved from 1.66625 to 1.65559, saving model to model_weights_babynames.hdf5\n",
            "Epoch 96/300\n",
            "1627/1627 [==============================] - 91s 56ms/step - loss: 1.6407\n",
            "\n",
            "Epoch 00096: loss did not improve from 1.65559\n",
            "Epoch 97/300\n",
            "1627/1627 [==============================] - 90s 55ms/step - loss: 1.6235\n",
            "\n",
            "Epoch 00097: loss improved from 1.65559 to 1.65246, saving model to model_weights_babynames.hdf5\n",
            "Epoch 98/300\n",
            "1627/1627 [==============================] - 93s 57ms/step - loss: 1.6193\n",
            "\n",
            "Epoch 00098: loss improved from 1.65246 to 1.64687, saving model to model_weights_babynames.hdf5\n",
            "Epoch 99/300\n",
            "1627/1627 [==============================] - 91s 56ms/step - loss: 1.6283\n",
            "\n",
            "Epoch 00099: loss improved from 1.64687 to 1.64388, saving model to model_weights_babynames.hdf5\n",
            "Epoch 100/300\n",
            "1627/1627 [==============================] - 91s 56ms/step - loss: 1.6260\n",
            "\n",
            "Epoch 00100: loss improved from 1.64388 to 1.63889, saving model to model_weights_babynames.hdf5\n",
            "Epoch 101/300\n",
            "1627/1627 [==============================] - 91s 56ms/step - loss: 1.6170\n",
            "\n",
            "Epoch 00101: loss improved from 1.63889 to 1.63712, saving model to model_weights_babynames.hdf5\n",
            "Epoch 102/300\n",
            "1627/1627 [==============================] - 92s 57ms/step - loss: 1.6077\n",
            "\n",
            "Epoch 00102: loss improved from 1.63712 to 1.63058, saving model to model_weights_babynames.hdf5\n",
            "Epoch 103/300\n",
            "1627/1627 [==============================] - 94s 58ms/step - loss: 1.6130\n",
            "\n",
            "Epoch 00103: loss improved from 1.63058 to 1.62957, saving model to model_weights_babynames.hdf5\n",
            "Epoch 104/300\n",
            "1627/1627 [==============================] - 98s 60ms/step - loss: 1.6115\n",
            "\n",
            "Epoch 00104: loss improved from 1.62957 to 1.62581, saving model to model_weights_babynames.hdf5\n",
            "Epoch 105/300\n",
            "1627/1627 [==============================] - 97s 60ms/step - loss: 1.6059\n",
            "\n",
            "Epoch 00105: loss improved from 1.62581 to 1.62340, saving model to model_weights_babynames.hdf5\n",
            "Epoch 106/300\n",
            "1627/1627 [==============================] - 93s 57ms/step - loss: 1.5973\n",
            "\n",
            "Epoch 00106: loss improved from 1.62340 to 1.61464, saving model to model_weights_babynames.hdf5\n",
            "Epoch 107/300\n",
            "1627/1627 [==============================] - 93s 57ms/step - loss: 1.5965\n",
            "\n",
            "Epoch 00107: loss improved from 1.61464 to 1.60917, saving model to model_weights_babynames.hdf5\n",
            "Epoch 108/300\n",
            "1627/1627 [==============================] - 96s 59ms/step - loss: 1.5915\n",
            "\n",
            "Epoch 00108: loss did not improve from 1.60917\n",
            "Epoch 109/300\n",
            "1627/1627 [==============================] - 92s 57ms/step - loss: 1.5817\n",
            "\n",
            "Epoch 00109: loss improved from 1.60917 to 1.59982, saving model to model_weights_babynames.hdf5\n",
            "Epoch 110/300\n",
            "1627/1627 [==============================] - 92s 57ms/step - loss: 1.5794\n",
            "\n",
            "Epoch 00110: loss did not improve from 1.59982\n",
            "Epoch 111/300\n",
            "1627/1627 [==============================] - 92s 57ms/step - loss: 1.5810\n",
            "\n",
            "Epoch 00111: loss improved from 1.59982 to 1.59432, saving model to model_weights_babynames.hdf5\n",
            "Epoch 112/300\n",
            "1627/1627 [==============================] - 95s 58ms/step - loss: 1.5674\n",
            "\n",
            "Epoch 00112: loss improved from 1.59432 to 1.59338, saving model to model_weights_babynames.hdf5\n",
            "Epoch 113/300\n",
            "1627/1627 [==============================] - 92s 57ms/step - loss: 1.5573\n",
            "\n",
            "Epoch 00113: loss improved from 1.59338 to 1.58798, saving model to model_weights_babynames.hdf5\n",
            "Epoch 114/300\n",
            "1627/1627 [==============================] - 93s 57ms/step - loss: 1.5645\n",
            "\n",
            "Epoch 00114: loss did not improve from 1.58798\n",
            "Epoch 115/300\n",
            "1627/1627 [==============================] - 93s 57ms/step - loss: 1.5645\n",
            "\n",
            "Epoch 00115: loss improved from 1.58798 to 1.58323, saving model to model_weights_babynames.hdf5\n",
            "Epoch 116/300\n",
            "1627/1627 [==============================] - 95s 59ms/step - loss: 1.5644\n",
            "\n",
            "Epoch 00116: loss improved from 1.58323 to 1.57884, saving model to model_weights_babynames.hdf5\n",
            "Epoch 117/300\n",
            "1627/1627 [==============================] - 96s 59ms/step - loss: 1.5542\n",
            "\n",
            "Epoch 00117: loss did not improve from 1.57884\n",
            "Epoch 118/300\n",
            "1627/1627 [==============================] - 100s 61ms/step - loss: 1.5469\n",
            "\n",
            "Epoch 00118: loss improved from 1.57884 to 1.57179, saving model to model_weights_babynames.hdf5\n",
            "Epoch 119/300\n",
            "1627/1627 [==============================] - 97s 60ms/step - loss: 1.5443\n",
            "\n",
            "Epoch 00119: loss improved from 1.57179 to 1.56975, saving model to model_weights_babynames.hdf5\n",
            "Epoch 120/300\n",
            "1600/1627 [============================>.] - ETA: 1s - loss: 1.5389"
          ],
          "name": "stdout"
        },
        {
          "output_type": "error",
          "ename": "KeyboardInterrupt",
          "evalue": "ignored",
          "traceback": [
            "\u001b[0;31m---------------------------------------------------------------------------\u001b[0m",
            "\u001b[0;31mKeyboardInterrupt\u001b[0m                         Traceback (most recent call last)",
            "\u001b[0;32m<ipython-input-31-59197cbc3008>\u001b[0m in \u001b[0;36m<module>\u001b[0;34m()\u001b[0m\n\u001b[0;32m----> 1\u001b[0;31m \u001b[0mmodel\u001b[0m\u001b[0;34m.\u001b[0m\u001b[0mfit\u001b[0m\u001b[0;34m(\u001b[0m\u001b[0mX\u001b[0m\u001b[0;34m,\u001b[0m \u001b[0my\u001b[0m\u001b[0;34m,\u001b[0m \u001b[0mepochs\u001b[0m\u001b[0;34m=\u001b[0m\u001b[0;36m300\u001b[0m\u001b[0;34m,\u001b[0m \u001b[0mbatch_size\u001b[0m\u001b[0;34m=\u001b[0m\u001b[0;36m32\u001b[0m\u001b[0;34m,\u001b[0m \u001b[0mcallbacks\u001b[0m\u001b[0;34m=\u001b[0m\u001b[0mmodel_callbacks\u001b[0m\u001b[0;34m)\u001b[0m\u001b[0;34m\u001b[0m\u001b[0;34m\u001b[0m\u001b[0m\n\u001b[0m",
            "\u001b[0;32m/usr/local/lib/python3.6/dist-packages/tensorflow/python/keras/engine/training.py\u001b[0m in \u001b[0;36mfit\u001b[0;34m(self, x, y, batch_size, epochs, verbose, callbacks, validation_split, validation_data, shuffle, class_weight, sample_weight, initial_epoch, steps_per_epoch, validation_steps, validation_batch_size, validation_freq, max_queue_size, workers, use_multiprocessing)\u001b[0m\n\u001b[1;32m   1098\u001b[0m                 _r=1):\n\u001b[1;32m   1099\u001b[0m               \u001b[0mcallbacks\u001b[0m\u001b[0;34m.\u001b[0m\u001b[0mon_train_batch_begin\u001b[0m\u001b[0;34m(\u001b[0m\u001b[0mstep\u001b[0m\u001b[0;34m)\u001b[0m\u001b[0;34m\u001b[0m\u001b[0;34m\u001b[0m\u001b[0m\n\u001b[0;32m-> 1100\u001b[0;31m               \u001b[0mtmp_logs\u001b[0m \u001b[0;34m=\u001b[0m \u001b[0mself\u001b[0m\u001b[0;34m.\u001b[0m\u001b[0mtrain_function\u001b[0m\u001b[0;34m(\u001b[0m\u001b[0miterator\u001b[0m\u001b[0;34m)\u001b[0m\u001b[0;34m\u001b[0m\u001b[0;34m\u001b[0m\u001b[0m\n\u001b[0m\u001b[1;32m   1101\u001b[0m               \u001b[0;32mif\u001b[0m \u001b[0mdata_handler\u001b[0m\u001b[0;34m.\u001b[0m\u001b[0mshould_sync\u001b[0m\u001b[0;34m:\u001b[0m\u001b[0;34m\u001b[0m\u001b[0;34m\u001b[0m\u001b[0m\n\u001b[1;32m   1102\u001b[0m                 \u001b[0mcontext\u001b[0m\u001b[0;34m.\u001b[0m\u001b[0masync_wait\u001b[0m\u001b[0;34m(\u001b[0m\u001b[0;34m)\u001b[0m\u001b[0;34m\u001b[0m\u001b[0;34m\u001b[0m\u001b[0m\n",
            "\u001b[0;32m/usr/local/lib/python3.6/dist-packages/tensorflow/python/eager/def_function.py\u001b[0m in \u001b[0;36m__call__\u001b[0;34m(self, *args, **kwds)\u001b[0m\n\u001b[1;32m    826\u001b[0m     \u001b[0mtracing_count\u001b[0m \u001b[0;34m=\u001b[0m \u001b[0mself\u001b[0m\u001b[0;34m.\u001b[0m\u001b[0mexperimental_get_tracing_count\u001b[0m\u001b[0;34m(\u001b[0m\u001b[0;34m)\u001b[0m\u001b[0;34m\u001b[0m\u001b[0;34m\u001b[0m\u001b[0m\n\u001b[1;32m    827\u001b[0m     \u001b[0;32mwith\u001b[0m \u001b[0mtrace\u001b[0m\u001b[0;34m.\u001b[0m\u001b[0mTrace\u001b[0m\u001b[0;34m(\u001b[0m\u001b[0mself\u001b[0m\u001b[0;34m.\u001b[0m\u001b[0m_name\u001b[0m\u001b[0;34m)\u001b[0m \u001b[0;32mas\u001b[0m \u001b[0mtm\u001b[0m\u001b[0;34m:\u001b[0m\u001b[0;34m\u001b[0m\u001b[0;34m\u001b[0m\u001b[0m\n\u001b[0;32m--> 828\u001b[0;31m       \u001b[0mresult\u001b[0m \u001b[0;34m=\u001b[0m \u001b[0mself\u001b[0m\u001b[0;34m.\u001b[0m\u001b[0m_call\u001b[0m\u001b[0;34m(\u001b[0m\u001b[0;34m*\u001b[0m\u001b[0margs\u001b[0m\u001b[0;34m,\u001b[0m \u001b[0;34m**\u001b[0m\u001b[0mkwds\u001b[0m\u001b[0;34m)\u001b[0m\u001b[0;34m\u001b[0m\u001b[0;34m\u001b[0m\u001b[0m\n\u001b[0m\u001b[1;32m    829\u001b[0m       \u001b[0mcompiler\u001b[0m \u001b[0;34m=\u001b[0m \u001b[0;34m\"xla\"\u001b[0m \u001b[0;32mif\u001b[0m \u001b[0mself\u001b[0m\u001b[0;34m.\u001b[0m\u001b[0m_experimental_compile\u001b[0m \u001b[0;32melse\u001b[0m \u001b[0;34m\"nonXla\"\u001b[0m\u001b[0;34m\u001b[0m\u001b[0;34m\u001b[0m\u001b[0m\n\u001b[1;32m    830\u001b[0m       \u001b[0mnew_tracing_count\u001b[0m \u001b[0;34m=\u001b[0m \u001b[0mself\u001b[0m\u001b[0;34m.\u001b[0m\u001b[0mexperimental_get_tracing_count\u001b[0m\u001b[0;34m(\u001b[0m\u001b[0;34m)\u001b[0m\u001b[0;34m\u001b[0m\u001b[0;34m\u001b[0m\u001b[0m\n",
            "\u001b[0;32m/usr/local/lib/python3.6/dist-packages/tensorflow/python/eager/def_function.py\u001b[0m in \u001b[0;36m_call\u001b[0;34m(self, *args, **kwds)\u001b[0m\n\u001b[1;32m    853\u001b[0m       \u001b[0;31m# In this case we have created variables on the first call, so we run the\u001b[0m\u001b[0;34m\u001b[0m\u001b[0;34m\u001b[0m\u001b[0;34m\u001b[0m\u001b[0m\n\u001b[1;32m    854\u001b[0m       \u001b[0;31m# defunned version which is guaranteed to never create variables.\u001b[0m\u001b[0;34m\u001b[0m\u001b[0;34m\u001b[0m\u001b[0;34m\u001b[0m\u001b[0m\n\u001b[0;32m--> 855\u001b[0;31m       \u001b[0;32mreturn\u001b[0m \u001b[0mself\u001b[0m\u001b[0;34m.\u001b[0m\u001b[0m_stateless_fn\u001b[0m\u001b[0;34m(\u001b[0m\u001b[0;34m*\u001b[0m\u001b[0margs\u001b[0m\u001b[0;34m,\u001b[0m \u001b[0;34m**\u001b[0m\u001b[0mkwds\u001b[0m\u001b[0;34m)\u001b[0m  \u001b[0;31m# pylint: disable=not-callable\u001b[0m\u001b[0;34m\u001b[0m\u001b[0;34m\u001b[0m\u001b[0m\n\u001b[0m\u001b[1;32m    856\u001b[0m     \u001b[0;32melif\u001b[0m \u001b[0mself\u001b[0m\u001b[0;34m.\u001b[0m\u001b[0m_stateful_fn\u001b[0m \u001b[0;32mis\u001b[0m \u001b[0;32mnot\u001b[0m \u001b[0;32mNone\u001b[0m\u001b[0;34m:\u001b[0m\u001b[0;34m\u001b[0m\u001b[0;34m\u001b[0m\u001b[0m\n\u001b[1;32m    857\u001b[0m       \u001b[0;31m# Release the lock early so that multiple threads can perform the call\u001b[0m\u001b[0;34m\u001b[0m\u001b[0;34m\u001b[0m\u001b[0;34m\u001b[0m\u001b[0m\n",
            "\u001b[0;32m/usr/local/lib/python3.6/dist-packages/tensorflow/python/eager/function.py\u001b[0m in \u001b[0;36m__call__\u001b[0;34m(self, *args, **kwargs)\u001b[0m\n\u001b[1;32m   2941\u001b[0m        filtered_flat_args) = self._maybe_define_function(args, kwargs)\n\u001b[1;32m   2942\u001b[0m     return graph_function._call_flat(\n\u001b[0;32m-> 2943\u001b[0;31m         filtered_flat_args, captured_inputs=graph_function.captured_inputs)  # pylint: disable=protected-access\n\u001b[0m\u001b[1;32m   2944\u001b[0m \u001b[0;34m\u001b[0m\u001b[0m\n\u001b[1;32m   2945\u001b[0m   \u001b[0;34m@\u001b[0m\u001b[0mproperty\u001b[0m\u001b[0;34m\u001b[0m\u001b[0;34m\u001b[0m\u001b[0m\n",
            "\u001b[0;32m/usr/local/lib/python3.6/dist-packages/tensorflow/python/eager/function.py\u001b[0m in \u001b[0;36m_call_flat\u001b[0;34m(self, args, captured_inputs, cancellation_manager)\u001b[0m\n\u001b[1;32m   1917\u001b[0m       \u001b[0;31m# No tape is watching; skip to running the function.\u001b[0m\u001b[0;34m\u001b[0m\u001b[0;34m\u001b[0m\u001b[0;34m\u001b[0m\u001b[0m\n\u001b[1;32m   1918\u001b[0m       return self._build_call_outputs(self._inference_function.call(\n\u001b[0;32m-> 1919\u001b[0;31m           ctx, args, cancellation_manager=cancellation_manager))\n\u001b[0m\u001b[1;32m   1920\u001b[0m     forward_backward = self._select_forward_and_backward_functions(\n\u001b[1;32m   1921\u001b[0m         \u001b[0margs\u001b[0m\u001b[0;34m,\u001b[0m\u001b[0;34m\u001b[0m\u001b[0;34m\u001b[0m\u001b[0m\n",
            "\u001b[0;32m/usr/local/lib/python3.6/dist-packages/tensorflow/python/eager/function.py\u001b[0m in \u001b[0;36mcall\u001b[0;34m(self, ctx, args, cancellation_manager)\u001b[0m\n\u001b[1;32m    558\u001b[0m               \u001b[0minputs\u001b[0m\u001b[0;34m=\u001b[0m\u001b[0margs\u001b[0m\u001b[0;34m,\u001b[0m\u001b[0;34m\u001b[0m\u001b[0;34m\u001b[0m\u001b[0m\n\u001b[1;32m    559\u001b[0m               \u001b[0mattrs\u001b[0m\u001b[0;34m=\u001b[0m\u001b[0mattrs\u001b[0m\u001b[0;34m,\u001b[0m\u001b[0;34m\u001b[0m\u001b[0;34m\u001b[0m\u001b[0m\n\u001b[0;32m--> 560\u001b[0;31m               ctx=ctx)\n\u001b[0m\u001b[1;32m    561\u001b[0m         \u001b[0;32melse\u001b[0m\u001b[0;34m:\u001b[0m\u001b[0;34m\u001b[0m\u001b[0;34m\u001b[0m\u001b[0m\n\u001b[1;32m    562\u001b[0m           outputs = execute.execute_with_cancellation(\n",
            "\u001b[0;32m/usr/local/lib/python3.6/dist-packages/tensorflow/python/eager/execute.py\u001b[0m in \u001b[0;36mquick_execute\u001b[0;34m(op_name, num_outputs, inputs, attrs, ctx, name)\u001b[0m\n\u001b[1;32m     58\u001b[0m     \u001b[0mctx\u001b[0m\u001b[0;34m.\u001b[0m\u001b[0mensure_initialized\u001b[0m\u001b[0;34m(\u001b[0m\u001b[0;34m)\u001b[0m\u001b[0;34m\u001b[0m\u001b[0;34m\u001b[0m\u001b[0m\n\u001b[1;32m     59\u001b[0m     tensors = pywrap_tfe.TFE_Py_Execute(ctx._handle, device_name, op_name,\n\u001b[0;32m---> 60\u001b[0;31m                                         inputs, attrs, num_outputs)\n\u001b[0m\u001b[1;32m     61\u001b[0m   \u001b[0;32mexcept\u001b[0m \u001b[0mcore\u001b[0m\u001b[0;34m.\u001b[0m\u001b[0m_NotOkStatusException\u001b[0m \u001b[0;32mas\u001b[0m \u001b[0me\u001b[0m\u001b[0;34m:\u001b[0m\u001b[0;34m\u001b[0m\u001b[0;34m\u001b[0m\u001b[0m\n\u001b[1;32m     62\u001b[0m     \u001b[0;32mif\u001b[0m \u001b[0mname\u001b[0m \u001b[0;32mis\u001b[0m \u001b[0;32mnot\u001b[0m \u001b[0;32mNone\u001b[0m\u001b[0;34m:\u001b[0m\u001b[0;34m\u001b[0m\u001b[0;34m\u001b[0m\u001b[0m\n",
            "\u001b[0;31mKeyboardInterrupt\u001b[0m: "
          ]
        }
      ]
    },
    {
      "cell_type": "code",
      "metadata": {
        "id": "AXzcjCp8K3ZS",
        "colab": {
          "base_uri": "https://localhost:8080/"
        },
        "outputId": "0ad86d76-eb58-423d-b64e-95c98e4ce8c1"
      },
      "source": [
        "pattern = []\r\n",
        "seed = 'handi'\r\n",
        "\r\n",
        "for i in seed:\r\n",
        "\r\n",
        "  value = char_to_ix[i]\r\n",
        "  pattern.append(value)\r\n",
        "\r\n",
        "print(pattern)"
      ],
      "execution_count": null,
      "outputs": [
        {
          "output_type": "stream",
          "text": [
            "[8, 1, 14, 4, 9]\n"
          ],
          "name": "stdout"
        }
      ]
    },
    {
      "cell_type": "code",
      "metadata": {
        "id": "CjBJApZ0MRg4",
        "colab": {
          "base_uri": "https://localhost:8080/"
        },
        "outputId": "631203f7-aede-4a04-983f-23798bf0be47"
      },
      "source": [
        "print(seed)\r\n",
        "n_vocab = len(chars)\r\n",
        "for i in range(100):\r\n",
        "  X = np.reshape(pattern, (1, len(pattern), 1))\r\n",
        "  X = X/float(n_vocab)\r\n",
        "  int_prediction = model.predict(X, verbose=0)\r\n",
        "  index = np.argmax(int_prediction)\r\n",
        "  prediction = ix_to_char[index]\r\n",
        "  sys.stdout.write(prediction)\r\n",
        "  pattern.append(index)\r\n",
        "  pattern = pattern[1:len(pattern)]"
      ],
      "execution_count": null,
      "outputs": [
        {
          "output_type": "stream",
          "text": [
            "handi\n",
            "e melica sauie dennie rosamina rosamina rosamina rosamina rosamina rosamina rosamina rosamina rosami"
          ],
          "name": "stdout"
        }
      ]
    },
    {
      "cell_type": "code",
      "metadata": {
        "id": "celNjZZANiLq"
      },
      "source": [
        "model.save('baby_names_model.h5')"
      ],
      "execution_count": null,
      "outputs": []
    },
    {
      "cell_type": "code",
      "metadata": {
        "id": "1QOf79xANmwz"
      },
      "source": [
        "from tensorflow.keras.models import load_model\r\n",
        "saved_model = load_model('baby_names_model.h5')"
      ],
      "execution_count": null,
      "outputs": []
    },
    {
      "cell_type": "code",
      "metadata": {
        "id": "jRtjM50nN1J-",
        "colab": {
          "base_uri": "https://localhost:8080/"
        },
        "outputId": "109ea159-6144-46c5-b694-750e1f46933e"
      },
      "source": [
        "pattern = []\r\n",
        "seed = 'bgajm'\r\n",
        "for i in seed:\r\n",
        "  value = char_to_ix[i]\r\n",
        "  pattern.append(value)\r\n",
        "\r\n",
        "print(pattern)"
      ],
      "execution_count": null,
      "outputs": [
        {
          "output_type": "stream",
          "text": [
            "[2, 7, 1, 10, 13]\n"
          ],
          "name": "stdout"
        }
      ]
    },
    {
      "cell_type": "code",
      "metadata": {
        "id": "t2lHvBhBOEdC",
        "colab": {
          "base_uri": "https://localhost:8080/"
        },
        "outputId": "0b6786de-4fab-4e05-d0df-ee6f67ea2605"
      },
      "source": [
        "print(seed)\r\n",
        "n_vocab = len(chars)\r\n",
        "\r\n",
        "for i in range(100):\r\n",
        "  X = np.reshape(pattern, (1, len(pattern), 1))\r\n",
        "  X = X/float(n_vocab)\r\n",
        "  int_prediction = saved_model.predict(X, verbose=0)\r\n",
        "  index = np.argmax(int_prediction)\r\n",
        "  prediction = ix_to_char[index]\r\n",
        "  sys.stdout.write(prediction)\r\n",
        "  pattern.append(index)\r\n",
        "  pattern = pattern[1:len(pattern)]"
      ],
      "execution_count": null,
      "outputs": [
        {
          "output_type": "stream",
          "text": [
            "bgajm\n",
            " mariell tharnette elisina tandie melica sauie dennie rosamina rosamina rosamina rosamina rosamina r"
          ],
          "name": "stdout"
        }
      ]
    },
    {
      "cell_type": "code",
      "metadata": {
        "id": "E1wjoXNK94PV"
      },
      "source": [
        ""
      ],
      "execution_count": null,
      "outputs": []
    }
  ]
}