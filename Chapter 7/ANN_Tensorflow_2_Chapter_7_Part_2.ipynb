{
  "nbformat": 4,
  "nbformat_minor": 0,
  "metadata": {
    "colab": {
      "name": "ANN Tensorflow 2 Chapter 7 Part 2.ipynb",
      "provenance": [],
      "collapsed_sections": []
    },
    "kernelspec": {
      "name": "python3",
      "display_name": "Python 3"
    },
    "accelerator": "GPU"
  },
  "cells": [
    {
      "cell_type": "markdown",
      "metadata": {
        "id": "zpALGnKa-at0"
      },
      "source": [
        "# **Large Corpus Text Generation**"
      ]
    },
    {
      "cell_type": "code",
      "metadata": {
        "id": "UmiKHmmi-Du0"
      },
      "source": [
        "import sys\r\n",
        "import requests\r\n",
        "import numpy as np\r\n",
        "import tensorflow as tf\r\n",
        "from tensorflow.keras import Sequential \r\n",
        "from tensorflow.keras.callbacks import ModelCheckpoint \r\n",
        "from tensorflow.keras.layers import Dense, Activation, Dropout, LSTM"
      ],
      "execution_count": 1,
      "outputs": []
    },
    {
      "cell_type": "markdown",
      "metadata": {
        "id": "geN7bAIbHlEe"
      },
      "source": [
        "## **Load a large corpus of text**"
      ]
    },
    {
      "cell_type": "code",
      "metadata": {
        "id": "7XT9ed1kGC2R"
      },
      "source": [
        "r = requests.get(\"https://cs.stanford.edu/people/karpathy/char-rnn/warpeace_input.txt\")"
      ],
      "execution_count": 2,
      "outputs": []
    },
    {
      "cell_type": "code",
      "metadata": {
        "id": "lsm5wr0yIFmS"
      },
      "source": [
        "raw_txt = r.text"
      ],
      "execution_count": 3,
      "outputs": []
    },
    {
      "cell_type": "code",
      "metadata": {
        "id": "skQxmzMrIIuy"
      },
      "source": [
        "chars = sorted(list(set(raw_txt)))"
      ],
      "execution_count": 4,
      "outputs": []
    },
    {
      "cell_type": "code",
      "metadata": {
        "colab": {
          "base_uri": "https://localhost:8080/"
        },
        "id": "fRgKjZp3IShy",
        "outputId": "81360b0e-318e-407e-abef-58b0fc30d94f"
      },
      "source": [
        "print(\"Corpus {}\".format(len(raw_txt)))\r\n",
        "print(\"Categoris {}\".format(len(chars)))"
      ],
      "execution_count": 5,
      "outputs": [
        {
          "output_type": "stream",
          "text": [
            "Corpus 3258246\n",
            "Categoris 87\n"
          ],
          "name": "stdout"
        }
      ]
    },
    {
      "cell_type": "markdown",
      "metadata": {
        "id": "cZUpWDLvJVwK"
      },
      "source": [
        "## **Create mappings**"
      ]
    },
    {
      "cell_type": "code",
      "metadata": {
        "id": "C-1jMD9tItDx"
      },
      "source": [
        "ix_to_char = {ix:char for ix, char in enumerate(chars)}\r\n",
        "char_to_ix = {char:ix for ix, char in enumerate(chars)}"
      ],
      "execution_count": 6,
      "outputs": []
    },
    {
      "cell_type": "markdown",
      "metadata": {
        "id": "luz-d18xPUDb"
      },
      "source": [
        "## **Create training data**"
      ]
    },
    {
      "cell_type": "code",
      "metadata": {
        "colab": {
          "base_uri": "https://localhost:8080/"
        },
        "id": "4gBbtvMHPPBi",
        "outputId": "10a16a04-da92-4538-f113-19e80173dd92"
      },
      "source": [
        "maxlen = 10\r\n",
        "X_data = []\r\n",
        "y_data = []\r\n",
        "\r\n",
        "for i in range(0, len(raw_txt) - maxlen, 1):\r\n",
        "  in_seq = raw_txt[i: i + maxlen]\r\n",
        "  out_seq = raw_txt[i + maxlen]\r\n",
        "  X_data.append([char_to_ix[char] for char in in_seq])\r\n",
        "  y_data.append([char_to_ix[out_seq]])\r\n",
        "\r\n",
        "nb_chars = len(X_data)\r\n",
        "print('Number of sequence: ', int(len(X_data)/maxlen))"
      ],
      "execution_count": 7,
      "outputs": [
        {
          "output_type": "stream",
          "text": [
            "Number of sequence:  325823\n"
          ],
          "name": "stdout"
        }
      ]
    },
    {
      "cell_type": "code",
      "metadata": {
        "id": "owGuOIg9SbHP"
      },
      "source": [
        "# scale and transform the data \r\n",
        "X = np.reshape(X_data, (nb_chars, maxlen, 1))\r\n",
        "n_vocab = len(chars)\r\n",
        "X = X/float(n_vocab)"
      ],
      "execution_count": 8,
      "outputs": []
    },
    {
      "cell_type": "code",
      "metadata": {
        "colab": {
          "base_uri": "https://localhost:8080/"
        },
        "id": "cEacDS-iT5qN",
        "outputId": "29e5701e-1866-4dfc-8c7d-000d91e31bcc"
      },
      "source": [
        "X[:10]"
      ],
      "execution_count": 9,
      "outputs": [
        {
          "output_type": "execute_result",
          "data": {
            "text/plain": [
              "array([[[0.98850575],\n",
              "        [0.95402299],\n",
              "        [0.96551724],\n",
              "        [0.04597701],\n",
              "        [0.56321839],\n",
              "        [0.65517241],\n",
              "        [0.73563218],\n",
              "        [0.73563218],\n",
              "        [0.10344828],\n",
              "        [0.02298851]],\n",
              "\n",
              "       [[0.95402299],\n",
              "        [0.96551724],\n",
              "        [0.04597701],\n",
              "        [0.56321839],\n",
              "        [0.65517241],\n",
              "        [0.73563218],\n",
              "        [0.73563218],\n",
              "        [0.10344828],\n",
              "        [0.02298851],\n",
              "        [0.48275862]],\n",
              "\n",
              "       [[0.96551724],\n",
              "        [0.04597701],\n",
              "        [0.56321839],\n",
              "        [0.65517241],\n",
              "        [0.73563218],\n",
              "        [0.73563218],\n",
              "        [0.10344828],\n",
              "        [0.02298851],\n",
              "        [0.48275862],\n",
              "        [0.8045977 ]],\n",
              "\n",
              "       [[0.04597701],\n",
              "        [0.56321839],\n",
              "        [0.65517241],\n",
              "        [0.73563218],\n",
              "        [0.73563218],\n",
              "        [0.10344828],\n",
              "        [0.02298851],\n",
              "        [0.48275862],\n",
              "        [0.8045977 ],\n",
              "        [0.70114943]],\n",
              "\n",
              "       [[0.56321839],\n",
              "        [0.65517241],\n",
              "        [0.73563218],\n",
              "        [0.73563218],\n",
              "        [0.10344828],\n",
              "        [0.02298851],\n",
              "        [0.48275862],\n",
              "        [0.8045977 ],\n",
              "        [0.70114943],\n",
              "        [0.75862069]],\n",
              "\n",
              "       [[0.65517241],\n",
              "        [0.73563218],\n",
              "        [0.73563218],\n",
              "        [0.10344828],\n",
              "        [0.02298851],\n",
              "        [0.48275862],\n",
              "        [0.8045977 ],\n",
              "        [0.70114943],\n",
              "        [0.75862069],\n",
              "        [0.63218391]],\n",
              "\n",
              "       [[0.73563218],\n",
              "        [0.73563218],\n",
              "        [0.10344828],\n",
              "        [0.02298851],\n",
              "        [0.48275862],\n",
              "        [0.8045977 ],\n",
              "        [0.70114943],\n",
              "        [0.75862069],\n",
              "        [0.63218391],\n",
              "        [0.65517241]],\n",
              "\n",
              "       [[0.73563218],\n",
              "        [0.10344828],\n",
              "        [0.02298851],\n",
              "        [0.48275862],\n",
              "        [0.8045977 ],\n",
              "        [0.70114943],\n",
              "        [0.75862069],\n",
              "        [0.63218391],\n",
              "        [0.65517241],\n",
              "        [0.10344828]],\n",
              "\n",
              "       [[0.10344828],\n",
              "        [0.02298851],\n",
              "        [0.48275862],\n",
              "        [0.8045977 ],\n",
              "        [0.70114943],\n",
              "        [0.75862069],\n",
              "        [0.63218391],\n",
              "        [0.65517241],\n",
              "        [0.10344828],\n",
              "        [0.02298851]],\n",
              "\n",
              "       [[0.02298851],\n",
              "        [0.48275862],\n",
              "        [0.8045977 ],\n",
              "        [0.70114943],\n",
              "        [0.75862069],\n",
              "        [0.63218391],\n",
              "        [0.65517241],\n",
              "        [0.10344828],\n",
              "        [0.02298851],\n",
              "        [0.81609195]]])"
            ]
          },
          "metadata": {
            "tags": []
          },
          "execution_count": 9
        }
      ]
    },
    {
      "cell_type": "code",
      "metadata": {
        "colab": {
          "base_uri": "https://localhost:8080/"
        },
        "id": "fm0s0NMhUQRI",
        "outputId": "b90928ac-31f3-4702-fd8d-d93c772b7c92"
      },
      "source": [
        "X.shape"
      ],
      "execution_count": 10,
      "outputs": [
        {
          "output_type": "execute_result",
          "data": {
            "text/plain": [
              "(3258236, 10, 1)"
            ]
          },
          "metadata": {
            "tags": []
          },
          "execution_count": 10
        }
      ]
    },
    {
      "cell_type": "markdown",
      "metadata": {
        "id": "xFNs6273U1E6"
      },
      "source": [
        "## **Treat categorical columns**"
      ]
    },
    {
      "cell_type": "code",
      "metadata": {
        "id": "wObCc147Uj83"
      },
      "source": [
        "y = tf.keras.utils.to_categorical(y_data)"
      ],
      "execution_count": 11,
      "outputs": []
    },
    {
      "cell_type": "code",
      "metadata": {
        "colab": {
          "base_uri": "https://localhost:8080/"
        },
        "id": "3sz3KWCEVVHm",
        "outputId": "06b3bb7d-d428-42cd-d57a-c0b950b9e216"
      },
      "source": [
        "print(\"The shape of X_training data : \", X.shape)\r\n",
        "print(\"The shape of y_training_data : \", y.shape)"
      ],
      "execution_count": 12,
      "outputs": [
        {
          "output_type": "stream",
          "text": [
            "The shape of X_training data :  (3258236, 10, 1)\n",
            "The shape of y_training_data :  (3258236, 86)\n"
          ],
          "name": "stdout"
        }
      ]
    },
    {
      "cell_type": "markdown",
      "metadata": {
        "id": "VkCEYwHUWMIi"
      },
      "source": [
        "## **Define Model**"
      ]
    },
    {
      "cell_type": "code",
      "metadata": {
        "id": "D6aaYUk_Vzwm"
      },
      "source": [
        "Model = tf.keras.Sequential([\r\n",
        "                             \r\n",
        "              tf.keras.layers.LSTM(800, input_shape=(len(X[1]), 1), return_sequences=True),\r\n",
        "              tf.keras.layers.Dropout(0.2),\r\n",
        "              tf.keras.layers.LSTM(800, return_sequences=True),\r\n",
        "              tf.keras.layers.Dropout(0.2),\r\n",
        "              tf.keras.layers.LSTM(800),\r\n",
        "              tf.keras.layers.Dropout(0.2),\r\n",
        "              tf.keras.layers.Dense(len(y[1]), activation='softmax')\r\n",
        "\r\n",
        "])\r\n",
        "\r\n",
        "\r\n",
        "\r\n",
        "\r\n"
      ],
      "execution_count": 13,
      "outputs": []
    },
    {
      "cell_type": "code",
      "metadata": {
        "id": "Dz83oeNIYiyu"
      },
      "source": [
        "Model.compile(loss = 'categorical_crossentropy', optimizer='adam')"
      ],
      "execution_count": 14,
      "outputs": []
    },
    {
      "cell_type": "markdown",
      "metadata": {
        "id": "3m-YRNyEY6SL"
      },
      "source": [
        "## **Creating a checkpoint**"
      ]
    },
    {
      "cell_type": "code",
      "metadata": {
        "id": "v5bN_cZ8Y44R"
      },
      "source": [
        "filepath = \"model_weights_saved.hdf5\""
      ],
      "execution_count": 15,
      "outputs": []
    },
    {
      "cell_type": "code",
      "metadata": {
        "id": "m_uHASqZZGHQ"
      },
      "source": [
        "checkpoint = ModelCheckpoint(filepath, monitor='loss', verbose=1, save_best_only=True, mode='min')"
      ],
      "execution_count": 16,
      "outputs": []
    },
    {
      "cell_type": "code",
      "metadata": {
        "id": "A1r2rxJKaWq6"
      },
      "source": [
        "model_callbacks = [checkpoint]"
      ],
      "execution_count": 17,
      "outputs": []
    },
    {
      "cell_type": "markdown",
      "metadata": {
        "id": "FC99VRlkkF6V"
      },
      "source": [
        "## **Defining a custom callback**"
      ]
    },
    {
      "cell_type": "code",
      "metadata": {
        "id": "2j-HV4LIaad-"
      },
      "source": [
        "epoch_number = 0\r\n",
        "filename = 'predictions.txt'\r\n",
        "file = open(filename, 'w')\r\n",
        "file.truncate()\r\n",
        "file.close()\r\n",
        "\r\n",
        "class CustomCallback(tf.keras.callbacks.Callback):\r\n",
        "\r\n",
        "  def on_epoch_end(self, epoch, logs=None):\r\n",
        "    global epoch_number\r\n",
        "    epoch_number = epoch_number + 1\r\n",
        "\r\n",
        "    filename = 'predictions.txt'\r\n",
        "    file = open(filename, 'a')\r\n",
        "    seed = \"looking fo\"\r\n",
        "\r\n",
        "    pattern = []\r\n",
        "    for i in seed:\r\n",
        "      value = char_to_ix[i]\r\n",
        "      pattern.append(value)\r\n",
        "\r\n",
        "    file.seek(0)\r\n",
        "    file.write(\"\\n\\n Epoch Number : {}\\n\\n\".format(epoch_number))\r\n",
        "    for i in range(100):\r\n",
        "      X = np.reshape(pattern, (1, len(pattern), 1))\r\n",
        "      X = X/float(n_vocab)\r\n",
        "      int_prediction = Model.predict(X, verbose=0)\r\n",
        "      index = np.argmax(int_prediction)\r\n",
        "      prediction = ix_to_char[index]\r\n",
        "      sys.stdout.write(prediction)\r\n",
        "      file.write(prediction)\r\n",
        "      pattern.append(index)\r\n",
        "      pattern = pattern[1:len(pattern)]\r\n",
        "\r\n",
        "    file.close()\r\n"
      ],
      "execution_count": 18,
      "outputs": []
    },
    {
      "cell_type": "markdown",
      "metadata": {
        "id": "L22C4EEJnTPg"
      },
      "source": [
        "## **Training**"
      ]
    },
    {
      "cell_type": "code",
      "metadata": {
        "colab": {
          "base_uri": "https://localhost:8080/"
        },
        "id": "W-hm-7hFnMZo",
        "outputId": "6acf52fa-df12-42e8-b33e-be33cbd0be7c"
      },
      "source": [
        "Model.fit(X, y, batch_size=2000, epochs=1, callbacks= [CustomCallback(), model_callbacks])"
      ],
      "execution_count": null,
      "outputs": [
        {
          "output_type": "stream",
          "text": [
            "Epoch 1/10\n",
            "  50/1630 [..............................] - ETA: 12:17:59 - loss: 3.5335"
          ],
          "name": "stdout"
        }
      ]
    },
    {
      "cell_type": "markdown",
      "metadata": {
        "id": "zftfUUdFtwwJ"
      },
      "source": [
        "### **For rerun from a known checkpoint use following code**"
      ]
    },
    {
      "cell_type": "code",
      "metadata": {
        "id": "carq6abNnipD"
      },
      "source": [
        "try:\r\n",
        "  Model.load_weights(filepath)\r\n",
        "\r\n",
        "except Exception as error:\r\n",
        "  print(\"Error loading in model: {}\".format(error))\r\n"
      ],
      "execution_count": null,
      "outputs": []
    },
    {
      "cell_type": "code",
      "metadata": {
        "id": "C50ktQz5umnh"
      },
      "source": [
        "Model.fit(X, y, batch_size=2000, epochs=2, callbacks= [CustomCallback(), model_callbacks])"
      ],
      "execution_count": null,
      "outputs": []
    }
  ]
}